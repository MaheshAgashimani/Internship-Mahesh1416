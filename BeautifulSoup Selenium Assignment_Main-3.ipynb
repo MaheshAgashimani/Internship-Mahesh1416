{
 "cells": [
  {
   "cell_type": "code",
   "execution_count": 1,
   "id": "dc196dc4",
   "metadata": {},
   "outputs": [],
   "source": [
    "#Importing Libraries\n",
    "import selenium\n",
    "import pandas as pd\n",
    "import time\n",
    "from bs4 import BeautifulSoup\n",
    "\n",
    "#Importing selenium webdriver\n",
    "from selenium import webdriver\n",
    "\n",
    "#Importing required Exceptions\n",
    "from selenium.common.exceptions import StaleElementReferenceException,NoSuchElementException\n",
    "\n",
    "#Importing requests\n",
    "import requests\n",
    "\n",
    "#importing regx\n",
    "import re\n",
    "from selenium.webdriver.common.by import By"
   ]
  },
  {
   "cell_type": "code",
   "execution_count": 2,
   "id": "3d9803fa",
   "metadata": {},
   "outputs": [],
   "source": [
    "#Q1."
   ]
  },
  {
   "cell_type": "code",
   "execution_count": 272,
   "id": "2c0c3588",
   "metadata": {},
   "outputs": [
    {
     "name": "stderr",
     "output_type": "stream",
     "text": [
      "C:\\Users\\COTMAC\\AppData\\Local\\Temp/ipykernel_13720/2295598310.py:2: DeprecationWarning: executable_path has been deprecated, please pass in a Service object\n",
      "  driver = webdriver.Chrome(r'C:\\Users\\COTMAC\\Downloads\\chromedriver_win32\\chromedriver.exe')\n"
     ]
    }
   ],
   "source": [
    "# Connect to webdriver\n",
    "driver = webdriver.Chrome(r'C:\\Users\\COTMAC\\Downloads\\chromedriver_win32\\chromedriver.exe')"
   ]
  },
  {
   "cell_type": "code",
   "execution_count": 273,
   "id": "1238a60a",
   "metadata": {},
   "outputs": [],
   "source": [
    "driver.get('https://www.amazon.in/')"
   ]
  },
  {
   "cell_type": "code",
   "execution_count": 274,
   "id": "96ed85bc",
   "metadata": {},
   "outputs": [
    {
     "data": {
      "text/plain": [
       "<selenium.webdriver.remote.webelement.WebElement (session=\"30210462c76bd0f35d0c204a22dd29a6\", element=\"9f3c23e5-7835-4b34-b8e4-c188c424844d\")>"
      ]
     },
     "execution_count": 274,
     "metadata": {},
     "output_type": "execute_result"
    }
   ],
   "source": [
    "search=driver.find_element(By.XPATH,\"/html/body/div[1]/header/div/div[1]/div[2]/div/form/div[2]/div[1]/input\")\n",
    "search"
   ]
  },
  {
   "cell_type": "code",
   "execution_count": 275,
   "id": "0d3f512a",
   "metadata": {},
   "outputs": [
    {
     "name": "stdout",
     "output_type": "stream",
     "text": [
      "Enter product Name:sunglasses\n"
     ]
    }
   ],
   "source": [
    "user_input=input(\"Enter product Name:\")"
   ]
  },
  {
   "cell_type": "code",
   "execution_count": 276,
   "id": "3862157f",
   "metadata": {},
   "outputs": [
    {
     "data": {
      "text/plain": [
       "'sunglasses'"
      ]
     },
     "execution_count": 276,
     "metadata": {},
     "output_type": "execute_result"
    }
   ],
   "source": [
    "user_input"
   ]
  },
  {
   "cell_type": "code",
   "execution_count": 277,
   "id": "1b5b1628",
   "metadata": {},
   "outputs": [],
   "source": [
    "search.send_keys(user_input)"
   ]
  },
  {
   "cell_type": "code",
   "execution_count": 278,
   "id": "b10880b8",
   "metadata": {},
   "outputs": [],
   "source": [
    "search3=driver.find_element(By.XPATH,\"/html/body/div[1]/header/div/div[1]/div[2]/div/form/div[3]/div/span/input\")\n",
    "search3.click()\n",
    "time.sleep(5)"
   ]
  },
  {
   "cell_type": "code",
   "execution_count": null,
   "id": "16bd4769",
   "metadata": {},
   "outputs": [],
   "source": [
    "#Q2.Its taking to much time for fetching the 207 all data so i have done for 30 values"
   ]
  },
  {
   "cell_type": "code",
   "execution_count": 279,
   "id": "aa4a41a1",
   "metadata": {},
   "outputs": [],
   "source": [
    "#Q2.#fetching url to each job\n",
    "Product_url=[]\n",
    "start=0\n",
    "end=3\n",
    "for page in range(start,end):\n",
    "    url=driver.find_elements(By.XPATH,'//a[@class=\"a-link-normal s-underline-text s-underline-link-text s-link-style a-text-normal\"]')\n",
    "    for i in url:\n",
    "        Product_url.append(i.get_attribute('href'))\n",
    "        next_button=driver.find_elements(By.XPATH,\"/html/body/div[1]/div[2]/div[1]/div[1]/div/span[3]/div[2]/div[66]/div/div/span/a[3]\")"
   ]
  },
  {
   "cell_type": "code",
   "execution_count": 280,
   "id": "88c320b3",
   "metadata": {},
   "outputs": [
    {
     "data": {
      "text/plain": [
       "207"
      ]
     },
     "execution_count": 280,
     "metadata": {},
     "output_type": "execute_result"
    }
   ],
   "source": [
    "len(Product_url)"
   ]
  },
  {
   "cell_type": "code",
   "execution_count": 281,
   "id": "ff363cef",
   "metadata": {},
   "outputs": [
    {
     "data": {
      "text/plain": [
       "['https://www.amazon.in/gp/slredirect/picassoRedirect.html/ref=pa_sp_atf_aps_sr_pg1_1?ie=UTF8&adId=A05489343N0DH98STGTP1&url=%2FJIM-HALO-Polarized-Sunglasses-Driving%2Fdp%2FB07GBTSQ91%2Fref%3Dsr_1_1_sspa%3Fcrid%3D3DUBYJC4U85AR%26keywords%3Dsunglasses%26qid%3D1659208031%26sprefix%3Dsunglasses%252Caps%252C624%26sr%3D8-1-spons%26psc%3D1&qualifier=1659208031&id=5796721492496273&widgetName=sp_atf',\n",
       " 'https://www.amazon.in/gp/slredirect/picassoRedirect.html/ref=pa_sp_atf_aps_sr_pg1_1?ie=UTF8&adId=A10011271DJ8RTP84HZJZ&url=%2FUnisex-Rectanglular-Sunglasses-Women-BT4_Black%2Fdp%2FB0B4KBJPBM%2Fref%3Dsr_1_2_sspa%3Fcrid%3D3DUBYJC4U85AR%26keywords%3Dsunglasses%26qid%3D1659208031%26sprefix%3Dsunglasses%252Caps%252C624%26sr%3D8-2-spons%26psc%3D1&qualifier=1659208031&id=5796721492496273&widgetName=sp_atf',\n",
       " 'https://www.amazon.in/gp/slredirect/picassoRedirect.html/ref=pa_sp_atf_aps_sr_pg1_1?ie=UTF8&adId=A05669948L0RUDI22V37&url=%2FVisions-India-Rimless-Fashion-Sunglasses%2Fdp%2FB07Z9HHJ1T%2Fref%3Dsr_1_3_sspa%3Fcrid%3D3DUBYJC4U85AR%26keywords%3Dsunglasses%26qid%3D1659208031%26sprefix%3Dsunglasses%252Caps%252C624%26sr%3D8-3-spons%26psc%3D1&qualifier=1659208031&id=5796721492496273&widgetName=sp_atf',\n",
       " 'https://www.amazon.in/gp/slredirect/picassoRedirect.html/ref=pa_sp_atf_aps_sr_pg1_1?ie=UTF8&adId=A100147164LQX1M8JGHQ&url=%2FUnisex-Rectanglular-Sunglasses-Women-BT6_Black%2Fdp%2FB0B4K8WKHL%2Fref%3Dsr_1_4_sspa%3Fcrid%3D3DUBYJC4U85AR%26keywords%3Dsunglasses%26qid%3D1659208031%26sprefix%3Dsunglasses%252Caps%252C624%26sr%3D8-4-spons%26psc%3D1&qualifier=1659208031&id=5796721492496273&widgetName=sp_atf',\n",
       " 'https://www.amazon.in/elegante-Rectanglular-Sunglasses-Sunlgasses-Protection/dp/B08XP26HTW/ref=sr_1_5?crid=3DUBYJC4U85AR&keywords=sunglasses&qid=1659208031&sprefix=sunglasses%2Caps%2C624&sr=8-5',\n",
       " 'https://www.amazon.in/Agrawal-Eterprises-rectangular-sunglasses-Protected/dp/B0B7RCSS5R/ref=sr_1_omk_6?crid=3DUBYJC4U85AR&keywords=sunglasses&qid=1659208031&sprefix=sunglasses%2Caps%2C624&sr=8-6',\n",
       " 'https://www.amazon.in/Fastrack-protected-Sunglasses-P357BK1-millimeters/dp/B071CP6K43/ref=sr_1_7?crid=3DUBYJC4U85AR&keywords=sunglasses&qid=1659208031&sprefix=sunglasses%2Caps%2C624&sr=8-7',\n",
       " 'https://www.amazon.in/CREEK-Unisex-Octagonal-Sunglasses-Frame/dp/B08W3CBNL9/ref=sr_1_8?crid=3DUBYJC4U85AR&keywords=sunglasses&qid=1659208031&sprefix=sunglasses%2Caps%2C624&sr=8-8',\n",
       " 'https://www.amazon.in/Vincent-Lenskart-Sunglasses-Polarized-Protected/dp/B09KV28F4P/ref=sxin_18_sbv_search_btf?content-id=amzn1.sym.d882f7bc-c7c5-4887-b939-1af6f91cc448%3Aamzn1.sym.d882f7bc-c7c5-4887-b939-1af6f91cc448&crid=3DUBYJC4U85AR&cv_ct_cx=sunglasses&keywords=sunglasses&pd_rd_i=B09KV28F4P&pd_rd_r=7cd50092-8149-4395-9ba4-4efd478ebd41&pd_rd_w=khHfi&pd_rd_wg=314Am&pf_rd_p=d882f7bc-c7c5-4887-b939-1af6f91cc448&pf_rd_r=JRXQP82ANE8FNHPZVKV5&psc=1&qid=1659208031&sprefix=sunglasses%2Caps%2C624&sr=1-1-9131241a-a358-4619-a7b8-0f5a65d91d81',\n",
       " 'https://www.amazon.in/Frameless-Sunglasses-Polarized-Siamese-Orange/dp/B07TWDSJGB/ref=sxin_19_slsr_d_i_fsnewarrivals_fa_0_B07TWDSJGB?content-id=amzn1.sym.05a90910-16ac-4598-ad8e-89a2664fb954%3Aamzn1.sym.05a90910-16ac-4598-ad8e-89a2664fb954&crid=3DUBYJC4U85AR&cv_ct_cx=sunglasses&keywords=sunglasses&pd_rd_i=B07TWDSJGB&pd_rd_r=7cd50092-8149-4395-9ba4-4efd478ebd41&pd_rd_w=EvKLW&pd_rd_wg=314Am&pf_rd_p=05a90910-16ac-4598-ad8e-89a2664fb954&pf_rd_r=JRXQP82ANE8FNHPZVKV5&psc=1&qid=1659208031&sprefix=sunglasses%2Caps%2C624&sr=1-1-5b2ee5ec-0735-4782-9f3a-9d21a55133d0',\n",
       " 'https://www.amazon.in/Generic-cfa00s3-Sunglass-400-protected/dp/B0B2K2DYHK/ref=sxin_19_slsr_d_i_fsnewarrivals_fa_2_B0B2K2DYHK?content-id=amzn1.sym.05a90910-16ac-4598-ad8e-89a2664fb954%3Aamzn1.sym.05a90910-16ac-4598-ad8e-89a2664fb954&crid=3DUBYJC4U85AR&cv_ct_cx=sunglasses&keywords=sunglasses&pd_rd_i=B0B2K2DYHK&pd_rd_r=7cd50092-8149-4395-9ba4-4efd478ebd41&pd_rd_w=EvKLW&pd_rd_wg=314Am&pf_rd_p=05a90910-16ac-4598-ad8e-89a2664fb954&pf_rd_r=JRXQP82ANE8FNHPZVKV5&psc=1&qid=1659208031&sprefix=sunglasses%2Caps%2C624&sr=1-2-5b2ee5ec-0735-4782-9f3a-9d21a55133d0',\n",
       " 'https://www.amazon.in/Generic-RAC35-GRAD-PURPLE-SUNGLASSES-UV400-RR0006/dp/B0B2KR2XP1/ref=sxin_19_slsr_d_i_fsnewarrivals_fa_3_B0B2KR2XP1?content-id=amzn1.sym.05a90910-16ac-4598-ad8e-89a2664fb954%3Aamzn1.sym.05a90910-16ac-4598-ad8e-89a2664fb954&crid=3DUBYJC4U85AR&cv_ct_cx=sunglasses&keywords=sunglasses&pd_rd_i=B0B2KR2XP1&pd_rd_r=7cd50092-8149-4395-9ba4-4efd478ebd41&pd_rd_w=EvKLW&pd_rd_wg=314Am&pf_rd_p=05a90910-16ac-4598-ad8e-89a2664fb954&pf_rd_r=JRXQP82ANE8FNHPZVKV5&psc=1&qid=1659208031&sprefix=sunglasses%2Caps%2C624&sr=1-3-5b2ee5ec-0735-4782-9f3a-9d21a55133d0',\n",
       " 'https://www.amazon.in/Elegante-Hexagone-Sunglasses-Driving-Fashion/dp/B0B5L49NV9/ref=sxin_19_slsr_d_i_fsnewarrivals_fa_4_B0B5L49NV9?content-id=amzn1.sym.05a90910-16ac-4598-ad8e-89a2664fb954%3Aamzn1.sym.05a90910-16ac-4598-ad8e-89a2664fb954&crid=3DUBYJC4U85AR&cv_ct_cx=sunglasses&keywords=sunglasses&pd_rd_i=B0B5L49NV9&pd_rd_r=7cd50092-8149-4395-9ba4-4efd478ebd41&pd_rd_w=EvKLW&pd_rd_wg=314Am&pf_rd_p=05a90910-16ac-4598-ad8e-89a2664fb954&pf_rd_r=JRXQP82ANE8FNHPZVKV5&psc=1&qid=1659208031&sprefix=sunglasses%2Caps%2C624&sr=1-4-5b2ee5ec-0735-4782-9f3a-9d21a55133d0',\n",
       " 'https://www.amazon.in/ARCADIO-AR-PZ5001C1BK-GYP-PERKINS-Rectangle-Sunglass/dp/B0B5RZNHH2/ref=sxin_19_slsr_d_i_fsnewarrivals_fa_5_B0B5RZNHH2?content-id=amzn1.sym.05a90910-16ac-4598-ad8e-89a2664fb954%3Aamzn1.sym.05a90910-16ac-4598-ad8e-89a2664fb954&crid=3DUBYJC4U85AR&cv_ct_cx=sunglasses&keywords=sunglasses&pd_rd_i=B0B5RZNHH2&pd_rd_r=7cd50092-8149-4395-9ba4-4efd478ebd41&pd_rd_w=EvKLW&pd_rd_wg=314Am&pf_rd_p=05a90910-16ac-4598-ad8e-89a2664fb954&pf_rd_r=JRXQP82ANE8FNHPZVKV5&psc=1&qid=1659208031&sprefix=sunglasses%2Caps%2C624&sr=1-5-5b2ee5ec-0735-4782-9f3a-9d21a55133d0',\n",
       " 'https://www.amazon.in/ARCADIO-AR-TR138C4GY-BLp-PERKINS-Rectangle-Sunglass/dp/B0B5RY8J44/ref=sxin_19_slsr_d_i_fsnewarrivals_fa_7_B0B5RY8J44?content-id=amzn1.sym.05a90910-16ac-4598-ad8e-89a2664fb954%3Aamzn1.sym.05a90910-16ac-4598-ad8e-89a2664fb954&crid=3DUBYJC4U85AR&cv_ct_cx=sunglasses&keywords=sunglasses&pd_rd_i=B0B5RY8J44&pd_rd_r=7cd50092-8149-4395-9ba4-4efd478ebd41&pd_rd_w=EvKLW&pd_rd_wg=314Am&pf_rd_p=05a90910-16ac-4598-ad8e-89a2664fb954&pf_rd_r=JRXQP82ANE8FNHPZVKV5&psc=1&qid=1659208031&sprefix=sunglasses%2Caps%2C624&sr=1-6-5b2ee5ec-0735-4782-9f3a-9d21a55133d0',\n",
       " 'https://www.amazon.in/Generic-78555552-Round-Sunglasses/dp/B0B4V66FG2/ref=sxin_19_slsr_d_i_fsnewarrivals_fa_8_B0B4V66FG2?content-id=amzn1.sym.05a90910-16ac-4598-ad8e-89a2664fb954%3Aamzn1.sym.05a90910-16ac-4598-ad8e-89a2664fb954&crid=3DUBYJC4U85AR&cv_ct_cx=sunglasses&keywords=sunglasses&pd_rd_i=B0B4V66FG2&pd_rd_r=7cd50092-8149-4395-9ba4-4efd478ebd41&pd_rd_w=EvKLW&pd_rd_wg=314Am&pf_rd_p=05a90910-16ac-4598-ad8e-89a2664fb954&pf_rd_r=JRXQP82ANE8FNHPZVKV5&psc=1&qid=1659208031&sprefix=sunglasses%2Caps%2C624&sr=1-7-5b2ee5ec-0735-4782-9f3a-9d21a55133d0',\n",
       " 'https://www.amazon.in/ARCADIO-AR192DM-BRP-PERKINS-Rectangle-Sunglass/dp/B0B5LLN2WR/ref=sxin_19_slsr_d_i_fsnewarrivals_fa_9_B0B5LLN2WR?content-id=amzn1.sym.05a90910-16ac-4598-ad8e-89a2664fb954%3Aamzn1.sym.05a90910-16ac-4598-ad8e-89a2664fb954&crid=3DUBYJC4U85AR&cv_ct_cx=sunglasses&keywords=sunglasses&pd_rd_i=B0B5LLN2WR&pd_rd_r=7cd50092-8149-4395-9ba4-4efd478ebd41&pd_rd_w=EvKLW&pd_rd_wg=314Am&pf_rd_p=05a90910-16ac-4598-ad8e-89a2664fb954&pf_rd_r=JRXQP82ANE8FNHPZVKV5&psc=1&qid=1659208031&sprefix=sunglasses%2Caps%2C624&sr=1-8-5b2ee5ec-0735-4782-9f3a-9d21a55133d0',\n",
       " 'https://www.amazon.in/Royal-Square-Unisex-Sunglasses-Goggles/dp/B07S1VLFP4/ref=sr_1_9?crid=3DUBYJC4U85AR&keywords=sunglasses&qid=1659208031&sprefix=sunglasses%2Caps%2C624&sr=8-9',\n",
       " 'https://www.amazon.in/IFLASH-Rectangle-Sunglasses-Driving-Protection/dp/B09H5XMWNZ/ref=sr_1_10?crid=3DUBYJC4U85AR&keywords=sunglasses&qid=1659208031&sprefix=sunglasses%2Caps%2C624&sr=8-10',\n",
       " 'https://www.amazon.in/NuVew-Protected-Sunglasses-Women-Stylish/dp/B07XG77BS7/ref=sr_1_11?crid=3DUBYJC4U85AR&keywords=sunglasses&qid=1659208031&sprefix=sunglasses%2Caps%2C624&sr=8-11',\n",
       " 'https://www.amazon.in/elegante-Protected-Driving-Gradient-Sunglasses/dp/B09NML9N9H/ref=sr_1_12?crid=3DUBYJC4U85AR&keywords=sunglasses&qid=1659208031&sprefix=sunglasses%2Caps%2C624&sr=8-12',\n",
       " 'https://www.amazon.in/U-S-sunglasses-Protected-stylish-gradient/dp/B09XYSZNVH/ref=sr_1_13?crid=3DUBYJC4U85AR&keywords=sunglasses&qid=1659208031&sprefix=sunglasses%2Caps%2C624&sr=8-13',\n",
       " 'https://www.amazon.in/Fastrack-Protected-Wayfarer-Mens-Sunglasses/dp/B07FM7TPPY/ref=sr_1_14?crid=3DUBYJC4U85AR&keywords=sunglasses&qid=1659208031&sprefix=sunglasses%2Caps%2C624&sr=8-14',\n",
       " 'https://www.amazon.in/Unisex-Polarized-Wayfarer-Sunglasses-Testing/dp/B09QLKN355/ref=sr_1_15?crid=3DUBYJC4U85AR&keywords=sunglasses&qid=1659208031&sprefix=sunglasses%2Caps%2C624&sr=8-15',\n",
       " 'https://www.amazon.in/Polarized-Protected-Sunglasses-VC-S13973/dp/B0999SJPWC/ref=sr_1_16?crid=3DUBYJC4U85AR&keywords=sunglasses&qid=1659208031&sprefix=sunglasses%2Caps%2C624&sr=8-16',\n",
       " 'https://www.amazon.in/CREATURE-Wayfarer-Protected-Sunglasses-Frame-Black/dp/B078RN2FG2/ref=sr_1_17?crid=3DUBYJC4U85AR&keywords=sunglasses&qid=1659208031&sprefix=sunglasses%2Caps%2C624&sr=8-17',\n",
       " 'https://www.amazon.in/Fastrack-Protected-Aviator-Mens-Sunglasses/dp/B08BH95XFB/ref=sr_1_18?crid=3DUBYJC4U85AR&keywords=sunglasses&qid=1659208031&sprefix=sunglasses%2Caps%2C624&sr=8-18',\n",
       " 'https://www.amazon.in/Polarized-Protected-Sunglasses-VC-S13972/dp/B0999QKNS5/ref=sr_1_19?crid=3DUBYJC4U85AR&keywords=sunglasses&qid=1659208031&sprefix=sunglasses%2Caps%2C624&sr=8-19',\n",
       " 'https://www.amazon.in/elegante-Branded-Steampunk-Sunglass-Gold-Black/dp/B08411V1WD/ref=sr_1_20?crid=3DUBYJC4U85AR&keywords=sunglasses&qid=1659208031&sprefix=sunglasses%2Caps%2C624&sr=8-20',\n",
       " 'https://www.amazon.in/gp/slredirect/picassoRedirect.html/ref=pa_sp_mtf_aps_sr_pg1_1?ie=UTF8&adId=A10010712PWKNIL1DFXVK&url=%2FUnisex-Rectanglular-Sunglasses-Women-BT9_Black%2Fdp%2FB0B4K9JYQC%2Fref%3Dsr_1_21_sspa%3Fcrid%3D3DUBYJC4U85AR%26keywords%3Dsunglasses%26qid%3D1659208031%26sprefix%3Dsunglasses%252Caps%252C624%26sr%3D8-21-spons%26psc%3D1&qualifier=1659208031&id=5796721492496273&widgetName=sp_mtf',\n",
       " 'https://www.amazon.in/gp/slredirect/picassoRedirect.html/ref=pa_sp_mtf_aps_sr_pg1_1?ie=UTF8&adId=A10013712CHPTJJPBSB2U&url=%2FUnisex-Rectanglular-Sunglasses-Women-BT1_Black%2Fdp%2FB0B4K8W8W7%2Fref%3Dsr_1_22_sspa%3Fcrid%3D3DUBYJC4U85AR%26keywords%3Dsunglasses%26qid%3D1659208031%26sprefix%3Dsunglasses%252Caps%252C624%26sr%3D8-22-spons%26psc%3D1&qualifier=1659208031&id=5796721492496273&widgetName=sp_mtf',\n",
       " 'https://www.amazon.in/gp/slredirect/picassoRedirect.html/ref=pa_sp_mtf_aps_sr_pg1_1?ie=UTF8&adId=A10016832MSOPJLBCPVQE&url=%2FUnisex-Rectanglular-Sunglasses-Women-BT11_Blue%2Fdp%2FB0B4K9T99J%2Fref%3Dsr_1_23_sspa%3Fcrid%3D3DUBYJC4U85AR%26keywords%3Dsunglasses%26qid%3D1659208031%26sprefix%3Dsunglasses%252Caps%252C624%26sr%3D8-23-spons%26psc%3D1&qualifier=1659208031&id=5796721492496273&widgetName=sp_mtf',\n",
       " 'https://www.amazon.in/gp/slredirect/picassoRedirect.html/ref=pa_sp_mtf_aps_sr_pg1_1?ie=UTF8&adId=A10012831MCYPHNNZB5OL&url=%2FUnisex-Rectanglular-Sunglasses-Women-BT3_Black%2Fdp%2FB0B4KBPPYW%2Fref%3Dsr_1_24_sspa%3Fcrid%3D3DUBYJC4U85AR%26keywords%3Dsunglasses%26qid%3D1659208031%26sprefix%3Dsunglasses%252Caps%252C624%26sr%3D8-24-spons%26psc%3D1&qualifier=1659208031&id=5796721492496273&widgetName=sp_mtf',\n",
       " 'https://www.amazon.in/elegante-Unisex-Inspired-Sunglass-Gold-Dark/dp/B08CSXTKTV/ref=sr_1_25?crid=3DUBYJC4U85AR&keywords=sunglasses&qid=1659208031&sprefix=sunglasses%2Caps%2C624&sr=8-25',\n",
       " 'https://www.amazon.in/elegante-Protected-Polarized-Sunglasses-Cricket/dp/B09MPQGXNR/ref=sr_1_26?crid=3DUBYJC4U85AR&keywords=sunglasses&qid=1659208031&sprefix=sunglasses%2Caps%2C624&sr=8-26',\n",
       " 'https://www.amazon.in/Original-Polarized-Sunglasses-polycarbonate-Protection/dp/B09R27BTL9/ref=sr_1_27?crid=3DUBYJC4U85AR&keywords=sunglasses&qid=1659208031&sprefix=sunglasses%2Caps%2C624&sr=8-27',\n",
       " 'https://www.amazon.in/Sunglasses-Retro-Shades-Polarized-Women/dp/B09SYXCJP4/ref=sr_1_28?crid=3DUBYJC4U85AR&keywords=sunglasses&qid=1659208031&sprefix=sunglasses%2Caps%2C624&sr=8-28',\n",
       " 'https://www.amazon.in/U-S-wayfarer-sunglasses-polarized-protected/dp/B09SFBRZYZ/ref=sr_1_29?crid=3DUBYJC4U85AR&keywords=sunglasses&qid=1659208031&sprefix=sunglasses%2Caps%2C624&sr=8-29',\n",
       " 'https://www.amazon.in/Lorenz-Analogue-Wayfarer-Sunglasses-CM-103SN/dp/B07BZ1DMFY/ref=sr_1_30?crid=3DUBYJC4U85AR&keywords=sunglasses&qid=1659208031&sprefix=sunglasses%2Caps%2C624&sr=8-30',\n",
       " 'https://www.amazon.in/Sunglasses-Polarized-Protected-VC-5158/dp/B08VGMBLQW/ref=sr_1_31?crid=3DUBYJC4U85AR&keywords=sunglasses&qid=1659208031&sprefix=sunglasses%2Caps%2C624&sr=8-31',\n",
       " 'https://www.amazon.in/U-S-Stylish-Protected-Gradient-Sunglasses/dp/B09WG18TP1/ref=sr_1_32?crid=3DUBYJC4U85AR&keywords=sunglasses&qid=1659208031&sprefix=sunglasses%2Caps%2C624&sr=8-32',\n",
       " 'https://www.amazon.in/elegante-Branded-Lightweight-Sunglasses-Full-Black/dp/B089FQBB7L/ref=sr_1_33?crid=3DUBYJC4U85AR&keywords=sunglasses&qid=1659208031&sprefix=sunglasses%2Caps%2C624&sr=8-33',\n",
       " 'https://www.amazon.in/Sunglasses-Polarized-Protected-VC-S12643/dp/B099BG54M5/ref=sr_1_34?crid=3DUBYJC4U85AR&keywords=sunglasses&qid=1659208031&sprefix=sunglasses%2Caps%2C624&sr=8-34',\n",
       " 'https://www.amazon.in/ARICKS%C2%AE-Rectangle-Sunglasses-Vintage-Protection/dp/B09HC28QXK/ref=sr_1_35?crid=3DUBYJC4U85AR&keywords=sunglasses&qid=1659208031&sprefix=sunglasses%2Caps%2C624&sr=8-35',\n",
       " 'https://www.amazon.in/SELLORIA-Combo-Black-Sunglass-Baseball/dp/B09BL13M7J/ref=sr_1_36?crid=3DUBYJC4U85AR&keywords=sunglasses&qid=1659208031&sprefix=sunglasses%2Caps%2C624&sr=8-36',\n",
       " 'https://www.amazon.in/Lenskart-Sunglasses-Polarized-Protected-S13159/dp/B0999RCWB4/ref=sr_1_37?crid=3DUBYJC4U85AR&keywords=sunglasses&qid=1659208031&sprefix=sunglasses%2Caps%2C624&sr=8-37',\n",
       " 'https://www.amazon.in/UVJ-Wayfarer-Sunglasses-Branded-Stylish/dp/B09TRSR4F7/ref=sr_1_38?crid=3DUBYJC4U85AR&keywords=sunglasses&qid=1659208031&sprefix=sunglasses%2Caps%2C624&sr=8-38',\n",
       " 'https://www.amazon.in/CREEK%C2%AE-Round-Fashion-Sunglasses-Frame/dp/B08CD1K3BT/ref=sr_1_39?crid=3DUBYJC4U85AR&keywords=sunglasses&qid=1659208031&sprefix=sunglasses%2Caps%2C624&sr=8-39',\n",
       " 'https://www.amazon.in/GAINX-Rectangular-Aviator-Sunglasses-Premium/dp/B091HV142Z/ref=sr_1_40?crid=3DUBYJC4U85AR&keywords=sunglasses&qid=1659208031&sprefix=sunglasses%2Caps%2C624&sr=8-40',\n",
       " 'https://www.amazon.in/EFERMONE%C2%AE-Polarized-Sunglasses-Travelling-protection/dp/B0B3492SRR/ref=sr_1_41?crid=3DUBYJC4U85AR&keywords=sunglasses&qid=1659208031&sprefix=sunglasses%2Caps%2C624&sr=8-41',\n",
       " 'https://www.amazon.in/ARICKS-Classic-Vintage-Rectangular-Sunglasses/dp/B09YYQLVZH/ref=sr_1_42?crid=3DUBYJC4U85AR&keywords=sunglasses&qid=1659208031&sprefix=sunglasses%2Caps%2C624&sr=8-42',\n",
       " 'https://www.amazon.in/ELEGANTE-Rectangular-Sunglasses-Silver-Medium/dp/B08KS6DLJW/ref=sr_1_43?crid=3DUBYJC4U85AR&keywords=sunglasses&qid=1659208031&sprefix=sunglasses%2Caps%2C624&sr=8-43',\n",
       " 'https://www.amazon.in/Sunglasses-Polarized-Protected-VC-S12593/dp/B08VGLFGQ6/ref=sr_1_44?crid=3DUBYJC4U85AR&keywords=sunglasses&qid=1659208031&sprefix=sunglasses%2Caps%2C624&sr=8-44',\n",
       " 'https://www.amazon.in/CREATURE-Uv-Protected-Sunglasses-Lens-Jet-Black-Frame-Black/dp/B0752VR169/ref=sr_1_45?crid=3DUBYJC4U85AR&keywords=sunglasses&qid=1659208031&sprefix=sunglasses%2Caps%2C624&sr=8-45',\n",
       " 'https://www.amazon.in/CREEK-Unisex-Square-Sunglasses-Medium/dp/B08SJ2M6L1/ref=sr_1_46?crid=3DUBYJC4U85AR&keywords=sunglasses&qid=1659208031&sprefix=sunglasses%2Caps%2C624&sr=8-46',\n",
       " 'https://www.amazon.in/USARMANI%C2%AE-Rimless-Transparent-protection-Sunglasses/dp/B08W3MLSVR/ref=sr_1_47?crid=3DUBYJC4U85AR&keywords=sunglasses&qid=1659208031&sprefix=sunglasses%2Caps%2C624&sr=8-47',\n",
       " 'https://www.amazon.in/Avengers-Infinity-Endgame-Unisex-Sunglasses/dp/B08346QYJM/ref=sr_1_48?crid=3DUBYJC4U85AR&keywords=sunglasses&qid=1659208031&sprefix=sunglasses%2Caps%2C624&sr=8-48',\n",
       " 'https://www.amazon.in/Fastrack-protected-Sunglasses-P358BK2-millimeters/dp/B071CY7ZGM/ref=sr_1_49?crid=3DUBYJC4U85AR&keywords=sunglasses&qid=1659208031&sprefix=sunglasses%2Caps%2C624&sr=8-49',\n",
       " 'https://www.amazon.in/elegante-Branded-Inspired-Sunglass-Silver-Black/dp/B07Y8S46XB/ref=sr_1_50?crid=3DUBYJC4U85AR&keywords=sunglasses&qid=1659208031&sprefix=sunglasses%2Caps%2C624&sr=8-50',\n",
       " 'https://www.amazon.in/Dervin-Aviator-Rectangular-Womens-Sunglasses/dp/B07PQ4HFH8/ref=sr_1_51?crid=3DUBYJC4U85AR&keywords=sunglasses&qid=1659208031&sprefix=sunglasses%2Caps%2C624&sr=8-51',\n",
       " 'https://www.amazon.in/Dervin-Design-Rectangular-Sunglasses-Women/dp/B07WQQYFGZ/ref=sr_1_52?crid=3DUBYJC4U85AR&keywords=sunglasses&qid=1659208031&sprefix=sunglasses%2Caps%2C624&sr=8-52',\n",
       " 'https://www.amazon.in/JIM-HALO-Protection-Sunglasses-Polarized/dp/B07FM655ML/ref=sr_1_53?crid=3DUBYJC4U85AR&keywords=sunglasses&qid=1659208031&sprefix=sunglasses%2Caps%2C624&sr=8-53',\n",
       " 'https://www.amazon.in/Sunglasses-Protection-Lens-Purple-Frame-Black-Doit-001-002/dp/B079YLHJK8/ref=sr_1_54?crid=3DUBYJC4U85AR&keywords=sunglasses&qid=1659208031&sprefix=sunglasses%2Caps%2C624&sr=8-54',\n",
       " 'https://www.amazon.in/Protected-Aviator-Unisex-Sunglasses-Rs0014Av/dp/B01CZTXKQE/ref=sr_1_55?crid=3DUBYJC4U85AR&keywords=sunglasses&qid=1659208031&sprefix=sunglasses%2Caps%2C624&sr=8-55',\n",
       " 'https://www.amazon.in/Xforia-Mercury-Square-Wayfarer-Sunglasses/dp/B07BJ5F3LM/ref=sr_1_56?crid=3DUBYJC4U85AR&keywords=sunglasses&qid=1659208031&sprefix=sunglasses%2Caps%2C624&sr=8-56',\n",
       " 'https://www.amazon.in/gp/slredirect/picassoRedirect.html/ref=pa_sp_btf_aps_sr_pg1_1?ie=UTF8&adId=A10009711V8AQUS45GDJZ&url=%2FUnisex-Rectanglular-Sunglasses-Women-BT13_Black%2Fdp%2FB0B4K7VYFQ%2Fref%3Dsr_1_57_sspa%3Fcrid%3D3DUBYJC4U85AR%26keywords%3Dsunglasses%26qid%3D1659208031%26sprefix%3Dsunglasses%252Caps%252C624%26sr%3D8-57-spons%26psc%3D1&qualifier=1659208031&id=5796721492496273&widgetName=sp_btf',\n",
       " 'https://www.amazon.in/gp/slredirect/picassoRedirect.html/ref=pa_sp_btf_aps_sr_pg1_1?ie=UTF8&adId=A1001527ET6M67KAE0DI&url=%2FUnisex-Rectanglular-Sunglasses-Women-BT7_Black%2Fdp%2FB0B4K97M3J%2Fref%3Dsr_1_58_sspa%3Fcrid%3D3DUBYJC4U85AR%26keywords%3Dsunglasses%26qid%3D1659208031%26sprefix%3Dsunglasses%252Caps%252C624%26sr%3D8-58-spons%26psc%3D1&qualifier=1659208031&id=5796721492496273&widgetName=sp_btf',\n",
       " 'https://www.amazon.in/gp/slredirect/picassoRedirect.html/ref=pa_sp_btf_aps_sr_pg1_1?ie=UTF8&adId=A01297001NUFF0VNJR2DG&url=%2FGLINDAR-Vintage-Rectangular-Sunglasses-Slender%2Fdp%2FB081ZRHHNS%2Fref%3Dsr_1_59_sspa%3Fcrid%3D3DUBYJC4U85AR%26keywords%3Dsunglasses%26qid%3D1659208031%26sprefix%3Dsunglasses%252Caps%252C624%26sr%3D8-59-spons%26psc%3D1&qualifier=1659208031&id=5796721492496273&widgetName=sp_btf',\n",
       " 'https://www.amazon.in/gp/slredirect/picassoRedirect.html/ref=pa_sp_btf_aps_sr_pg1_1?ie=UTF8&adId=A09574952F1RL4J2D9GPY&url=%2FCIJOKA-sunglasses-Lightweight-Sunglasses-Protection%2Fdp%2FB0B2F9XJQ9%2Fref%3Dsr_1_60_sspa%3Fcrid%3D3DUBYJC4U85AR%26keywords%3Dsunglasses%26qid%3D1659208031%26sprefix%3Dsunglasses%252Caps%252C624%26sr%3D8-60-spons%26psc%3D1%26smid%3DA33TQMP56XS9KI&qualifier=1659208031&id=5796721492496273&widgetName=sp_btf',\n",
       " 'https://www.amazon.in/gp/slredirect/picassoRedirect.html/ref=pa_sp_atf_aps_sr_pg1_1?ie=UTF8&adId=A05489343N0DH98STGTP1&url=%2FJIM-HALO-Polarized-Sunglasses-Driving%2Fdp%2FB07GBTSQ91%2Fref%3Dsr_1_1_sspa%3Fcrid%3D3DUBYJC4U85AR%26keywords%3Dsunglasses%26qid%3D1659208031%26sprefix%3Dsunglasses%252Caps%252C624%26sr%3D8-1-spons%26psc%3D1&qualifier=1659208031&id=5796721492496273&widgetName=sp_atf',\n",
       " 'https://www.amazon.in/gp/slredirect/picassoRedirect.html/ref=pa_sp_atf_aps_sr_pg1_1?ie=UTF8&adId=A10011271DJ8RTP84HZJZ&url=%2FUnisex-Rectanglular-Sunglasses-Women-BT4_Black%2Fdp%2FB0B4KBJPBM%2Fref%3Dsr_1_2_sspa%3Fcrid%3D3DUBYJC4U85AR%26keywords%3Dsunglasses%26qid%3D1659208031%26sprefix%3Dsunglasses%252Caps%252C624%26sr%3D8-2-spons%26psc%3D1&qualifier=1659208031&id=5796721492496273&widgetName=sp_atf',\n",
       " 'https://www.amazon.in/gp/slredirect/picassoRedirect.html/ref=pa_sp_atf_aps_sr_pg1_1?ie=UTF8&adId=A05669948L0RUDI22V37&url=%2FVisions-India-Rimless-Fashion-Sunglasses%2Fdp%2FB07Z9HHJ1T%2Fref%3Dsr_1_3_sspa%3Fcrid%3D3DUBYJC4U85AR%26keywords%3Dsunglasses%26qid%3D1659208031%26sprefix%3Dsunglasses%252Caps%252C624%26sr%3D8-3-spons%26psc%3D1&qualifier=1659208031&id=5796721492496273&widgetName=sp_atf',\n",
       " 'https://www.amazon.in/gp/slredirect/picassoRedirect.html/ref=pa_sp_atf_aps_sr_pg1_1?ie=UTF8&adId=A100147164LQX1M8JGHQ&url=%2FUnisex-Rectanglular-Sunglasses-Women-BT6_Black%2Fdp%2FB0B4K8WKHL%2Fref%3Dsr_1_4_sspa%3Fcrid%3D3DUBYJC4U85AR%26keywords%3Dsunglasses%26qid%3D1659208031%26sprefix%3Dsunglasses%252Caps%252C624%26sr%3D8-4-spons%26psc%3D1&qualifier=1659208031&id=5796721492496273&widgetName=sp_atf',\n",
       " 'https://www.amazon.in/elegante-Rectanglular-Sunglasses-Sunlgasses-Protection/dp/B08XP26HTW/ref=sr_1_5?crid=3DUBYJC4U85AR&keywords=sunglasses&qid=1659208031&sprefix=sunglasses%2Caps%2C624&sr=8-5',\n",
       " 'https://www.amazon.in/Agrawal-Eterprises-rectangular-sunglasses-Protected/dp/B0B7RCSS5R/ref=sr_1_omk_6?crid=3DUBYJC4U85AR&keywords=sunglasses&qid=1659208031&sprefix=sunglasses%2Caps%2C624&sr=8-6',\n",
       " 'https://www.amazon.in/Fastrack-protected-Sunglasses-P357BK1-millimeters/dp/B071CP6K43/ref=sr_1_7?crid=3DUBYJC4U85AR&keywords=sunglasses&qid=1659208031&sprefix=sunglasses%2Caps%2C624&sr=8-7',\n",
       " 'https://www.amazon.in/CREEK-Unisex-Octagonal-Sunglasses-Frame/dp/B08W3CBNL9/ref=sr_1_8?crid=3DUBYJC4U85AR&keywords=sunglasses&qid=1659208031&sprefix=sunglasses%2Caps%2C624&sr=8-8',\n",
       " 'https://www.amazon.in/Vincent-Lenskart-Sunglasses-Polarized-Protected/dp/B09KV28F4P/ref=sxin_18_sbv_search_btf?content-id=amzn1.sym.d882f7bc-c7c5-4887-b939-1af6f91cc448%3Aamzn1.sym.d882f7bc-c7c5-4887-b939-1af6f91cc448&crid=3DUBYJC4U85AR&cv_ct_cx=sunglasses&keywords=sunglasses&pd_rd_i=B09KV28F4P&pd_rd_r=7cd50092-8149-4395-9ba4-4efd478ebd41&pd_rd_w=khHfi&pd_rd_wg=314Am&pf_rd_p=d882f7bc-c7c5-4887-b939-1af6f91cc448&pf_rd_r=JRXQP82ANE8FNHPZVKV5&psc=1&qid=1659208031&sprefix=sunglasses%2Caps%2C624&sr=1-1-9131241a-a358-4619-a7b8-0f5a65d91d81',\n",
       " 'https://www.amazon.in/Frameless-Sunglasses-Polarized-Siamese-Orange/dp/B07TWDSJGB/ref=sxin_19_slsr_d_i_fsnewarrivals_fa_0_B07TWDSJGB?content-id=amzn1.sym.05a90910-16ac-4598-ad8e-89a2664fb954%3Aamzn1.sym.05a90910-16ac-4598-ad8e-89a2664fb954&crid=3DUBYJC4U85AR&cv_ct_cx=sunglasses&keywords=sunglasses&pd_rd_i=B07TWDSJGB&pd_rd_r=7cd50092-8149-4395-9ba4-4efd478ebd41&pd_rd_w=EvKLW&pd_rd_wg=314Am&pf_rd_p=05a90910-16ac-4598-ad8e-89a2664fb954&pf_rd_r=JRXQP82ANE8FNHPZVKV5&psc=1&qid=1659208031&sprefix=sunglasses%2Caps%2C624&sr=1-1-5b2ee5ec-0735-4782-9f3a-9d21a55133d0',\n",
       " 'https://www.amazon.in/Generic-cfa00s3-Sunglass-400-protected/dp/B0B2K2DYHK/ref=sxin_19_slsr_d_i_fsnewarrivals_fa_2_B0B2K2DYHK?content-id=amzn1.sym.05a90910-16ac-4598-ad8e-89a2664fb954%3Aamzn1.sym.05a90910-16ac-4598-ad8e-89a2664fb954&crid=3DUBYJC4U85AR&cv_ct_cx=sunglasses&keywords=sunglasses&pd_rd_i=B0B2K2DYHK&pd_rd_r=7cd50092-8149-4395-9ba4-4efd478ebd41&pd_rd_w=EvKLW&pd_rd_wg=314Am&pf_rd_p=05a90910-16ac-4598-ad8e-89a2664fb954&pf_rd_r=JRXQP82ANE8FNHPZVKV5&psc=1&qid=1659208031&sprefix=sunglasses%2Caps%2C624&sr=1-2-5b2ee5ec-0735-4782-9f3a-9d21a55133d0',\n",
       " 'https://www.amazon.in/Generic-RAC35-GRAD-PURPLE-SUNGLASSES-UV400-RR0006/dp/B0B2KR2XP1/ref=sxin_19_slsr_d_i_fsnewarrivals_fa_3_B0B2KR2XP1?content-id=amzn1.sym.05a90910-16ac-4598-ad8e-89a2664fb954%3Aamzn1.sym.05a90910-16ac-4598-ad8e-89a2664fb954&crid=3DUBYJC4U85AR&cv_ct_cx=sunglasses&keywords=sunglasses&pd_rd_i=B0B2KR2XP1&pd_rd_r=7cd50092-8149-4395-9ba4-4efd478ebd41&pd_rd_w=EvKLW&pd_rd_wg=314Am&pf_rd_p=05a90910-16ac-4598-ad8e-89a2664fb954&pf_rd_r=JRXQP82ANE8FNHPZVKV5&psc=1&qid=1659208031&sprefix=sunglasses%2Caps%2C624&sr=1-3-5b2ee5ec-0735-4782-9f3a-9d21a55133d0',\n",
       " 'https://www.amazon.in/Elegante-Hexagone-Sunglasses-Driving-Fashion/dp/B0B5L49NV9/ref=sxin_19_slsr_d_i_fsnewarrivals_fa_4_B0B5L49NV9?content-id=amzn1.sym.05a90910-16ac-4598-ad8e-89a2664fb954%3Aamzn1.sym.05a90910-16ac-4598-ad8e-89a2664fb954&crid=3DUBYJC4U85AR&cv_ct_cx=sunglasses&keywords=sunglasses&pd_rd_i=B0B5L49NV9&pd_rd_r=7cd50092-8149-4395-9ba4-4efd478ebd41&pd_rd_w=EvKLW&pd_rd_wg=314Am&pf_rd_p=05a90910-16ac-4598-ad8e-89a2664fb954&pf_rd_r=JRXQP82ANE8FNHPZVKV5&psc=1&qid=1659208031&sprefix=sunglasses%2Caps%2C624&sr=1-4-5b2ee5ec-0735-4782-9f3a-9d21a55133d0',\n",
       " 'https://www.amazon.in/ARCADIO-AR-PZ5001C1BK-GYP-PERKINS-Rectangle-Sunglass/dp/B0B5RZNHH2/ref=sxin_19_slsr_d_i_fsnewarrivals_fa_5_B0B5RZNHH2?content-id=amzn1.sym.05a90910-16ac-4598-ad8e-89a2664fb954%3Aamzn1.sym.05a90910-16ac-4598-ad8e-89a2664fb954&crid=3DUBYJC4U85AR&cv_ct_cx=sunglasses&keywords=sunglasses&pd_rd_i=B0B5RZNHH2&pd_rd_r=7cd50092-8149-4395-9ba4-4efd478ebd41&pd_rd_w=EvKLW&pd_rd_wg=314Am&pf_rd_p=05a90910-16ac-4598-ad8e-89a2664fb954&pf_rd_r=JRXQP82ANE8FNHPZVKV5&psc=1&qid=1659208031&sprefix=sunglasses%2Caps%2C624&sr=1-5-5b2ee5ec-0735-4782-9f3a-9d21a55133d0',\n",
       " 'https://www.amazon.in/ARCADIO-AR-TR138C4GY-BLp-PERKINS-Rectangle-Sunglass/dp/B0B5RY8J44/ref=sxin_19_slsr_d_i_fsnewarrivals_fa_7_B0B5RY8J44?content-id=amzn1.sym.05a90910-16ac-4598-ad8e-89a2664fb954%3Aamzn1.sym.05a90910-16ac-4598-ad8e-89a2664fb954&crid=3DUBYJC4U85AR&cv_ct_cx=sunglasses&keywords=sunglasses&pd_rd_i=B0B5RY8J44&pd_rd_r=7cd50092-8149-4395-9ba4-4efd478ebd41&pd_rd_w=EvKLW&pd_rd_wg=314Am&pf_rd_p=05a90910-16ac-4598-ad8e-89a2664fb954&pf_rd_r=JRXQP82ANE8FNHPZVKV5&psc=1&qid=1659208031&sprefix=sunglasses%2Caps%2C624&sr=1-6-5b2ee5ec-0735-4782-9f3a-9d21a55133d0',\n",
       " 'https://www.amazon.in/Generic-78555552-Round-Sunglasses/dp/B0B4V66FG2/ref=sxin_19_slsr_d_i_fsnewarrivals_fa_8_B0B4V66FG2?content-id=amzn1.sym.05a90910-16ac-4598-ad8e-89a2664fb954%3Aamzn1.sym.05a90910-16ac-4598-ad8e-89a2664fb954&crid=3DUBYJC4U85AR&cv_ct_cx=sunglasses&keywords=sunglasses&pd_rd_i=B0B4V66FG2&pd_rd_r=7cd50092-8149-4395-9ba4-4efd478ebd41&pd_rd_w=EvKLW&pd_rd_wg=314Am&pf_rd_p=05a90910-16ac-4598-ad8e-89a2664fb954&pf_rd_r=JRXQP82ANE8FNHPZVKV5&psc=1&qid=1659208031&sprefix=sunglasses%2Caps%2C624&sr=1-7-5b2ee5ec-0735-4782-9f3a-9d21a55133d0',\n",
       " 'https://www.amazon.in/ARCADIO-AR192DM-BRP-PERKINS-Rectangle-Sunglass/dp/B0B5LLN2WR/ref=sxin_19_slsr_d_i_fsnewarrivals_fa_9_B0B5LLN2WR?content-id=amzn1.sym.05a90910-16ac-4598-ad8e-89a2664fb954%3Aamzn1.sym.05a90910-16ac-4598-ad8e-89a2664fb954&crid=3DUBYJC4U85AR&cv_ct_cx=sunglasses&keywords=sunglasses&pd_rd_i=B0B5LLN2WR&pd_rd_r=7cd50092-8149-4395-9ba4-4efd478ebd41&pd_rd_w=EvKLW&pd_rd_wg=314Am&pf_rd_p=05a90910-16ac-4598-ad8e-89a2664fb954&pf_rd_r=JRXQP82ANE8FNHPZVKV5&psc=1&qid=1659208031&sprefix=sunglasses%2Caps%2C624&sr=1-8-5b2ee5ec-0735-4782-9f3a-9d21a55133d0',\n",
       " 'https://www.amazon.in/Royal-Square-Unisex-Sunglasses-Goggles/dp/B07S1VLFP4/ref=sr_1_9?crid=3DUBYJC4U85AR&keywords=sunglasses&qid=1659208031&sprefix=sunglasses%2Caps%2C624&sr=8-9',\n",
       " 'https://www.amazon.in/IFLASH-Rectangle-Sunglasses-Driving-Protection/dp/B09H5XMWNZ/ref=sr_1_10?crid=3DUBYJC4U85AR&keywords=sunglasses&qid=1659208031&sprefix=sunglasses%2Caps%2C624&sr=8-10',\n",
       " 'https://www.amazon.in/NuVew-Protected-Sunglasses-Women-Stylish/dp/B07XG77BS7/ref=sr_1_11?crid=3DUBYJC4U85AR&keywords=sunglasses&qid=1659208031&sprefix=sunglasses%2Caps%2C624&sr=8-11',\n",
       " 'https://www.amazon.in/elegante-Protected-Driving-Gradient-Sunglasses/dp/B09NML9N9H/ref=sr_1_12?crid=3DUBYJC4U85AR&keywords=sunglasses&qid=1659208031&sprefix=sunglasses%2Caps%2C624&sr=8-12',\n",
       " 'https://www.amazon.in/U-S-sunglasses-Protected-stylish-gradient/dp/B09XYSZNVH/ref=sr_1_13?crid=3DUBYJC4U85AR&keywords=sunglasses&qid=1659208031&sprefix=sunglasses%2Caps%2C624&sr=8-13',\n",
       " 'https://www.amazon.in/Fastrack-Protected-Wayfarer-Mens-Sunglasses/dp/B07FM7TPPY/ref=sr_1_14?crid=3DUBYJC4U85AR&keywords=sunglasses&qid=1659208031&sprefix=sunglasses%2Caps%2C624&sr=8-14',\n",
       " 'https://www.amazon.in/Unisex-Polarized-Wayfarer-Sunglasses-Testing/dp/B09QLKN355/ref=sr_1_15?crid=3DUBYJC4U85AR&keywords=sunglasses&qid=1659208031&sprefix=sunglasses%2Caps%2C624&sr=8-15',\n",
       " 'https://www.amazon.in/Polarized-Protected-Sunglasses-VC-S13973/dp/B0999SJPWC/ref=sr_1_16?crid=3DUBYJC4U85AR&keywords=sunglasses&qid=1659208031&sprefix=sunglasses%2Caps%2C624&sr=8-16',\n",
       " 'https://www.amazon.in/CREATURE-Wayfarer-Protected-Sunglasses-Frame-Black/dp/B078RN2FG2/ref=sr_1_17?crid=3DUBYJC4U85AR&keywords=sunglasses&qid=1659208031&sprefix=sunglasses%2Caps%2C624&sr=8-17',\n",
       " 'https://www.amazon.in/Fastrack-Protected-Aviator-Mens-Sunglasses/dp/B08BH95XFB/ref=sr_1_18?crid=3DUBYJC4U85AR&keywords=sunglasses&qid=1659208031&sprefix=sunglasses%2Caps%2C624&sr=8-18',\n",
       " 'https://www.amazon.in/Polarized-Protected-Sunglasses-VC-S13972/dp/B0999QKNS5/ref=sr_1_19?crid=3DUBYJC4U85AR&keywords=sunglasses&qid=1659208031&sprefix=sunglasses%2Caps%2C624&sr=8-19',\n",
       " 'https://www.amazon.in/elegante-Branded-Steampunk-Sunglass-Gold-Black/dp/B08411V1WD/ref=sr_1_20?crid=3DUBYJC4U85AR&keywords=sunglasses&qid=1659208031&sprefix=sunglasses%2Caps%2C624&sr=8-20',\n",
       " 'https://www.amazon.in/gp/slredirect/picassoRedirect.html/ref=pa_sp_mtf_aps_sr_pg1_1?ie=UTF8&adId=A10010712PWKNIL1DFXVK&url=%2FUnisex-Rectanglular-Sunglasses-Women-BT9_Black%2Fdp%2FB0B4K9JYQC%2Fref%3Dsr_1_21_sspa%3Fcrid%3D3DUBYJC4U85AR%26keywords%3Dsunglasses%26qid%3D1659208031%26sprefix%3Dsunglasses%252Caps%252C624%26sr%3D8-21-spons%26psc%3D1&qualifier=1659208031&id=5796721492496273&widgetName=sp_mtf',\n",
       " 'https://www.amazon.in/gp/slredirect/picassoRedirect.html/ref=pa_sp_mtf_aps_sr_pg1_1?ie=UTF8&adId=A10013712CHPTJJPBSB2U&url=%2FUnisex-Rectanglular-Sunglasses-Women-BT1_Black%2Fdp%2FB0B4K8W8W7%2Fref%3Dsr_1_22_sspa%3Fcrid%3D3DUBYJC4U85AR%26keywords%3Dsunglasses%26qid%3D1659208031%26sprefix%3Dsunglasses%252Caps%252C624%26sr%3D8-22-spons%26psc%3D1&qualifier=1659208031&id=5796721492496273&widgetName=sp_mtf',\n",
       " 'https://www.amazon.in/gp/slredirect/picassoRedirect.html/ref=pa_sp_mtf_aps_sr_pg1_1?ie=UTF8&adId=A10016832MSOPJLBCPVQE&url=%2FUnisex-Rectanglular-Sunglasses-Women-BT11_Blue%2Fdp%2FB0B4K9T99J%2Fref%3Dsr_1_23_sspa%3Fcrid%3D3DUBYJC4U85AR%26keywords%3Dsunglasses%26qid%3D1659208031%26sprefix%3Dsunglasses%252Caps%252C624%26sr%3D8-23-spons%26psc%3D1&qualifier=1659208031&id=5796721492496273&widgetName=sp_mtf',\n",
       " 'https://www.amazon.in/gp/slredirect/picassoRedirect.html/ref=pa_sp_mtf_aps_sr_pg1_1?ie=UTF8&adId=A10012831MCYPHNNZB5OL&url=%2FUnisex-Rectanglular-Sunglasses-Women-BT3_Black%2Fdp%2FB0B4KBPPYW%2Fref%3Dsr_1_24_sspa%3Fcrid%3D3DUBYJC4U85AR%26keywords%3Dsunglasses%26qid%3D1659208031%26sprefix%3Dsunglasses%252Caps%252C624%26sr%3D8-24-spons%26psc%3D1&qualifier=1659208031&id=5796721492496273&widgetName=sp_mtf',\n",
       " 'https://www.amazon.in/elegante-Unisex-Inspired-Sunglass-Gold-Dark/dp/B08CSXTKTV/ref=sr_1_25?crid=3DUBYJC4U85AR&keywords=sunglasses&qid=1659208031&sprefix=sunglasses%2Caps%2C624&sr=8-25',\n",
       " 'https://www.amazon.in/elegante-Protected-Polarized-Sunglasses-Cricket/dp/B09MPQGXNR/ref=sr_1_26?crid=3DUBYJC4U85AR&keywords=sunglasses&qid=1659208031&sprefix=sunglasses%2Caps%2C624&sr=8-26',\n",
       " 'https://www.amazon.in/Original-Polarized-Sunglasses-polycarbonate-Protection/dp/B09R27BTL9/ref=sr_1_27?crid=3DUBYJC4U85AR&keywords=sunglasses&qid=1659208031&sprefix=sunglasses%2Caps%2C624&sr=8-27',\n",
       " 'https://www.amazon.in/Sunglasses-Retro-Shades-Polarized-Women/dp/B09SYXCJP4/ref=sr_1_28?crid=3DUBYJC4U85AR&keywords=sunglasses&qid=1659208031&sprefix=sunglasses%2Caps%2C624&sr=8-28',\n",
       " 'https://www.amazon.in/U-S-wayfarer-sunglasses-polarized-protected/dp/B09SFBRZYZ/ref=sr_1_29?crid=3DUBYJC4U85AR&keywords=sunglasses&qid=1659208031&sprefix=sunglasses%2Caps%2C624&sr=8-29',\n",
       " 'https://www.amazon.in/Lorenz-Analogue-Wayfarer-Sunglasses-CM-103SN/dp/B07BZ1DMFY/ref=sr_1_30?crid=3DUBYJC4U85AR&keywords=sunglasses&qid=1659208031&sprefix=sunglasses%2Caps%2C624&sr=8-30',\n",
       " 'https://www.amazon.in/Sunglasses-Polarized-Protected-VC-5158/dp/B08VGMBLQW/ref=sr_1_31?crid=3DUBYJC4U85AR&keywords=sunglasses&qid=1659208031&sprefix=sunglasses%2Caps%2C624&sr=8-31',\n",
       " 'https://www.amazon.in/U-S-Stylish-Protected-Gradient-Sunglasses/dp/B09WG18TP1/ref=sr_1_32?crid=3DUBYJC4U85AR&keywords=sunglasses&qid=1659208031&sprefix=sunglasses%2Caps%2C624&sr=8-32',\n",
       " 'https://www.amazon.in/elegante-Branded-Lightweight-Sunglasses-Full-Black/dp/B089FQBB7L/ref=sr_1_33?crid=3DUBYJC4U85AR&keywords=sunglasses&qid=1659208031&sprefix=sunglasses%2Caps%2C624&sr=8-33',\n",
       " 'https://www.amazon.in/Sunglasses-Polarized-Protected-VC-S12643/dp/B099BG54M5/ref=sr_1_34?crid=3DUBYJC4U85AR&keywords=sunglasses&qid=1659208031&sprefix=sunglasses%2Caps%2C624&sr=8-34',\n",
       " 'https://www.amazon.in/ARICKS%C2%AE-Rectangle-Sunglasses-Vintage-Protection/dp/B09HC28QXK/ref=sr_1_35?crid=3DUBYJC4U85AR&keywords=sunglasses&qid=1659208031&sprefix=sunglasses%2Caps%2C624&sr=8-35',\n",
       " 'https://www.amazon.in/SELLORIA-Combo-Black-Sunglass-Baseball/dp/B09BL13M7J/ref=sr_1_36?crid=3DUBYJC4U85AR&keywords=sunglasses&qid=1659208031&sprefix=sunglasses%2Caps%2C624&sr=8-36',\n",
       " 'https://www.amazon.in/Lenskart-Sunglasses-Polarized-Protected-S13159/dp/B0999RCWB4/ref=sr_1_37?crid=3DUBYJC4U85AR&keywords=sunglasses&qid=1659208031&sprefix=sunglasses%2Caps%2C624&sr=8-37',\n",
       " 'https://www.amazon.in/UVJ-Wayfarer-Sunglasses-Branded-Stylish/dp/B09TRSR4F7/ref=sr_1_38?crid=3DUBYJC4U85AR&keywords=sunglasses&qid=1659208031&sprefix=sunglasses%2Caps%2C624&sr=8-38',\n",
       " 'https://www.amazon.in/CREEK%C2%AE-Round-Fashion-Sunglasses-Frame/dp/B08CD1K3BT/ref=sr_1_39?crid=3DUBYJC4U85AR&keywords=sunglasses&qid=1659208031&sprefix=sunglasses%2Caps%2C624&sr=8-39',\n",
       " 'https://www.amazon.in/GAINX-Rectangular-Aviator-Sunglasses-Premium/dp/B091HV142Z/ref=sr_1_40?crid=3DUBYJC4U85AR&keywords=sunglasses&qid=1659208031&sprefix=sunglasses%2Caps%2C624&sr=8-40',\n",
       " 'https://www.amazon.in/EFERMONE%C2%AE-Polarized-Sunglasses-Travelling-protection/dp/B0B3492SRR/ref=sr_1_41?crid=3DUBYJC4U85AR&keywords=sunglasses&qid=1659208031&sprefix=sunglasses%2Caps%2C624&sr=8-41',\n",
       " 'https://www.amazon.in/ARICKS-Classic-Vintage-Rectangular-Sunglasses/dp/B09YYQLVZH/ref=sr_1_42?crid=3DUBYJC4U85AR&keywords=sunglasses&qid=1659208031&sprefix=sunglasses%2Caps%2C624&sr=8-42',\n",
       " 'https://www.amazon.in/ELEGANTE-Rectangular-Sunglasses-Silver-Medium/dp/B08KS6DLJW/ref=sr_1_43?crid=3DUBYJC4U85AR&keywords=sunglasses&qid=1659208031&sprefix=sunglasses%2Caps%2C624&sr=8-43',\n",
       " 'https://www.amazon.in/Sunglasses-Polarized-Protected-VC-S12593/dp/B08VGLFGQ6/ref=sr_1_44?crid=3DUBYJC4U85AR&keywords=sunglasses&qid=1659208031&sprefix=sunglasses%2Caps%2C624&sr=8-44',\n",
       " 'https://www.amazon.in/CREATURE-Uv-Protected-Sunglasses-Lens-Jet-Black-Frame-Black/dp/B0752VR169/ref=sr_1_45?crid=3DUBYJC4U85AR&keywords=sunglasses&qid=1659208031&sprefix=sunglasses%2Caps%2C624&sr=8-45',\n",
       " 'https://www.amazon.in/CREEK-Unisex-Square-Sunglasses-Medium/dp/B08SJ2M6L1/ref=sr_1_46?crid=3DUBYJC4U85AR&keywords=sunglasses&qid=1659208031&sprefix=sunglasses%2Caps%2C624&sr=8-46',\n",
       " 'https://www.amazon.in/USARMANI%C2%AE-Rimless-Transparent-protection-Sunglasses/dp/B08W3MLSVR/ref=sr_1_47?crid=3DUBYJC4U85AR&keywords=sunglasses&qid=1659208031&sprefix=sunglasses%2Caps%2C624&sr=8-47',\n",
       " 'https://www.amazon.in/Avengers-Infinity-Endgame-Unisex-Sunglasses/dp/B08346QYJM/ref=sr_1_48?crid=3DUBYJC4U85AR&keywords=sunglasses&qid=1659208031&sprefix=sunglasses%2Caps%2C624&sr=8-48',\n",
       " 'https://www.amazon.in/Fastrack-protected-Sunglasses-P358BK2-millimeters/dp/B071CY7ZGM/ref=sr_1_49?crid=3DUBYJC4U85AR&keywords=sunglasses&qid=1659208031&sprefix=sunglasses%2Caps%2C624&sr=8-49',\n",
       " 'https://www.amazon.in/elegante-Branded-Inspired-Sunglass-Silver-Black/dp/B07Y8S46XB/ref=sr_1_50?crid=3DUBYJC4U85AR&keywords=sunglasses&qid=1659208031&sprefix=sunglasses%2Caps%2C624&sr=8-50',\n",
       " 'https://www.amazon.in/Dervin-Aviator-Rectangular-Womens-Sunglasses/dp/B07PQ4HFH8/ref=sr_1_51?crid=3DUBYJC4U85AR&keywords=sunglasses&qid=1659208031&sprefix=sunglasses%2Caps%2C624&sr=8-51',\n",
       " 'https://www.amazon.in/Dervin-Design-Rectangular-Sunglasses-Women/dp/B07WQQYFGZ/ref=sr_1_52?crid=3DUBYJC4U85AR&keywords=sunglasses&qid=1659208031&sprefix=sunglasses%2Caps%2C624&sr=8-52',\n",
       " 'https://www.amazon.in/JIM-HALO-Protection-Sunglasses-Polarized/dp/B07FM655ML/ref=sr_1_53?crid=3DUBYJC4U85AR&keywords=sunglasses&qid=1659208031&sprefix=sunglasses%2Caps%2C624&sr=8-53',\n",
       " 'https://www.amazon.in/Sunglasses-Protection-Lens-Purple-Frame-Black-Doit-001-002/dp/B079YLHJK8/ref=sr_1_54?crid=3DUBYJC4U85AR&keywords=sunglasses&qid=1659208031&sprefix=sunglasses%2Caps%2C624&sr=8-54',\n",
       " 'https://www.amazon.in/Protected-Aviator-Unisex-Sunglasses-Rs0014Av/dp/B01CZTXKQE/ref=sr_1_55?crid=3DUBYJC4U85AR&keywords=sunglasses&qid=1659208031&sprefix=sunglasses%2Caps%2C624&sr=8-55',\n",
       " 'https://www.amazon.in/Xforia-Mercury-Square-Wayfarer-Sunglasses/dp/B07BJ5F3LM/ref=sr_1_56?crid=3DUBYJC4U85AR&keywords=sunglasses&qid=1659208031&sprefix=sunglasses%2Caps%2C624&sr=8-56',\n",
       " 'https://www.amazon.in/gp/slredirect/picassoRedirect.html/ref=pa_sp_btf_aps_sr_pg1_1?ie=UTF8&adId=A10009711V8AQUS45GDJZ&url=%2FUnisex-Rectanglular-Sunglasses-Women-BT13_Black%2Fdp%2FB0B4K7VYFQ%2Fref%3Dsr_1_57_sspa%3Fcrid%3D3DUBYJC4U85AR%26keywords%3Dsunglasses%26qid%3D1659208031%26sprefix%3Dsunglasses%252Caps%252C624%26sr%3D8-57-spons%26psc%3D1&qualifier=1659208031&id=5796721492496273&widgetName=sp_btf',\n",
       " 'https://www.amazon.in/gp/slredirect/picassoRedirect.html/ref=pa_sp_btf_aps_sr_pg1_1?ie=UTF8&adId=A1001527ET6M67KAE0DI&url=%2FUnisex-Rectanglular-Sunglasses-Women-BT7_Black%2Fdp%2FB0B4K97M3J%2Fref%3Dsr_1_58_sspa%3Fcrid%3D3DUBYJC4U85AR%26keywords%3Dsunglasses%26qid%3D1659208031%26sprefix%3Dsunglasses%252Caps%252C624%26sr%3D8-58-spons%26psc%3D1&qualifier=1659208031&id=5796721492496273&widgetName=sp_btf',\n",
       " 'https://www.amazon.in/gp/slredirect/picassoRedirect.html/ref=pa_sp_btf_aps_sr_pg1_1?ie=UTF8&adId=A01297001NUFF0VNJR2DG&url=%2FGLINDAR-Vintage-Rectangular-Sunglasses-Slender%2Fdp%2FB081ZRHHNS%2Fref%3Dsr_1_59_sspa%3Fcrid%3D3DUBYJC4U85AR%26keywords%3Dsunglasses%26qid%3D1659208031%26sprefix%3Dsunglasses%252Caps%252C624%26sr%3D8-59-spons%26psc%3D1&qualifier=1659208031&id=5796721492496273&widgetName=sp_btf',\n",
       " 'https://www.amazon.in/gp/slredirect/picassoRedirect.html/ref=pa_sp_btf_aps_sr_pg1_1?ie=UTF8&adId=A09574952F1RL4J2D9GPY&url=%2FCIJOKA-sunglasses-Lightweight-Sunglasses-Protection%2Fdp%2FB0B2F9XJQ9%2Fref%3Dsr_1_60_sspa%3Fcrid%3D3DUBYJC4U85AR%26keywords%3Dsunglasses%26qid%3D1659208031%26sprefix%3Dsunglasses%252Caps%252C624%26sr%3D8-60-spons%26psc%3D1%26smid%3DA33TQMP56XS9KI&qualifier=1659208031&id=5796721492496273&widgetName=sp_btf',\n",
       " 'https://www.amazon.in/gp/slredirect/picassoRedirect.html/ref=pa_sp_atf_aps_sr_pg1_1?ie=UTF8&adId=A05489343N0DH98STGTP1&url=%2FJIM-HALO-Polarized-Sunglasses-Driving%2Fdp%2FB07GBTSQ91%2Fref%3Dsr_1_1_sspa%3Fcrid%3D3DUBYJC4U85AR%26keywords%3Dsunglasses%26qid%3D1659208031%26sprefix%3Dsunglasses%252Caps%252C624%26sr%3D8-1-spons%26psc%3D1&qualifier=1659208031&id=5796721492496273&widgetName=sp_atf',\n",
       " 'https://www.amazon.in/gp/slredirect/picassoRedirect.html/ref=pa_sp_atf_aps_sr_pg1_1?ie=UTF8&adId=A10011271DJ8RTP84HZJZ&url=%2FUnisex-Rectanglular-Sunglasses-Women-BT4_Black%2Fdp%2FB0B4KBJPBM%2Fref%3Dsr_1_2_sspa%3Fcrid%3D3DUBYJC4U85AR%26keywords%3Dsunglasses%26qid%3D1659208031%26sprefix%3Dsunglasses%252Caps%252C624%26sr%3D8-2-spons%26psc%3D1&qualifier=1659208031&id=5796721492496273&widgetName=sp_atf',\n",
       " 'https://www.amazon.in/gp/slredirect/picassoRedirect.html/ref=pa_sp_atf_aps_sr_pg1_1?ie=UTF8&adId=A05669948L0RUDI22V37&url=%2FVisions-India-Rimless-Fashion-Sunglasses%2Fdp%2FB07Z9HHJ1T%2Fref%3Dsr_1_3_sspa%3Fcrid%3D3DUBYJC4U85AR%26keywords%3Dsunglasses%26qid%3D1659208031%26sprefix%3Dsunglasses%252Caps%252C624%26sr%3D8-3-spons%26psc%3D1&qualifier=1659208031&id=5796721492496273&widgetName=sp_atf',\n",
       " 'https://www.amazon.in/gp/slredirect/picassoRedirect.html/ref=pa_sp_atf_aps_sr_pg1_1?ie=UTF8&adId=A100147164LQX1M8JGHQ&url=%2FUnisex-Rectanglular-Sunglasses-Women-BT6_Black%2Fdp%2FB0B4K8WKHL%2Fref%3Dsr_1_4_sspa%3Fcrid%3D3DUBYJC4U85AR%26keywords%3Dsunglasses%26qid%3D1659208031%26sprefix%3Dsunglasses%252Caps%252C624%26sr%3D8-4-spons%26psc%3D1&qualifier=1659208031&id=5796721492496273&widgetName=sp_atf',\n",
       " 'https://www.amazon.in/elegante-Rectanglular-Sunglasses-Sunlgasses-Protection/dp/B08XP26HTW/ref=sr_1_5?crid=3DUBYJC4U85AR&keywords=sunglasses&qid=1659208031&sprefix=sunglasses%2Caps%2C624&sr=8-5',\n",
       " 'https://www.amazon.in/Agrawal-Eterprises-rectangular-sunglasses-Protected/dp/B0B7RCSS5R/ref=sr_1_omk_6?crid=3DUBYJC4U85AR&keywords=sunglasses&qid=1659208031&sprefix=sunglasses%2Caps%2C624&sr=8-6',\n",
       " 'https://www.amazon.in/Fastrack-protected-Sunglasses-P357BK1-millimeters/dp/B071CP6K43/ref=sr_1_7?crid=3DUBYJC4U85AR&keywords=sunglasses&qid=1659208031&sprefix=sunglasses%2Caps%2C624&sr=8-7',\n",
       " 'https://www.amazon.in/CREEK-Unisex-Octagonal-Sunglasses-Frame/dp/B08W3CBNL9/ref=sr_1_8?crid=3DUBYJC4U85AR&keywords=sunglasses&qid=1659208031&sprefix=sunglasses%2Caps%2C624&sr=8-8',\n",
       " 'https://www.amazon.in/Vincent-Lenskart-Sunglasses-Polarized-Protected/dp/B09KV28F4P/ref=sxin_18_sbv_search_btf?content-id=amzn1.sym.d882f7bc-c7c5-4887-b939-1af6f91cc448%3Aamzn1.sym.d882f7bc-c7c5-4887-b939-1af6f91cc448&crid=3DUBYJC4U85AR&cv_ct_cx=sunglasses&keywords=sunglasses&pd_rd_i=B09KV28F4P&pd_rd_r=7cd50092-8149-4395-9ba4-4efd478ebd41&pd_rd_w=khHfi&pd_rd_wg=314Am&pf_rd_p=d882f7bc-c7c5-4887-b939-1af6f91cc448&pf_rd_r=JRXQP82ANE8FNHPZVKV5&psc=1&qid=1659208031&sprefix=sunglasses%2Caps%2C624&sr=1-1-9131241a-a358-4619-a7b8-0f5a65d91d81',\n",
       " 'https://www.amazon.in/Frameless-Sunglasses-Polarized-Siamese-Orange/dp/B07TWDSJGB/ref=sxin_19_slsr_d_i_fsnewarrivals_fa_0_B07TWDSJGB?content-id=amzn1.sym.05a90910-16ac-4598-ad8e-89a2664fb954%3Aamzn1.sym.05a90910-16ac-4598-ad8e-89a2664fb954&crid=3DUBYJC4U85AR&cv_ct_cx=sunglasses&keywords=sunglasses&pd_rd_i=B07TWDSJGB&pd_rd_r=7cd50092-8149-4395-9ba4-4efd478ebd41&pd_rd_w=EvKLW&pd_rd_wg=314Am&pf_rd_p=05a90910-16ac-4598-ad8e-89a2664fb954&pf_rd_r=JRXQP82ANE8FNHPZVKV5&psc=1&qid=1659208031&sprefix=sunglasses%2Caps%2C624&sr=1-1-5b2ee5ec-0735-4782-9f3a-9d21a55133d0',\n",
       " 'https://www.amazon.in/Generic-cfa00s3-Sunglass-400-protected/dp/B0B2K2DYHK/ref=sxin_19_slsr_d_i_fsnewarrivals_fa_2_B0B2K2DYHK?content-id=amzn1.sym.05a90910-16ac-4598-ad8e-89a2664fb954%3Aamzn1.sym.05a90910-16ac-4598-ad8e-89a2664fb954&crid=3DUBYJC4U85AR&cv_ct_cx=sunglasses&keywords=sunglasses&pd_rd_i=B0B2K2DYHK&pd_rd_r=7cd50092-8149-4395-9ba4-4efd478ebd41&pd_rd_w=EvKLW&pd_rd_wg=314Am&pf_rd_p=05a90910-16ac-4598-ad8e-89a2664fb954&pf_rd_r=JRXQP82ANE8FNHPZVKV5&psc=1&qid=1659208031&sprefix=sunglasses%2Caps%2C624&sr=1-2-5b2ee5ec-0735-4782-9f3a-9d21a55133d0',\n",
       " 'https://www.amazon.in/Generic-RAC35-GRAD-PURPLE-SUNGLASSES-UV400-RR0006/dp/B0B2KR2XP1/ref=sxin_19_slsr_d_i_fsnewarrivals_fa_3_B0B2KR2XP1?content-id=amzn1.sym.05a90910-16ac-4598-ad8e-89a2664fb954%3Aamzn1.sym.05a90910-16ac-4598-ad8e-89a2664fb954&crid=3DUBYJC4U85AR&cv_ct_cx=sunglasses&keywords=sunglasses&pd_rd_i=B0B2KR2XP1&pd_rd_r=7cd50092-8149-4395-9ba4-4efd478ebd41&pd_rd_w=EvKLW&pd_rd_wg=314Am&pf_rd_p=05a90910-16ac-4598-ad8e-89a2664fb954&pf_rd_r=JRXQP82ANE8FNHPZVKV5&psc=1&qid=1659208031&sprefix=sunglasses%2Caps%2C624&sr=1-3-5b2ee5ec-0735-4782-9f3a-9d21a55133d0',\n",
       " 'https://www.amazon.in/Elegante-Hexagone-Sunglasses-Driving-Fashion/dp/B0B5L49NV9/ref=sxin_19_slsr_d_i_fsnewarrivals_fa_4_B0B5L49NV9?content-id=amzn1.sym.05a90910-16ac-4598-ad8e-89a2664fb954%3Aamzn1.sym.05a90910-16ac-4598-ad8e-89a2664fb954&crid=3DUBYJC4U85AR&cv_ct_cx=sunglasses&keywords=sunglasses&pd_rd_i=B0B5L49NV9&pd_rd_r=7cd50092-8149-4395-9ba4-4efd478ebd41&pd_rd_w=EvKLW&pd_rd_wg=314Am&pf_rd_p=05a90910-16ac-4598-ad8e-89a2664fb954&pf_rd_r=JRXQP82ANE8FNHPZVKV5&psc=1&qid=1659208031&sprefix=sunglasses%2Caps%2C624&sr=1-4-5b2ee5ec-0735-4782-9f3a-9d21a55133d0',\n",
       " 'https://www.amazon.in/ARCADIO-AR-PZ5001C1BK-GYP-PERKINS-Rectangle-Sunglass/dp/B0B5RZNHH2/ref=sxin_19_slsr_d_i_fsnewarrivals_fa_5_B0B5RZNHH2?content-id=amzn1.sym.05a90910-16ac-4598-ad8e-89a2664fb954%3Aamzn1.sym.05a90910-16ac-4598-ad8e-89a2664fb954&crid=3DUBYJC4U85AR&cv_ct_cx=sunglasses&keywords=sunglasses&pd_rd_i=B0B5RZNHH2&pd_rd_r=7cd50092-8149-4395-9ba4-4efd478ebd41&pd_rd_w=EvKLW&pd_rd_wg=314Am&pf_rd_p=05a90910-16ac-4598-ad8e-89a2664fb954&pf_rd_r=JRXQP82ANE8FNHPZVKV5&psc=1&qid=1659208031&sprefix=sunglasses%2Caps%2C624&sr=1-5-5b2ee5ec-0735-4782-9f3a-9d21a55133d0',\n",
       " 'https://www.amazon.in/ARCADIO-AR-TR138C4GY-BLp-PERKINS-Rectangle-Sunglass/dp/B0B5RY8J44/ref=sxin_19_slsr_d_i_fsnewarrivals_fa_7_B0B5RY8J44?content-id=amzn1.sym.05a90910-16ac-4598-ad8e-89a2664fb954%3Aamzn1.sym.05a90910-16ac-4598-ad8e-89a2664fb954&crid=3DUBYJC4U85AR&cv_ct_cx=sunglasses&keywords=sunglasses&pd_rd_i=B0B5RY8J44&pd_rd_r=7cd50092-8149-4395-9ba4-4efd478ebd41&pd_rd_w=EvKLW&pd_rd_wg=314Am&pf_rd_p=05a90910-16ac-4598-ad8e-89a2664fb954&pf_rd_r=JRXQP82ANE8FNHPZVKV5&psc=1&qid=1659208031&sprefix=sunglasses%2Caps%2C624&sr=1-6-5b2ee5ec-0735-4782-9f3a-9d21a55133d0',\n",
       " 'https://www.amazon.in/Generic-78555552-Round-Sunglasses/dp/B0B4V66FG2/ref=sxin_19_slsr_d_i_fsnewarrivals_fa_8_B0B4V66FG2?content-id=amzn1.sym.05a90910-16ac-4598-ad8e-89a2664fb954%3Aamzn1.sym.05a90910-16ac-4598-ad8e-89a2664fb954&crid=3DUBYJC4U85AR&cv_ct_cx=sunglasses&keywords=sunglasses&pd_rd_i=B0B4V66FG2&pd_rd_r=7cd50092-8149-4395-9ba4-4efd478ebd41&pd_rd_w=EvKLW&pd_rd_wg=314Am&pf_rd_p=05a90910-16ac-4598-ad8e-89a2664fb954&pf_rd_r=JRXQP82ANE8FNHPZVKV5&psc=1&qid=1659208031&sprefix=sunglasses%2Caps%2C624&sr=1-7-5b2ee5ec-0735-4782-9f3a-9d21a55133d0',\n",
       " 'https://www.amazon.in/ARCADIO-AR192DM-BRP-PERKINS-Rectangle-Sunglass/dp/B0B5LLN2WR/ref=sxin_19_slsr_d_i_fsnewarrivals_fa_9_B0B5LLN2WR?content-id=amzn1.sym.05a90910-16ac-4598-ad8e-89a2664fb954%3Aamzn1.sym.05a90910-16ac-4598-ad8e-89a2664fb954&crid=3DUBYJC4U85AR&cv_ct_cx=sunglasses&keywords=sunglasses&pd_rd_i=B0B5LLN2WR&pd_rd_r=7cd50092-8149-4395-9ba4-4efd478ebd41&pd_rd_w=EvKLW&pd_rd_wg=314Am&pf_rd_p=05a90910-16ac-4598-ad8e-89a2664fb954&pf_rd_r=JRXQP82ANE8FNHPZVKV5&psc=1&qid=1659208031&sprefix=sunglasses%2Caps%2C624&sr=1-8-5b2ee5ec-0735-4782-9f3a-9d21a55133d0',\n",
       " 'https://www.amazon.in/Royal-Square-Unisex-Sunglasses-Goggles/dp/B07S1VLFP4/ref=sr_1_9?crid=3DUBYJC4U85AR&keywords=sunglasses&qid=1659208031&sprefix=sunglasses%2Caps%2C624&sr=8-9',\n",
       " 'https://www.amazon.in/IFLASH-Rectangle-Sunglasses-Driving-Protection/dp/B09H5XMWNZ/ref=sr_1_10?crid=3DUBYJC4U85AR&keywords=sunglasses&qid=1659208031&sprefix=sunglasses%2Caps%2C624&sr=8-10',\n",
       " 'https://www.amazon.in/NuVew-Protected-Sunglasses-Women-Stylish/dp/B07XG77BS7/ref=sr_1_11?crid=3DUBYJC4U85AR&keywords=sunglasses&qid=1659208031&sprefix=sunglasses%2Caps%2C624&sr=8-11',\n",
       " 'https://www.amazon.in/elegante-Protected-Driving-Gradient-Sunglasses/dp/B09NML9N9H/ref=sr_1_12?crid=3DUBYJC4U85AR&keywords=sunglasses&qid=1659208031&sprefix=sunglasses%2Caps%2C624&sr=8-12',\n",
       " 'https://www.amazon.in/U-S-sunglasses-Protected-stylish-gradient/dp/B09XYSZNVH/ref=sr_1_13?crid=3DUBYJC4U85AR&keywords=sunglasses&qid=1659208031&sprefix=sunglasses%2Caps%2C624&sr=8-13',\n",
       " 'https://www.amazon.in/Fastrack-Protected-Wayfarer-Mens-Sunglasses/dp/B07FM7TPPY/ref=sr_1_14?crid=3DUBYJC4U85AR&keywords=sunglasses&qid=1659208031&sprefix=sunglasses%2Caps%2C624&sr=8-14',\n",
       " 'https://www.amazon.in/Unisex-Polarized-Wayfarer-Sunglasses-Testing/dp/B09QLKN355/ref=sr_1_15?crid=3DUBYJC4U85AR&keywords=sunglasses&qid=1659208031&sprefix=sunglasses%2Caps%2C624&sr=8-15',\n",
       " 'https://www.amazon.in/Polarized-Protected-Sunglasses-VC-S13973/dp/B0999SJPWC/ref=sr_1_16?crid=3DUBYJC4U85AR&keywords=sunglasses&qid=1659208031&sprefix=sunglasses%2Caps%2C624&sr=8-16',\n",
       " 'https://www.amazon.in/CREATURE-Wayfarer-Protected-Sunglasses-Frame-Black/dp/B078RN2FG2/ref=sr_1_17?crid=3DUBYJC4U85AR&keywords=sunglasses&qid=1659208031&sprefix=sunglasses%2Caps%2C624&sr=8-17',\n",
       " 'https://www.amazon.in/Fastrack-Protected-Aviator-Mens-Sunglasses/dp/B08BH95XFB/ref=sr_1_18?crid=3DUBYJC4U85AR&keywords=sunglasses&qid=1659208031&sprefix=sunglasses%2Caps%2C624&sr=8-18',\n",
       " 'https://www.amazon.in/Polarized-Protected-Sunglasses-VC-S13972/dp/B0999QKNS5/ref=sr_1_19?crid=3DUBYJC4U85AR&keywords=sunglasses&qid=1659208031&sprefix=sunglasses%2Caps%2C624&sr=8-19',\n",
       " 'https://www.amazon.in/elegante-Branded-Steampunk-Sunglass-Gold-Black/dp/B08411V1WD/ref=sr_1_20?crid=3DUBYJC4U85AR&keywords=sunglasses&qid=1659208031&sprefix=sunglasses%2Caps%2C624&sr=8-20',\n",
       " 'https://www.amazon.in/gp/slredirect/picassoRedirect.html/ref=pa_sp_mtf_aps_sr_pg1_1?ie=UTF8&adId=A10010712PWKNIL1DFXVK&url=%2FUnisex-Rectanglular-Sunglasses-Women-BT9_Black%2Fdp%2FB0B4K9JYQC%2Fref%3Dsr_1_21_sspa%3Fcrid%3D3DUBYJC4U85AR%26keywords%3Dsunglasses%26qid%3D1659208031%26sprefix%3Dsunglasses%252Caps%252C624%26sr%3D8-21-spons%26psc%3D1&qualifier=1659208031&id=5796721492496273&widgetName=sp_mtf',\n",
       " 'https://www.amazon.in/gp/slredirect/picassoRedirect.html/ref=pa_sp_mtf_aps_sr_pg1_1?ie=UTF8&adId=A10013712CHPTJJPBSB2U&url=%2FUnisex-Rectanglular-Sunglasses-Women-BT1_Black%2Fdp%2FB0B4K8W8W7%2Fref%3Dsr_1_22_sspa%3Fcrid%3D3DUBYJC4U85AR%26keywords%3Dsunglasses%26qid%3D1659208031%26sprefix%3Dsunglasses%252Caps%252C624%26sr%3D8-22-spons%26psc%3D1&qualifier=1659208031&id=5796721492496273&widgetName=sp_mtf',\n",
       " 'https://www.amazon.in/gp/slredirect/picassoRedirect.html/ref=pa_sp_mtf_aps_sr_pg1_1?ie=UTF8&adId=A10016832MSOPJLBCPVQE&url=%2FUnisex-Rectanglular-Sunglasses-Women-BT11_Blue%2Fdp%2FB0B4K9T99J%2Fref%3Dsr_1_23_sspa%3Fcrid%3D3DUBYJC4U85AR%26keywords%3Dsunglasses%26qid%3D1659208031%26sprefix%3Dsunglasses%252Caps%252C624%26sr%3D8-23-spons%26psc%3D1&qualifier=1659208031&id=5796721492496273&widgetName=sp_mtf',\n",
       " 'https://www.amazon.in/gp/slredirect/picassoRedirect.html/ref=pa_sp_mtf_aps_sr_pg1_1?ie=UTF8&adId=A10012831MCYPHNNZB5OL&url=%2FUnisex-Rectanglular-Sunglasses-Women-BT3_Black%2Fdp%2FB0B4KBPPYW%2Fref%3Dsr_1_24_sspa%3Fcrid%3D3DUBYJC4U85AR%26keywords%3Dsunglasses%26qid%3D1659208031%26sprefix%3Dsunglasses%252Caps%252C624%26sr%3D8-24-spons%26psc%3D1&qualifier=1659208031&id=5796721492496273&widgetName=sp_mtf',\n",
       " 'https://www.amazon.in/elegante-Unisex-Inspired-Sunglass-Gold-Dark/dp/B08CSXTKTV/ref=sr_1_25?crid=3DUBYJC4U85AR&keywords=sunglasses&qid=1659208031&sprefix=sunglasses%2Caps%2C624&sr=8-25',\n",
       " 'https://www.amazon.in/elegante-Protected-Polarized-Sunglasses-Cricket/dp/B09MPQGXNR/ref=sr_1_26?crid=3DUBYJC4U85AR&keywords=sunglasses&qid=1659208031&sprefix=sunglasses%2Caps%2C624&sr=8-26',\n",
       " 'https://www.amazon.in/Original-Polarized-Sunglasses-polycarbonate-Protection/dp/B09R27BTL9/ref=sr_1_27?crid=3DUBYJC4U85AR&keywords=sunglasses&qid=1659208031&sprefix=sunglasses%2Caps%2C624&sr=8-27',\n",
       " 'https://www.amazon.in/Sunglasses-Retro-Shades-Polarized-Women/dp/B09SYXCJP4/ref=sr_1_28?crid=3DUBYJC4U85AR&keywords=sunglasses&qid=1659208031&sprefix=sunglasses%2Caps%2C624&sr=8-28',\n",
       " 'https://www.amazon.in/U-S-wayfarer-sunglasses-polarized-protected/dp/B09SFBRZYZ/ref=sr_1_29?crid=3DUBYJC4U85AR&keywords=sunglasses&qid=1659208031&sprefix=sunglasses%2Caps%2C624&sr=8-29',\n",
       " 'https://www.amazon.in/Lorenz-Analogue-Wayfarer-Sunglasses-CM-103SN/dp/B07BZ1DMFY/ref=sr_1_30?crid=3DUBYJC4U85AR&keywords=sunglasses&qid=1659208031&sprefix=sunglasses%2Caps%2C624&sr=8-30',\n",
       " 'https://www.amazon.in/Sunglasses-Polarized-Protected-VC-5158/dp/B08VGMBLQW/ref=sr_1_31?crid=3DUBYJC4U85AR&keywords=sunglasses&qid=1659208031&sprefix=sunglasses%2Caps%2C624&sr=8-31',\n",
       " 'https://www.amazon.in/U-S-Stylish-Protected-Gradient-Sunglasses/dp/B09WG18TP1/ref=sr_1_32?crid=3DUBYJC4U85AR&keywords=sunglasses&qid=1659208031&sprefix=sunglasses%2Caps%2C624&sr=8-32',\n",
       " 'https://www.amazon.in/elegante-Branded-Lightweight-Sunglasses-Full-Black/dp/B089FQBB7L/ref=sr_1_33?crid=3DUBYJC4U85AR&keywords=sunglasses&qid=1659208031&sprefix=sunglasses%2Caps%2C624&sr=8-33',\n",
       " 'https://www.amazon.in/Sunglasses-Polarized-Protected-VC-S12643/dp/B099BG54M5/ref=sr_1_34?crid=3DUBYJC4U85AR&keywords=sunglasses&qid=1659208031&sprefix=sunglasses%2Caps%2C624&sr=8-34',\n",
       " 'https://www.amazon.in/ARICKS%C2%AE-Rectangle-Sunglasses-Vintage-Protection/dp/B09HC28QXK/ref=sr_1_35?crid=3DUBYJC4U85AR&keywords=sunglasses&qid=1659208031&sprefix=sunglasses%2Caps%2C624&sr=8-35',\n",
       " 'https://www.amazon.in/SELLORIA-Combo-Black-Sunglass-Baseball/dp/B09BL13M7J/ref=sr_1_36?crid=3DUBYJC4U85AR&keywords=sunglasses&qid=1659208031&sprefix=sunglasses%2Caps%2C624&sr=8-36',\n",
       " 'https://www.amazon.in/Lenskart-Sunglasses-Polarized-Protected-S13159/dp/B0999RCWB4/ref=sr_1_37?crid=3DUBYJC4U85AR&keywords=sunglasses&qid=1659208031&sprefix=sunglasses%2Caps%2C624&sr=8-37',\n",
       " 'https://www.amazon.in/UVJ-Wayfarer-Sunglasses-Branded-Stylish/dp/B09TRSR4F7/ref=sr_1_38?crid=3DUBYJC4U85AR&keywords=sunglasses&qid=1659208031&sprefix=sunglasses%2Caps%2C624&sr=8-38',\n",
       " 'https://www.amazon.in/CREEK%C2%AE-Round-Fashion-Sunglasses-Frame/dp/B08CD1K3BT/ref=sr_1_39?crid=3DUBYJC4U85AR&keywords=sunglasses&qid=1659208031&sprefix=sunglasses%2Caps%2C624&sr=8-39',\n",
       " 'https://www.amazon.in/GAINX-Rectangular-Aviator-Sunglasses-Premium/dp/B091HV142Z/ref=sr_1_40?crid=3DUBYJC4U85AR&keywords=sunglasses&qid=1659208031&sprefix=sunglasses%2Caps%2C624&sr=8-40',\n",
       " 'https://www.amazon.in/EFERMONE%C2%AE-Polarized-Sunglasses-Travelling-protection/dp/B0B3492SRR/ref=sr_1_41?crid=3DUBYJC4U85AR&keywords=sunglasses&qid=1659208031&sprefix=sunglasses%2Caps%2C624&sr=8-41',\n",
       " 'https://www.amazon.in/ARICKS-Classic-Vintage-Rectangular-Sunglasses/dp/B09YYQLVZH/ref=sr_1_42?crid=3DUBYJC4U85AR&keywords=sunglasses&qid=1659208031&sprefix=sunglasses%2Caps%2C624&sr=8-42',\n",
       " 'https://www.amazon.in/ELEGANTE-Rectangular-Sunglasses-Silver-Medium/dp/B08KS6DLJW/ref=sr_1_43?crid=3DUBYJC4U85AR&keywords=sunglasses&qid=1659208031&sprefix=sunglasses%2Caps%2C624&sr=8-43',\n",
       " 'https://www.amazon.in/Sunglasses-Polarized-Protected-VC-S12593/dp/B08VGLFGQ6/ref=sr_1_44?crid=3DUBYJC4U85AR&keywords=sunglasses&qid=1659208031&sprefix=sunglasses%2Caps%2C624&sr=8-44',\n",
       " 'https://www.amazon.in/CREATURE-Uv-Protected-Sunglasses-Lens-Jet-Black-Frame-Black/dp/B0752VR169/ref=sr_1_45?crid=3DUBYJC4U85AR&keywords=sunglasses&qid=1659208031&sprefix=sunglasses%2Caps%2C624&sr=8-45',\n",
       " 'https://www.amazon.in/CREEK-Unisex-Square-Sunglasses-Medium/dp/B08SJ2M6L1/ref=sr_1_46?crid=3DUBYJC4U85AR&keywords=sunglasses&qid=1659208031&sprefix=sunglasses%2Caps%2C624&sr=8-46',\n",
       " 'https://www.amazon.in/USARMANI%C2%AE-Rimless-Transparent-protection-Sunglasses/dp/B08W3MLSVR/ref=sr_1_47?crid=3DUBYJC4U85AR&keywords=sunglasses&qid=1659208031&sprefix=sunglasses%2Caps%2C624&sr=8-47',\n",
       " 'https://www.amazon.in/Avengers-Infinity-Endgame-Unisex-Sunglasses/dp/B08346QYJM/ref=sr_1_48?crid=3DUBYJC4U85AR&keywords=sunglasses&qid=1659208031&sprefix=sunglasses%2Caps%2C624&sr=8-48',\n",
       " 'https://www.amazon.in/Fastrack-protected-Sunglasses-P358BK2-millimeters/dp/B071CY7ZGM/ref=sr_1_49?crid=3DUBYJC4U85AR&keywords=sunglasses&qid=1659208031&sprefix=sunglasses%2Caps%2C624&sr=8-49',\n",
       " 'https://www.amazon.in/elegante-Branded-Inspired-Sunglass-Silver-Black/dp/B07Y8S46XB/ref=sr_1_50?crid=3DUBYJC4U85AR&keywords=sunglasses&qid=1659208031&sprefix=sunglasses%2Caps%2C624&sr=8-50',\n",
       " 'https://www.amazon.in/Dervin-Aviator-Rectangular-Womens-Sunglasses/dp/B07PQ4HFH8/ref=sr_1_51?crid=3DUBYJC4U85AR&keywords=sunglasses&qid=1659208031&sprefix=sunglasses%2Caps%2C624&sr=8-51',\n",
       " 'https://www.amazon.in/Dervin-Design-Rectangular-Sunglasses-Women/dp/B07WQQYFGZ/ref=sr_1_52?crid=3DUBYJC4U85AR&keywords=sunglasses&qid=1659208031&sprefix=sunglasses%2Caps%2C624&sr=8-52',\n",
       " 'https://www.amazon.in/JIM-HALO-Protection-Sunglasses-Polarized/dp/B07FM655ML/ref=sr_1_53?crid=3DUBYJC4U85AR&keywords=sunglasses&qid=1659208031&sprefix=sunglasses%2Caps%2C624&sr=8-53',\n",
       " 'https://www.amazon.in/Sunglasses-Protection-Lens-Purple-Frame-Black-Doit-001-002/dp/B079YLHJK8/ref=sr_1_54?crid=3DUBYJC4U85AR&keywords=sunglasses&qid=1659208031&sprefix=sunglasses%2Caps%2C624&sr=8-54',\n",
       " 'https://www.amazon.in/Protected-Aviator-Unisex-Sunglasses-Rs0014Av/dp/B01CZTXKQE/ref=sr_1_55?crid=3DUBYJC4U85AR&keywords=sunglasses&qid=1659208031&sprefix=sunglasses%2Caps%2C624&sr=8-55',\n",
       " 'https://www.amazon.in/Xforia-Mercury-Square-Wayfarer-Sunglasses/dp/B07BJ5F3LM/ref=sr_1_56?crid=3DUBYJC4U85AR&keywords=sunglasses&qid=1659208031&sprefix=sunglasses%2Caps%2C624&sr=8-56',\n",
       " 'https://www.amazon.in/gp/slredirect/picassoRedirect.html/ref=pa_sp_btf_aps_sr_pg1_1?ie=UTF8&adId=A10009711V8AQUS45GDJZ&url=%2FUnisex-Rectanglular-Sunglasses-Women-BT13_Black%2Fdp%2FB0B4K7VYFQ%2Fref%3Dsr_1_57_sspa%3Fcrid%3D3DUBYJC4U85AR%26keywords%3Dsunglasses%26qid%3D1659208031%26sprefix%3Dsunglasses%252Caps%252C624%26sr%3D8-57-spons%26psc%3D1&qualifier=1659208031&id=5796721492496273&widgetName=sp_btf',\n",
       " 'https://www.amazon.in/gp/slredirect/picassoRedirect.html/ref=pa_sp_btf_aps_sr_pg1_1?ie=UTF8&adId=A1001527ET6M67KAE0DI&url=%2FUnisex-Rectanglular-Sunglasses-Women-BT7_Black%2Fdp%2FB0B4K97M3J%2Fref%3Dsr_1_58_sspa%3Fcrid%3D3DUBYJC4U85AR%26keywords%3Dsunglasses%26qid%3D1659208031%26sprefix%3Dsunglasses%252Caps%252C624%26sr%3D8-58-spons%26psc%3D1&qualifier=1659208031&id=5796721492496273&widgetName=sp_btf',\n",
       " 'https://www.amazon.in/gp/slredirect/picassoRedirect.html/ref=pa_sp_btf_aps_sr_pg1_1?ie=UTF8&adId=A01297001NUFF0VNJR2DG&url=%2FGLINDAR-Vintage-Rectangular-Sunglasses-Slender%2Fdp%2FB081ZRHHNS%2Fref%3Dsr_1_59_sspa%3Fcrid%3D3DUBYJC4U85AR%26keywords%3Dsunglasses%26qid%3D1659208031%26sprefix%3Dsunglasses%252Caps%252C624%26sr%3D8-59-spons%26psc%3D1&qualifier=1659208031&id=5796721492496273&widgetName=sp_btf',\n",
       " 'https://www.amazon.in/gp/slredirect/picassoRedirect.html/ref=pa_sp_btf_aps_sr_pg1_1?ie=UTF8&adId=A09574952F1RL4J2D9GPY&url=%2FCIJOKA-sunglasses-Lightweight-Sunglasses-Protection%2Fdp%2FB0B2F9XJQ9%2Fref%3Dsr_1_60_sspa%3Fcrid%3D3DUBYJC4U85AR%26keywords%3Dsunglasses%26qid%3D1659208031%26sprefix%3Dsunglasses%252Caps%252C624%26sr%3D8-60-spons%26psc%3D1%26smid%3DA33TQMP56XS9KI&qualifier=1659208031&id=5796721492496273&widgetName=sp_btf']"
      ]
     },
     "execution_count": 281,
     "metadata": {},
     "output_type": "execute_result"
    }
   ],
   "source": [
    "Product_url"
   ]
  },
  {
   "cell_type": "code",
   "execution_count": 282,
   "id": "db62dbd1",
   "metadata": {},
   "outputs": [],
   "source": [
    "SD=[]\n",
    "\n",
    "for i in Product_url[0:30]:\n",
    "    driver.get(i)\n",
    "    time.sleep(5)\n",
    "    try:\n",
    "        ProductDescription = driver.find_element(By.XPATH,'/html/body/div[2]/div[2]/div[5]/div[1]/div[1]/div[2]/div[2]/div/div/div[1]/div[1]/div[2]/div[1]/div/h1/span')\n",
    "        SD.append(ProductDescription.text)\n",
    "    except NoSuchElementException :\n",
    "            SD.append('Not present')"
   ]
  },
  {
   "cell_type": "code",
   "execution_count": 283,
   "id": "baf3b9a6",
   "metadata": {},
   "outputs": [
    {
     "data": {
      "text/plain": [
       "['JIM HALO Polarized Sports Sunglasses Mirror Wrap Around Driving Fishing Men Women',\n",
       " 'Unisex Rectanglular Sunglasses for Men & Women (BT4_Black)',\n",
       " 'Visions India Unisex Adult Round Sunglasses',\n",
       " 'Unisex Rectanglular Sunglasses for Men & Women (BT6_Black)',\n",
       " 'elegante Rectanglular Sunglasses for Women Retro Driving Sunlgasses Vintage Fashion Narrow Square Frame UV400 Protection',\n",
       " 'Agrawal Eterprises retro rectangular sunglasses stylish Square UV Protected driving Vintage pilot gradient metal body perfect choice for men and women',\n",
       " 'Fastrack Men Square Sunglasses , Black',\n",
       " 'CREEK Unisex Octagonal Sunglasses/Frame for Men & Women - Black/Pink/Yellow/Blue Combo, Pack of 4, Free Size',\n",
       " 'Vincent Chase By Lenskart | Full Rim Round Branded Latest and Stylish Sunglasses | Polarized and 100% UV Protected | Men & Women | Medium | VC S13112',\n",
       " 'SKADINO Wood Sunglasses With Polarized Lens Handmade Bamboo Sunglasses For Men&Women',\n",
       " 'Sunglass UV 400 protected',\n",
       " 'RACOS GRAD-PURPLE SUNGLASSES UV400-RR0006',\n",
       " \"Men's and Women's Elegante Hexagone Sunglasses for Women Driving, Fashion Sunglasses\",\n",
       " 'PERKINS Rectangle Sunglass',\n",
       " 'PERKINS Rectangle Sunglass',\n",
       " 'Round Sunglasses',\n",
       " 'PERKINS Metal Rectangle Sunglass',\n",
       " 'Royal Son Retro Square Sunglasses For Men',\n",
       " 'IFLASH Rectangle Sunglasses for Women Retro Driving Glasses 90’s Vintage Fashion Narrow Square Frame UV400 Protection',\n",
       " 'NuVew UV Protected Cat eye Sunglasses For Women - (Color Variants Available | Medium)',\n",
       " 'elegante UV Protected Driving Vintage Pilot Gradient Metal Body Square Sunglasses for Men and Women',\n",
       " 'U.S DESIRE retro round metal sunglasses Square 100% UV Protected stylish round Metal UV Protected driving Vintage pilot gradient metal body perfect choice for men and women',\n",
       " 'Fastrack Men Square Sunglasses , Green',\n",
       " 'Creek Unisex Polarized Wayfarer Sunglasses for Men & Women with Polarized Testing Card',\n",
       " 'Vincent Chase By Lenskart | Full Rim Wayfarer Branded Latest and Stylish Sunglasses | Polarized and 100% UV Protected | Men & Women | Large | VC S13973',\n",
       " 'Creature Matt Finish Club master Uv Protected Sunglasses(Doit-006| Frame-Black)',\n",
       " 'Fastrack Men Aviator Sunglasses, Green',\n",
       " 'Vincent Chase By Lenskart | Full Rim Round Branded Latest and Stylish Sunglasses | Polarized and 100% UV Protected | Men & Women | Large | VC S13972',\n",
       " \"ELEGANTE Men's Round Sunglasses\",\n",
       " 'Unisex Rectanglular Sunglasses for Men & Women (BT9_Black)']"
      ]
     },
     "execution_count": 283,
     "metadata": {},
     "output_type": "execute_result"
    }
   ],
   "source": [
    "SD"
   ]
  },
  {
   "cell_type": "code",
   "execution_count": 284,
   "id": "58ba66c2",
   "metadata": {},
   "outputs": [],
   "source": [
    "PP=[]\n",
    "\n",
    "for i in Product_url[0:30]:\n",
    "    driver.get(i)\n",
    "    time.sleep(5)\n",
    "    try:\n",
    "        ProductPrice = driver.find_element(By.XPATH,'/html/body/div[2]/div[2]/div[5]/div[1]/div[1]/div[2]/div[2]/div/div/div[2]/div[3]/div/div/div/div/form/div/div/div/div/div[2]/div[1]')\n",
    "        PP.append(ProductPrice.text)\n",
    "    except NoSuchElementException :\n",
    "            PP.append('Not present')"
   ]
  },
  {
   "cell_type": "code",
   "execution_count": 285,
   "id": "2f9dc6ee",
   "metadata": {},
   "outputs": [
    {
     "data": {
      "text/plain": [
       "['₹1,098\\n00',\n",
       " '₹999\\n00',\n",
       " '₹319.00',\n",
       " '₹999\\n00',\n",
       " '₹399.00',\n",
       " '₹389\\n00',\n",
       " '₹607\\n00',\n",
       " '₹449.00',\n",
       " '₹899.00',\n",
       " '₹5,002\\n00',\n",
       " '₹480\\n00',\n",
       " '₹799\\n00',\n",
       " '₹299\\n00',\n",
       " '₹2,950\\n00',\n",
       " '₹3,200\\n00',\n",
       " '₹299\\n99',\n",
       " '₹3,000\\n00',\n",
       " '₹424.00',\n",
       " '₹499\\n00',\n",
       " '₹398.00',\n",
       " 'Not present',\n",
       " '₹499\\n00',\n",
       " '₹719\\n00',\n",
       " '₹399\\n00',\n",
       " '₹749.00',\n",
       " '₹289.00',\n",
       " '₹1,039\\n00',\n",
       " '₹749.00',\n",
       " '₹399.00',\n",
       " '₹999\\n00']"
      ]
     },
     "execution_count": 285,
     "metadata": {},
     "output_type": "execute_result"
    }
   ],
   "source": [
    "PP"
   ]
  },
  {
   "cell_type": "code",
   "execution_count": 289,
   "id": "06336f95",
   "metadata": {},
   "outputs": [],
   "source": [
    "RE=[]\n",
    "\n",
    "for i in Product_url[0:30]:\n",
    "    driver.get(i)\n",
    "    time.sleep(5)\n",
    "    try:\n",
    "        ReturnExchange = driver.find_element(By.XPATH,'/html/body/div[2]/div[2]/div[5]/div[1]/div[1]/div[2]/div[2]/div/div/div[1]/div[17]/div[2]/div/div/div/div[1]/span/div[2]/a')\n",
    "        RE.append(ReturnExchange.text)\n",
    "    except NoSuchElementException :\n",
    "            RE.append('Not present')"
   ]
  },
  {
   "cell_type": "code",
   "execution_count": 290,
   "id": "a1f021d1",
   "metadata": {},
   "outputs": [
    {
     "data": {
      "text/plain": [
       "['Not present',\n",
       " '30 Days Returns & Exchange',\n",
       " 'Not present',\n",
       " '30 Days Returns & Exchange',\n",
       " 'Not present',\n",
       " '30 Days Returns & Exchange',\n",
       " 'Not present',\n",
       " 'Not present',\n",
       " 'Not present',\n",
       " '30 Days Returns',\n",
       " '30 Days Returns & Exchange',\n",
       " '30 Days Returns & Exchange',\n",
       " '30 Days Returns & Exchange',\n",
       " '30 Days Returns & Exchange',\n",
       " '30 Days Returns & Exchange',\n",
       " '30 Days Returns & Exchange',\n",
       " '30 Days Returns & Exchange',\n",
       " 'Not present',\n",
       " '30 Days Returns & Exchange',\n",
       " 'Not present',\n",
       " 'Not present',\n",
       " '30 Days Returns & Exchange',\n",
       " 'Not present',\n",
       " 'Not present',\n",
       " 'Not present',\n",
       " 'Not present',\n",
       " 'Not present',\n",
       " 'Not present',\n",
       " 'Not present',\n",
       " '30 Days Returns & Exchange']"
      ]
     },
     "execution_count": 290,
     "metadata": {},
     "output_type": "execute_result"
    }
   ],
   "source": [
    "RE"
   ]
  },
  {
   "cell_type": "code",
   "execution_count": 291,
   "id": "5806dd59",
   "metadata": {},
   "outputs": [],
   "source": [
    "ED=[]\n",
    "\n",
    "for i in Product_url[0:30]:\n",
    "    driver.get(i)\n",
    "    time.sleep(5)\n",
    "    try:\n",
    "        ExpectedDelivery = driver.find_element(By.XPATH,'/html/body/div[2]/div[2]/div[5]/div[1]/div[1]/div[2]/div[2]/div/div/div[2]/div[3]/div/div/div/div/form/div/div/div/div/div[3]/div/div[2]/div[8]/div[1]/div/div/div[2]/span/span')\n",
    "        ED.append(ExpectedDelivery.text)\n",
    "    except NoSuchElementException :\n",
    "            ED.append('Not present')"
   ]
  },
  {
   "cell_type": "code",
   "execution_count": 292,
   "id": "3a080014",
   "metadata": {},
   "outputs": [
    {
     "data": {
      "text/plain": [
       "['Tuesday, 2 August',\n",
       " 'Saturday, 6 August',\n",
       " 'Tuesday, 2 August',\n",
       " 'Saturday, 6 August',\n",
       " 'Tuesday, 2 August',\n",
       " 'Wednesday, 10 August',\n",
       " 'Tuesday, 2 August',\n",
       " 'Tuesday, 2 August',\n",
       " 'Tuesday, 2 August',\n",
       " 'August 8 - 16',\n",
       " 'Saturday, 6 August',\n",
       " 'Monday, 8 August',\n",
       " 'Friday, 5 August',\n",
       " 'Friday, 5 August',\n",
       " 'Friday, 5 August',\n",
       " 'Friday, 5 August',\n",
       " 'Friday, 5 August',\n",
       " 'Tuesday, 2 August',\n",
       " 'Thursday, 4 August',\n",
       " 'Tuesday, 2 August',\n",
       " 'Not present',\n",
       " 'Friday, 5 August',\n",
       " 'Tuesday, 2 August',\n",
       " 'Tuesday, 2 August',\n",
       " 'Tuesday, 2 August',\n",
       " 'Tuesday, 2 August',\n",
       " 'Tuesday, 2 August',\n",
       " 'Tuesday, 2 August',\n",
       " 'Tuesday, 2 August',\n",
       " 'Saturday, 6 August']"
      ]
     },
     "execution_count": 292,
     "metadata": {},
     "output_type": "execute_result"
    }
   ],
   "source": [
    "ED"
   ]
  },
  {
   "cell_type": "code",
   "execution_count": 293,
   "id": "b0da2cd0",
   "metadata": {},
   "outputs": [],
   "source": [
    "AV=[]\n",
    "\n",
    "for i in Product_url[0:30]:\n",
    "    driver.get(i)\n",
    "    time.sleep(5)\n",
    "    try:\n",
    "        Available = driver.find_element(By.XPATH,'/html/body/div[2]/div[2]/div[5]/div[1]/div[1]/div[2]/div[2]/div/div/div[2]/div[3]/div/div/div/div/form/div/div/div/div/div[3]/div/div[4]/div/div[1]/span')\n",
    "        AV.append(Available.text)\n",
    "    except NoSuchElementException :\n",
    "            AV.append('Not present')"
   ]
  },
  {
   "cell_type": "code",
   "execution_count": 294,
   "id": "e91bdafa",
   "metadata": {},
   "outputs": [
    {
     "data": {
      "text/plain": [
       "['In stock.',\n",
       " 'Only 2 left in stock.',\n",
       " 'In stock.',\n",
       " 'Only 2 left in stock.',\n",
       " 'In stock.',\n",
       " 'Only 4 left in stock.',\n",
       " 'In stock.',\n",
       " 'In stock.',\n",
       " 'In stock.',\n",
       " 'Usually dispatched in 6 to 10 days.',\n",
       " 'Only 1 left in stock.',\n",
       " 'Only 1 left in stock.',\n",
       " 'Only 2 left in stock.',\n",
       " 'In stock.',\n",
       " 'In stock.',\n",
       " 'Only 1 left in stock.',\n",
       " 'In stock.',\n",
       " 'In stock.',\n",
       " 'In stock.',\n",
       " 'In stock.',\n",
       " 'Not present',\n",
       " 'In stock.',\n",
       " 'In stock.',\n",
       " 'In stock.',\n",
       " 'In stock.',\n",
       " 'In stock.',\n",
       " 'In stock.',\n",
       " 'In stock.',\n",
       " 'In stock.',\n",
       " 'Only 2 left in stock.']"
      ]
     },
     "execution_count": 294,
     "metadata": {},
     "output_type": "execute_result"
    }
   ],
   "source": [
    "AV"
   ]
  },
  {
   "cell_type": "code",
   "execution_count": 295,
   "id": "b4be608a",
   "metadata": {},
   "outputs": [
    {
     "data": {
      "text/plain": [
       "(30, 30, 30, 30, 30, 207)"
      ]
     },
     "execution_count": 295,
     "metadata": {},
     "output_type": "execute_result"
    }
   ],
   "source": [
    "len(SD),len(PP),len(RE),len(ED),len(AV),len(Product_url)"
   ]
  },
  {
   "cell_type": "code",
   "execution_count": null,
   "id": "5d0b5fc1",
   "metadata": {},
   "outputs": [],
   "source": []
  },
  {
   "cell_type": "code",
   "execution_count": 296,
   "id": "4c1a8446",
   "metadata": {},
   "outputs": [],
   "source": [
    "import pandas as pd\n",
    "df=pd.DataFrame()\n",
    "df['ProductDescription'] = SD\n",
    "df['ProductPrice'] = PP\n",
    "df['ReturnExchange'] = RE\n",
    "df['ExpectedDelivery'] = ED\n",
    "df['Available'] = AV\n",
    "df['Product_url'] = Product_url[:30]"
   ]
  },
  {
   "cell_type": "code",
   "execution_count": 297,
   "id": "a518c0e8",
   "metadata": {},
   "outputs": [
    {
     "data": {
      "text/html": [
       "<div>\n",
       "<style scoped>\n",
       "    .dataframe tbody tr th:only-of-type {\n",
       "        vertical-align: middle;\n",
       "    }\n",
       "\n",
       "    .dataframe tbody tr th {\n",
       "        vertical-align: top;\n",
       "    }\n",
       "\n",
       "    .dataframe thead th {\n",
       "        text-align: right;\n",
       "    }\n",
       "</style>\n",
       "<table border=\"1\" class=\"dataframe\">\n",
       "  <thead>\n",
       "    <tr style=\"text-align: right;\">\n",
       "      <th></th>\n",
       "      <th>ProductDescription</th>\n",
       "      <th>ProductPrice</th>\n",
       "      <th>ReturnExchange</th>\n",
       "      <th>ExpectedDelivery</th>\n",
       "      <th>Available</th>\n",
       "      <th>Product_url</th>\n",
       "    </tr>\n",
       "  </thead>\n",
       "  <tbody>\n",
       "    <tr>\n",
       "      <th>0</th>\n",
       "      <td>JIM HALO Polarized Sports Sunglasses Mirror Wr...</td>\n",
       "      <td>₹1,098\\n00</td>\n",
       "      <td>Not present</td>\n",
       "      <td>Tuesday, 2 August</td>\n",
       "      <td>In stock.</td>\n",
       "      <td>https://www.amazon.in/gp/slredirect/picassoRed...</td>\n",
       "    </tr>\n",
       "    <tr>\n",
       "      <th>1</th>\n",
       "      <td>Unisex Rectanglular Sunglasses for Men &amp; Women...</td>\n",
       "      <td>₹999\\n00</td>\n",
       "      <td>30 Days Returns &amp; Exchange</td>\n",
       "      <td>Saturday, 6 August</td>\n",
       "      <td>Only 2 left in stock.</td>\n",
       "      <td>https://www.amazon.in/gp/slredirect/picassoRed...</td>\n",
       "    </tr>\n",
       "    <tr>\n",
       "      <th>2</th>\n",
       "      <td>Visions India Unisex Adult Round Sunglasses</td>\n",
       "      <td>₹319.00</td>\n",
       "      <td>Not present</td>\n",
       "      <td>Tuesday, 2 August</td>\n",
       "      <td>In stock.</td>\n",
       "      <td>https://www.amazon.in/gp/slredirect/picassoRed...</td>\n",
       "    </tr>\n",
       "    <tr>\n",
       "      <th>3</th>\n",
       "      <td>Unisex Rectanglular Sunglasses for Men &amp; Women...</td>\n",
       "      <td>₹999\\n00</td>\n",
       "      <td>30 Days Returns &amp; Exchange</td>\n",
       "      <td>Saturday, 6 August</td>\n",
       "      <td>Only 2 left in stock.</td>\n",
       "      <td>https://www.amazon.in/gp/slredirect/picassoRed...</td>\n",
       "    </tr>\n",
       "    <tr>\n",
       "      <th>4</th>\n",
       "      <td>elegante Rectanglular Sunglasses for Women Ret...</td>\n",
       "      <td>₹399.00</td>\n",
       "      <td>Not present</td>\n",
       "      <td>Tuesday, 2 August</td>\n",
       "      <td>In stock.</td>\n",
       "      <td>https://www.amazon.in/elegante-Rectanglular-Su...</td>\n",
       "    </tr>\n",
       "    <tr>\n",
       "      <th>5</th>\n",
       "      <td>Agrawal Eterprises retro rectangular sunglasse...</td>\n",
       "      <td>₹389\\n00</td>\n",
       "      <td>30 Days Returns &amp; Exchange</td>\n",
       "      <td>Wednesday, 10 August</td>\n",
       "      <td>Only 4 left in stock.</td>\n",
       "      <td>https://www.amazon.in/Agrawal-Eterprises-recta...</td>\n",
       "    </tr>\n",
       "    <tr>\n",
       "      <th>6</th>\n",
       "      <td>Fastrack Men Square Sunglasses , Black</td>\n",
       "      <td>₹607\\n00</td>\n",
       "      <td>Not present</td>\n",
       "      <td>Tuesday, 2 August</td>\n",
       "      <td>In stock.</td>\n",
       "      <td>https://www.amazon.in/Fastrack-protected-Sungl...</td>\n",
       "    </tr>\n",
       "    <tr>\n",
       "      <th>7</th>\n",
       "      <td>CREEK Unisex Octagonal Sunglasses/Frame for Me...</td>\n",
       "      <td>₹449.00</td>\n",
       "      <td>Not present</td>\n",
       "      <td>Tuesday, 2 August</td>\n",
       "      <td>In stock.</td>\n",
       "      <td>https://www.amazon.in/CREEK-Unisex-Octagonal-S...</td>\n",
       "    </tr>\n",
       "    <tr>\n",
       "      <th>8</th>\n",
       "      <td>Vincent Chase By Lenskart | Full Rim Round Bra...</td>\n",
       "      <td>₹899.00</td>\n",
       "      <td>Not present</td>\n",
       "      <td>Tuesday, 2 August</td>\n",
       "      <td>In stock.</td>\n",
       "      <td>https://www.amazon.in/Vincent-Lenskart-Sunglas...</td>\n",
       "    </tr>\n",
       "    <tr>\n",
       "      <th>9</th>\n",
       "      <td>SKADINO Wood Sunglasses With Polarized Lens Ha...</td>\n",
       "      <td>₹5,002\\n00</td>\n",
       "      <td>30 Days Returns</td>\n",
       "      <td>August 8 - 16</td>\n",
       "      <td>Usually dispatched in 6 to 10 days.</td>\n",
       "      <td>https://www.amazon.in/Frameless-Sunglasses-Pol...</td>\n",
       "    </tr>\n",
       "    <tr>\n",
       "      <th>10</th>\n",
       "      <td>Sunglass UV 400 protected</td>\n",
       "      <td>₹480\\n00</td>\n",
       "      <td>30 Days Returns &amp; Exchange</td>\n",
       "      <td>Saturday, 6 August</td>\n",
       "      <td>Only 1 left in stock.</td>\n",
       "      <td>https://www.amazon.in/Generic-cfa00s3-Sunglass...</td>\n",
       "    </tr>\n",
       "    <tr>\n",
       "      <th>11</th>\n",
       "      <td>RACOS GRAD-PURPLE SUNGLASSES UV400-RR0006</td>\n",
       "      <td>₹799\\n00</td>\n",
       "      <td>30 Days Returns &amp; Exchange</td>\n",
       "      <td>Monday, 8 August</td>\n",
       "      <td>Only 1 left in stock.</td>\n",
       "      <td>https://www.amazon.in/Generic-RAC35-GRAD-PURPL...</td>\n",
       "    </tr>\n",
       "    <tr>\n",
       "      <th>12</th>\n",
       "      <td>Men's and Women's Elegante Hexagone Sunglasses...</td>\n",
       "      <td>₹299\\n00</td>\n",
       "      <td>30 Days Returns &amp; Exchange</td>\n",
       "      <td>Friday, 5 August</td>\n",
       "      <td>Only 2 left in stock.</td>\n",
       "      <td>https://www.amazon.in/Elegante-Hexagone-Sungla...</td>\n",
       "    </tr>\n",
       "    <tr>\n",
       "      <th>13</th>\n",
       "      <td>PERKINS Rectangle Sunglass</td>\n",
       "      <td>₹2,950\\n00</td>\n",
       "      <td>30 Days Returns &amp; Exchange</td>\n",
       "      <td>Friday, 5 August</td>\n",
       "      <td>In stock.</td>\n",
       "      <td>https://www.amazon.in/ARCADIO-AR-PZ5001C1BK-GY...</td>\n",
       "    </tr>\n",
       "    <tr>\n",
       "      <th>14</th>\n",
       "      <td>PERKINS Rectangle Sunglass</td>\n",
       "      <td>₹3,200\\n00</td>\n",
       "      <td>30 Days Returns &amp; Exchange</td>\n",
       "      <td>Friday, 5 August</td>\n",
       "      <td>In stock.</td>\n",
       "      <td>https://www.amazon.in/ARCADIO-AR-TR138C4GY-BLp...</td>\n",
       "    </tr>\n",
       "    <tr>\n",
       "      <th>15</th>\n",
       "      <td>Round Sunglasses</td>\n",
       "      <td>₹299\\n99</td>\n",
       "      <td>30 Days Returns &amp; Exchange</td>\n",
       "      <td>Friday, 5 August</td>\n",
       "      <td>Only 1 left in stock.</td>\n",
       "      <td>https://www.amazon.in/Generic-78555552-Round-S...</td>\n",
       "    </tr>\n",
       "    <tr>\n",
       "      <th>16</th>\n",
       "      <td>PERKINS Metal Rectangle Sunglass</td>\n",
       "      <td>₹3,000\\n00</td>\n",
       "      <td>30 Days Returns &amp; Exchange</td>\n",
       "      <td>Friday, 5 August</td>\n",
       "      <td>In stock.</td>\n",
       "      <td>https://www.amazon.in/ARCADIO-AR192DM-BRP-PERK...</td>\n",
       "    </tr>\n",
       "    <tr>\n",
       "      <th>17</th>\n",
       "      <td>Royal Son Retro Square Sunglasses For Men</td>\n",
       "      <td>₹424.00</td>\n",
       "      <td>Not present</td>\n",
       "      <td>Tuesday, 2 August</td>\n",
       "      <td>In stock.</td>\n",
       "      <td>https://www.amazon.in/Royal-Square-Unisex-Sung...</td>\n",
       "    </tr>\n",
       "    <tr>\n",
       "      <th>18</th>\n",
       "      <td>IFLASH Rectangle Sunglasses for Women Retro Dr...</td>\n",
       "      <td>₹499\\n00</td>\n",
       "      <td>30 Days Returns &amp; Exchange</td>\n",
       "      <td>Thursday, 4 August</td>\n",
       "      <td>In stock.</td>\n",
       "      <td>https://www.amazon.in/IFLASH-Rectangle-Sunglas...</td>\n",
       "    </tr>\n",
       "    <tr>\n",
       "      <th>19</th>\n",
       "      <td>NuVew UV Protected Cat eye Sunglasses For Wome...</td>\n",
       "      <td>₹398.00</td>\n",
       "      <td>Not present</td>\n",
       "      <td>Tuesday, 2 August</td>\n",
       "      <td>In stock.</td>\n",
       "      <td>https://www.amazon.in/NuVew-Protected-Sunglass...</td>\n",
       "    </tr>\n",
       "    <tr>\n",
       "      <th>20</th>\n",
       "      <td>elegante UV Protected Driving Vintage Pilot Gr...</td>\n",
       "      <td>Not present</td>\n",
       "      <td>Not present</td>\n",
       "      <td>Not present</td>\n",
       "      <td>Not present</td>\n",
       "      <td>https://www.amazon.in/elegante-Protected-Drivi...</td>\n",
       "    </tr>\n",
       "    <tr>\n",
       "      <th>21</th>\n",
       "      <td>U.S DESIRE retro round metal sunglasses Square...</td>\n",
       "      <td>₹499\\n00</td>\n",
       "      <td>30 Days Returns &amp; Exchange</td>\n",
       "      <td>Friday, 5 August</td>\n",
       "      <td>In stock.</td>\n",
       "      <td>https://www.amazon.in/U-S-sunglasses-Protected...</td>\n",
       "    </tr>\n",
       "    <tr>\n",
       "      <th>22</th>\n",
       "      <td>Fastrack Men Square Sunglasses , Green</td>\n",
       "      <td>₹719\\n00</td>\n",
       "      <td>Not present</td>\n",
       "      <td>Tuesday, 2 August</td>\n",
       "      <td>In stock.</td>\n",
       "      <td>https://www.amazon.in/Fastrack-Protected-Wayfa...</td>\n",
       "    </tr>\n",
       "    <tr>\n",
       "      <th>23</th>\n",
       "      <td>Creek Unisex Polarized Wayfarer Sunglasses for...</td>\n",
       "      <td>₹399\\n00</td>\n",
       "      <td>Not present</td>\n",
       "      <td>Tuesday, 2 August</td>\n",
       "      <td>In stock.</td>\n",
       "      <td>https://www.amazon.in/Unisex-Polarized-Wayfare...</td>\n",
       "    </tr>\n",
       "    <tr>\n",
       "      <th>24</th>\n",
       "      <td>Vincent Chase By Lenskart | Full Rim Wayfarer ...</td>\n",
       "      <td>₹749.00</td>\n",
       "      <td>Not present</td>\n",
       "      <td>Tuesday, 2 August</td>\n",
       "      <td>In stock.</td>\n",
       "      <td>https://www.amazon.in/Polarized-Protected-Sung...</td>\n",
       "    </tr>\n",
       "    <tr>\n",
       "      <th>25</th>\n",
       "      <td>Creature Matt Finish Club master Uv Protected ...</td>\n",
       "      <td>₹289.00</td>\n",
       "      <td>Not present</td>\n",
       "      <td>Tuesday, 2 August</td>\n",
       "      <td>In stock.</td>\n",
       "      <td>https://www.amazon.in/CREATURE-Wayfarer-Protec...</td>\n",
       "    </tr>\n",
       "    <tr>\n",
       "      <th>26</th>\n",
       "      <td>Fastrack Men Aviator Sunglasses, Green</td>\n",
       "      <td>₹1,039\\n00</td>\n",
       "      <td>Not present</td>\n",
       "      <td>Tuesday, 2 August</td>\n",
       "      <td>In stock.</td>\n",
       "      <td>https://www.amazon.in/Fastrack-Protected-Aviat...</td>\n",
       "    </tr>\n",
       "    <tr>\n",
       "      <th>27</th>\n",
       "      <td>Vincent Chase By Lenskart | Full Rim Round Bra...</td>\n",
       "      <td>₹749.00</td>\n",
       "      <td>Not present</td>\n",
       "      <td>Tuesday, 2 August</td>\n",
       "      <td>In stock.</td>\n",
       "      <td>https://www.amazon.in/Polarized-Protected-Sung...</td>\n",
       "    </tr>\n",
       "    <tr>\n",
       "      <th>28</th>\n",
       "      <td>ELEGANTE Men's Round Sunglasses</td>\n",
       "      <td>₹399.00</td>\n",
       "      <td>Not present</td>\n",
       "      <td>Tuesday, 2 August</td>\n",
       "      <td>In stock.</td>\n",
       "      <td>https://www.amazon.in/elegante-Branded-Steampu...</td>\n",
       "    </tr>\n",
       "    <tr>\n",
       "      <th>29</th>\n",
       "      <td>Unisex Rectanglular Sunglasses for Men &amp; Women...</td>\n",
       "      <td>₹999\\n00</td>\n",
       "      <td>30 Days Returns &amp; Exchange</td>\n",
       "      <td>Saturday, 6 August</td>\n",
       "      <td>Only 2 left in stock.</td>\n",
       "      <td>https://www.amazon.in/gp/slredirect/picassoRed...</td>\n",
       "    </tr>\n",
       "  </tbody>\n",
       "</table>\n",
       "</div>"
      ],
      "text/plain": [
       "                                   ProductDescription ProductPrice  \\\n",
       "0   JIM HALO Polarized Sports Sunglasses Mirror Wr...   ₹1,098\\n00   \n",
       "1   Unisex Rectanglular Sunglasses for Men & Women...     ₹999\\n00   \n",
       "2         Visions India Unisex Adult Round Sunglasses      ₹319.00   \n",
       "3   Unisex Rectanglular Sunglasses for Men & Women...     ₹999\\n00   \n",
       "4   elegante Rectanglular Sunglasses for Women Ret...      ₹399.00   \n",
       "5   Agrawal Eterprises retro rectangular sunglasse...     ₹389\\n00   \n",
       "6              Fastrack Men Square Sunglasses , Black     ₹607\\n00   \n",
       "7   CREEK Unisex Octagonal Sunglasses/Frame for Me...      ₹449.00   \n",
       "8   Vincent Chase By Lenskart | Full Rim Round Bra...      ₹899.00   \n",
       "9   SKADINO Wood Sunglasses With Polarized Lens Ha...   ₹5,002\\n00   \n",
       "10                          Sunglass UV 400 protected     ₹480\\n00   \n",
       "11          RACOS GRAD-PURPLE SUNGLASSES UV400-RR0006     ₹799\\n00   \n",
       "12  Men's and Women's Elegante Hexagone Sunglasses...     ₹299\\n00   \n",
       "13                         PERKINS Rectangle Sunglass   ₹2,950\\n00   \n",
       "14                         PERKINS Rectangle Sunglass   ₹3,200\\n00   \n",
       "15                                   Round Sunglasses     ₹299\\n99   \n",
       "16                   PERKINS Metal Rectangle Sunglass   ₹3,000\\n00   \n",
       "17          Royal Son Retro Square Sunglasses For Men      ₹424.00   \n",
       "18  IFLASH Rectangle Sunglasses for Women Retro Dr...     ₹499\\n00   \n",
       "19  NuVew UV Protected Cat eye Sunglasses For Wome...      ₹398.00   \n",
       "20  elegante UV Protected Driving Vintage Pilot Gr...  Not present   \n",
       "21  U.S DESIRE retro round metal sunglasses Square...     ₹499\\n00   \n",
       "22             Fastrack Men Square Sunglasses , Green     ₹719\\n00   \n",
       "23  Creek Unisex Polarized Wayfarer Sunglasses for...     ₹399\\n00   \n",
       "24  Vincent Chase By Lenskart | Full Rim Wayfarer ...      ₹749.00   \n",
       "25  Creature Matt Finish Club master Uv Protected ...      ₹289.00   \n",
       "26             Fastrack Men Aviator Sunglasses, Green   ₹1,039\\n00   \n",
       "27  Vincent Chase By Lenskart | Full Rim Round Bra...      ₹749.00   \n",
       "28                    ELEGANTE Men's Round Sunglasses      ₹399.00   \n",
       "29  Unisex Rectanglular Sunglasses for Men & Women...     ₹999\\n00   \n",
       "\n",
       "                ReturnExchange      ExpectedDelivery  \\\n",
       "0                  Not present     Tuesday, 2 August   \n",
       "1   30 Days Returns & Exchange    Saturday, 6 August   \n",
       "2                  Not present     Tuesday, 2 August   \n",
       "3   30 Days Returns & Exchange    Saturday, 6 August   \n",
       "4                  Not present     Tuesday, 2 August   \n",
       "5   30 Days Returns & Exchange  Wednesday, 10 August   \n",
       "6                  Not present     Tuesday, 2 August   \n",
       "7                  Not present     Tuesday, 2 August   \n",
       "8                  Not present     Tuesday, 2 August   \n",
       "9              30 Days Returns         August 8 - 16   \n",
       "10  30 Days Returns & Exchange    Saturday, 6 August   \n",
       "11  30 Days Returns & Exchange      Monday, 8 August   \n",
       "12  30 Days Returns & Exchange      Friday, 5 August   \n",
       "13  30 Days Returns & Exchange      Friday, 5 August   \n",
       "14  30 Days Returns & Exchange      Friday, 5 August   \n",
       "15  30 Days Returns & Exchange      Friday, 5 August   \n",
       "16  30 Days Returns & Exchange      Friday, 5 August   \n",
       "17                 Not present     Tuesday, 2 August   \n",
       "18  30 Days Returns & Exchange    Thursday, 4 August   \n",
       "19                 Not present     Tuesday, 2 August   \n",
       "20                 Not present           Not present   \n",
       "21  30 Days Returns & Exchange      Friday, 5 August   \n",
       "22                 Not present     Tuesday, 2 August   \n",
       "23                 Not present     Tuesday, 2 August   \n",
       "24                 Not present     Tuesday, 2 August   \n",
       "25                 Not present     Tuesday, 2 August   \n",
       "26                 Not present     Tuesday, 2 August   \n",
       "27                 Not present     Tuesday, 2 August   \n",
       "28                 Not present     Tuesday, 2 August   \n",
       "29  30 Days Returns & Exchange    Saturday, 6 August   \n",
       "\n",
       "                              Available  \\\n",
       "0                             In stock.   \n",
       "1                 Only 2 left in stock.   \n",
       "2                             In stock.   \n",
       "3                 Only 2 left in stock.   \n",
       "4                             In stock.   \n",
       "5                 Only 4 left in stock.   \n",
       "6                             In stock.   \n",
       "7                             In stock.   \n",
       "8                             In stock.   \n",
       "9   Usually dispatched in 6 to 10 days.   \n",
       "10                Only 1 left in stock.   \n",
       "11                Only 1 left in stock.   \n",
       "12                Only 2 left in stock.   \n",
       "13                            In stock.   \n",
       "14                            In stock.   \n",
       "15                Only 1 left in stock.   \n",
       "16                            In stock.   \n",
       "17                            In stock.   \n",
       "18                            In stock.   \n",
       "19                            In stock.   \n",
       "20                          Not present   \n",
       "21                            In stock.   \n",
       "22                            In stock.   \n",
       "23                            In stock.   \n",
       "24                            In stock.   \n",
       "25                            In stock.   \n",
       "26                            In stock.   \n",
       "27                            In stock.   \n",
       "28                            In stock.   \n",
       "29                Only 2 left in stock.   \n",
       "\n",
       "                                          Product_url  \n",
       "0   https://www.amazon.in/gp/slredirect/picassoRed...  \n",
       "1   https://www.amazon.in/gp/slredirect/picassoRed...  \n",
       "2   https://www.amazon.in/gp/slredirect/picassoRed...  \n",
       "3   https://www.amazon.in/gp/slredirect/picassoRed...  \n",
       "4   https://www.amazon.in/elegante-Rectanglular-Su...  \n",
       "5   https://www.amazon.in/Agrawal-Eterprises-recta...  \n",
       "6   https://www.amazon.in/Fastrack-protected-Sungl...  \n",
       "7   https://www.amazon.in/CREEK-Unisex-Octagonal-S...  \n",
       "8   https://www.amazon.in/Vincent-Lenskart-Sunglas...  \n",
       "9   https://www.amazon.in/Frameless-Sunglasses-Pol...  \n",
       "10  https://www.amazon.in/Generic-cfa00s3-Sunglass...  \n",
       "11  https://www.amazon.in/Generic-RAC35-GRAD-PURPL...  \n",
       "12  https://www.amazon.in/Elegante-Hexagone-Sungla...  \n",
       "13  https://www.amazon.in/ARCADIO-AR-PZ5001C1BK-GY...  \n",
       "14  https://www.amazon.in/ARCADIO-AR-TR138C4GY-BLp...  \n",
       "15  https://www.amazon.in/Generic-78555552-Round-S...  \n",
       "16  https://www.amazon.in/ARCADIO-AR192DM-BRP-PERK...  \n",
       "17  https://www.amazon.in/Royal-Square-Unisex-Sung...  \n",
       "18  https://www.amazon.in/IFLASH-Rectangle-Sunglas...  \n",
       "19  https://www.amazon.in/NuVew-Protected-Sunglass...  \n",
       "20  https://www.amazon.in/elegante-Protected-Drivi...  \n",
       "21  https://www.amazon.in/U-S-sunglasses-Protected...  \n",
       "22  https://www.amazon.in/Fastrack-Protected-Wayfa...  \n",
       "23  https://www.amazon.in/Unisex-Polarized-Wayfare...  \n",
       "24  https://www.amazon.in/Polarized-Protected-Sung...  \n",
       "25  https://www.amazon.in/CREATURE-Wayfarer-Protec...  \n",
       "26  https://www.amazon.in/Fastrack-Protected-Aviat...  \n",
       "27  https://www.amazon.in/Polarized-Protected-Sung...  \n",
       "28  https://www.amazon.in/elegante-Branded-Steampu...  \n",
       "29  https://www.amazon.in/gp/slredirect/picassoRed...  "
      ]
     },
     "execution_count": 297,
     "metadata": {},
     "output_type": "execute_result"
    }
   ],
   "source": [
    "df"
   ]
  },
  {
   "cell_type": "code",
   "execution_count": 298,
   "id": "76bba077",
   "metadata": {},
   "outputs": [],
   "source": [
    "df.to_csv(r'D:\\I\\02.Flip Robo Assignments\\Product.csv', index=False)"
   ]
  },
  {
   "cell_type": "code",
   "execution_count": null,
   "id": "c09df776",
   "metadata": {},
   "outputs": [],
   "source": [
    "#Q3"
   ]
  },
  {
   "cell_type": "code",
   "execution_count": 360,
   "id": "f0395d4d",
   "metadata": {},
   "outputs": [
    {
     "name": "stderr",
     "output_type": "stream",
     "text": [
      "C:\\Users\\COTMAC\\AppData\\Local\\Temp/ipykernel_13720/2295598310.py:2: DeprecationWarning: executable_path has been deprecated, please pass in a Service object\n",
      "  driver = webdriver.Chrome(r'C:\\Users\\COTMAC\\Downloads\\chromedriver_win32\\chromedriver.exe')\n"
     ]
    }
   ],
   "source": [
    "# Connect to webdriver\n",
    "driver = webdriver.Chrome(r'C:\\Users\\COTMAC\\Downloads\\chromedriver_win32\\chromedriver.exe')"
   ]
  },
  {
   "cell_type": "code",
   "execution_count": 361,
   "id": "de35d9fd",
   "metadata": {},
   "outputs": [],
   "source": [
    "driver.get('https://images.google.com/')"
   ]
  },
  {
   "cell_type": "code",
   "execution_count": 362,
   "id": "62b4d0d7",
   "metadata": {},
   "outputs": [
    {
     "data": {
      "text/plain": [
       "<selenium.webdriver.remote.webelement.WebElement (session=\"02d34194cb7ace9238d3a3d9d210ce1f\", element=\"79397b9d-b5ae-4c86-ba8d-f467914ce8eb\")>"
      ]
     },
     "execution_count": 362,
     "metadata": {},
     "output_type": "execute_result"
    }
   ],
   "source": [
    "search=driver.find_element(By.XPATH,\"/html/body/div[1]/div[3]/form/div[1]/div[1]/div[1]/div/div[2]/input\")\n",
    "search"
   ]
  },
  {
   "cell_type": "code",
   "execution_count": 363,
   "id": "51f452fc",
   "metadata": {},
   "outputs": [
    {
     "name": "stdout",
     "output_type": "stream",
     "text": [
      "Enter product Name:Fruits\n"
     ]
    }
   ],
   "source": [
    "user_input=input(\"Enter product Name:\")"
   ]
  },
  {
   "cell_type": "code",
   "execution_count": 365,
   "id": "d7cad7a3",
   "metadata": {},
   "outputs": [
    {
     "data": {
      "text/plain": [
       "'Fruits'"
      ]
     },
     "execution_count": 365,
     "metadata": {},
     "output_type": "execute_result"
    }
   ],
   "source": [
    "user_input"
   ]
  },
  {
   "cell_type": "code",
   "execution_count": 366,
   "id": "f5af2396",
   "metadata": {},
   "outputs": [],
   "source": [
    "search.send_keys(user_input)"
   ]
  },
  {
   "cell_type": "code",
   "execution_count": 367,
   "id": "6ada9d3c",
   "metadata": {},
   "outputs": [],
   "source": [
    "search3=driver.find_element(By.XPATH,\"/html/body/div[1]/div[3]/form/div[1]/div[1]/div[2]/div[2]/div[2]/ul[1]/div/ul/li[2]/div/div[2]/div[1]/span\")\n",
    "search3.click()\n",
    "time.sleep(5)"
   ]
  },
  {
   "cell_type": "code",
   "execution_count": 368,
   "id": "be7bc155",
   "metadata": {},
   "outputs": [],
   "source": [
    "images = driver.find_elements(By.XPATH,'//img[@class=\"rg_i Q4LuWd\"]')"
   ]
  },
  {
   "cell_type": "code",
   "execution_count": 369,
   "id": "628c9b45",
   "metadata": {},
   "outputs": [
    {
     "data": {
      "text/plain": [
       "48"
      ]
     },
     "execution_count": 369,
     "metadata": {},
     "output_type": "execute_result"
    }
   ],
   "source": [
    "len(images)"
   ]
  },
  {
   "cell_type": "code",
   "execution_count": 383,
   "id": "fecc92aa",
   "metadata": {},
   "outputs": [],
   "source": [
    "img_urls=[] \n",
    "for image in images:\n",
    "    source=image.get_attribute('src')\n",
    "    if source is not None:\n",
    "        if(source[0:4]=='http'):\n",
    "            img_urls.append(source)"
   ]
  },
  {
   "cell_type": "code",
   "execution_count": 384,
   "id": "12e023fb",
   "metadata": {},
   "outputs": [
    {
     "data": {
      "text/plain": [
       "6"
      ]
     },
     "execution_count": 384,
     "metadata": {},
     "output_type": "execute_result"
    }
   ],
   "source": [
    "len(img_urls)"
   ]
  },
  {
   "cell_type": "code",
   "execution_count": 377,
   "id": "afb0c75e",
   "metadata": {},
   "outputs": [],
   "source": [
    "import requests"
   ]
  },
  {
   "cell_type": "code",
   "execution_count": 378,
   "id": "81113b10",
   "metadata": {},
   "outputs": [
    {
     "name": "stdout",
     "output_type": "stream",
     "text": [
      "Downloading 0 of 10 images\n",
      "Downloading 1 of 10 images\n",
      "Downloading 2 of 10 images\n",
      "Downloading 3 of 10 images\n",
      "Downloading 4 of 10 images\n",
      "Downloading 5 of 10 images\n"
     ]
    }
   ],
   "source": [
    "for i in range(len(img_urls)):\n",
    "    if i>10:\n",
    "        break\n",
    "    print(\"Downloading {0} of {1} images\" .format(i,10))\n",
    "    try:\n",
    "        response=requests.get(img_urls[i])\n",
    "        file = open(r\"D:\\img_lily\"+str(i)+\".jpg\",'wb')\n",
    "        file.write(response.content)\n",
    "    except:\n",
    "        pass"
   ]
  },
  {
   "cell_type": "code",
   "execution_count": 390,
   "id": "a3b86db7",
   "metadata": {},
   "outputs": [
    {
     "data": {
      "text/plain": [
       "<selenium.webdriver.remote.webelement.WebElement (session=\"02d34194cb7ace9238d3a3d9d210ce1f\", element=\"427da62d-f29b-424b-bd03-286b122968c0\")>"
      ]
     },
     "execution_count": 390,
     "metadata": {},
     "output_type": "execute_result"
    }
   ],
   "source": [
    "search1=driver.find_element(By.XPATH,\"/html/body/c-wiz/c-wiz/div/div[3]/div[2]/div/div[1]/form/div[1]/div[2]/div/div[2]/input\")\n",
    "search1"
   ]
  },
  {
   "cell_type": "code",
   "execution_count": 391,
   "id": "074af0ad",
   "metadata": {},
   "outputs": [],
   "source": [
    "search1.send_keys(\"guiter\")"
   ]
  },
  {
   "cell_type": "code",
   "execution_count": 395,
   "id": "efec7ba3",
   "metadata": {},
   "outputs": [],
   "source": [
    "search4=driver.find_element(By.XPATH,\"/html/body/c-wiz/c-wiz/div/div[3]/div[2]/div/div[1]/form/div[1]/div[3]/div[2]/ul/div/ul/li[1]/div/div[2]/div/span\")\n",
    "search4.click()\n",
    "time.sleep(5)"
   ]
  },
  {
   "cell_type": "code",
   "execution_count": 400,
   "id": "03d9b2ea",
   "metadata": {},
   "outputs": [],
   "source": [
    "images_guitar = driver.find_elements(By.XPATH,'//img[@class=\"rg_i Q4LuWd\"]')"
   ]
  },
  {
   "cell_type": "code",
   "execution_count": 401,
   "id": "069169ee",
   "metadata": {},
   "outputs": [
    {
     "data": {
      "text/plain": [
       "48"
      ]
     },
     "execution_count": 401,
     "metadata": {},
     "output_type": "execute_result"
    }
   ],
   "source": [
    "len(images_guitar)"
   ]
  },
  {
   "cell_type": "code",
   "execution_count": 414,
   "id": "872bf1fc",
   "metadata": {},
   "outputs": [],
   "source": [
    "img_urls_guitar=[] \n",
    "for image in images_guitar:\n",
    "    source=image.get_attribute('src')\n",
    "    if source is not None:\n",
    "        if(source[0:4]=='http'):\n",
    "            img_urls_guitar.append(source)"
   ]
  },
  {
   "cell_type": "code",
   "execution_count": 415,
   "id": "e637aabd",
   "metadata": {},
   "outputs": [
    {
     "data": {
      "text/plain": [
       "6"
      ]
     },
     "execution_count": 415,
     "metadata": {},
     "output_type": "execute_result"
    }
   ],
   "source": [
    "len(img_urls_guitar)"
   ]
  },
  {
   "cell_type": "code",
   "execution_count": 420,
   "id": "faa70e6c",
   "metadata": {},
   "outputs": [
    {
     "name": "stdout",
     "output_type": "stream",
     "text": [
      "Downloading 0 of 20 images\n",
      "Downloading 1 of 20 images\n",
      "Downloading 2 of 20 images\n",
      "Downloading 3 of 20 images\n",
      "Downloading 4 of 20 images\n",
      "Downloading 5 of 20 images\n"
     ]
    }
   ],
   "source": [
    "for i in range(len(img_urls_guitar)):\n",
    "    if i>20:\n",
    "        break\n",
    "    print(\"Downloading {0} of {1} images\" .format(i,20))\n",
    "    try:\n",
    "        response=requests.get(img_urls[i])\n",
    "        file = open(r\"D:\\img_guitar\"+str(i)+\".jpg\",'wb')\n",
    "        file.write(response.content)\n",
    "    except:\n",
    "        pass"
   ]
  },
  {
   "cell_type": "code",
   "execution_count": 422,
   "id": "06bf1d9c",
   "metadata": {},
   "outputs": [
    {
     "data": {
      "text/plain": [
       "<selenium.webdriver.remote.webelement.WebElement (session=\"02d34194cb7ace9238d3a3d9d210ce1f\", element=\"567d5d96-3a60-4707-b73e-67cdc6852a91\")>"
      ]
     },
     "execution_count": 422,
     "metadata": {},
     "output_type": "execute_result"
    }
   ],
   "source": [
    "search_Cars=driver.find_element(By.XPATH,\"/html/body/c-wiz/c-wiz/div/div[3]/div[2]/div/div[1]/form/div[1]/div[2]/div/div[2]/input\")\n",
    "search_Cars"
   ]
  },
  {
   "cell_type": "code",
   "execution_count": 423,
   "id": "464036d7",
   "metadata": {},
   "outputs": [],
   "source": [
    "search_Cars.send_keys(\"cars\")"
   ]
  },
  {
   "cell_type": "code",
   "execution_count": 424,
   "id": "77a3d6bf",
   "metadata": {},
   "outputs": [],
   "source": [
    "search5=driver.find_element(By.XPATH,\"/html/body/c-wiz/c-wiz/div/div[3]/div[2]/div/div[1]/form/div[1]/div[3]/div[2]/ul/div/ul/li[1]/div/div[2]/div/span\")\n",
    "search5.click()\n",
    "time.sleep(5)"
   ]
  },
  {
   "cell_type": "code",
   "execution_count": 425,
   "id": "34445890",
   "metadata": {},
   "outputs": [
    {
     "data": {
      "text/plain": [
       "48"
      ]
     },
     "execution_count": 425,
     "metadata": {},
     "output_type": "execute_result"
    }
   ],
   "source": [
    "images_cars = driver.find_elements(By.XPATH,'//img[@class=\"rg_i Q4LuWd\"]')\n",
    "len(images_cars)"
   ]
  },
  {
   "cell_type": "code",
   "execution_count": 435,
   "id": "e6d5a2d0",
   "metadata": {},
   "outputs": [
    {
     "data": {
      "text/plain": [
       "3"
      ]
     },
     "execution_count": 435,
     "metadata": {},
     "output_type": "execute_result"
    }
   ],
   "source": [
    "img_urls_Cars=[] \n",
    "for image in images_cars:\n",
    "    source=image.get_attribute('src')\n",
    "    if source is not None:\n",
    "        if(source[0:4]=='http'):\n",
    "            img_urls_Cars.append(source)\n",
    "            \n",
    "len(img_urls_Cars)"
   ]
  },
  {
   "cell_type": "code",
   "execution_count": 428,
   "id": "ca23a339",
   "metadata": {},
   "outputs": [
    {
     "name": "stdout",
     "output_type": "stream",
     "text": [
      "Downloading 0 of 20 images\n",
      "Downloading 1 of 20 images\n",
      "Downloading 2 of 20 images\n"
     ]
    }
   ],
   "source": [
    "for i in range(len(img_urls_Cars)):\n",
    "    if i>20:\n",
    "        break\n",
    "    print(\"Downloading {0} of {1} images\" .format(i,20))\n",
    "    try:\n",
    "        response=requests.get(img_urls[i])\n",
    "        file = open(r\"D:\\img_Cars\"+str(i)+\".jpg\",'wb')\n",
    "        file.write(response.content)\n",
    "    except:\n",
    "        pass"
   ]
  },
  {
   "cell_type": "code",
   "execution_count": null,
   "id": "4d9ca6ad",
   "metadata": {},
   "outputs": [],
   "source": [
    "#Due to space here this one will continue in middle of page\n",
    "#I will mention there Question number."
   ]
  },
  {
   "cell_type": "code",
   "execution_count": 139,
   "id": "c6ea8edf",
   "metadata": {},
   "outputs": [],
   "source": [
    "#Q4."
   ]
  },
  {
   "cell_type": "code",
   "execution_count": 140,
   "id": "83fb92f4",
   "metadata": {},
   "outputs": [
    {
     "name": "stderr",
     "output_type": "stream",
     "text": [
      "C:\\Users\\COTMAC\\AppData\\Local\\Temp/ipykernel_9508/2295598310.py:2: DeprecationWarning: executable_path has been deprecated, please pass in a Service object\n",
      "  driver = webdriver.Chrome(r'C:\\Users\\COTMAC\\Downloads\\chromedriver_win32\\chromedriver.exe')\n"
     ]
    }
   ],
   "source": [
    "# Connect to webdriver\n",
    "driver = webdriver.Chrome(r'C:\\Users\\COTMAC\\Downloads\\chromedriver_win32\\chromedriver.exe')"
   ]
  },
  {
   "cell_type": "code",
   "execution_count": 141,
   "id": "8a2f09f8",
   "metadata": {},
   "outputs": [],
   "source": [
    "driver.get('https://www.flipkart.com/')"
   ]
  },
  {
   "cell_type": "code",
   "execution_count": 143,
   "id": "ba17799c",
   "metadata": {},
   "outputs": [],
   "source": [
    "search=driver.find_element(By.XPATH,\"/html/body/div[1]/div/div[1]/div[1]/div[2]/div[2]/form/div/div/input\")\n",
    "search.click()"
   ]
  },
  {
   "cell_type": "code",
   "execution_count": 144,
   "id": "ed0b0fca",
   "metadata": {},
   "outputs": [
    {
     "name": "stdout",
     "output_type": "stream",
     "text": [
      "Enter product Name:Oneplus Nord\n"
     ]
    }
   ],
   "source": [
    "user_input=input(\"Enter product Name:\")"
   ]
  },
  {
   "cell_type": "code",
   "execution_count": 145,
   "id": "29f5642f",
   "metadata": {},
   "outputs": [
    {
     "data": {
      "text/plain": [
       "'Oneplus Nord'"
      ]
     },
     "execution_count": 145,
     "metadata": {},
     "output_type": "execute_result"
    }
   ],
   "source": [
    "user_input"
   ]
  },
  {
   "cell_type": "code",
   "execution_count": 146,
   "id": "50408f0e",
   "metadata": {},
   "outputs": [],
   "source": [
    "search.send_keys(user_input)"
   ]
  },
  {
   "cell_type": "code",
   "execution_count": 149,
   "id": "d317cbe8",
   "metadata": {},
   "outputs": [],
   "source": [
    "search3=driver.find_element(By.XPATH,\"/html/body/div/div/div[1]/div[1]/div[2]/div[2]/form/div/button\")\n",
    "search3.click()\n",
    "time.sleep(5)"
   ]
  },
  {
   "cell_type": "code",
   "execution_count": 150,
   "id": "17d50f3c",
   "metadata": {},
   "outputs": [],
   "source": [
    "#Q2.#fetching url to each job\n",
    "Product_url=[]\n",
    "start=0\n",
    "end=1\n",
    "for page in range(start,end):\n",
    "    url=driver.find_elements(By.XPATH,'//a[@class=\"_1fQZEK\"]')\n",
    "    for i in url:\n",
    "        Product_url.append(i.get_attribute('href'))"
   ]
  },
  {
   "cell_type": "code",
   "execution_count": 151,
   "id": "efa51f9a",
   "metadata": {},
   "outputs": [
    {
     "data": {
      "text/plain": [
       "24"
      ]
     },
     "execution_count": 151,
     "metadata": {},
     "output_type": "execute_result"
    }
   ],
   "source": [
    "len(Product_url)"
   ]
  },
  {
   "cell_type": "code",
   "execution_count": 152,
   "id": "ae775186",
   "metadata": {},
   "outputs": [
    {
     "data": {
      "text/plain": [
       "['https://www.flipkart.com/oneplus-nord-ce-2-lite-5g-black-dusk-128-gb/p/itm7acae55b999e6?pid=MOBGDWF8GJTFAXVH&lid=LSTMOBGDWF8GJTFAXVH1ZEISR&marketplace=FLIPKART&q=Oneplus+Nord&store=tyy%2F4io&srno=s_1_1&otracker=search&otracker1=search&fm=organic&iid=d86813cf-28b8-425f-b7eb-1d2cfd92ec1b.MOBGDWF8GJTFAXVH.SEARCH&ppt=hp&ppn=homepage&ssid=sbwjsar0e80000001659090322368&qH=53863d4d978d5074',\n",
       " 'https://www.flipkart.com/oneplus-nord-ce-2-lite-5g-blue-tide-128-gb/p/itm7acae55b999e6?pid=MOBGDWFJFBKYTEGP&lid=LSTMOBGDWFJFBKYTEGP4N4QZC&marketplace=FLIPKART&q=Oneplus+Nord&store=tyy%2F4io&srno=s_1_2&otracker=search&otracker1=search&fm=organic&iid=d86813cf-28b8-425f-b7eb-1d2cfd92ec1b.MOBGDWFJFBKYTEGP.SEARCH&ppt=hp&ppn=homepage&ssid=sbwjsar0e80000001659090322368&qH=53863d4d978d5074',\n",
       " 'https://www.flipkart.com/oneplus-nord-ce-2-lite-5g-blue-tide-128-gb/p/itm7acae55b999e6?pid=MOBGDY3QRGSPCZW3&lid=LSTMOBGDY3QRGSPCZW3YYNGMO&marketplace=FLIPKART&q=Oneplus+Nord&store=tyy%2F4io&srno=s_1_3&otracker=search&otracker1=search&fm=organic&iid=d86813cf-28b8-425f-b7eb-1d2cfd92ec1b.MOBGDY3QRGSPCZW3.SEARCH&ppt=hp&ppn=homepage&ssid=sbwjsar0e80000001659090322368&qH=53863d4d978d5074',\n",
       " 'https://www.flipkart.com/oneplus-nord-2t-5g-jade-fog-128-gb/p/itm97eda8b1a1566?pid=MOBGFX6MGJWZMRWR&lid=LSTMOBGFX6MGJWZMRWRSZPI0W&marketplace=FLIPKART&q=Oneplus+Nord&store=tyy%2F4io&srno=s_1_4&otracker=search&otracker1=search&fm=organic&iid=d86813cf-28b8-425f-b7eb-1d2cfd92ec1b.MOBGFX6MGJWZMRWR.SEARCH&ppt=hp&ppn=homepage&ssid=sbwjsar0e80000001659090322368&qH=53863d4d978d5074',\n",
       " 'https://www.flipkart.com/oneplus-nord-2-5g-blue-haze-128-gb/p/itmc88e4a702db46?pid=MOBGDBFJXFJPVWKA&lid=LSTMOBGDBFJXFJPVWKAQG6NJY&marketplace=FLIPKART&q=Oneplus+Nord&store=tyy%2F4io&srno=s_1_5&otracker=search&otracker1=search&fm=organic&iid=d86813cf-28b8-425f-b7eb-1d2cfd92ec1b.MOBGDBFJXFJPVWKA.SEARCH&ppt=hp&ppn=homepage&ssid=sbwjsar0e80000001659090322368&qH=53863d4d978d5074',\n",
       " 'https://www.flipkart.com/oneplus-nord-gray-onyx-256-gb/p/itm49f817b591982?pid=MOBFUE5GGWHFC37J&lid=LSTMOBFUE5GGWHFC37JNXZLYZ&marketplace=FLIPKART&q=Oneplus+Nord&store=tyy%2F4io&srno=s_1_6&otracker=search&otracker1=search&fm=organic&iid=d86813cf-28b8-425f-b7eb-1d2cfd92ec1b.MOBFUE5GGWHFC37J.SEARCH&ppt=hp&ppn=homepage&ssid=sbwjsar0e80000001659090322368&qH=53863d4d978d5074',\n",
       " 'https://www.flipkart.com/oneplus-nord-gray-onyx-64-gb/p/itm49f817b591982?pid=MOBFUE5H57THFNVJ&lid=LSTMOBFUE5H57THFNVJSYCAHJ&marketplace=FLIPKART&q=Oneplus+Nord&store=tyy%2F4io&srno=s_1_7&otracker=search&otracker1=search&fm=organic&iid=d86813cf-28b8-425f-b7eb-1d2cfd92ec1b.MOBFUE5H57THFNVJ.SEARCH&ppt=hp&ppn=homepage&ssid=sbwjsar0e80000001659090322368&qH=53863d4d978d5074',\n",
       " 'https://www.flipkart.com/oneplus-nord-blue-marble-256-gb/p/itm49f817b591982?pid=MOBFUE5HUU5ZYGRY&lid=LSTMOBFUE5HUU5ZYGRY4ZWZZN&marketplace=FLIPKART&q=Oneplus+Nord&store=tyy%2F4io&srno=s_1_8&otracker=search&otracker1=search&fm=organic&iid=d86813cf-28b8-425f-b7eb-1d2cfd92ec1b.MOBFUE5HUU5ZYGRY.SEARCH&ppt=hp&ppn=homepage&ssid=sbwjsar0e80000001659090322368&qH=53863d4d978d5074',\n",
       " 'https://www.flipkart.com/oneplus-nord-gray-onyx-128-gb/p/itm49f817b591982?pid=MOBFUE5HW4XUUGBN&lid=LSTMOBFUE5HW4XUUGBNMZB8TR&marketplace=FLIPKART&q=Oneplus+Nord&store=tyy%2F4io&srno=s_1_9&otracker=search&otracker1=search&fm=organic&iid=d86813cf-28b8-425f-b7eb-1d2cfd92ec1b.MOBFUE5HW4XUUGBN.SEARCH&ppt=hp&ppn=homepage&ssid=sbwjsar0e80000001659090322368&qH=53863d4d978d5074',\n",
       " 'https://www.flipkart.com/oneplus-nord-blue-marble-128-gb/p/itm49f817b591982?pid=MOBFUE5JWYDZX6HX&lid=LSTMOBFUE5JWYDZX6HXJZSHIV&marketplace=FLIPKART&q=Oneplus+Nord&store=tyy%2F4io&srno=s_1_10&otracker=search&otracker1=search&fm=organic&iid=d86813cf-28b8-425f-b7eb-1d2cfd92ec1b.MOBFUE5JWYDZX6HX.SEARCH&ppt=hp&ppn=homepage&ssid=sbwjsar0e80000001659090322368&qH=53863d4d978d5074',\n",
       " 'https://www.flipkart.com/oneplus-nord-blue-marble-64-gb/p/itm49f817b591982?pid=MOBFUE5N7KAGZHHC&lid=LSTMOBFUE5N7KAGZHHC6NVUQL&marketplace=FLIPKART&q=Oneplus+Nord&store=tyy%2F4io&srno=s_1_11&otracker=search&otracker1=search&fm=organic&iid=d86813cf-28b8-425f-b7eb-1d2cfd92ec1b.MOBFUE5N7KAGZHHC.SEARCH&ppt=hp&ppn=homepage&ssid=sbwjsar0e80000001659090322368&qH=53863d4d978d5074',\n",
       " 'https://www.flipkart.com/oneplus-nord-2t-5g-gray-shadow-256-gb/p/itm97eda8b1a1566?pid=MOBGFX6GFUSXWRQN&lid=LSTMOBGFX6GFUSXWRQNIHY5M5&marketplace=FLIPKART&q=Oneplus+Nord&store=tyy%2F4io&srno=s_1_12&otracker=search&otracker1=search&fm=organic&iid=d86813cf-28b8-425f-b7eb-1d2cfd92ec1b.MOBGFX6GFUSXWRQN.SEARCH&ppt=hp&ppn=homepage&ssid=sbwjsar0e80000001659090322368&qH=53863d4d978d5074',\n",
       " 'https://www.flipkart.com/oneplus-nord-2t-5g-jade-fog-256-gb/p/itm97eda8b1a1566?pid=MOBGFX6PB4EGYBW8&lid=LSTMOBGFX6PB4EGYBW8POGPGH&marketplace=FLIPKART&q=Oneplus+Nord&store=tyy%2F4io&srno=s_1_13&otracker=search&otracker1=search&fm=organic&iid=d86813cf-28b8-425f-b7eb-1d2cfd92ec1b.MOBGFX6PB4EGYBW8.SEARCH&ppt=hp&ppn=homepage&ssid=sbwjsar0e80000001659090322368&qH=53863d4d978d5074',\n",
       " 'https://www.flipkart.com/oneplus-nord-ce-2-5g-gray-mirror-128-gb/p/itm2a9883679c57c?pid=MOBGDBYUNZZ2ZKFM&lid=LSTMOBGDBYUNZZ2ZKFMTPCU7W&marketplace=FLIPKART&q=Oneplus+Nord&store=tyy%2F4io&srno=s_1_14&otracker=search&otracker1=search&fm=organic&iid=d86813cf-28b8-425f-b7eb-1d2cfd92ec1b.MOBGDBYUNZZ2ZKFM.SEARCH&ppt=hp&ppn=homepage&ssid=sbwjsar0e80000001659090322368&qH=53863d4d978d5074',\n",
       " 'https://www.flipkart.com/oneplus-nord-ce-2-5g-bahama-blue-128-gb/p/itm2a9883679c57c?pid=MOBGDBYGG6PPNFD9&lid=LSTMOBGDBYGG6PPNFD9RG9OQU&marketplace=FLIPKART&q=Oneplus+Nord&store=tyy%2F4io&srno=s_1_15&otracker=search&otracker1=search&fm=organic&iid=d86813cf-28b8-425f-b7eb-1d2cfd92ec1b.MOBGDBYGG6PPNFD9.SEARCH&ppt=hp&ppn=homepage&ssid=sbwjsar0e80000001659090322368&qH=53863d4d978d5074',\n",
       " 'https://www.flipkart.com/oneplus-nord-2-5g-green-wood-256-gb/p/itmc88e4a702db46?pid=MOBGE7D9U2RVQPH7&lid=LSTMOBGE7D9U2RVQPH7FAO1OO&marketplace=FLIPKART&q=Oneplus+Nord&store=tyy%2F4io&srno=s_1_16&otracker=search&otracker1=search&fm=organic&iid=d86813cf-28b8-425f-b7eb-1d2cfd92ec1b.MOBGE7D9U2RVQPH7.SEARCH&ppt=hp&ppn=homepage&ssid=sbwjsar0e80000001659090322368&qH=53863d4d978d5074',\n",
       " 'https://www.flipkart.com/oneplus-nord-2-5g-pac-man-256-gb/p/itmc88e4a702db46?pid=MOBGEYH6EJGAWMFT&lid=LSTMOBGEYH6EJGAWMFTQWAYZF&marketplace=FLIPKART&q=Oneplus+Nord&store=tyy%2F4io&srno=s_1_17&otracker=search&otracker1=search&fm=organic&iid=d86813cf-28b8-425f-b7eb-1d2cfd92ec1b.MOBGEYH6EJGAWMFT.SEARCH&ppt=hp&ppn=homepage&ssid=sbwjsar0e80000001659090322368&qH=53863d4d978d5074',\n",
       " 'https://www.flipkart.com/oneplus-nord-2-5g-gray-sierra-256-gb/p/itmc88e4a702db46?pid=MOBGDBFRAPSY7GFZ&lid=LSTMOBGDBFRAPSY7GFZTECCRK&marketplace=FLIPKART&q=Oneplus+Nord&store=tyy%2F4io&srno=s_1_18&otracker=search&otracker1=search&fm=organic&iid=d86813cf-28b8-425f-b7eb-1d2cfd92ec1b.MOBGDBFRAPSY7GFZ.SEARCH&ppt=hp&ppn=homepage&ssid=sbwjsar0e80000001659090322368&qH=53863d4d978d5074',\n",
       " 'https://www.flipkart.com/oneplus-nord-ce-2-lite-5g-black-dusk-128-gb/p/itm7acae55b999e6?pid=MOBGDWFEAHHTW8CF&lid=LSTMOBGDWFEAHHTW8CFSV4WG9&marketplace=FLIPKART&q=Oneplus+Nord&store=tyy%2F4io&srno=s_1_19&otracker=search&otracker1=search&fm=organic&iid=d86813cf-28b8-425f-b7eb-1d2cfd92ec1b.MOBGDWFEAHHTW8CF.SEARCH&ppt=hp&ppn=homepage&ssid=sbwjsar0e80000001659090322368&qH=53863d4d978d5074',\n",
       " 'https://www.flipkart.com/oneplus-nord-ce-5g-charcoal-ink-256-gb/p/itmd6dcbd8116ed1?pid=MOBGDM4JGS4AUQRN&lid=LSTMOBGDM4JGS4AUQRN4VNNUL&marketplace=FLIPKART&q=Oneplus+Nord&store=tyy%2F4io&srno=s_1_20&otracker=search&otracker1=search&fm=organic&iid=d86813cf-28b8-425f-b7eb-1d2cfd92ec1b.MOBGDM4JGS4AUQRN.SEARCH&ppt=hp&ppn=homepage&ssid=sbwjsar0e80000001659090322368&qH=53863d4d978d5074',\n",
       " 'https://www.flipkart.com/oneplus-nord-ce-5g-silver-gray-128-gb/p/itmd6dcbd8116ed1?pid=MOBGDM5FDYUKKJQG&lid=LSTMOBGDM5FDYUKKJQGJNGKMI&marketplace=FLIPKART&q=Oneplus+Nord&store=tyy%2F4io&srno=s_1_21&otracker=search&otracker1=search&fm=organic&iid=d86813cf-28b8-425f-b7eb-1d2cfd92ec1b.MOBGDM5FDYUKKJQG.SEARCH&ppt=hp&ppn=homepage&ssid=sbwjsar0e80000001659090322368&qH=53863d4d978d5074',\n",
       " 'https://www.flipkart.com/oneplus-nord-ce-5g-silver-ray-256-gb/p/itmd6dcbd8116ed1?pid=MOBGDM5SUVH9VMZD&lid=LSTMOBGDM5SUVH9VMZDHDNZG0&marketplace=FLIPKART&q=Oneplus+Nord&store=tyy%2F4io&srno=s_1_22&otracker=search&otracker1=search&fm=organic&iid=d86813cf-28b8-425f-b7eb-1d2cfd92ec1b.MOBGDM5SUVH9VMZD.SEARCH&ppt=hp&ppn=homepage&ssid=sbwjsar0e80000001659090322368&qH=53863d4d978d5074',\n",
       " 'https://www.flipkart.com/oneplus-nord-ce-5g-blue-void-256-gb/p/itmd6dcbd8116ed1?pid=MOBGDTZ8HJVDQZSN&lid=LSTMOBGDTZ8HJVDQZSNDNEGNN&marketplace=FLIPKART&q=Oneplus+Nord&store=tyy%2F4io&srno=s_1_23&otracker=search&otracker1=search&fm=organic&iid=d86813cf-28b8-425f-b7eb-1d2cfd92ec1b.MOBGDTZ8HJVDQZSN.SEARCH&ppt=hp&ppn=homepage&ssid=sbwjsar0e80000001659090322368&qH=53863d4d978d5074',\n",
       " 'https://www.flipkart.com/oneplus-nord-ce-5g-blue-void-128-gb/p/itmd6dcbd8116ed1?pid=MOBGDM4UUD2FDBPH&lid=LSTMOBGDM4UUD2FDBPHUB4GWW&marketplace=FLIPKART&q=Oneplus+Nord&store=tyy%2F4io&srno=s_1_24&otracker=search&otracker1=search&fm=organic&iid=d86813cf-28b8-425f-b7eb-1d2cfd92ec1b.MOBGDM4UUD2FDBPH.SEARCH&ppt=hp&ppn=homepage&ssid=sbwjsar0e80000001659090322368&qH=53863d4d978d5074']"
      ]
     },
     "execution_count": 152,
     "metadata": {},
     "output_type": "execute_result"
    }
   ],
   "source": [
    "Product_url"
   ]
  },
  {
   "cell_type": "code",
   "execution_count": 168,
   "id": "9e81b0a3",
   "metadata": {},
   "outputs": [],
   "source": [
    "BN=[]\n",
    "\n",
    "for i in Product_url:\n",
    "    driver.get(i)\n",
    "    time.sleep(5)\n",
    "    try:\n",
    "        BrandName = driver.find_element(By.XPATH,'/html/body/div[1]/div/div[3]/div[1]/div[2]/div[2]/div/div[1]/h1/span')\n",
    "        BN.append(BrandName.text)\n",
    "    except NoSuchElementException :\n",
    "            BN.append('Not present')"
   ]
  },
  {
   "cell_type": "code",
   "execution_count": 169,
   "id": "ef694a45",
   "metadata": {},
   "outputs": [
    {
     "data": {
      "text/plain": [
       "['OnePlus Nord CE 2 Lite 5G (Black Dusk, 128 GB)  (6 GB RAM)',\n",
       " 'OnePlus Nord CE 2 Lite 5G (Blue Tide, 128 GB)  (6 GB RAM)',\n",
       " 'OnePlus Nord CE 2 Lite 5G (Blue Tide, 128 GB)  (8 GB RAM)',\n",
       " 'OnePlus Nord 2T 5G (Jade Fog, 128 GB)  (8 GB RAM)',\n",
       " 'OnePlus Nord 2 5G (Blue Haze, 128 GB)  (8 GB RAM)',\n",
       " 'OnePlus Nord (Gray Onyx, 256 GB)  (12 GB RAM)',\n",
       " 'OnePlus Nord (Gray Onyx, 64 GB)  (6 GB RAM)',\n",
       " 'OnePlus Nord (Blue Marble, 256 GB)  (12 GB RAM)',\n",
       " 'OnePlus Nord (Gray Onyx, 128 GB)  (8 GB RAM)',\n",
       " 'OnePlus Nord (Blue Marble, 128 GB)  (8 GB RAM)',\n",
       " 'OnePlus Nord (Blue Marble, 64 GB)  (6 GB RAM)',\n",
       " 'OnePlus Nord 2T 5G (Gray Shadow, 256 GB)  (12 GB RAM)',\n",
       " 'OnePlus Nord 2T 5G (Jade Fog, 256 GB)  (12 GB RAM)',\n",
       " 'OnePlus Nord CE 2 5G (Gray Mirror, 128 GB)  (6 GB RAM)',\n",
       " 'OnePlus Nord CE 2 5G (Bahama Blue, 128 GB)  (8 GB RAM)',\n",
       " 'OnePlus Nord 2 5G (Green Wood, 256 GB)  (12 GB RAM)',\n",
       " 'OnePlus Nord 2 5G (PAC-MAN, 256 GB)  (12 GB RAM)',\n",
       " 'OnePlus Nord 2 5G (Gray Sierra, 256 GB)  (12 GB RAM)',\n",
       " 'OnePlus Nord CE 2 Lite 5G (Black Dusk, 128 GB)  (8 GB RAM)',\n",
       " 'OnePlus Nord CE 5G (Charcoal Ink, 256 GB)  (12 GB RAM)',\n",
       " 'OnePlus Nord CE 5G (Silver Gray, 128 GB)  (8 GB RAM)',\n",
       " 'OnePlus Nord CE 5G (Silver Ray, 256 GB)  (12 GB RAM)',\n",
       " 'OnePlus Nord CE 5G (Blue Void, 256 GB)  (12 GB RAM)',\n",
       " 'OnePlus Nord CE 5G (Blue Void, 128 GB)  (8 GB RAM)']"
      ]
     },
     "execution_count": 169,
     "metadata": {},
     "output_type": "execute_result"
    }
   ],
   "source": [
    "BN"
   ]
  },
  {
   "cell_type": "code",
   "execution_count": 157,
   "id": "7504f9f8",
   "metadata": {},
   "outputs": [],
   "source": [
    "BC=[]\n",
    "\n",
    "for i in Product_url:\n",
    "    driver.get(i)\n",
    "    time.sleep(5)\n",
    "    try:\n",
    "        BrandColor = driver.find_element(By.XPATH,'/html/body/div[1]/div/div[3]/div[1]/div[2]/div[7]/div/div/div[3]/div/div[2]/div/div[1]/table/tbody/tr[4]/td[2]/ul/li')\n",
    "        BC.append(BrandColor.text)\n",
    "    except NoSuchElementException :\n",
    "            BC.append('Not present')"
   ]
  },
  {
   "cell_type": "code",
   "execution_count": 158,
   "id": "125f0e05",
   "metadata": {},
   "outputs": [
    {
     "data": {
      "text/plain": [
       "['Not present',\n",
       " 'Not present',\n",
       " 'Not present',\n",
       " 'Jade Fog',\n",
       " 'Blue Haze',\n",
       " 'Gray Onyx',\n",
       " 'Gray Onyx',\n",
       " 'Blue Marble',\n",
       " 'Gray Onyx',\n",
       " 'Blue Marble',\n",
       " 'Blue Marble',\n",
       " 'Not present',\n",
       " 'Jade Fog',\n",
       " 'Gray Mirror',\n",
       " 'Bahama Blue',\n",
       " 'Not present',\n",
       " 'Not present',\n",
       " 'Not present',\n",
       " 'Not present',\n",
       " 'Charcoal Ink',\n",
       " 'Silver Gray',\n",
       " 'Silver Ray',\n",
       " 'Blue Void',\n",
       " 'Blue Void']"
      ]
     },
     "execution_count": 158,
     "metadata": {},
     "output_type": "execute_result"
    }
   ],
   "source": [
    "BC"
   ]
  },
  {
   "cell_type": "code",
   "execution_count": 159,
   "id": "6bfae5cf",
   "metadata": {},
   "outputs": [],
   "source": [
    "BR=[]\n",
    "\n",
    "for i in Product_url:\n",
    "    driver.get(i)\n",
    "    time.sleep(5)\n",
    "    try:\n",
    "        RAMROM = driver.find_element(By.XPATH,'/html/body/div[1]/div/div[3]/div[1]/div[2]/div[6]/div[1]/div/div[2]/ul/li[1]')\n",
    "        BR.append(RAMROM.text)\n",
    "    except NoSuchElementException :\n",
    "            BR.append('Not present')"
   ]
  },
  {
   "cell_type": "code",
   "execution_count": 160,
   "id": "34a15d24",
   "metadata": {},
   "outputs": [
    {
     "data": {
      "text/plain": [
       "['Not present',\n",
       " 'Not present',\n",
       " 'Not present',\n",
       " 'Not present',\n",
       " '8 GB RAM | 128 GB ROM',\n",
       " '12 GB RAM | 256 GB ROM',\n",
       " '6 GB RAM | 64 GB ROM',\n",
       " '12 GB RAM | 256 GB ROM',\n",
       " '8 GB RAM | 128 GB ROM',\n",
       " '8 GB RAM | 128 GB ROM',\n",
       " '6 GB RAM | 64 GB ROM',\n",
       " 'Not present',\n",
       " '12 GB RAM | 256 GB ROM',\n",
       " '6 GB RAM | 128 GB ROM',\n",
       " '8 GB RAM | 128 GB ROM',\n",
       " '12 GB RAM | 256 GB ROM',\n",
       " '12 GB RAM | 256 GB ROM',\n",
       " '12 GB RAM | 256 GB ROM',\n",
       " 'Not present',\n",
       " '12 GB RAM | 256 GB ROM',\n",
       " '8 GB RAM | 128 GB ROM',\n",
       " '12 GB RAM | 256 GB ROM',\n",
       " '12 GB RAM | 256 GB ROM',\n",
       " '8 GB RAM | 128 GB ROM']"
      ]
     },
     "execution_count": 160,
     "metadata": {},
     "output_type": "execute_result"
    }
   ],
   "source": [
    "BR"
   ]
  },
  {
   "cell_type": "code",
   "execution_count": 161,
   "id": "0902e04b",
   "metadata": {},
   "outputs": [],
   "source": [
    "PCamera=[]\n",
    "\n",
    "for i in Product_url:\n",
    "    driver.get(i)\n",
    "    time.sleep(5)\n",
    "    try:\n",
    "        PrimaryCamera = driver.find_element(By.XPATH,'/html/body/div[1]/div/div[3]/div[1]/div[2]/div[6]/div[1]/div/div[2]/ul/li[2]')\n",
    "        PCamera.append(PrimaryCamera.text)\n",
    "    except NoSuchElementException :\n",
    "            PCamera.append('Not present')"
   ]
  },
  {
   "cell_type": "code",
   "execution_count": 165,
   "id": "02189624",
   "metadata": {},
   "outputs": [
    {
     "data": {
      "text/plain": [
       "['Not present',\n",
       " 'Not present',\n",
       " 'Not present',\n",
       " '17.02 cm (6.7 inch) Display',\n",
       " '16.33 cm (6.43 inch) Display',\n",
       " '16.36 cm (6.44 inch) Full HD+ Display',\n",
       " '16.36 cm (6.44 inch) Full HD+ Display',\n",
       " '16.36 cm (6.44 inch) Full HD+ Display',\n",
       " '16.36 cm (6.44 inch) Full HD+ Display',\n",
       " '16.36 cm (6.44 inch) Full HD+ Display',\n",
       " '16.36 cm (6.44 inch) Full HD+ Display',\n",
       " '17.02 cm (6.7 inch) Display',\n",
       " 'Not present',\n",
       " '16.33 cm (6.43 inch) Display',\n",
       " '16.33 cm (6.43 inch) Display',\n",
       " '16.33 cm (6.43 inch) Display',\n",
       " '16.33 cm (6.43 inch) Display',\n",
       " '16.33 cm (6.43 inch) Display',\n",
       " 'Not present',\n",
       " '16.33 cm (6.43 inch) Display',\n",
       " '16.33 cm (6.43 inch) Display',\n",
       " '16.33 cm (6.43 inch) Display',\n",
       " '16.33 cm (6.43 inch) Display',\n",
       " '16.33 cm (6.43 inch) Display']"
      ]
     },
     "execution_count": 165,
     "metadata": {},
     "output_type": "execute_result"
    }
   ],
   "source": [
    "PCamera"
   ]
  },
  {
   "cell_type": "code",
   "execution_count": 170,
   "id": "0a995a91",
   "metadata": {},
   "outputs": [],
   "source": [
    "BCamera=[]\n",
    "\n",
    "for i in Product_url:\n",
    "    driver.get(i)\n",
    "    time.sleep(5)\n",
    "    try:\n",
    "        BackCamera = driver.find_element(By.XPATH,'/html/body/div[1]/div/div[3]/div[1]/div[2]/div[6]/div[1]/div/div[2]/ul/li[3]')\n",
    "        BCamera.append(BackCamera.text)\n",
    "    except NoSuchElementException :\n",
    "            BCamera.append('Not present')"
   ]
  },
  {
   "cell_type": "code",
   "execution_count": 171,
   "id": "b593d9e2",
   "metadata": {},
   "outputs": [
    {
     "data": {
      "text/plain": [
       "['Not present',\n",
       " 'Not present',\n",
       " 'Not present',\n",
       " '50MP Rear Camera',\n",
       " 'Not present',\n",
       " '48MP + 8MP | 32MP + 8MP Dual Front Camera',\n",
       " '48MP + 8MP | 32MP + 8MP Dual Front Camera',\n",
       " '48MP + 8MP | 32MP + 8MP Dual Front Camera',\n",
       " '48MP + 8MP | 32MP + 8MP Dual Front Camera',\n",
       " '48MP + 8MP | 32MP + 8MP Dual Front Camera',\n",
       " '48MP + 8MP | 32MP + 8MP Dual Front Camera',\n",
       " '50MP Rear Camera',\n",
       " '50MP Rear Camera',\n",
       " '64MP Rear Camera',\n",
       " '64MP Rear Camera',\n",
       " '50MP Rear Camera',\n",
       " '50MP Rear Camera',\n",
       " '50MP Rear Camera',\n",
       " 'Not present',\n",
       " '64MP Rear Camera',\n",
       " '64MP Rear Camera',\n",
       " '64MP Rear Camera',\n",
       " '64MP Rear Camera',\n",
       " '64MP Rear Camera']"
      ]
     },
     "execution_count": 171,
     "metadata": {},
     "output_type": "execute_result"
    }
   ],
   "source": [
    "BCamera"
   ]
  },
  {
   "cell_type": "code",
   "execution_count": 174,
   "id": "025bf7c9",
   "metadata": {},
   "outputs": [],
   "source": [
    "BCap=[]\n",
    "\n",
    "for i in Product_url:\n",
    "    driver.get(i)\n",
    "    time.sleep(5)\n",
    "    try:\n",
    "        BatteryCapacity = driver.find_element(By.XPATH,'/html/body/div[1]/div/div[3]/div[1]/div[2]/div[6]/div[1]/div/div[2]/ul/li[4]')\n",
    "        BCap.append(BatteryCapacity.text)\n",
    "    except NoSuchElementException :\n",
    "            BCap.append('Not present')"
   ]
  },
  {
   "cell_type": "code",
   "execution_count": 175,
   "id": "77dc5a1d",
   "metadata": {},
   "outputs": [
    {
     "data": {
      "text/plain": [
       "['Not present',\n",
       " 'Not present',\n",
       " 'Not present',\n",
       " 'Not present',\n",
       " '4500 mAh Battery',\n",
       " '4115 mAh Battery',\n",
       " '4115 mAh Battery',\n",
       " '4115 mAh Battery',\n",
       " '4115 mAh Battery',\n",
       " '4115 mAh Battery',\n",
       " '4115 mAh Battery',\n",
       " '4500 mAh Battery',\n",
       " '4500 mAh Battery',\n",
       " 'Not present',\n",
       " '4500 mAh Battery',\n",
       " '4500 mAh Battery',\n",
       " '4500 mAh Battery',\n",
       " 'Not present',\n",
       " 'Not present',\n",
       " '4500 mAh Battery',\n",
       " '4500 mAh Battery',\n",
       " '4500 mAh Battery',\n",
       " '4500 mAh Battery',\n",
       " '4500 mAh Battery']"
      ]
     },
     "execution_count": 175,
     "metadata": {},
     "output_type": "execute_result"
    }
   ],
   "source": [
    "BCap"
   ]
  },
  {
   "cell_type": "code",
   "execution_count": 176,
   "id": "4de515f5",
   "metadata": {},
   "outputs": [],
   "source": [
    "Price=[]\n",
    "\n",
    "for i in Product_url:\n",
    "    driver.get(i)\n",
    "    time.sleep(5)\n",
    "    try:\n",
    "        MobilePrice = driver.find_element(By.XPATH,'/html/body/div[1]/div/div[3]/div[1]/div[2]/div[2]/div/div[3]/div[1]/div/div')\n",
    "        Price.append(MobilePrice.text)\n",
    "    except NoSuchElementException :\n",
    "            Price.append('Not present')"
   ]
  },
  {
   "cell_type": "code",
   "execution_count": 177,
   "id": "aba2b3e4",
   "metadata": {},
   "outputs": [
    {
     "data": {
      "text/plain": [
       "['₹19,795',\n",
       " 'Not present',\n",
       " '₹21,999',\n",
       " '₹28,990',\n",
       " '₹29,125',\n",
       " '₹29,999',\n",
       " '₹24,999',\n",
       " '₹29,999',\n",
       " '₹27,999',\n",
       " '₹27,999',\n",
       " '₹24,999',\n",
       " '₹31,999',\n",
       " '₹31,999',\n",
       " '₹23,990',\n",
       " '₹24,990',\n",
       " '₹34,999',\n",
       " '₹37,550',\n",
       " '₹34,990',\n",
       " '₹21,880',\n",
       " '₹27,900',\n",
       " '₹24,999',\n",
       " '₹26,999',\n",
       " '₹27,999',\n",
       " '₹24,900']"
      ]
     },
     "execution_count": 177,
     "metadata": {},
     "output_type": "execute_result"
    }
   ],
   "source": [
    "Price"
   ]
  },
  {
   "cell_type": "code",
   "execution_count": 178,
   "id": "e139427f",
   "metadata": {},
   "outputs": [
    {
     "data": {
      "text/plain": [
       "(24, 24, 24, 24, 24, 24, 24, 24)"
      ]
     },
     "execution_count": 178,
     "metadata": {},
     "output_type": "execute_result"
    }
   ],
   "source": [
    "len(Product_url),len(BN),len(BC),len(BR),len(PCamera),len(BCamera),len(BCap),len(Price)"
   ]
  },
  {
   "cell_type": "code",
   "execution_count": 179,
   "id": "2de0b40c",
   "metadata": {},
   "outputs": [
    {
     "data": {
      "text/html": [
       "<div>\n",
       "<style scoped>\n",
       "    .dataframe tbody tr th:only-of-type {\n",
       "        vertical-align: middle;\n",
       "    }\n",
       "\n",
       "    .dataframe tbody tr th {\n",
       "        vertical-align: top;\n",
       "    }\n",
       "\n",
       "    .dataframe thead th {\n",
       "        text-align: right;\n",
       "    }\n",
       "</style>\n",
       "<table border=\"1\" class=\"dataframe\">\n",
       "  <thead>\n",
       "    <tr style=\"text-align: right;\">\n",
       "      <th></th>\n",
       "      <th>Product_url</th>\n",
       "      <th>BrandName_SmartPhoneName</th>\n",
       "      <th>PhoneColor</th>\n",
       "      <th>PhoneRam_Rom</th>\n",
       "      <th>FrontCamera</th>\n",
       "      <th>RareCamera</th>\n",
       "      <th>BatteryCapacity</th>\n",
       "      <th>Price</th>\n",
       "    </tr>\n",
       "  </thead>\n",
       "  <tbody>\n",
       "    <tr>\n",
       "      <th>0</th>\n",
       "      <td>https://www.flipkart.com/oneplus-nord-ce-2-lit...</td>\n",
       "      <td>OnePlus Nord CE 2 Lite 5G (Black Dusk, 128 GB)...</td>\n",
       "      <td>Not present</td>\n",
       "      <td>Not present</td>\n",
       "      <td>Not present</td>\n",
       "      <td>Not present</td>\n",
       "      <td>Not present</td>\n",
       "      <td>₹19,795</td>\n",
       "    </tr>\n",
       "    <tr>\n",
       "      <th>1</th>\n",
       "      <td>https://www.flipkart.com/oneplus-nord-ce-2-lit...</td>\n",
       "      <td>OnePlus Nord CE 2 Lite 5G (Blue Tide, 128 GB) ...</td>\n",
       "      <td>Not present</td>\n",
       "      <td>Not present</td>\n",
       "      <td>Not present</td>\n",
       "      <td>Not present</td>\n",
       "      <td>Not present</td>\n",
       "      <td>Not present</td>\n",
       "    </tr>\n",
       "    <tr>\n",
       "      <th>2</th>\n",
       "      <td>https://www.flipkart.com/oneplus-nord-ce-2-lit...</td>\n",
       "      <td>OnePlus Nord CE 2 Lite 5G (Blue Tide, 128 GB) ...</td>\n",
       "      <td>Not present</td>\n",
       "      <td>Not present</td>\n",
       "      <td>Not present</td>\n",
       "      <td>Not present</td>\n",
       "      <td>Not present</td>\n",
       "      <td>₹21,999</td>\n",
       "    </tr>\n",
       "    <tr>\n",
       "      <th>3</th>\n",
       "      <td>https://www.flipkart.com/oneplus-nord-2t-5g-ja...</td>\n",
       "      <td>OnePlus Nord 2T 5G (Jade Fog, 128 GB)  (8 GB RAM)</td>\n",
       "      <td>Jade Fog</td>\n",
       "      <td>Not present</td>\n",
       "      <td>17.02 cm (6.7 inch) Display</td>\n",
       "      <td>50MP Rear Camera</td>\n",
       "      <td>Not present</td>\n",
       "      <td>₹28,990</td>\n",
       "    </tr>\n",
       "    <tr>\n",
       "      <th>4</th>\n",
       "      <td>https://www.flipkart.com/oneplus-nord-2-5g-blu...</td>\n",
       "      <td>OnePlus Nord 2 5G (Blue Haze, 128 GB)  (8 GB RAM)</td>\n",
       "      <td>Blue Haze</td>\n",
       "      <td>8 GB RAM | 128 GB ROM</td>\n",
       "      <td>16.33 cm (6.43 inch) Display</td>\n",
       "      <td>Not present</td>\n",
       "      <td>4500 mAh Battery</td>\n",
       "      <td>₹29,125</td>\n",
       "    </tr>\n",
       "    <tr>\n",
       "      <th>5</th>\n",
       "      <td>https://www.flipkart.com/oneplus-nord-gray-ony...</td>\n",
       "      <td>OnePlus Nord (Gray Onyx, 256 GB)  (12 GB RAM)</td>\n",
       "      <td>Gray Onyx</td>\n",
       "      <td>12 GB RAM | 256 GB ROM</td>\n",
       "      <td>16.36 cm (6.44 inch) Full HD+ Display</td>\n",
       "      <td>48MP + 8MP | 32MP + 8MP Dual Front Camera</td>\n",
       "      <td>4115 mAh Battery</td>\n",
       "      <td>₹29,999</td>\n",
       "    </tr>\n",
       "    <tr>\n",
       "      <th>6</th>\n",
       "      <td>https://www.flipkart.com/oneplus-nord-gray-ony...</td>\n",
       "      <td>OnePlus Nord (Gray Onyx, 64 GB)  (6 GB RAM)</td>\n",
       "      <td>Gray Onyx</td>\n",
       "      <td>6 GB RAM | 64 GB ROM</td>\n",
       "      <td>16.36 cm (6.44 inch) Full HD+ Display</td>\n",
       "      <td>48MP + 8MP | 32MP + 8MP Dual Front Camera</td>\n",
       "      <td>4115 mAh Battery</td>\n",
       "      <td>₹24,999</td>\n",
       "    </tr>\n",
       "    <tr>\n",
       "      <th>7</th>\n",
       "      <td>https://www.flipkart.com/oneplus-nord-blue-mar...</td>\n",
       "      <td>OnePlus Nord (Blue Marble, 256 GB)  (12 GB RAM)</td>\n",
       "      <td>Blue Marble</td>\n",
       "      <td>12 GB RAM | 256 GB ROM</td>\n",
       "      <td>16.36 cm (6.44 inch) Full HD+ Display</td>\n",
       "      <td>48MP + 8MP | 32MP + 8MP Dual Front Camera</td>\n",
       "      <td>4115 mAh Battery</td>\n",
       "      <td>₹29,999</td>\n",
       "    </tr>\n",
       "    <tr>\n",
       "      <th>8</th>\n",
       "      <td>https://www.flipkart.com/oneplus-nord-gray-ony...</td>\n",
       "      <td>OnePlus Nord (Gray Onyx, 128 GB)  (8 GB RAM)</td>\n",
       "      <td>Gray Onyx</td>\n",
       "      <td>8 GB RAM | 128 GB ROM</td>\n",
       "      <td>16.36 cm (6.44 inch) Full HD+ Display</td>\n",
       "      <td>48MP + 8MP | 32MP + 8MP Dual Front Camera</td>\n",
       "      <td>4115 mAh Battery</td>\n",
       "      <td>₹27,999</td>\n",
       "    </tr>\n",
       "    <tr>\n",
       "      <th>9</th>\n",
       "      <td>https://www.flipkart.com/oneplus-nord-blue-mar...</td>\n",
       "      <td>OnePlus Nord (Blue Marble, 128 GB)  (8 GB RAM)</td>\n",
       "      <td>Blue Marble</td>\n",
       "      <td>8 GB RAM | 128 GB ROM</td>\n",
       "      <td>16.36 cm (6.44 inch) Full HD+ Display</td>\n",
       "      <td>48MP + 8MP | 32MP + 8MP Dual Front Camera</td>\n",
       "      <td>4115 mAh Battery</td>\n",
       "      <td>₹27,999</td>\n",
       "    </tr>\n",
       "    <tr>\n",
       "      <th>10</th>\n",
       "      <td>https://www.flipkart.com/oneplus-nord-blue-mar...</td>\n",
       "      <td>OnePlus Nord (Blue Marble, 64 GB)  (6 GB RAM)</td>\n",
       "      <td>Blue Marble</td>\n",
       "      <td>6 GB RAM | 64 GB ROM</td>\n",
       "      <td>16.36 cm (6.44 inch) Full HD+ Display</td>\n",
       "      <td>48MP + 8MP | 32MP + 8MP Dual Front Camera</td>\n",
       "      <td>4115 mAh Battery</td>\n",
       "      <td>₹24,999</td>\n",
       "    </tr>\n",
       "    <tr>\n",
       "      <th>11</th>\n",
       "      <td>https://www.flipkart.com/oneplus-nord-2t-5g-gr...</td>\n",
       "      <td>OnePlus Nord 2T 5G (Gray Shadow, 256 GB)  (12 ...</td>\n",
       "      <td>Not present</td>\n",
       "      <td>Not present</td>\n",
       "      <td>17.02 cm (6.7 inch) Display</td>\n",
       "      <td>50MP Rear Camera</td>\n",
       "      <td>4500 mAh Battery</td>\n",
       "      <td>₹31,999</td>\n",
       "    </tr>\n",
       "    <tr>\n",
       "      <th>12</th>\n",
       "      <td>https://www.flipkart.com/oneplus-nord-2t-5g-ja...</td>\n",
       "      <td>OnePlus Nord 2T 5G (Jade Fog, 256 GB)  (12 GB ...</td>\n",
       "      <td>Jade Fog</td>\n",
       "      <td>12 GB RAM | 256 GB ROM</td>\n",
       "      <td>Not present</td>\n",
       "      <td>50MP Rear Camera</td>\n",
       "      <td>4500 mAh Battery</td>\n",
       "      <td>₹31,999</td>\n",
       "    </tr>\n",
       "    <tr>\n",
       "      <th>13</th>\n",
       "      <td>https://www.flipkart.com/oneplus-nord-ce-2-5g-...</td>\n",
       "      <td>OnePlus Nord CE 2 5G (Gray Mirror, 128 GB)  (6...</td>\n",
       "      <td>Gray Mirror</td>\n",
       "      <td>6 GB RAM | 128 GB ROM</td>\n",
       "      <td>16.33 cm (6.43 inch) Display</td>\n",
       "      <td>64MP Rear Camera</td>\n",
       "      <td>Not present</td>\n",
       "      <td>₹23,990</td>\n",
       "    </tr>\n",
       "    <tr>\n",
       "      <th>14</th>\n",
       "      <td>https://www.flipkart.com/oneplus-nord-ce-2-5g-...</td>\n",
       "      <td>OnePlus Nord CE 2 5G (Bahama Blue, 128 GB)  (8...</td>\n",
       "      <td>Bahama Blue</td>\n",
       "      <td>8 GB RAM | 128 GB ROM</td>\n",
       "      <td>16.33 cm (6.43 inch) Display</td>\n",
       "      <td>64MP Rear Camera</td>\n",
       "      <td>4500 mAh Battery</td>\n",
       "      <td>₹24,990</td>\n",
       "    </tr>\n",
       "    <tr>\n",
       "      <th>15</th>\n",
       "      <td>https://www.flipkart.com/oneplus-nord-2-5g-gre...</td>\n",
       "      <td>OnePlus Nord 2 5G (Green Wood, 256 GB)  (12 GB...</td>\n",
       "      <td>Not present</td>\n",
       "      <td>12 GB RAM | 256 GB ROM</td>\n",
       "      <td>16.33 cm (6.43 inch) Display</td>\n",
       "      <td>50MP Rear Camera</td>\n",
       "      <td>4500 mAh Battery</td>\n",
       "      <td>₹34,999</td>\n",
       "    </tr>\n",
       "    <tr>\n",
       "      <th>16</th>\n",
       "      <td>https://www.flipkart.com/oneplus-nord-2-5g-pac...</td>\n",
       "      <td>OnePlus Nord 2 5G (PAC-MAN, 256 GB)  (12 GB RAM)</td>\n",
       "      <td>Not present</td>\n",
       "      <td>12 GB RAM | 256 GB ROM</td>\n",
       "      <td>16.33 cm (6.43 inch) Display</td>\n",
       "      <td>50MP Rear Camera</td>\n",
       "      <td>4500 mAh Battery</td>\n",
       "      <td>₹37,550</td>\n",
       "    </tr>\n",
       "    <tr>\n",
       "      <th>17</th>\n",
       "      <td>https://www.flipkart.com/oneplus-nord-2-5g-gra...</td>\n",
       "      <td>OnePlus Nord 2 5G (Gray Sierra, 256 GB)  (12 G...</td>\n",
       "      <td>Not present</td>\n",
       "      <td>12 GB RAM | 256 GB ROM</td>\n",
       "      <td>16.33 cm (6.43 inch) Display</td>\n",
       "      <td>50MP Rear Camera</td>\n",
       "      <td>Not present</td>\n",
       "      <td>₹34,990</td>\n",
       "    </tr>\n",
       "    <tr>\n",
       "      <th>18</th>\n",
       "      <td>https://www.flipkart.com/oneplus-nord-ce-2-lit...</td>\n",
       "      <td>OnePlus Nord CE 2 Lite 5G (Black Dusk, 128 GB)...</td>\n",
       "      <td>Not present</td>\n",
       "      <td>Not present</td>\n",
       "      <td>Not present</td>\n",
       "      <td>Not present</td>\n",
       "      <td>Not present</td>\n",
       "      <td>₹21,880</td>\n",
       "    </tr>\n",
       "    <tr>\n",
       "      <th>19</th>\n",
       "      <td>https://www.flipkart.com/oneplus-nord-ce-5g-ch...</td>\n",
       "      <td>OnePlus Nord CE 5G (Charcoal Ink, 256 GB)  (12...</td>\n",
       "      <td>Charcoal Ink</td>\n",
       "      <td>12 GB RAM | 256 GB ROM</td>\n",
       "      <td>16.33 cm (6.43 inch) Display</td>\n",
       "      <td>64MP Rear Camera</td>\n",
       "      <td>4500 mAh Battery</td>\n",
       "      <td>₹27,900</td>\n",
       "    </tr>\n",
       "    <tr>\n",
       "      <th>20</th>\n",
       "      <td>https://www.flipkart.com/oneplus-nord-ce-5g-si...</td>\n",
       "      <td>OnePlus Nord CE 5G (Silver Gray, 128 GB)  (8 G...</td>\n",
       "      <td>Silver Gray</td>\n",
       "      <td>8 GB RAM | 128 GB ROM</td>\n",
       "      <td>16.33 cm (6.43 inch) Display</td>\n",
       "      <td>64MP Rear Camera</td>\n",
       "      <td>4500 mAh Battery</td>\n",
       "      <td>₹24,999</td>\n",
       "    </tr>\n",
       "    <tr>\n",
       "      <th>21</th>\n",
       "      <td>https://www.flipkart.com/oneplus-nord-ce-5g-si...</td>\n",
       "      <td>OnePlus Nord CE 5G (Silver Ray, 256 GB)  (12 G...</td>\n",
       "      <td>Silver Ray</td>\n",
       "      <td>12 GB RAM | 256 GB ROM</td>\n",
       "      <td>16.33 cm (6.43 inch) Display</td>\n",
       "      <td>64MP Rear Camera</td>\n",
       "      <td>4500 mAh Battery</td>\n",
       "      <td>₹26,999</td>\n",
       "    </tr>\n",
       "    <tr>\n",
       "      <th>22</th>\n",
       "      <td>https://www.flipkart.com/oneplus-nord-ce-5g-bl...</td>\n",
       "      <td>OnePlus Nord CE 5G (Blue Void, 256 GB)  (12 GB...</td>\n",
       "      <td>Blue Void</td>\n",
       "      <td>12 GB RAM | 256 GB ROM</td>\n",
       "      <td>16.33 cm (6.43 inch) Display</td>\n",
       "      <td>64MP Rear Camera</td>\n",
       "      <td>4500 mAh Battery</td>\n",
       "      <td>₹27,999</td>\n",
       "    </tr>\n",
       "    <tr>\n",
       "      <th>23</th>\n",
       "      <td>https://www.flipkart.com/oneplus-nord-ce-5g-bl...</td>\n",
       "      <td>OnePlus Nord CE 5G (Blue Void, 128 GB)  (8 GB ...</td>\n",
       "      <td>Blue Void</td>\n",
       "      <td>8 GB RAM | 128 GB ROM</td>\n",
       "      <td>16.33 cm (6.43 inch) Display</td>\n",
       "      <td>64MP Rear Camera</td>\n",
       "      <td>4500 mAh Battery</td>\n",
       "      <td>₹24,900</td>\n",
       "    </tr>\n",
       "  </tbody>\n",
       "</table>\n",
       "</div>"
      ],
      "text/plain": [
       "                                          Product_url  \\\n",
       "0   https://www.flipkart.com/oneplus-nord-ce-2-lit...   \n",
       "1   https://www.flipkart.com/oneplus-nord-ce-2-lit...   \n",
       "2   https://www.flipkart.com/oneplus-nord-ce-2-lit...   \n",
       "3   https://www.flipkart.com/oneplus-nord-2t-5g-ja...   \n",
       "4   https://www.flipkart.com/oneplus-nord-2-5g-blu...   \n",
       "5   https://www.flipkart.com/oneplus-nord-gray-ony...   \n",
       "6   https://www.flipkart.com/oneplus-nord-gray-ony...   \n",
       "7   https://www.flipkart.com/oneplus-nord-blue-mar...   \n",
       "8   https://www.flipkart.com/oneplus-nord-gray-ony...   \n",
       "9   https://www.flipkart.com/oneplus-nord-blue-mar...   \n",
       "10  https://www.flipkart.com/oneplus-nord-blue-mar...   \n",
       "11  https://www.flipkart.com/oneplus-nord-2t-5g-gr...   \n",
       "12  https://www.flipkart.com/oneplus-nord-2t-5g-ja...   \n",
       "13  https://www.flipkart.com/oneplus-nord-ce-2-5g-...   \n",
       "14  https://www.flipkart.com/oneplus-nord-ce-2-5g-...   \n",
       "15  https://www.flipkart.com/oneplus-nord-2-5g-gre...   \n",
       "16  https://www.flipkart.com/oneplus-nord-2-5g-pac...   \n",
       "17  https://www.flipkart.com/oneplus-nord-2-5g-gra...   \n",
       "18  https://www.flipkart.com/oneplus-nord-ce-2-lit...   \n",
       "19  https://www.flipkart.com/oneplus-nord-ce-5g-ch...   \n",
       "20  https://www.flipkart.com/oneplus-nord-ce-5g-si...   \n",
       "21  https://www.flipkart.com/oneplus-nord-ce-5g-si...   \n",
       "22  https://www.flipkart.com/oneplus-nord-ce-5g-bl...   \n",
       "23  https://www.flipkart.com/oneplus-nord-ce-5g-bl...   \n",
       "\n",
       "                             BrandName_SmartPhoneName    PhoneColor  \\\n",
       "0   OnePlus Nord CE 2 Lite 5G (Black Dusk, 128 GB)...   Not present   \n",
       "1   OnePlus Nord CE 2 Lite 5G (Blue Tide, 128 GB) ...   Not present   \n",
       "2   OnePlus Nord CE 2 Lite 5G (Blue Tide, 128 GB) ...   Not present   \n",
       "3   OnePlus Nord 2T 5G (Jade Fog, 128 GB)  (8 GB RAM)      Jade Fog   \n",
       "4   OnePlus Nord 2 5G (Blue Haze, 128 GB)  (8 GB RAM)     Blue Haze   \n",
       "5       OnePlus Nord (Gray Onyx, 256 GB)  (12 GB RAM)     Gray Onyx   \n",
       "6         OnePlus Nord (Gray Onyx, 64 GB)  (6 GB RAM)     Gray Onyx   \n",
       "7     OnePlus Nord (Blue Marble, 256 GB)  (12 GB RAM)   Blue Marble   \n",
       "8        OnePlus Nord (Gray Onyx, 128 GB)  (8 GB RAM)     Gray Onyx   \n",
       "9      OnePlus Nord (Blue Marble, 128 GB)  (8 GB RAM)   Blue Marble   \n",
       "10      OnePlus Nord (Blue Marble, 64 GB)  (6 GB RAM)   Blue Marble   \n",
       "11  OnePlus Nord 2T 5G (Gray Shadow, 256 GB)  (12 ...   Not present   \n",
       "12  OnePlus Nord 2T 5G (Jade Fog, 256 GB)  (12 GB ...      Jade Fog   \n",
       "13  OnePlus Nord CE 2 5G (Gray Mirror, 128 GB)  (6...   Gray Mirror   \n",
       "14  OnePlus Nord CE 2 5G (Bahama Blue, 128 GB)  (8...   Bahama Blue   \n",
       "15  OnePlus Nord 2 5G (Green Wood, 256 GB)  (12 GB...   Not present   \n",
       "16   OnePlus Nord 2 5G (PAC-MAN, 256 GB)  (12 GB RAM)   Not present   \n",
       "17  OnePlus Nord 2 5G (Gray Sierra, 256 GB)  (12 G...   Not present   \n",
       "18  OnePlus Nord CE 2 Lite 5G (Black Dusk, 128 GB)...   Not present   \n",
       "19  OnePlus Nord CE 5G (Charcoal Ink, 256 GB)  (12...  Charcoal Ink   \n",
       "20  OnePlus Nord CE 5G (Silver Gray, 128 GB)  (8 G...   Silver Gray   \n",
       "21  OnePlus Nord CE 5G (Silver Ray, 256 GB)  (12 G...    Silver Ray   \n",
       "22  OnePlus Nord CE 5G (Blue Void, 256 GB)  (12 GB...     Blue Void   \n",
       "23  OnePlus Nord CE 5G (Blue Void, 128 GB)  (8 GB ...     Blue Void   \n",
       "\n",
       "              PhoneRam_Rom                            FrontCamera  \\\n",
       "0              Not present                            Not present   \n",
       "1              Not present                            Not present   \n",
       "2              Not present                            Not present   \n",
       "3              Not present            17.02 cm (6.7 inch) Display   \n",
       "4    8 GB RAM | 128 GB ROM           16.33 cm (6.43 inch) Display   \n",
       "5   12 GB RAM | 256 GB ROM  16.36 cm (6.44 inch) Full HD+ Display   \n",
       "6     6 GB RAM | 64 GB ROM  16.36 cm (6.44 inch) Full HD+ Display   \n",
       "7   12 GB RAM | 256 GB ROM  16.36 cm (6.44 inch) Full HD+ Display   \n",
       "8    8 GB RAM | 128 GB ROM  16.36 cm (6.44 inch) Full HD+ Display   \n",
       "9    8 GB RAM | 128 GB ROM  16.36 cm (6.44 inch) Full HD+ Display   \n",
       "10    6 GB RAM | 64 GB ROM  16.36 cm (6.44 inch) Full HD+ Display   \n",
       "11             Not present            17.02 cm (6.7 inch) Display   \n",
       "12  12 GB RAM | 256 GB ROM                            Not present   \n",
       "13   6 GB RAM | 128 GB ROM           16.33 cm (6.43 inch) Display   \n",
       "14   8 GB RAM | 128 GB ROM           16.33 cm (6.43 inch) Display   \n",
       "15  12 GB RAM | 256 GB ROM           16.33 cm (6.43 inch) Display   \n",
       "16  12 GB RAM | 256 GB ROM           16.33 cm (6.43 inch) Display   \n",
       "17  12 GB RAM | 256 GB ROM           16.33 cm (6.43 inch) Display   \n",
       "18             Not present                            Not present   \n",
       "19  12 GB RAM | 256 GB ROM           16.33 cm (6.43 inch) Display   \n",
       "20   8 GB RAM | 128 GB ROM           16.33 cm (6.43 inch) Display   \n",
       "21  12 GB RAM | 256 GB ROM           16.33 cm (6.43 inch) Display   \n",
       "22  12 GB RAM | 256 GB ROM           16.33 cm (6.43 inch) Display   \n",
       "23   8 GB RAM | 128 GB ROM           16.33 cm (6.43 inch) Display   \n",
       "\n",
       "                                   RareCamera   BatteryCapacity        Price  \n",
       "0                                 Not present       Not present      ₹19,795  \n",
       "1                                 Not present       Not present  Not present  \n",
       "2                                 Not present       Not present      ₹21,999  \n",
       "3                            50MP Rear Camera       Not present      ₹28,990  \n",
       "4                                 Not present  4500 mAh Battery      ₹29,125  \n",
       "5   48MP + 8MP | 32MP + 8MP Dual Front Camera  4115 mAh Battery      ₹29,999  \n",
       "6   48MP + 8MP | 32MP + 8MP Dual Front Camera  4115 mAh Battery      ₹24,999  \n",
       "7   48MP + 8MP | 32MP + 8MP Dual Front Camera  4115 mAh Battery      ₹29,999  \n",
       "8   48MP + 8MP | 32MP + 8MP Dual Front Camera  4115 mAh Battery      ₹27,999  \n",
       "9   48MP + 8MP | 32MP + 8MP Dual Front Camera  4115 mAh Battery      ₹27,999  \n",
       "10  48MP + 8MP | 32MP + 8MP Dual Front Camera  4115 mAh Battery      ₹24,999  \n",
       "11                           50MP Rear Camera  4500 mAh Battery      ₹31,999  \n",
       "12                           50MP Rear Camera  4500 mAh Battery      ₹31,999  \n",
       "13                           64MP Rear Camera       Not present      ₹23,990  \n",
       "14                           64MP Rear Camera  4500 mAh Battery      ₹24,990  \n",
       "15                           50MP Rear Camera  4500 mAh Battery      ₹34,999  \n",
       "16                           50MP Rear Camera  4500 mAh Battery      ₹37,550  \n",
       "17                           50MP Rear Camera       Not present      ₹34,990  \n",
       "18                                Not present       Not present      ₹21,880  \n",
       "19                           64MP Rear Camera  4500 mAh Battery      ₹27,900  \n",
       "20                           64MP Rear Camera  4500 mAh Battery      ₹24,999  \n",
       "21                           64MP Rear Camera  4500 mAh Battery      ₹26,999  \n",
       "22                           64MP Rear Camera  4500 mAh Battery      ₹27,999  \n",
       "23                           64MP Rear Camera  4500 mAh Battery      ₹24,900  "
      ]
     },
     "execution_count": 179,
     "metadata": {},
     "output_type": "execute_result"
    }
   ],
   "source": [
    "Product = pd.DataFrame()\n",
    "Product['Product_url'] = Product_url\n",
    "Product['BrandName_SmartPhoneName'] = BN\n",
    "Product['PhoneColor'] = BC\n",
    "Product['PhoneRam_Rom'] = BR\n",
    "Product['FrontCamera'] = PCamera\n",
    "Product['RareCamera'] = BCamera\n",
    "Product['BatteryCapacity'] = BCap\n",
    "Product['Price'] = Price\n",
    "Product"
   ]
  },
  {
   "cell_type": "code",
   "execution_count": 181,
   "id": "1152b7ac",
   "metadata": {},
   "outputs": [],
   "source": [
    "Product.to_csv(r'D:\\I\\02.Flip Robo Assignments\\SmartPhone.csv', index=False)"
   ]
  },
  {
   "cell_type": "code",
   "execution_count": null,
   "id": "112e1df4",
   "metadata": {},
   "outputs": [],
   "source": []
  },
  {
   "cell_type": "code",
   "execution_count": null,
   "id": "d6b8087e",
   "metadata": {},
   "outputs": [],
   "source": []
  },
  {
   "cell_type": "code",
   "execution_count": null,
   "id": "ecad5987",
   "metadata": {},
   "outputs": [],
   "source": [
    "#Q5"
   ]
  },
  {
   "cell_type": "code",
   "execution_count": 142,
   "id": "9c0636fa",
   "metadata": {},
   "outputs": [
    {
     "name": "stderr",
     "output_type": "stream",
     "text": [
      "C:\\Users\\COTMAC\\AppData\\Local\\Temp/ipykernel_13720/2295598310.py:2: DeprecationWarning: executable_path has been deprecated, please pass in a Service object\n",
      "  driver = webdriver.Chrome(r'C:\\Users\\COTMAC\\Downloads\\chromedriver_win32\\chromedriver.exe')\n"
     ]
    }
   ],
   "source": [
    "# Connect to webdriver\n",
    "driver = webdriver.Chrome(r'C:\\Users\\COTMAC\\Downloads\\chromedriver_win32\\chromedriver.exe')"
   ]
  },
  {
   "cell_type": "code",
   "execution_count": 143,
   "id": "21e2b244",
   "metadata": {},
   "outputs": [],
   "source": [
    "driver.get('https://www.google.com/maps/')"
   ]
  },
  {
   "cell_type": "code",
   "execution_count": 144,
   "id": "95a20191",
   "metadata": {},
   "outputs": [],
   "source": [
    "search=driver.find_element(By.XPATH,\"/html/body/div[3]/div[9]/div[3]/div[1]/div[1]/div[1]/div[2]/form/div[2]/div[3]/div/input[1]\")\n",
    "search.click()"
   ]
  },
  {
   "cell_type": "code",
   "execution_count": 145,
   "id": "8d8d907b",
   "metadata": {},
   "outputs": [
    {
     "name": "stdout",
     "output_type": "stream",
     "text": [
      "Enter Area Name:Saudi Arabia\n"
     ]
    }
   ],
   "source": [
    "user_input=input(\"Enter Area Name:\")"
   ]
  },
  {
   "cell_type": "code",
   "execution_count": 146,
   "id": "3724d0d6",
   "metadata": {},
   "outputs": [
    {
     "data": {
      "text/plain": [
       "'Saudi Arabia'"
      ]
     },
     "execution_count": 146,
     "metadata": {},
     "output_type": "execute_result"
    }
   ],
   "source": [
    "user_input"
   ]
  },
  {
   "cell_type": "code",
   "execution_count": 147,
   "id": "f6397436",
   "metadata": {},
   "outputs": [],
   "source": [
    "search.send_keys(user_input)"
   ]
  },
  {
   "cell_type": "code",
   "execution_count": 148,
   "id": "59da2375",
   "metadata": {},
   "outputs": [],
   "source": [
    "search3=driver.find_element(By.XPATH,\"/html/body/div[3]/div[9]/div[3]/div[1]/div[1]/div[1]/div[2]/div[1]/button\")\n",
    "search3.click()\n",
    "time.sleep(5)"
   ]
  },
  {
   "cell_type": "code",
   "execution_count": 151,
   "id": "12aa3a81",
   "metadata": {},
   "outputs": [],
   "source": [
    "url_string = driver.current_url"
   ]
  },
  {
   "cell_type": "code",
   "execution_count": 152,
   "id": "038834d9",
   "metadata": {},
   "outputs": [
    {
     "data": {
      "text/plain": [
       "'https://www.google.com/maps/place/%D8%A7%D9%84%D8%B3%D8%B9%D9%88%D8%AF%D9%8A%D8%A9%E2%80%AD/@24.222142,45.0741,5z/data=!4m5!3m4!1s0x15e7b33fe7952a41:0x5960504bc21ab69b!8m2!3d23.885942!4d45.079162'"
      ]
     },
     "execution_count": 152,
     "metadata": {},
     "output_type": "execute_result"
    }
   ],
   "source": [
    "url_string"
   ]
  },
  {
   "cell_type": "code",
   "execution_count": 153,
   "id": "b3ff483e",
   "metadata": {},
   "outputs": [],
   "source": [
    "url=[]\n",
    "for i in range(len(url_string)):\n",
    "    url.append(url_string[i].split('/'))"
   ]
  },
  {
   "cell_type": "raw",
   "id": "a65a1d58",
   "metadata": {},
   "source": []
  },
  {
   "cell_type": "code",
   "execution_count": 154,
   "id": "ba1982b0",
   "metadata": {},
   "outputs": [],
   "source": [
    "import re"
   ]
  },
  {
   "cell_type": "code",
   "execution_count": 155,
   "id": "3ffac48c",
   "metadata": {},
   "outputs": [
    {
     "name": "stdout",
     "output_type": "stream",
     "text": [
      "['https:', '', 'www.google.com', 'maps', 'place', '%D8%A7%D9%84%D8%B3%D8%B9%D9%88%D8%AF%D9%8A%D8%A9%E2%80%AD', '@24.222142,45.0741,5z', 'data=!4m5!3m4!1s0x15e7b33fe7952a41:0x5960504bc21ab69b!8m2!3d23.885942!4d45.079162']\n"
     ]
    }
   ],
   "source": [
    "print(re.split('/',url_string))"
   ]
  },
  {
   "cell_type": "code",
   "execution_count": 156,
   "id": "c762e62c",
   "metadata": {},
   "outputs": [
    {
     "data": {
      "text/plain": [
       "'@24.222142,45.0741,5z/'"
      ]
     },
     "execution_count": 156,
     "metadata": {},
     "output_type": "execute_result"
    }
   ],
   "source": [
    "url_string[92:114]"
   ]
  },
  {
   "cell_type": "code",
   "execution_count": null,
   "id": "48215859",
   "metadata": {},
   "outputs": [],
   "source": []
  },
  {
   "cell_type": "code",
   "execution_count": 150,
   "id": "e740d0f1",
   "metadata": {},
   "outputs": [
    {
     "name": "stdout",
     "output_type": "stream",
     "text": [
      "URL Extracted:  https://www.google.com/maps/place/%D8%A7%D9%84%D8%B3%D8%B9%D9%88%D8%AF%D9%8A%D8%A9%E2%80%AD/@24.222142,45.0741,5z/data=!4m5!3m4!1s0x15e7b33fe7952a41:0x5960504bc21ab69b!8m2!3d23.885942!4d45.079162\n",
      "Latitude = 24.222142, Longitude = 45.0741\n"
     ]
    }
   ],
   "source": [
    "try:\n",
    "\n",
    "    url_string = driver.current_url\n",
    "\n",
    "    print(\"URL Extracted: \", url_string)\n",
    "\n",
    "    lat_lng = re.findall(r'@(.*)data',url_string)\n",
    "\n",
    "    if len(lat_lng):\n",
    "\n",
    "        lat_lng_list = lat_lng[0].split(\",\")\n",
    "\n",
    "        if len(lat_lng_list)>=2:\n",
    "\n",
    "            lat = lat_lng_list[0]\n",
    "\n",
    "            lng = lat_lng_list[1]\n",
    "\n",
    "        print(\"Latitude = {}, Longitude = {}\".format(lat, lng))\n",
    "\n",
    "\n",
    "\n",
    "except Exception as e:\n",
    "\n",
    "        print(\"Error: \", str(e))"
   ]
  },
  {
   "cell_type": "code",
   "execution_count": null,
   "id": "cfed64b2",
   "metadata": {},
   "outputs": [],
   "source": []
  },
  {
   "cell_type": "code",
   "execution_count": 58,
   "id": "b6f2230f",
   "metadata": {},
   "outputs": [],
   "source": []
  },
  {
   "cell_type": "code",
   "execution_count": null,
   "id": "4a4a90a2",
   "metadata": {},
   "outputs": [],
   "source": []
  },
  {
   "cell_type": "code",
   "execution_count": 88,
   "id": "88a9f5fe",
   "metadata": {},
   "outputs": [],
   "source": []
  },
  {
   "cell_type": "code",
   "execution_count": null,
   "id": "90771bdd",
   "metadata": {},
   "outputs": [],
   "source": []
  },
  {
   "cell_type": "code",
   "execution_count": 93,
   "id": "15a41cbd",
   "metadata": {},
   "outputs": [],
   "source": []
  },
  {
   "cell_type": "code",
   "execution_count": null,
   "id": "65b30c58",
   "metadata": {},
   "outputs": [],
   "source": []
  },
  {
   "cell_type": "code",
   "execution_count": 95,
   "id": "2e03046c",
   "metadata": {},
   "outputs": [],
   "source": [
    "#Q7"
   ]
  },
  {
   "cell_type": "code",
   "execution_count": 454,
   "id": "22424d53",
   "metadata": {},
   "outputs": [
    {
     "name": "stderr",
     "output_type": "stream",
     "text": [
      "C:\\Users\\COTMAC\\AppData\\Local\\Temp/ipykernel_13720/2295598310.py:2: DeprecationWarning: executable_path has been deprecated, please pass in a Service object\n",
      "  driver = webdriver.Chrome(r'C:\\Users\\COTMAC\\Downloads\\chromedriver_win32\\chromedriver.exe')\n"
     ]
    }
   ],
   "source": [
    "# Connect to webdriver\n",
    "driver = webdriver.Chrome(r'C:\\Users\\COTMAC\\Downloads\\chromedriver_win32\\chromedriver.exe')"
   ]
  },
  {
   "cell_type": "code",
   "execution_count": 455,
   "id": "64d8fe93",
   "metadata": {},
   "outputs": [],
   "source": [
    "driver.get('https://www.digit.in/')"
   ]
  },
  {
   "cell_type": "code",
   "execution_count": 456,
   "id": "595aa273",
   "metadata": {},
   "outputs": [],
   "source": [
    "search1=driver.find_element(By.XPATH,\"/html/body/div[1]/div/div[4]/ul/li[4]/a\")\n",
    "search1.click()\n",
    "time.sleep(5)"
   ]
  },
  {
   "cell_type": "code",
   "execution_count": 457,
   "id": "b80a1a05",
   "metadata": {},
   "outputs": [],
   "source": [
    "search2=driver.find_element(By.XPATH,\"/html/body/div[3]/div/div/div[2]/div[5]/div[1]/div/button[2]\")\n",
    "search2.click()\n",
    "time.sleep(5)"
   ]
  },
  {
   "cell_type": "code",
   "execution_count": 458,
   "id": "ab275226",
   "metadata": {},
   "outputs": [],
   "source": [
    "search3=driver.find_element(By.XPATH,\"/html/body/div[3]/div/div/div[2]/div[5]/div[3]/div[3]/a/div[2]/p\")\n",
    "search3.click()\n",
    "time.sleep(5)"
   ]
  },
  {
   "cell_type": "code",
   "execution_count": 460,
   "id": "bda1c0a9",
   "metadata": {},
   "outputs": [
    {
     "data": {
      "text/plain": [
       "0"
      ]
     },
     "execution_count": 460,
     "metadata": {},
     "output_type": "execute_result"
    }
   ],
   "source": [
    "Laptop_Name = driver.find_elements(By.XPATH,'//div[@class=\"data-title\"]')\n",
    "len(Laptop_Name)"
   ]
  },
  {
   "cell_type": "code",
   "execution_count": null,
   "id": "f33a0158",
   "metadata": {},
   "outputs": [],
   "source": []
  },
  {
   "cell_type": "code",
   "execution_count": null,
   "id": "b076062d",
   "metadata": {},
   "outputs": [],
   "source": []
  },
  {
   "cell_type": "code",
   "execution_count": 132,
   "id": "37505657",
   "metadata": {},
   "outputs": [],
   "source": []
  },
  {
   "cell_type": "code",
   "execution_count": 189,
   "id": "4993dfd4",
   "metadata": {},
   "outputs": [
    {
     "data": {
      "text/plain": [
       "10"
      ]
     },
     "execution_count": 189,
     "metadata": {},
     "output_type": "execute_result"
    }
   ],
   "source": [
    "Laptop_Spec = driver.find_elements(By.XPATH,'//div[@class=\"Product-specs\"]')\n",
    "len(Laptop_Spec)"
   ]
  },
  {
   "cell_type": "code",
   "execution_count": 194,
   "id": "ebf4626b",
   "metadata": {},
   "outputs": [],
   "source": [
    "Laptop_Spec1=[]\n",
    "\n",
    "for i in Laptop_Spec:\n",
    "    #driver.get(i)\n",
    "    time.sleep(5)\n",
    "    try:\n",
    "        #BrandName = driver.find_element(By.XPATH,'/html/body/div[1]/div/div[3]/div[1]/div[2]/div[2]/div/div[1]/h1/span')\n",
    "        Laptop_Spec1.append(i.text)\n",
    "    except NoSuchElementException :\n",
    "        Laptop_Spec1.append('Not present')"
   ]
  },
  {
   "cell_type": "code",
   "execution_count": 195,
   "id": "4a2171cb",
   "metadata": {},
   "outputs": [
    {
     "data": {
      "text/plain": [
       "['WINDOWS 11 HOME OS\\n17.3\" (3840 X 2160) DISPLAY\\n12TH GEN INTEL CORE I9-12900HX | NA PROCESSOR\\n2 TB SSD/64 GB DDR5 MEMORY\\nFULL SPECS OTHER MSI LAPTOPS',\n",
       " 'WINDOWS 11 HOME OS\\n17.3\" (1920X1080) DISPLAY\\n12TH GEN INTEL CORE I9-12900HK | 5.00 GHZ PROCESSOR\\n1 TB SSD/32 GB DDR5 MEMORY\\nFULL SPECS OTHER DELL LAPTOPS',\n",
       " 'WINDOWS 11 HOME OS\\n16\" (2560 X 1600) DISPLAY\\n12TH GEN INTEL CORE I7-12700H | 3.50 GHZ PROCESSOR\\n2 TB SSD/32 GB DDR5 MEMORY\\nFULL SPECS OTHER ACER LAPTOPS',\n",
       " 'WINDOWS 11 HOME OS\\n16.1\" (2560 X 1440) DISPLAY\\n12TH GEN INTEL CORE I7-12700H | 4.7 GHZ PROCESSOR\\n1 TB SSD/8 GB DDR5 MEMORY\\nFULL SPECS OTHER HP LAPTOPS',\n",
       " 'WINDOWS 11 HOME OS\\n15.6\" (2560 X 1440) DISPLAY\\nAMD RYZEN 9-5900HX | NA PROCESSOR\\n512 GB SSD/16 GB DDR4 MEMORY\\nFULL SPECS OTHER ACER LAPTOPS',\n",
       " 'WINDOWS 11 HOME OS\\n15.6\" (1920 X 1080) DISPLAY\\nAMD 5TH GEN RYZEN 9-5900HX | 3.3GHZ PROCESSOR\\n1 TB SSD/16 GB DDR4 MEMORY\\nFULL SPECS OTHER MSI LAPTOPS',\n",
       " 'WINDOWS 11 HOME OS\\n16.1\" (2560 X 1440) DISPLAY\\nAMD RYZEN™ 9 5900HX | 3.3 GHZ PROCESSOR\\n1 TB NVME/16 GB DDR4 MEMORY\\nFULL SPECS OTHER HP LAPTOPS',\n",
       " 'WINDOWS 11 HOME OS\\n16\" (2560 X 1600) DISPLAY\\n12TH GEN INTEL CORE I7-12700H | 3.50 GHZ PROCESSOR\\n1 TB SSD/16 GB DDR5 MEMORY\\nFULL SPECS OTHER LENOVO LAPTOPS',\n",
       " 'WINDOWS 11 HOME OS\\n15.6\" (1920 X 1080) DISPLAY\\nAMD RYZEN R7-5800H | 4.40 GHZ PROCESSOR\\n512 GB SSD/16 GB DDR4 MEMORY\\nFULL SPECS OTHER DELL LAPTOPS',\n",
       " 'WINDOWS 11 HOME OS\\n15.6 MP | NA DISPLAY\\nLENOVO RYZEN 7-5800H | 3.2 GHZ PROCESSOR\\n1 TB SSD/16 GB DDR4 MEMORY\\nFULL SPECS OTHER LENOVO LAPTOPS']"
      ]
     },
     "execution_count": 195,
     "metadata": {},
     "output_type": "execute_result"
    }
   ],
   "source": [
    "Laptop_Spec1"
   ]
  },
  {
   "cell_type": "code",
   "execution_count": 453,
   "id": "9e246ffe",
   "metadata": {},
   "outputs": [
    {
     "name": "stdout",
     "output_type": "stream",
     "text": [
      "Error:  expected string or bytes-like object\n"
     ]
    }
   ],
   "source": [
    "try:\n",
    "\n",
    "    laptop = re.findall(r'\\n+',Laptop_Spec1)\n",
    "    \n",
    "    for i in Laptop_Spec1>=10:\n",
    "        break\n",
    "\n",
    "    if len(laptop):\n",
    "\n",
    "        lat_lng_list = laptop.split(\"\\n\")\n",
    "\n",
    "        if len(lat_lng_list)>=4:\n",
    "\n",
    "            Windows = lat_lng_list[0]\n",
    "\n",
    "            Display = lat_lng_list[1]\n",
    "            \n",
    "            Processor = lat_lng_list[2]\n",
    "            \n",
    "            Harddisk = lat_lng_list[3]\n",
    "\n",
    "\n",
    "        print(\"Windows = {}, Display = {}, Processor = {}, Harddisk = {}\".format(Windows, Display,Processor,Harddisk))\n",
    "\n",
    "\n",
    "\n",
    "except Exception as e:\n",
    "\n",
    "        print(\"Error: \", str(e))"
   ]
  },
  {
   "cell_type": "code",
   "execution_count": null,
   "id": "2787d964",
   "metadata": {},
   "outputs": [],
   "source": [
    "#Q7"
   ]
  },
  {
   "cell_type": "code",
   "execution_count": 9,
   "id": "61b1e497",
   "metadata": {},
   "outputs": [
    {
     "name": "stderr",
     "output_type": "stream",
     "text": [
      "C:\\Users\\COTMAC\\AppData\\Local\\Temp/ipykernel_18120/1319494809.py:3: DeprecationWarning: executable_path has been deprecated, please pass in a Service object\n",
      "  driver=webdriver.Chrome(\"chromedriver.exe\")\n"
     ]
    }
   ],
   "source": [
    "# Activating the chrome browser\n",
    "\n",
    "driver=webdriver.Chrome(\"chromedriver.exe\") \n",
    "\n",
    "time.sleep(2)\n",
    "\n",
    "\n",
    "\n",
    "# opening www.digit.in\n",
    "\n",
    "url = \"https://www.digit.in/\"\n",
    "\n",
    "driver.get(url)\n",
    "\n",
    "time.sleep(2)\n",
    "\n",
    "\n",
    "\n",
    "#clicking on top 10 option \n",
    "\n",
    "#top_10=driver.find_elements(By.XPATH,\"/html/body/div[1]/div[2]/div[4]/ul/li[4]/a\")\n",
    "top_10=driver.find_element(By.XPATH,\"/html/body/div[1]/div/div[4]/ul/li[4]/a\")\n",
    "\n",
    "top_10.click()\n",
    "\n",
    "\n",
    "\n",
    "time.sleep(2)\n",
    "\n",
    "#clicking on laptops option\n",
    "\n",
    "laptops=driver.find_element(By.XPATH,\"/html/body/div[3]/div/div/div[2]/div[5]/div[1]/div/button[2]\")\n",
    "\n",
    "laptops.click()\n",
    "\n",
    "time.sleep(2)\n",
    "\n",
    "#best gaming laptops link\n",
    "\n",
    "best_gaming=driver.find_element(By.XPATH,\"//div[@id='laptops']//div[3]//a\")\n",
    "\n",
    "driver.get(best_gaming.get_attribute('href'))\n",
    "\n",
    "\n",
    "\n",
    "#intialising lists\n",
    "\n",
    "name = []\n",
    "\n",
    "Price = []\n",
    "\n",
    "OS = []\n",
    "\n",
    "display = []\n",
    "\n",
    "processor = []\n",
    "\n",
    "HDD = []\n",
    "\n",
    "RAM = []\n",
    "\n",
    "weight = []\n",
    "\n",
    "dimension = []\n",
    "\n",
    "GPU = []\n",
    "\n",
    "\n",
    "\n",
    "time.sleep(1)\n",
    "\n",
    "#scraping names\n",
    "\n",
    "names=driver.find_elements(By.XPATH,\"//div[@class='right-container']/div/a/h3\")\n",
    "\n",
    "for i in names:\n",
    "\n",
    "    name.append(i.text)\n",
    "\n",
    "\n",
    "\n",
    "time.sleep(1)\n",
    "\n",
    "#scraping operating system\n",
    "\n",
    "os=driver.find_elements(By.XPATH,\"//div[@class='product-detail']/div/ul/li[1]/div/div\")\n",
    "\n",
    "for i in os:\n",
    "\n",
    "    OS.append(i.text)\n",
    "\n",
    "\n",
    "\n",
    "time.sleep(1)\n",
    "\n",
    "#scraping display\n",
    "\n",
    "displays=driver.find_elements(By.XPATH,\"//div[@class='product-detail']/div/ul/li[2]/div/div\")\n",
    "\n",
    "for i in displays:\n",
    "\n",
    "    display.append(i.text)\n",
    "\n",
    "\n",
    "time.sleep(1)\n",
    "\n",
    "#scraping processor\n",
    "\n",
    "processors=driver.find_elements(By.XPATH,\"//div[@class='product-detail']/div/ul/li[3]/div/div\")\n",
    "\n",
    "for i in processors:\n",
    "\n",
    "    processor.append(i.text)\n",
    "\n",
    "\n",
    "\n",
    "time.sleep(1)\n",
    "\n",
    "# scraping memory\n",
    "\n",
    "memories=driver.find_elements(By.XPATH,\"//div[@class='Spcs-details'][1]/table/tbody/tr[6]/td[3]\")# extrat HDD and RAM form xpath\n",
    "\n",
    "for i in memories:\n",
    "\n",
    "    HDD.append(i.text.split(\"/\")[0])\n",
    "\n",
    "   # RAM.append(i.text.split(\"/\")[1])\n",
    "\n",
    "\n",
    "\n",
    "time.sleep(1)\n",
    "\n",
    "# scraping weight\n",
    "\n",
    "weights=driver.find_elements(By.XPATH,\"//div[@class='Spcs-details'][1]/table/tbody/tr[7]/td[3]\")# extrat weight form xpath\n",
    "\n",
    "for i in weights:\n",
    "\n",
    "    weight.append(i.text)\n"
   ]
  },
  {
   "cell_type": "code",
   "execution_count": 16,
   "id": "19169e0e",
   "metadata": {},
   "outputs": [
    {
     "data": {
      "text/plain": [
       "(10, 10, 10, 10, 10)"
      ]
     },
     "execution_count": 16,
     "metadata": {},
     "output_type": "execute_result"
    }
   ],
   "source": [
    "len(name),len(os),len(display),len(HDD),len(weight)"
   ]
  },
  {
   "cell_type": "code",
   "execution_count": 17,
   "id": "65c5d297",
   "metadata": {},
   "outputs": [
    {
     "data": {
      "text/html": [
       "<div>\n",
       "<style scoped>\n",
       "    .dataframe tbody tr th:only-of-type {\n",
       "        vertical-align: middle;\n",
       "    }\n",
       "\n",
       "    .dataframe tbody tr th {\n",
       "        vertical-align: top;\n",
       "    }\n",
       "\n",
       "    .dataframe thead th {\n",
       "        text-align: right;\n",
       "    }\n",
       "</style>\n",
       "<table border=\"1\" class=\"dataframe\">\n",
       "  <thead>\n",
       "    <tr style=\"text-align: right;\">\n",
       "      <th></th>\n",
       "      <th>name</th>\n",
       "      <th>os</th>\n",
       "      <th>display</th>\n",
       "      <th>HDD</th>\n",
       "      <th>Weight</th>\n",
       "    </tr>\n",
       "  </thead>\n",
       "  <tbody>\n",
       "    <tr>\n",
       "      <th>0</th>\n",
       "      <td>MSI TITAN GT77-12UHS</td>\n",
       "      <td>&lt;selenium.webdriver.remote.webelement.WebEleme...</td>\n",
       "      <td>17.3\" (3840 X 2160) DISPLAY</td>\n",
       "      <td>64 GB DDR5 RAM &amp; 2 TB SSD</td>\n",
       "      <td>16 GB DDR6 NVIDIA GeForce RTX 3080 Ti Graphics...</td>\n",
       "    </tr>\n",
       "    <tr>\n",
       "      <th>1</th>\n",
       "      <td>ALIENWARE X17 R2</td>\n",
       "      <td>&lt;selenium.webdriver.remote.webelement.WebEleme...</td>\n",
       "      <td>17.3\" (1920X1080) DISPLAY</td>\n",
       "      <td>32 GB DDR5 RAM &amp; 1 TB SSD</td>\n",
       "      <td>16 GB DDR6 NVIDIA GeForce RTX 3080 Ti, Graphic...</td>\n",
       "    </tr>\n",
       "    <tr>\n",
       "      <th>2</th>\n",
       "      <td>ACER PREDATOR TRITON 500 SE PT516-52S</td>\n",
       "      <td>&lt;selenium.webdriver.remote.webelement.WebEleme...</td>\n",
       "      <td>16\" (2560 X 1600) DISPLAY</td>\n",
       "      <td>32 GB DDR5 RAM &amp; 2 TB SSD</td>\n",
       "      <td>8 GB DDR6 NVIDIA GeForce RTXTM 3070 Ti Graphic...</td>\n",
       "    </tr>\n",
       "    <tr>\n",
       "      <th>3</th>\n",
       "      <td>OMEN BY HP (16-B1371TX)</td>\n",
       "      <td>&lt;selenium.webdriver.remote.webelement.WebEleme...</td>\n",
       "      <td>16.1\" (2560 X 1440) DISPLAY</td>\n",
       "      <td>8 GB DDR5 RAM &amp; 1 TB SSD</td>\n",
       "      <td>8 GB GDDR6 NVIDIA GeForce RTX 3070 Graphics card</td>\n",
       "    </tr>\n",
       "    <tr>\n",
       "      <th>4</th>\n",
       "      <td>ACER PREDATOR HELIOS 300 AN515-45 (NH.QBRSI.0</td>\n",
       "      <td>&lt;selenium.webdriver.remote.webelement.WebEleme...</td>\n",
       "      <td>15.6\" (2560 X 1440) DISPLAY</td>\n",
       "      <td>16 GB DDR4 RAM &amp; 512 GB SSD</td>\n",
       "      <td>8 GB DDR6 NVIDIA GeForce RTX 3070 Graphics card</td>\n",
       "    </tr>\n",
       "    <tr>\n",
       "      <th>5</th>\n",
       "      <td>MSI DELTA 15 (A5EFK-083IN)</td>\n",
       "      <td>&lt;selenium.webdriver.remote.webelement.WebEleme...</td>\n",
       "      <td>15.6\" (1920 X 1080) DISPLAY</td>\n",
       "      <td>16 GB DDR4 RAM &amp; 1 TB SSD</td>\n",
       "      <td>10 GB DDR6 AMD Radeon RX 6700M Graphics card</td>\n",
       "    </tr>\n",
       "    <tr>\n",
       "      <th>6</th>\n",
       "      <td>OMEN BY HP (16-C0141AX)</td>\n",
       "      <td>&lt;selenium.webdriver.remote.webelement.WebEleme...</td>\n",
       "      <td>16.1\" (2560 X 1440) DISPLAY</td>\n",
       "      <td>16 GB DDR4 RAM &amp; 1 TB NVMe</td>\n",
       "      <td>8 GB GDDR6 AMD Radeon™ RX 6600M Graphics card</td>\n",
       "    </tr>\n",
       "    <tr>\n",
       "      <th>7</th>\n",
       "      <td>LENOVO LEGION 5I PRO (82RF00MGIN)</td>\n",
       "      <td>&lt;selenium.webdriver.remote.webelement.WebEleme...</td>\n",
       "      <td>16\" (2560 X 1600) DISPLAY</td>\n",
       "      <td>16 GB DDR5 RAM &amp; 1 TB SSD</td>\n",
       "      <td>6 GB DDR6 NVIDIA GeForce RTX 3060 Graphics card</td>\n",
       "    </tr>\n",
       "    <tr>\n",
       "      <th>8</th>\n",
       "      <td>ALIENWARE M15 R5 RYZEN EDITION ICC-C780001WIN</td>\n",
       "      <td>&lt;selenium.webdriver.remote.webelement.WebEleme...</td>\n",
       "      <td>15.6\" (1920 X 1080) DISPLAY</td>\n",
       "      <td>16 GB DDR4 RAM &amp; 512 GB SSD</td>\n",
       "      <td>6 GB DDR6 NVIDIA GeForce RTX 3060 Graphics card</td>\n",
       "    </tr>\n",
       "    <tr>\n",
       "      <th>9</th>\n",
       "      <td>LENOVO SLIM 7 GEN 6 (82K8002JIN)</td>\n",
       "      <td>&lt;selenium.webdriver.remote.webelement.WebEleme...</td>\n",
       "      <td>15.6 MP | NA DISPLAY</td>\n",
       "      <td>16 GB DDR4 RAM &amp; 1 TB SSD</td>\n",
       "      <td>6 GB DDR6 NVIDIA GeForce 3060 Max-Q Graphics card</td>\n",
       "    </tr>\n",
       "  </tbody>\n",
       "</table>\n",
       "</div>"
      ],
      "text/plain": [
       "                                            name  \\\n",
       "0                           MSI TITAN GT77-12UHS   \n",
       "1                               ALIENWARE X17 R2   \n",
       "2          ACER PREDATOR TRITON 500 SE PT516-52S   \n",
       "3                        OMEN BY HP (16-B1371TX)   \n",
       "4  ACER PREDATOR HELIOS 300 AN515-45 (NH.QBRSI.0   \n",
       "5                     MSI DELTA 15 (A5EFK-083IN)   \n",
       "6                        OMEN BY HP (16-C0141AX)   \n",
       "7              LENOVO LEGION 5I PRO (82RF00MGIN)   \n",
       "8  ALIENWARE M15 R5 RYZEN EDITION ICC-C780001WIN   \n",
       "9               LENOVO SLIM 7 GEN 6 (82K8002JIN)   \n",
       "\n",
       "                                                  os  \\\n",
       "0  <selenium.webdriver.remote.webelement.WebEleme...   \n",
       "1  <selenium.webdriver.remote.webelement.WebEleme...   \n",
       "2  <selenium.webdriver.remote.webelement.WebEleme...   \n",
       "3  <selenium.webdriver.remote.webelement.WebEleme...   \n",
       "4  <selenium.webdriver.remote.webelement.WebEleme...   \n",
       "5  <selenium.webdriver.remote.webelement.WebEleme...   \n",
       "6  <selenium.webdriver.remote.webelement.WebEleme...   \n",
       "7  <selenium.webdriver.remote.webelement.WebEleme...   \n",
       "8  <selenium.webdriver.remote.webelement.WebEleme...   \n",
       "9  <selenium.webdriver.remote.webelement.WebEleme...   \n",
       "\n",
       "                       display                          HDD  \\\n",
       "0  17.3\" (3840 X 2160) DISPLAY    64 GB DDR5 RAM & 2 TB SSD   \n",
       "1    17.3\" (1920X1080) DISPLAY    32 GB DDR5 RAM & 1 TB SSD   \n",
       "2    16\" (2560 X 1600) DISPLAY    32 GB DDR5 RAM & 2 TB SSD   \n",
       "3  16.1\" (2560 X 1440) DISPLAY     8 GB DDR5 RAM & 1 TB SSD   \n",
       "4  15.6\" (2560 X 1440) DISPLAY  16 GB DDR4 RAM & 512 GB SSD   \n",
       "5  15.6\" (1920 X 1080) DISPLAY    16 GB DDR4 RAM & 1 TB SSD   \n",
       "6  16.1\" (2560 X 1440) DISPLAY   16 GB DDR4 RAM & 1 TB NVMe   \n",
       "7    16\" (2560 X 1600) DISPLAY    16 GB DDR5 RAM & 1 TB SSD   \n",
       "8  15.6\" (1920 X 1080) DISPLAY  16 GB DDR4 RAM & 512 GB SSD   \n",
       "9         15.6 MP | NA DISPLAY    16 GB DDR4 RAM & 1 TB SSD   \n",
       "\n",
       "                                              Weight  \n",
       "0  16 GB DDR6 NVIDIA GeForce RTX 3080 Ti Graphics...  \n",
       "1  16 GB DDR6 NVIDIA GeForce RTX 3080 Ti, Graphic...  \n",
       "2  8 GB DDR6 NVIDIA GeForce RTXTM 3070 Ti Graphic...  \n",
       "3   8 GB GDDR6 NVIDIA GeForce RTX 3070 Graphics card  \n",
       "4    8 GB DDR6 NVIDIA GeForce RTX 3070 Graphics card  \n",
       "5       10 GB DDR6 AMD Radeon RX 6700M Graphics card  \n",
       "6      8 GB GDDR6 AMD Radeon™ RX 6600M Graphics card  \n",
       "7    6 GB DDR6 NVIDIA GeForce RTX 3060 Graphics card  \n",
       "8    6 GB DDR6 NVIDIA GeForce RTX 3060 Graphics card  \n",
       "9  6 GB DDR6 NVIDIA GeForce 3060 Max-Q Graphics card  "
      ]
     },
     "execution_count": 17,
     "metadata": {},
     "output_type": "execute_result"
    }
   ],
   "source": [
    "Laptop=pd.DataFrame()\n",
    "Laptop[\"name\"] =name\n",
    "Laptop[\"os\"] =os\n",
    "Laptop[\"display\"] =display\n",
    "Laptop[\"HDD\"] =HDD\n",
    "Laptop[\"Weight\"] =weight\n",
    "Laptop"
   ]
  },
  {
   "cell_type": "code",
   "execution_count": 19,
   "id": "5e53d4b5",
   "metadata": {},
   "outputs": [],
   "source": [
    "Laptop.to_csv(r'D:\\I\\02.Flip Robo Assignments\\Laptop.csv', index=False)"
   ]
  },
  {
   "cell_type": "code",
   "execution_count": 204,
   "id": "673afc59",
   "metadata": {},
   "outputs": [
    {
     "name": "stderr",
     "output_type": "stream",
     "text": [
      "C:\\Users\\COTMAC\\AppData\\Local\\Temp/ipykernel_13720/2295598310.py:2: DeprecationWarning: executable_path has been deprecated, please pass in a Service object\n",
      "  driver = webdriver.Chrome(r'C:\\Users\\COTMAC\\Downloads\\chromedriver_win32\\chromedriver.exe')\n"
     ]
    }
   ],
   "source": [
    "#Q10\n",
    "# Connect to webdriver\n",
    "driver = webdriver.Chrome(r'C:\\Users\\COTMAC\\Downloads\\chromedriver_win32\\chromedriver.exe')"
   ]
  },
  {
   "cell_type": "code",
   "execution_count": 205,
   "id": "dcfbb289",
   "metadata": {},
   "outputs": [],
   "source": [
    "driver.get('https://www.hostelworld.com/')"
   ]
  },
  {
   "cell_type": "code",
   "execution_count": 207,
   "id": "79a11fb5",
   "metadata": {},
   "outputs": [],
   "source": [
    "search=driver.find_element(By.XPATH,\"/html/body/div[3]/div/div/div[1]/div[1]/div/div/div[4]/div/div[2]/div/div[1]/div/div/div/input\")\n",
    "search.click()\n",
    "time.sleep(5)"
   ]
  },
  {
   "cell_type": "code",
   "execution_count": 208,
   "id": "f0210b0e",
   "metadata": {},
   "outputs": [
    {
     "name": "stdout",
     "output_type": "stream",
     "text": [
      "Enter Location Name:London\n"
     ]
    }
   ],
   "source": [
    "user_input=input(\"Enter Location Name:\")"
   ]
  },
  {
   "cell_type": "code",
   "execution_count": 210,
   "id": "792397b2",
   "metadata": {},
   "outputs": [
    {
     "data": {
      "text/plain": [
       "'London'"
      ]
     },
     "execution_count": 210,
     "metadata": {},
     "output_type": "execute_result"
    }
   ],
   "source": [
    "user_input"
   ]
  },
  {
   "cell_type": "code",
   "execution_count": 211,
   "id": "4bfb7c67",
   "metadata": {},
   "outputs": [],
   "source": [
    "search.send_keys(user_input)"
   ]
  },
  {
   "cell_type": "code",
   "execution_count": 213,
   "id": "2f3c7105",
   "metadata": {},
   "outputs": [],
   "source": [
    "search1=driver.find_element(By.XPATH,\"/html/body/div[3]/div/div/div[1]/div[1]/div/div/div[4]/div/div[2]/div/div[1]/div/div/ul/li[2]/div\")\n",
    "search1.click()\n",
    "time.sleep(5)"
   ]
  },
  {
   "cell_type": "code",
   "execution_count": 214,
   "id": "80e703d2",
   "metadata": {},
   "outputs": [],
   "source": [
    "search2=driver.find_element(By.XPATH,\"/html/body/div[3]/div/div/div[1]/div[1]/div/div/div[4]/div/div[2]/div/div[5]/button\")\n",
    "search2.click()\n",
    "time.sleep(5)"
   ]
  },
  {
   "cell_type": "code",
   "execution_count": 246,
   "id": "9b2c66cb",
   "metadata": {},
   "outputs": [],
   "source": [
    "#Q2.#fetching url to each job\n",
    "Hostel_url=[]\n",
    "start=0\n",
    "end=1\n",
    "for page in range(start,end):\n",
    "    url=driver.find_elements(By.XPATH,'//h2[@class=\"title title-6\"]')\n",
    "    for i in url:\n",
    "        Hostel_url.append(i.get_attribute('href'))"
   ]
  },
  {
   "cell_type": "code",
   "execution_count": 247,
   "id": "48cd8453",
   "metadata": {},
   "outputs": [
    {
     "data": {
      "text/plain": [
       "30"
      ]
     },
     "execution_count": 247,
     "metadata": {},
     "output_type": "execute_result"
    }
   ],
   "source": [
    "len(Hostel_url)"
   ]
  },
  {
   "cell_type": "code",
   "execution_count": 248,
   "id": "74d2cc32",
   "metadata": {},
   "outputs": [
    {
     "data": {
      "text/plain": [
       "[None,\n",
       " None,\n",
       " None,\n",
       " None,\n",
       " None,\n",
       " None,\n",
       " None,\n",
       " None,\n",
       " None,\n",
       " None,\n",
       " None,\n",
       " None,\n",
       " None,\n",
       " None,\n",
       " None,\n",
       " None,\n",
       " None,\n",
       " None,\n",
       " None,\n",
       " None,\n",
       " None,\n",
       " None,\n",
       " None,\n",
       " None,\n",
       " None,\n",
       " None,\n",
       " None,\n",
       " None,\n",
       " None,\n",
       " None]"
      ]
     },
     "execution_count": 248,
     "metadata": {},
     "output_type": "execute_result"
    }
   ],
   "source": [
    "Hostel_url"
   ]
  },
  {
   "cell_type": "code",
   "execution_count": 249,
   "id": "b2bb58b7",
   "metadata": {},
   "outputs": [
    {
     "data": {
      "text/plain": [
       "30"
      ]
     },
     "execution_count": 249,
     "metadata": {},
     "output_type": "execute_result"
    }
   ],
   "source": [
    "Hostel_Name = driver.find_elements(By.XPATH,'//h2[@class=\"title title-6\"]')\n",
    "len(Hostel_Name)"
   ]
  },
  {
   "cell_type": "code",
   "execution_count": 250,
   "id": "266d6fda",
   "metadata": {},
   "outputs": [],
   "source": [
    "Hostel_Name1=[]\n",
    "\n",
    "for i in Hostel_Name:\n",
    "    #driver.get(i)\n",
    "    time.sleep(5)\n",
    "    try:\n",
    "        #BrandName = driver.find_element(By.XPATH,'/html/body/div[1]/div/div[3]/div[1]/div[2]/div[2]/div/div[1]/h1/span')\n",
    "        Hostel_Name1.append(i.text)\n",
    "    except NoSuchElementException :\n",
    "        Hostel_Name1.append('Not present')"
   ]
  },
  {
   "cell_type": "code",
   "execution_count": 251,
   "id": "e95fd2b6",
   "metadata": {},
   "outputs": [
    {
     "data": {
      "text/plain": [
       "['Palmers Lodge - Swiss Cottage',\n",
       " \"St Christopher's Village\",\n",
       " 'Selina Camden',\n",
       " \"Wombat's City Hostel London\",\n",
       " 'Generator London',\n",
       " 'Urbany Hostel London',\n",
       " 'Safestay London Elephant & Castle',\n",
       " 'Smart Camden Inn Hostel',\n",
       " 'No.8 Willesden Hostel London',\n",
       " 'Smart Russell Square Hostel',\n",
       " 'No.8 Seven Sisters',\n",
       " 'London Backpackers',\n",
       " 'Barmy Badger Backpackers',\n",
       " 'Safestay London Kensington Holland Park',\n",
       " 'Phoenix Hostel',\n",
       " 'Smart Hyde Park View Hostel',\n",
       " 'Queen Elizabeth Chelsea',\n",
       " 'NX London Hostel',\n",
       " 'Hostel One Notting Hill',\n",
       " \"St Christopher's Hammersmith\",\n",
       " 'Strand Continental',\n",
       " \"St Christopher's Camden\",\n",
       " 'London Waterloo Hostel',\n",
       " 'PubLove @ The White Ferry, Victoria',\n",
       " 'Clink261',\n",
       " \"St Christopher's Greenwich\",\n",
       " 'PubLove @ The Steam Engine, Waterloo',\n",
       " \"St Christopher's Shepherds Bush\",\n",
       " 'YHA London Earls Court',\n",
       " 'PubLove @ The Rose & Crown']"
      ]
     },
     "execution_count": 251,
     "metadata": {},
     "output_type": "execute_result"
    }
   ],
   "source": [
    "Hostel_Name1"
   ]
  },
  {
   "cell_type": "code",
   "execution_count": 252,
   "id": "ccbe79fa",
   "metadata": {},
   "outputs": [
    {
     "data": {
      "text/plain": [
       "33"
      ]
     },
     "execution_count": 252,
     "metadata": {},
     "output_type": "execute_result"
    }
   ],
   "source": [
    "Hostel_Distance = driver.find_elements(By.XPATH,'//div[@class=\"subtitle body-3\"]')\n",
    "len(Hostel_Distance)"
   ]
  },
  {
   "cell_type": "code",
   "execution_count": 253,
   "id": "3f10fd7e",
   "metadata": {},
   "outputs": [],
   "source": [
    "Hostel_Distance1=[]\n",
    "\n",
    "for i in Hostel_Distance:\n",
    "    #driver.get(i)\n",
    "    time.sleep(5)\n",
    "    try:\n",
    "        #BrandName = driver.find_element(By.XPATH,'/html/body/div[1]/div/div[3]/div[1]/div[2]/div[2]/div/div[1]/h1/span')\n",
    "        Hostel_Distance1.append(i.text)\n",
    "    except NoSuchElementException :\n",
    "        Hostel_Distance1.append('Not present')"
   ]
  },
  {
   "cell_type": "code",
   "execution_count": 254,
   "id": "e596be23",
   "metadata": {},
   "outputs": [
    {
     "data": {
      "text/plain": [
       "['Hostel - 6.5km from city centre',\n",
       " 'Hostel - 1.8km from city centre',\n",
       " 'Hostel - 5.5km from city centre',\n",
       " 'Hostel - 6.5km from city centre Show on Map',\n",
       " 'Hostel - 1.8km from city centre Show on Map',\n",
       " 'Hostel - 5.5km from city centre Show on Map',\n",
       " 'Hostel - 3.6km from city centre Show on Map',\n",
       " 'Hostel - 3km from city centre Show on Map',\n",
       " 'Hostel - 5.4km from city centre Show on Map',\n",
       " 'Hostel - 1.7km from city centre Show on Map',\n",
       " 'Hostel - 4.4km from city centre Show on Map',\n",
       " 'Hostel - 10km from city centre Show on Map',\n",
       " 'Hostel - 2.6km from city centre Show on Map',\n",
       " 'Hostel - 9km from city centre Show on Map',\n",
       " 'Hostel - 11.9km from city centre Show on Map',\n",
       " 'Hostel - 5.5km from city centre Show on Map',\n",
       " 'Hostel - 5.9km from city centre Show on Map',\n",
       " 'Hostel - 4.2km from city centre Show on Map',\n",
       " 'Hostel - 5km from city centre Show on Map',\n",
       " 'Hostel - 5.7km from city centre Show on Map',\n",
       " 'Hostel - 6.1km from city centre Show on Map',\n",
       " 'Hostel - 5.5km from city centre Show on Map',\n",
       " 'Hostel - 7.5km from city centre Show on Map',\n",
       " 'Hostel - 1.3km from city centre Show on Map',\n",
       " 'Hostel - 4.3km from city centre Show on Map',\n",
       " 'Hostel - 0.7km from city centre Show on Map',\n",
       " 'Hostel - 2.4km from city centre Show on Map',\n",
       " 'Hostel - 3.2km from city centre Show on Map',\n",
       " 'Hostel - 7.6km from city centre Show on Map',\n",
       " 'Hostel - 0.5km from city centre Show on Map',\n",
       " 'Hostel - 7km from city centre Show on Map',\n",
       " 'Hostel - 5.1km from city centre Show on Map',\n",
       " 'Hostel - 1.6km from city centre Show on Map']"
      ]
     },
     "execution_count": 254,
     "metadata": {},
     "output_type": "execute_result"
    }
   ],
   "source": [
    "Hostel_Distance1"
   ]
  },
  {
   "cell_type": "code",
   "execution_count": 255,
   "id": "9e8a5822",
   "metadata": {},
   "outputs": [
    {
     "data": {
      "text/plain": [
       "30"
      ]
     },
     "execution_count": 255,
     "metadata": {},
     "output_type": "execute_result"
    }
   ],
   "source": [
    "Hostel_Rating = driver.find_elements(By.XPATH,'//div[@class=\"score orange big\"]')\n",
    "len(Hostel_Rating)"
   ]
  },
  {
   "cell_type": "code",
   "execution_count": 256,
   "id": "a1e2f597",
   "metadata": {},
   "outputs": [],
   "source": [
    "Hostel_Rating1=[]\n",
    "\n",
    "for i in Hostel_Rating:\n",
    "    #driver.get(i)\n",
    "    #time.sleep(5)\n",
    "    try:\n",
    "        #BrandName = driver.find_element(By.XPATH,'/html/body/div[1]/div/div[3]/div[1]/div[2]/div[2]/div/div[1]/h1/span')\n",
    "        Hostel_Rating1.append(i.text)\n",
    "    except NoSuchElementException :\n",
    "        Hostel_Rating1.append('Not present')"
   ]
  },
  {
   "cell_type": "code",
   "execution_count": 257,
   "id": "042cf490",
   "metadata": {},
   "outputs": [
    {
     "data": {
      "text/plain": [
       "['8.8',\n",
       " '8.1',\n",
       " '8.6',\n",
       " '9.1',\n",
       " '7.7',\n",
       " '9.3',\n",
       " '7.0',\n",
       " '8.4',\n",
       " '6.8',\n",
       " '7.3',\n",
       " '6.2',\n",
       " '8.1',\n",
       " '9.0',\n",
       " '6.5',\n",
       " '7.6',\n",
       " '8.1',\n",
       " '6.7',\n",
       " '7.2',\n",
       " '9.2',\n",
       " '7.9',\n",
       " '6.9',\n",
       " '8.4',\n",
       " '6.3',\n",
       " '8.1',\n",
       " '7.8',\n",
       " '6.9',\n",
       " '8.4',\n",
       " '7.4',\n",
       " '9.5',\n",
       " '8.0']"
      ]
     },
     "execution_count": 257,
     "metadata": {},
     "output_type": "execute_result"
    }
   ],
   "source": [
    "Hostel_Rating1"
   ]
  },
  {
   "cell_type": "code",
   "execution_count": 258,
   "id": "7708d453",
   "metadata": {},
   "outputs": [
    {
     "data": {
      "text/plain": [
       "30"
      ]
     },
     "execution_count": 258,
     "metadata": {},
     "output_type": "execute_result"
    }
   ],
   "source": [
    "Hostel_TotalRating = driver.find_elements(By.XPATH,'//div[@class=\"reviews\"]')\n",
    "len(Hostel_TotalRating)"
   ]
  },
  {
   "cell_type": "code",
   "execution_count": 259,
   "id": "77abb0e5",
   "metadata": {},
   "outputs": [],
   "source": [
    "Hostel_TotalRating1=[]\n",
    "\n",
    "for i in Hostel_TotalRating:\n",
    "    #driver.get(i)\n",
    "    #time.sleep(5)\n",
    "    try:\n",
    "        #BrandName = driver.find_element(By.XPATH,'/html/body/div[1]/div/div[3]/div[1]/div[2]/div[2]/div/div[1]/h1/span')\n",
    "        Hostel_TotalRating1.append(i.text)\n",
    "    except NoSuchElementException :\n",
    "        Hostel_TotalRating1.append('Not present')"
   ]
  },
  {
   "cell_type": "code",
   "execution_count": 260,
   "id": "c4ad79de",
   "metadata": {},
   "outputs": [
    {
     "data": {
      "text/plain": [
       "['15491 Total Reviews',\n",
       " '11394 Total Reviews',\n",
       " '34 Total Reviews',\n",
       " '13868 Total Reviews',\n",
       " '7066 Total Reviews',\n",
       " '419 Total Reviews',\n",
       " '4410 Total Reviews',\n",
       " '2898 Total Reviews',\n",
       " '4805 Total Reviews',\n",
       " '9703 Total Reviews',\n",
       " '3823 Total Reviews',\n",
       " '4294 Total Reviews',\n",
       " '1792 Total Reviews',\n",
       " '1272 Total Reviews',\n",
       " '3682 Total Reviews',\n",
       " '4577 Total Reviews',\n",
       " '3305 Total Reviews',\n",
       " '1182 Total Reviews',\n",
       " '1431 Total Reviews',\n",
       " '4076 Total Reviews',\n",
       " '879 Total Reviews',\n",
       " '3812 Total Reviews',\n",
       " '2508 Total Reviews',\n",
       " '274 Total Reviews',\n",
       " '114 Total Reviews',\n",
       " '3222 Total Reviews',\n",
       " '296 Total Reviews',\n",
       " '702 Total Reviews',\n",
       " '1417 Total Reviews',\n",
       " '141 Total Reviews']"
      ]
     },
     "execution_count": 260,
     "metadata": {},
     "output_type": "execute_result"
    }
   ],
   "source": [
    "Hostel_TotalRating1"
   ]
  },
  {
   "cell_type": "code",
   "execution_count": 265,
   "id": "503f66a7",
   "metadata": {},
   "outputs": [
    {
     "data": {
      "text/plain": [
       "37"
      ]
     },
     "execution_count": 265,
     "metadata": {},
     "output_type": "execute_result"
    }
   ],
   "source": [
    "Private_Price = driver.find_elements(By.XPATH,'//div[@class=\"price title-5\"]')\n",
    "len(Private_Price)"
   ]
  },
  {
   "cell_type": "code",
   "execution_count": 266,
   "id": "846eef17",
   "metadata": {},
   "outputs": [],
   "source": [
    "Private_Price1=[]\n",
    "\n",
    "for i in Private_Price:\n",
    "    #driver.get(i)\n",
    "    #time.sleep(5)\n",
    "    try:\n",
    "        #BrandName = driver.find_element(By.XPATH,'/html/body/div[1]/div/div[3]/div[1]/div[2]/div[2]/div/div[1]/h1/span')\n",
    "        Private_Price1.append(i.text)\n",
    "    except NoSuchElementException :\n",
    "        Private_Price1.append('Not present')"
   ]
  },
  {
   "cell_type": "code",
   "execution_count": 267,
   "id": "3882fa8d",
   "metadata": {},
   "outputs": [
    {
     "data": {
      "text/plain": [
       "['SR86',\n",
       " 'SR87.43 SR79',\n",
       " 'SR1207',\n",
       " 'SR440.61 SR375',\n",
       " 'SR792.95 SR658',\n",
       " 'SR174.68 SR131',\n",
       " 'SR425',\n",
       " 'SR110',\n",
       " 'SR637',\n",
       " 'SR141',\n",
       " 'SR89',\n",
       " 'SR84',\n",
       " 'SR134',\n",
       " 'SR55',\n",
       " 'SR86',\n",
       " 'SR53',\n",
       " 'SR74',\n",
       " 'SR391',\n",
       " 'SR128',\n",
       " 'SR89',\n",
       " 'SR105.12 SR95',\n",
       " 'SR101',\n",
       " 'SR76',\n",
       " 'SR108',\n",
       " 'SR738',\n",
       " 'SR89.13 SR80',\n",
       " 'SR321',\n",
       " 'SR128',\n",
       " 'SR94.19 SR85',\n",
       " 'SR146',\n",
       " 'SR235',\n",
       " 'SR128.33 SR116',\n",
       " 'SR72.23 SR65',\n",
       " 'SR224',\n",
       " 'SR99.27 SR89',\n",
       " 'SR727',\n",
       " 'SR198']"
      ]
     },
     "execution_count": 267,
     "metadata": {},
     "output_type": "execute_result"
    }
   ],
   "source": [
    "Private_Price1"
   ]
  },
  {
   "cell_type": "code",
   "execution_count": 268,
   "id": "bc3743a3",
   "metadata": {},
   "outputs": [
    {
     "data": {
      "text/plain": [
       "(30, 33, 30, 30)"
      ]
     },
     "execution_count": 268,
     "metadata": {},
     "output_type": "execute_result"
    }
   ],
   "source": [
    "len(Hostel_Name1),len(Hostel_Distance1),len(Hostel_Rating1),len(Hostel_TotalRating1)"
   ]
  },
  {
   "cell_type": "code",
   "execution_count": 269,
   "id": "37c934f4",
   "metadata": {},
   "outputs": [],
   "source": [
    "Hostel=pd.DataFrame()\n",
    "Hostel['Hostel_Name'] = Hostel_Name1[0:30]\n",
    "Hostel['Hostel_Distance'] = Hostel_Distance1[0:30]\n",
    "Hostel['Hostel_Rating'] = Hostel_Rating1[0:30]\n",
    "Hostel['Hostel_TotalRating'] = Hostel_TotalRating1[0:30]\n"
   ]
  },
  {
   "cell_type": "code",
   "execution_count": 270,
   "id": "d1f38a84",
   "metadata": {},
   "outputs": [
    {
     "data": {
      "text/html": [
       "<div>\n",
       "<style scoped>\n",
       "    .dataframe tbody tr th:only-of-type {\n",
       "        vertical-align: middle;\n",
       "    }\n",
       "\n",
       "    .dataframe tbody tr th {\n",
       "        vertical-align: top;\n",
       "    }\n",
       "\n",
       "    .dataframe thead th {\n",
       "        text-align: right;\n",
       "    }\n",
       "</style>\n",
       "<table border=\"1\" class=\"dataframe\">\n",
       "  <thead>\n",
       "    <tr style=\"text-align: right;\">\n",
       "      <th></th>\n",
       "      <th>Hostel_Name</th>\n",
       "      <th>Hostel_Distance</th>\n",
       "      <th>Hostel_Rating</th>\n",
       "      <th>Hostel_TotalRating</th>\n",
       "    </tr>\n",
       "  </thead>\n",
       "  <tbody>\n",
       "    <tr>\n",
       "      <th>0</th>\n",
       "      <td>Palmers Lodge - Swiss Cottage</td>\n",
       "      <td>Hostel - 6.5km from city centre</td>\n",
       "      <td>8.8</td>\n",
       "      <td>15491 Total Reviews</td>\n",
       "    </tr>\n",
       "    <tr>\n",
       "      <th>1</th>\n",
       "      <td>St Christopher's Village</td>\n",
       "      <td>Hostel - 1.8km from city centre</td>\n",
       "      <td>8.1</td>\n",
       "      <td>11394 Total Reviews</td>\n",
       "    </tr>\n",
       "    <tr>\n",
       "      <th>2</th>\n",
       "      <td>Selina Camden</td>\n",
       "      <td>Hostel - 5.5km from city centre</td>\n",
       "      <td>8.6</td>\n",
       "      <td>34 Total Reviews</td>\n",
       "    </tr>\n",
       "    <tr>\n",
       "      <th>3</th>\n",
       "      <td>Wombat's City Hostel London</td>\n",
       "      <td>Hostel - 6.5km from city centre Show on Map</td>\n",
       "      <td>9.1</td>\n",
       "      <td>13868 Total Reviews</td>\n",
       "    </tr>\n",
       "    <tr>\n",
       "      <th>4</th>\n",
       "      <td>Generator London</td>\n",
       "      <td>Hostel - 1.8km from city centre Show on Map</td>\n",
       "      <td>7.7</td>\n",
       "      <td>7066 Total Reviews</td>\n",
       "    </tr>\n",
       "    <tr>\n",
       "      <th>5</th>\n",
       "      <td>Urbany Hostel London</td>\n",
       "      <td>Hostel - 5.5km from city centre Show on Map</td>\n",
       "      <td>9.3</td>\n",
       "      <td>419 Total Reviews</td>\n",
       "    </tr>\n",
       "    <tr>\n",
       "      <th>6</th>\n",
       "      <td>Safestay London Elephant &amp; Castle</td>\n",
       "      <td>Hostel - 3.6km from city centre Show on Map</td>\n",
       "      <td>7.0</td>\n",
       "      <td>4410 Total Reviews</td>\n",
       "    </tr>\n",
       "    <tr>\n",
       "      <th>7</th>\n",
       "      <td>Smart Camden Inn Hostel</td>\n",
       "      <td>Hostel - 3km from city centre Show on Map</td>\n",
       "      <td>8.4</td>\n",
       "      <td>2898 Total Reviews</td>\n",
       "    </tr>\n",
       "    <tr>\n",
       "      <th>8</th>\n",
       "      <td>No.8 Willesden Hostel London</td>\n",
       "      <td>Hostel - 5.4km from city centre Show on Map</td>\n",
       "      <td>6.8</td>\n",
       "      <td>4805 Total Reviews</td>\n",
       "    </tr>\n",
       "    <tr>\n",
       "      <th>9</th>\n",
       "      <td>Smart Russell Square Hostel</td>\n",
       "      <td>Hostel - 1.7km from city centre Show on Map</td>\n",
       "      <td>7.3</td>\n",
       "      <td>9703 Total Reviews</td>\n",
       "    </tr>\n",
       "    <tr>\n",
       "      <th>10</th>\n",
       "      <td>No.8 Seven Sisters</td>\n",
       "      <td>Hostel - 4.4km from city centre Show on Map</td>\n",
       "      <td>6.2</td>\n",
       "      <td>3823 Total Reviews</td>\n",
       "    </tr>\n",
       "    <tr>\n",
       "      <th>11</th>\n",
       "      <td>London Backpackers</td>\n",
       "      <td>Hostel - 10km from city centre Show on Map</td>\n",
       "      <td>8.1</td>\n",
       "      <td>4294 Total Reviews</td>\n",
       "    </tr>\n",
       "    <tr>\n",
       "      <th>12</th>\n",
       "      <td>Barmy Badger Backpackers</td>\n",
       "      <td>Hostel - 2.6km from city centre Show on Map</td>\n",
       "      <td>9.0</td>\n",
       "      <td>1792 Total Reviews</td>\n",
       "    </tr>\n",
       "    <tr>\n",
       "      <th>13</th>\n",
       "      <td>Safestay London Kensington Holland Park</td>\n",
       "      <td>Hostel - 9km from city centre Show on Map</td>\n",
       "      <td>6.5</td>\n",
       "      <td>1272 Total Reviews</td>\n",
       "    </tr>\n",
       "    <tr>\n",
       "      <th>14</th>\n",
       "      <td>Phoenix Hostel</td>\n",
       "      <td>Hostel - 11.9km from city centre Show on Map</td>\n",
       "      <td>7.6</td>\n",
       "      <td>3682 Total Reviews</td>\n",
       "    </tr>\n",
       "    <tr>\n",
       "      <th>15</th>\n",
       "      <td>Smart Hyde Park View Hostel</td>\n",
       "      <td>Hostel - 5.5km from city centre Show on Map</td>\n",
       "      <td>8.1</td>\n",
       "      <td>4577 Total Reviews</td>\n",
       "    </tr>\n",
       "    <tr>\n",
       "      <th>16</th>\n",
       "      <td>Queen Elizabeth Chelsea</td>\n",
       "      <td>Hostel - 5.9km from city centre Show on Map</td>\n",
       "      <td>6.7</td>\n",
       "      <td>3305 Total Reviews</td>\n",
       "    </tr>\n",
       "    <tr>\n",
       "      <th>17</th>\n",
       "      <td>NX London Hostel</td>\n",
       "      <td>Hostel - 4.2km from city centre Show on Map</td>\n",
       "      <td>7.2</td>\n",
       "      <td>1182 Total Reviews</td>\n",
       "    </tr>\n",
       "    <tr>\n",
       "      <th>18</th>\n",
       "      <td>Hostel One Notting Hill</td>\n",
       "      <td>Hostel - 5km from city centre Show on Map</td>\n",
       "      <td>9.2</td>\n",
       "      <td>1431 Total Reviews</td>\n",
       "    </tr>\n",
       "    <tr>\n",
       "      <th>19</th>\n",
       "      <td>St Christopher's Hammersmith</td>\n",
       "      <td>Hostel - 5.7km from city centre Show on Map</td>\n",
       "      <td>7.9</td>\n",
       "      <td>4076 Total Reviews</td>\n",
       "    </tr>\n",
       "    <tr>\n",
       "      <th>20</th>\n",
       "      <td>Strand Continental</td>\n",
       "      <td>Hostel - 6.1km from city centre Show on Map</td>\n",
       "      <td>6.9</td>\n",
       "      <td>879 Total Reviews</td>\n",
       "    </tr>\n",
       "    <tr>\n",
       "      <th>21</th>\n",
       "      <td>St Christopher's Camden</td>\n",
       "      <td>Hostel - 5.5km from city centre Show on Map</td>\n",
       "      <td>8.4</td>\n",
       "      <td>3812 Total Reviews</td>\n",
       "    </tr>\n",
       "    <tr>\n",
       "      <th>22</th>\n",
       "      <td>London Waterloo Hostel</td>\n",
       "      <td>Hostel - 7.5km from city centre Show on Map</td>\n",
       "      <td>6.3</td>\n",
       "      <td>2508 Total Reviews</td>\n",
       "    </tr>\n",
       "    <tr>\n",
       "      <th>23</th>\n",
       "      <td>PubLove @ The White Ferry, Victoria</td>\n",
       "      <td>Hostel - 1.3km from city centre Show on Map</td>\n",
       "      <td>8.1</td>\n",
       "      <td>274 Total Reviews</td>\n",
       "    </tr>\n",
       "    <tr>\n",
       "      <th>24</th>\n",
       "      <td>Clink261</td>\n",
       "      <td>Hostel - 4.3km from city centre Show on Map</td>\n",
       "      <td>7.8</td>\n",
       "      <td>114 Total Reviews</td>\n",
       "    </tr>\n",
       "    <tr>\n",
       "      <th>25</th>\n",
       "      <td>St Christopher's Greenwich</td>\n",
       "      <td>Hostel - 0.7km from city centre Show on Map</td>\n",
       "      <td>6.9</td>\n",
       "      <td>3222 Total Reviews</td>\n",
       "    </tr>\n",
       "    <tr>\n",
       "      <th>26</th>\n",
       "      <td>PubLove @ The Steam Engine, Waterloo</td>\n",
       "      <td>Hostel - 2.4km from city centre Show on Map</td>\n",
       "      <td>8.4</td>\n",
       "      <td>296 Total Reviews</td>\n",
       "    </tr>\n",
       "    <tr>\n",
       "      <th>27</th>\n",
       "      <td>St Christopher's Shepherds Bush</td>\n",
       "      <td>Hostel - 3.2km from city centre Show on Map</td>\n",
       "      <td>7.4</td>\n",
       "      <td>702 Total Reviews</td>\n",
       "    </tr>\n",
       "    <tr>\n",
       "      <th>28</th>\n",
       "      <td>YHA London Earls Court</td>\n",
       "      <td>Hostel - 7.6km from city centre Show on Map</td>\n",
       "      <td>9.5</td>\n",
       "      <td>1417 Total Reviews</td>\n",
       "    </tr>\n",
       "    <tr>\n",
       "      <th>29</th>\n",
       "      <td>PubLove @ The Rose &amp; Crown</td>\n",
       "      <td>Hostel - 0.5km from city centre Show on Map</td>\n",
       "      <td>8.0</td>\n",
       "      <td>141 Total Reviews</td>\n",
       "    </tr>\n",
       "  </tbody>\n",
       "</table>\n",
       "</div>"
      ],
      "text/plain": [
       "                                Hostel_Name  \\\n",
       "0             Palmers Lodge - Swiss Cottage   \n",
       "1                  St Christopher's Village   \n",
       "2                             Selina Camden   \n",
       "3               Wombat's City Hostel London   \n",
       "4                          Generator London   \n",
       "5                      Urbany Hostel London   \n",
       "6         Safestay London Elephant & Castle   \n",
       "7                   Smart Camden Inn Hostel   \n",
       "8              No.8 Willesden Hostel London   \n",
       "9               Smart Russell Square Hostel   \n",
       "10                       No.8 Seven Sisters   \n",
       "11                       London Backpackers   \n",
       "12                 Barmy Badger Backpackers   \n",
       "13  Safestay London Kensington Holland Park   \n",
       "14                           Phoenix Hostel   \n",
       "15              Smart Hyde Park View Hostel   \n",
       "16                  Queen Elizabeth Chelsea   \n",
       "17                         NX London Hostel   \n",
       "18                  Hostel One Notting Hill   \n",
       "19             St Christopher's Hammersmith   \n",
       "20                       Strand Continental   \n",
       "21                  St Christopher's Camden   \n",
       "22                   London Waterloo Hostel   \n",
       "23      PubLove @ The White Ferry, Victoria   \n",
       "24                                 Clink261   \n",
       "25               St Christopher's Greenwich   \n",
       "26     PubLove @ The Steam Engine, Waterloo   \n",
       "27          St Christopher's Shepherds Bush   \n",
       "28                   YHA London Earls Court   \n",
       "29               PubLove @ The Rose & Crown   \n",
       "\n",
       "                                 Hostel_Distance Hostel_Rating  \\\n",
       "0                Hostel - 6.5km from city centre           8.8   \n",
       "1                Hostel - 1.8km from city centre           8.1   \n",
       "2                Hostel - 5.5km from city centre           8.6   \n",
       "3    Hostel - 6.5km from city centre Show on Map           9.1   \n",
       "4    Hostel - 1.8km from city centre Show on Map           7.7   \n",
       "5    Hostel - 5.5km from city centre Show on Map           9.3   \n",
       "6    Hostel - 3.6km from city centre Show on Map           7.0   \n",
       "7      Hostel - 3km from city centre Show on Map           8.4   \n",
       "8    Hostel - 5.4km from city centre Show on Map           6.8   \n",
       "9    Hostel - 1.7km from city centre Show on Map           7.3   \n",
       "10   Hostel - 4.4km from city centre Show on Map           6.2   \n",
       "11    Hostel - 10km from city centre Show on Map           8.1   \n",
       "12   Hostel - 2.6km from city centre Show on Map           9.0   \n",
       "13     Hostel - 9km from city centre Show on Map           6.5   \n",
       "14  Hostel - 11.9km from city centre Show on Map           7.6   \n",
       "15   Hostel - 5.5km from city centre Show on Map           8.1   \n",
       "16   Hostel - 5.9km from city centre Show on Map           6.7   \n",
       "17   Hostel - 4.2km from city centre Show on Map           7.2   \n",
       "18     Hostel - 5km from city centre Show on Map           9.2   \n",
       "19   Hostel - 5.7km from city centre Show on Map           7.9   \n",
       "20   Hostel - 6.1km from city centre Show on Map           6.9   \n",
       "21   Hostel - 5.5km from city centre Show on Map           8.4   \n",
       "22   Hostel - 7.5km from city centre Show on Map           6.3   \n",
       "23   Hostel - 1.3km from city centre Show on Map           8.1   \n",
       "24   Hostel - 4.3km from city centre Show on Map           7.8   \n",
       "25   Hostel - 0.7km from city centre Show on Map           6.9   \n",
       "26   Hostel - 2.4km from city centre Show on Map           8.4   \n",
       "27   Hostel - 3.2km from city centre Show on Map           7.4   \n",
       "28   Hostel - 7.6km from city centre Show on Map           9.5   \n",
       "29   Hostel - 0.5km from city centre Show on Map           8.0   \n",
       "\n",
       "     Hostel_TotalRating  \n",
       "0   15491 Total Reviews  \n",
       "1   11394 Total Reviews  \n",
       "2      34 Total Reviews  \n",
       "3   13868 Total Reviews  \n",
       "4    7066 Total Reviews  \n",
       "5     419 Total Reviews  \n",
       "6    4410 Total Reviews  \n",
       "7    2898 Total Reviews  \n",
       "8    4805 Total Reviews  \n",
       "9    9703 Total Reviews  \n",
       "10   3823 Total Reviews  \n",
       "11   4294 Total Reviews  \n",
       "12   1792 Total Reviews  \n",
       "13   1272 Total Reviews  \n",
       "14   3682 Total Reviews  \n",
       "15   4577 Total Reviews  \n",
       "16   3305 Total Reviews  \n",
       "17   1182 Total Reviews  \n",
       "18   1431 Total Reviews  \n",
       "19   4076 Total Reviews  \n",
       "20    879 Total Reviews  \n",
       "21   3812 Total Reviews  \n",
       "22   2508 Total Reviews  \n",
       "23    274 Total Reviews  \n",
       "24    114 Total Reviews  \n",
       "25   3222 Total Reviews  \n",
       "26    296 Total Reviews  \n",
       "27    702 Total Reviews  \n",
       "28   1417 Total Reviews  \n",
       "29    141 Total Reviews  "
      ]
     },
     "execution_count": 270,
     "metadata": {},
     "output_type": "execute_result"
    }
   ],
   "source": [
    "Hostel"
   ]
  },
  {
   "cell_type": "code",
   "execution_count": 271,
   "id": "001a637e",
   "metadata": {},
   "outputs": [],
   "source": [
    "Hostel.to_csv(r'D:\\I\\02.Flip Robo Assignments\\HostelName.csv', index=False)"
   ]
  },
  {
   "cell_type": "code",
   "execution_count": null,
   "id": "ed840e86",
   "metadata": {},
   "outputs": [],
   "source": []
  },
  {
   "cell_type": "code",
   "execution_count": 320,
   "id": "8fc9c41c",
   "metadata": {},
   "outputs": [],
   "source": [
    "#Q8"
   ]
  },
  {
   "cell_type": "code",
   "execution_count": 321,
   "id": "8a7ccd9d",
   "metadata": {},
   "outputs": [
    {
     "name": "stderr",
     "output_type": "stream",
     "text": [
      "C:\\Users\\COTMAC\\AppData\\Local\\Temp/ipykernel_13720/2295598310.py:2: DeprecationWarning: executable_path has been deprecated, please pass in a Service object\n",
      "  driver = webdriver.Chrome(r'C:\\Users\\COTMAC\\Downloads\\chromedriver_win32\\chromedriver.exe')\n"
     ]
    }
   ],
   "source": [
    "# Connect to webdriver\n",
    "driver = webdriver.Chrome(r'C:\\Users\\COTMAC\\Downloads\\chromedriver_win32\\chromedriver.exe')"
   ]
  },
  {
   "cell_type": "code",
   "execution_count": 322,
   "id": "7eb47260",
   "metadata": {},
   "outputs": [],
   "source": [
    "driver.get('https://www.forbes.com/')"
   ]
  },
  {
   "cell_type": "code",
   "execution_count": 323,
   "id": "ed0cce63",
   "metadata": {},
   "outputs": [],
   "source": [
    "search3=driver.find_element(By.XPATH,\"/html/body/div[1]/header/nav/div[1]/button[1]\")\n",
    "search3.click()\n",
    "time.sleep(5)"
   ]
  },
  {
   "cell_type": "code",
   "execution_count": 324,
   "id": "0a91e3e3",
   "metadata": {},
   "outputs": [],
   "source": [
    "search4=driver.find_element(By.XPATH,\"/html/body/div[1]/header/nav/div[3]/ul/li[1]\")\n",
    "search4.click()\n",
    "time.sleep(5)"
   ]
  },
  {
   "cell_type": "code",
   "execution_count": 325,
   "id": "85b1fbe1",
   "metadata": {},
   "outputs": [],
   "source": [
    "search5=driver.find_element(By.XPATH,\"/html/body/div[1]/header/nav/div[3]/ul/li[1]/div[2]/ul/li[2]/a\")\n",
    "search5.click()\n",
    "time.sleep(5)"
   ]
  },
  {
   "cell_type": "code",
   "execution_count": 326,
   "id": "d064335d",
   "metadata": {},
   "outputs": [
    {
     "data": {
      "text/plain": [
       "200"
      ]
     },
     "execution_count": 326,
     "metadata": {},
     "output_type": "execute_result"
    }
   ],
   "source": [
    "B_Rank = driver.find_elements(By.XPATH,'//div[@class=\"rank\"]')\n",
    "len(B_Rank)"
   ]
  },
  {
   "cell_type": "code",
   "execution_count": 327,
   "id": "bc3577b2",
   "metadata": {},
   "outputs": [],
   "source": [
    "B_Rank1=[]\n",
    "\n",
    "for i in B_Rank:\n",
    "    #driver.get(i)\n",
    "    #time.sleep(5)\n",
    "    try:\n",
    "        #BrandName = driver.find_element(By.XPATH,'/html/body/div[1]/div/div[3]/div[1]/div[2]/div[2]/div/div[1]/h1/span')\n",
    "        B_Rank1.append(i.text)\n",
    "    except NoSuchElementException :\n",
    "        B_Rank1.append('Not present')"
   ]
  },
  {
   "cell_type": "code",
   "execution_count": 328,
   "id": "130c1cbd",
   "metadata": {},
   "outputs": [
    {
     "data": {
      "text/plain": [
       "['1.',\n",
       " '2.',\n",
       " '3.',\n",
       " '4.',\n",
       " '5.',\n",
       " '6.',\n",
       " '7.',\n",
       " '8.',\n",
       " '9.',\n",
       " '10.',\n",
       " '11.',\n",
       " '12.',\n",
       " '13.',\n",
       " '14.',\n",
       " '15.',\n",
       " '16.',\n",
       " '17.',\n",
       " '18.',\n",
       " '19.',\n",
       " '19.',\n",
       " '21.',\n",
       " '21.',\n",
       " '23.',\n",
       " '24.',\n",
       " '25.',\n",
       " '26.',\n",
       " '27.',\n",
       " '28.',\n",
       " '29.',\n",
       " '30.',\n",
       " '31.',\n",
       " '32.',\n",
       " '33.',\n",
       " '34.',\n",
       " '35.',\n",
       " '36.',\n",
       " '37.',\n",
       " '37.',\n",
       " '39.',\n",
       " '40.',\n",
       " '41.',\n",
       " '41.',\n",
       " '43.',\n",
       " '43.',\n",
       " '45.',\n",
       " '46.',\n",
       " '47.',\n",
       " '48.',\n",
       " '49.',\n",
       " '50.',\n",
       " '51.',\n",
       " '52.',\n",
       " '53.',\n",
       " '54.',\n",
       " '55.',\n",
       " '56.',\n",
       " '56.',\n",
       " '56.',\n",
       " '59.',\n",
       " '60.',\n",
       " '61.',\n",
       " '62.',\n",
       " '63.',\n",
       " '64.',\n",
       " '65.',\n",
       " '66.',\n",
       " '67.',\n",
       " '67.',\n",
       " '69.',\n",
       " '70.',\n",
       " '71.',\n",
       " '71.',\n",
       " '73.',\n",
       " '74.',\n",
       " '75.',\n",
       " '76.',\n",
       " '77.',\n",
       " '78.',\n",
       " '79.',\n",
       " '80.',\n",
       " '81.',\n",
       " '82.',\n",
       " '83.',\n",
       " '84.',\n",
       " '85.',\n",
       " '85.',\n",
       " '87.',\n",
       " '88.',\n",
       " '89.',\n",
       " '90.',\n",
       " '91.',\n",
       " '91.',\n",
       " '91.',\n",
       " '94.',\n",
       " '94.',\n",
       " '96.',\n",
       " '97.',\n",
       " '98.',\n",
       " '99.',\n",
       " '100.',\n",
       " '100.',\n",
       " '102.',\n",
       " '103.',\n",
       " '104.',\n",
       " '104.',\n",
       " '106.',\n",
       " '106.',\n",
       " '106.',\n",
       " '106.',\n",
       " '110.',\n",
       " '111.',\n",
       " '112.',\n",
       " '113.',\n",
       " '114.',\n",
       " '115.',\n",
       " '116.',\n",
       " '117.',\n",
       " '117.',\n",
       " '119.',\n",
       " '119.',\n",
       " '121.',\n",
       " '121.',\n",
       " '123.',\n",
       " '123.',\n",
       " '125.',\n",
       " '126.',\n",
       " '127.',\n",
       " '128.',\n",
       " '129.',\n",
       " '130.',\n",
       " '130.',\n",
       " '132.',\n",
       " '133.',\n",
       " '134.',\n",
       " '135.',\n",
       " '135.',\n",
       " '137.',\n",
       " '138.',\n",
       " '138.',\n",
       " '138.',\n",
       " '138.',\n",
       " '142.',\n",
       " '142.',\n",
       " '144.',\n",
       " '144.',\n",
       " '146.',\n",
       " '146.',\n",
       " '146.',\n",
       " '149.',\n",
       " '150.',\n",
       " '151.',\n",
       " '152.',\n",
       " '152.',\n",
       " '154.',\n",
       " '154.',\n",
       " '156.',\n",
       " '156.',\n",
       " '158.',\n",
       " '158.',\n",
       " '158.',\n",
       " '161.',\n",
       " '161.',\n",
       " '163.',\n",
       " '163.',\n",
       " '163.',\n",
       " '166.',\n",
       " '167.',\n",
       " '167.',\n",
       " '167.',\n",
       " '167.',\n",
       " '171.',\n",
       " '171.',\n",
       " '173.',\n",
       " '173.',\n",
       " '173.',\n",
       " '173.',\n",
       " '177.',\n",
       " '177.',\n",
       " '179.',\n",
       " '180.',\n",
       " '180.',\n",
       " '180.',\n",
       " '183.',\n",
       " '183.',\n",
       " '185.',\n",
       " '185.',\n",
       " '185.',\n",
       " '188.',\n",
       " '188.',\n",
       " '188.',\n",
       " '191.',\n",
       " '192.',\n",
       " '192.',\n",
       " '192.',\n",
       " '192.',\n",
       " '192.',\n",
       " '197.',\n",
       " '197.',\n",
       " '197.',\n",
       " '197.']"
      ]
     },
     "execution_count": 328,
     "metadata": {},
     "output_type": "execute_result"
    }
   ],
   "source": [
    "B_Rank1"
   ]
  },
  {
   "cell_type": "code",
   "execution_count": 329,
   "id": "ecd6767b",
   "metadata": {},
   "outputs": [
    {
     "data": {
      "text/plain": [
       "200"
      ]
     },
     "execution_count": 329,
     "metadata": {},
     "output_type": "execute_result"
    }
   ],
   "source": [
    "B_Name = driver.find_elements(By.XPATH,'//div[@class=\"personName\"]')\n",
    "len(B_Name)"
   ]
  },
  {
   "cell_type": "code",
   "execution_count": 330,
   "id": "203fd7b2",
   "metadata": {},
   "outputs": [],
   "source": [
    "B_Name1=[]\n",
    "\n",
    "for i in B_Name:\n",
    "    #driver.get(i)\n",
    "    #time.sleep(5)\n",
    "    try:\n",
    "        #BrandName = driver.find_element(By.XPATH,'/html/body/div[1]/div/div[3]/div[1]/div[2]/div[2]/div/div[1]/h1/span')\n",
    "        B_Name1.append(i.text)\n",
    "    except NoSuchElementException :\n",
    "        B_Name1.append('Not present')"
   ]
  },
  {
   "cell_type": "code",
   "execution_count": 331,
   "id": "474c9f24",
   "metadata": {},
   "outputs": [
    {
     "data": {
      "text/plain": [
       "['Elon Musk',\n",
       " 'Jeff Bezos',\n",
       " 'Bernard Arnault & family',\n",
       " 'Bill Gates',\n",
       " 'Warren Buffett',\n",
       " 'Larry Page',\n",
       " 'Sergey Brin',\n",
       " 'Larry Ellison',\n",
       " 'Steve Ballmer',\n",
       " 'Mukesh Ambani',\n",
       " 'Gautam Adani & family',\n",
       " 'Michael Bloomberg',\n",
       " 'Carlos Slim Helu & family',\n",
       " 'Francoise Bettencourt Meyers & family',\n",
       " 'Mark Zuckerberg',\n",
       " 'Jim Walton',\n",
       " 'Zhong Shanshan',\n",
       " 'Alice Walton',\n",
       " 'Rob Walton',\n",
       " 'Changpeng Zhao',\n",
       " 'Charles Koch',\n",
       " 'Julia Koch & family',\n",
       " 'Amancio Ortega',\n",
       " 'Michael Dell',\n",
       " 'Zhang Yiming',\n",
       " 'David Thomson & family',\n",
       " 'Phil Knight & family',\n",
       " 'Dieter Schwarz',\n",
       " 'Robin Zeng',\n",
       " 'MacKenzie Scott',\n",
       " 'Rodolphe Saadé & family',\n",
       " 'François Pinault & family',\n",
       " 'Klaus-Michael Kuehne',\n",
       " 'Ma Huateng',\n",
       " 'Beate Heister & Karl Albrecht Jr. & family',\n",
       " 'Giovanni Ferrero',\n",
       " 'Li Ka-shing',\n",
       " 'Stephen Schwarzman',\n",
       " 'Lee Shau Kee',\n",
       " 'Len Blavatnik',\n",
       " 'Jacqueline Mars',\n",
       " 'John Mars',\n",
       " 'Alain Wertheimer',\n",
       " 'Gerard Wertheimer',\n",
       " 'German Larrea Mota Velasco & family',\n",
       " 'Gina Rinehart',\n",
       " 'Shiv Nadar',\n",
       " 'Jim Simons',\n",
       " 'He Xiangjian',\n",
       " 'Miriam Adelson',\n",
       " 'Dietrich Mateschitz',\n",
       " 'Leonardo Del Vecchio & family',\n",
       " 'Ken Griffin',\n",
       " 'Tadashi Yanai & family',\n",
       " 'William Lei Ding',\n",
       " 'Susanne Klatten',\n",
       " 'Cyrus Poonawalla',\n",
       " 'Wang Wei',\n",
       " 'Qin Yinglin',\n",
       " 'Sam Bankman-Fried',\n",
       " 'Takemitsu Takizaki',\n",
       " 'Li Shufu',\n",
       " 'Emmanuel Besnier',\n",
       " 'R. Budi Hartono',\n",
       " 'Leonard Lauder',\n",
       " 'Guillaume Pousaz',\n",
       " 'Iris Fontbona & family',\n",
       " 'Jack Ma',\n",
       " 'Michael Hartono',\n",
       " 'Eric Schmidt',\n",
       " 'Ray Dalio',\n",
       " 'Daniel Gilbert',\n",
       " 'Thomas Frist, Jr. & family',\n",
       " 'Masayoshi Son',\n",
       " 'Abigail Johnson',\n",
       " 'Rupert Murdoch & family',\n",
       " 'Stefan Quandt',\n",
       " 'Jensen Huang',\n",
       " 'Huang Shilin',\n",
       " 'Thomas Peterffy',\n",
       " 'Radhakishan Damani',\n",
       " 'Pang Kang',\n",
       " 'Wang Chuanfu',\n",
       " 'Reinhold Wuerth & family',\n",
       " 'Theo Albrecht, Jr. & family',\n",
       " 'Yang Huiyan & family',\n",
       " 'Vladimir Lisin',\n",
       " 'Fan Hongwei & family',\n",
       " 'Lakshmi Mittal',\n",
       " 'Andrew Forrest',\n",
       " 'Jiang Rensheng & family',\n",
       " 'Savitri Jindal & family',\n",
       " 'Wang Wenyin',\n",
       " 'Li Xiting',\n",
       " 'Stefan Persson',\n",
       " 'Steve Cohen',\n",
       " 'Vladimir Potanin',\n",
       " 'Harold Hamm & family',\n",
       " 'Sun Piaoyang',\n",
       " 'Luo Liguo & family',\n",
       " 'Peter Woo',\n",
       " 'Gianluigi & Rafaela Aponte',\n",
       " 'David Tepper',\n",
       " 'Renata Kellnerova & family',\n",
       " 'John Menard, Jr.',\n",
       " 'Kumar Birla',\n",
       " 'Carl Icahn',\n",
       " 'Hank & Doug Meijer',\n",
       " 'Lukas Walton',\n",
       " 'Laurene Powell Jobs & family',\n",
       " 'James Ratcliffe',\n",
       " 'Donald Bren',\n",
       " 'Xu Hang',\n",
       " 'Lu Xiangyang',\n",
       " 'Dilip Shanghvi',\n",
       " 'Wei Jianjun & family',\n",
       " 'Jorge Paulo Lemann & family',\n",
       " 'Eyal Ofer',\n",
       " 'Mike Cannon-Brookes',\n",
       " 'Wu Yajun',\n",
       " 'Charlene de Carvalho-Heineken & family',\n",
       " 'Michael Platt',\n",
       " 'Pavel Durov',\n",
       " 'Scott Farquhar',\n",
       " 'Pallonji Mistry',\n",
       " 'Dang Yanbao',\n",
       " 'Robert Pera',\n",
       " 'Donald Newhouse',\n",
       " 'Uday Kotak',\n",
       " 'Aliko Dangote',\n",
       " 'Leonid Mikhelson',\n",
       " 'Sunil Mittal & family',\n",
       " 'Robert & Philip Ng',\n",
       " 'Liu Hanyuan',\n",
       " 'Joseph Lau',\n",
       " 'Anders Holch Povlsen',\n",
       " 'Dhanin Chearavanont',\n",
       " 'Gong Hongjia & family',\n",
       " 'Liu Yongxing',\n",
       " 'Alexey Mordashov',\n",
       " 'Wang Jianlin',\n",
       " 'David Duffield',\n",
       " 'Li Zhenguo & family',\n",
       " 'Harry Triguboff',\n",
       " 'Zhang Zhidong',\n",
       " 'Chen Bang',\n",
       " 'John Doerr',\n",
       " 'Hinduja brothers',\n",
       " 'Kwong Siu-hing',\n",
       " 'Pei Zhenhua',\n",
       " 'Ricardo Salinas Pliego & family',\n",
       " 'Jim Pattison',\n",
       " 'Charles Schwab',\n",
       " 'Goh Cheng Liang',\n",
       " 'Lin Jianhua & family',\n",
       " 'Charoen Sirivadhanabhakdi',\n",
       " 'Jeff Yass',\n",
       " 'John Fredriksen',\n",
       " 'Andreas Struengmann & family',\n",
       " 'Thomas Struengmann & family',\n",
       " 'Mikhail Fridman',\n",
       " 'Sarath Ratanavadi',\n",
       " 'Robert Kuok',\n",
       " 'Lei Jun',\n",
       " 'Zhang Congyuan',\n",
       " 'Lui Che Woo',\n",
       " 'Brian Chesky',\n",
       " 'Israel Englander',\n",
       " 'Dustin Moskovitz',\n",
       " 'Alisher Usmanov',\n",
       " 'Jay Chaudhry',\n",
       " 'Anthony Pratt',\n",
       " 'Colin Zheng Huang',\n",
       " 'Jin Baofang',\n",
       " 'Pierre Omidyar',\n",
       " 'Gennady Timchenko',\n",
       " 'Carl Cook',\n",
       " 'Andrey Melnichenko',\n",
       " 'Xing Wang',\n",
       " 'Philip Anschutz',\n",
       " 'David Cheriton',\n",
       " 'Alexander Otto',\n",
       " 'Diane Hendricks',\n",
       " 'Stanley Kroenke',\n",
       " 'Jerry Jones',\n",
       " 'Quek Leng Chan',\n",
       " 'Eduardo Saverin',\n",
       " 'Vagit Alekperov',\n",
       " 'Richard Liu',\n",
       " 'Idan Ofer',\n",
       " 'Melker Schorling & family',\n",
       " 'Chase Coleman, III.',\n",
       " 'Shuirong Li',\n",
       " 'Stefano Pessina',\n",
       " 'Mikhail Prokhorov',\n",
       " 'Marcel Herrmann Telles',\n",
       " 'Leon Black',\n",
       " 'Joe Gebbia',\n",
       " 'David Geffen',\n",
       " 'Yu Renrong']"
      ]
     },
     "execution_count": 331,
     "metadata": {},
     "output_type": "execute_result"
    }
   ],
   "source": [
    "B_Name1"
   ]
  },
  {
   "cell_type": "code",
   "execution_count": 332,
   "id": "9bfb5ff2",
   "metadata": {},
   "outputs": [
    {
     "data": {
      "text/plain": [
       "200"
      ]
     },
     "execution_count": 332,
     "metadata": {},
     "output_type": "execute_result"
    }
   ],
   "source": [
    "B_netWorth = driver.find_elements(By.XPATH,'//div[@class=\"netWorth\"]')\n",
    "len(B_netWorth)"
   ]
  },
  {
   "cell_type": "code",
   "execution_count": 333,
   "id": "ac0dc994",
   "metadata": {},
   "outputs": [],
   "source": [
    "B_netWorth1=[]\n",
    "\n",
    "for i in B_netWorth:\n",
    "    #driver.get(i)\n",
    "    #time.sleep(5)\n",
    "    try:\n",
    "        #BrandName = driver.find_element(By.XPATH,'/html/body/div[1]/div/div[3]/div[1]/div[2]/div[2]/div/div[1]/h1/span')\n",
    "        B_netWorth1.append(i.text)\n",
    "    except NoSuchElementException :\n",
    "        B_netWorth1.append('Not present')"
   ]
  },
  {
   "cell_type": "code",
   "execution_count": 334,
   "id": "60a7950d",
   "metadata": {},
   "outputs": [
    {
     "data": {
      "text/plain": [
       "['$219 B',\n",
       " '$171 B',\n",
       " '$158 B',\n",
       " '$129 B',\n",
       " '$118 B',\n",
       " '$111 B',\n",
       " '$107 B',\n",
       " '$106 B',\n",
       " '$91.4 B',\n",
       " '$90.7 B',\n",
       " '$90 B',\n",
       " '$82 B',\n",
       " '$81.2 B',\n",
       " '$74.8 B',\n",
       " '$67.3 B',\n",
       " '$66.2 B',\n",
       " '$65.7 B',\n",
       " '$65.3 B',\n",
       " '$65 B',\n",
       " '$65 B',\n",
       " '$60 B',\n",
       " '$60 B',\n",
       " '$59.6 B',\n",
       " '$55.1 B',\n",
       " '$50 B',\n",
       " '$49.2 B',\n",
       " '$47.3 B',\n",
       " '$47.1 B',\n",
       " '$44.8 B',\n",
       " '$43.6 B',\n",
       " '$41.4 B',\n",
       " '$40.4 B',\n",
       " '$37.3 B',\n",
       " '$37.2 B',\n",
       " '$36.8 B',\n",
       " '$36.2 B',\n",
       " '$34.8 B',\n",
       " '$34.8 B',\n",
       " '$32.6 B',\n",
       " '$32.5 B',\n",
       " '$31.7 B',\n",
       " '$31.7 B',\n",
       " '$31.2 B',\n",
       " '$31.2 B',\n",
       " '$30.8 B',\n",
       " '$30.2 B',\n",
       " '$28.7 B',\n",
       " '$28.6 B',\n",
       " '$28.3 B',\n",
       " '$27.5 B',\n",
       " '$27.4 B',\n",
       " '$27.3 B',\n",
       " '$27.2 B',\n",
       " '$26.1 B',\n",
       " '$25.2 B',\n",
       " '$24.3 B',\n",
       " '$24.3 B',\n",
       " '$24.3 B',\n",
       " '$24.1 B',\n",
       " '$24 B',\n",
       " '$23.9 B',\n",
       " '$23.7 B',\n",
       " '$23.5 B',\n",
       " '$23.2 B',\n",
       " '$23.1 B',\n",
       " '$23 B',\n",
       " '$22.8 B',\n",
       " '$22.8 B',\n",
       " '$22.3 B',\n",
       " '$22.1 B',\n",
       " '$22 B',\n",
       " '$22 B',\n",
       " '$21.8 B',\n",
       " '$21.3 B',\n",
       " '$21.2 B',\n",
       " '$20.8 B',\n",
       " '$20.7 B',\n",
       " '$20.6 B',\n",
       " '$20.3 B',\n",
       " '$20.1 B',\n",
       " '$20 B',\n",
       " '$19.6 B',\n",
       " '$19.5 B',\n",
       " '$19 B',\n",
       " '$18.7 B',\n",
       " '$18.7 B',\n",
       " '$18.4 B',\n",
       " '$18.2 B',\n",
       " '$17.9 B',\n",
       " '$17.8 B',\n",
       " '$17.7 B',\n",
       " '$17.7 B',\n",
       " '$17.7 B',\n",
       " '$17.6 B',\n",
       " '$17.6 B',\n",
       " '$17.4 B',\n",
       " '$17.3 B',\n",
       " '$17.2 B',\n",
       " '$17.1 B',\n",
       " '$17 B',\n",
       " '$17 B',\n",
       " '$16.8 B',\n",
       " '$16.7 B',\n",
       " '$16.6 B',\n",
       " '$16.6 B',\n",
       " '$16.5 B',\n",
       " '$16.5 B',\n",
       " '$16.5 B',\n",
       " '$16.5 B',\n",
       " '$16.4 B',\n",
       " '$16.3 B',\n",
       " '$16.2 B',\n",
       " '$16.1 B',\n",
       " '$15.7 B',\n",
       " '$15.6 B',\n",
       " '$15.5 B',\n",
       " '$15.4 B',\n",
       " '$15.4 B',\n",
       " '$15.3 B',\n",
       " '$15.3 B',\n",
       " '$15.2 B',\n",
       " '$15.2 B',\n",
       " '$15.1 B',\n",
       " '$15.1 B',\n",
       " '$15 B',\n",
       " '$14.8 B',\n",
       " '$14.6 B',\n",
       " '$14.4 B',\n",
       " '$14.3 B',\n",
       " '$14 B',\n",
       " '$14 B',\n",
       " '$13.9 B',\n",
       " '$13.7 B',\n",
       " '$13.65 B',\n",
       " '$13.6 B',\n",
       " '$13.6 B',\n",
       " '$13.5 B',\n",
       " '$13.2 B',\n",
       " '$13.2 B',\n",
       " '$13.2 B',\n",
       " '$13.2 B',\n",
       " '$12.9 B',\n",
       " '$12.9 B',\n",
       " '$12.8 B',\n",
       " '$12.8 B',\n",
       " '$12.7 B',\n",
       " '$12.7 B',\n",
       " '$12.7 B',\n",
       " '$12.6 B',\n",
       " '$12.5 B',\n",
       " '$12.4 B',\n",
       " '$12.2 B',\n",
       " '$12.2 B',\n",
       " '$12.1 B',\n",
       " '$12.1 B',\n",
       " '$12 B',\n",
       " '$12 B',\n",
       " '$11.9 B',\n",
       " '$11.9 B',\n",
       " '$11.9 B',\n",
       " '$11.8 B',\n",
       " '$11.8 B',\n",
       " '$11.7 B',\n",
       " '$11.7 B',\n",
       " '$11.7 B',\n",
       " '$11.6 B',\n",
       " '$11.5 B',\n",
       " '$11.5 B',\n",
       " '$11.5 B',\n",
       " '$11.5 B',\n",
       " '$11.4 B',\n",
       " '$11.4 B',\n",
       " '$11.3 B',\n",
       " '$11.3 B',\n",
       " '$11.3 B',\n",
       " '$11.3 B',\n",
       " '$11.1 B',\n",
       " '$11.1 B',\n",
       " '$11 B',\n",
       " '$10.9 B',\n",
       " '$10.9 B',\n",
       " '$10.9 B',\n",
       " '$10.7 B',\n",
       " '$10.7 B',\n",
       " '$10.6 B',\n",
       " '$10.6 B',\n",
       " '$10.6 B',\n",
       " '$10.5 B',\n",
       " '$10.5 B',\n",
       " '$10.5 B',\n",
       " '$10.4 B',\n",
       " '$10.3 B',\n",
       " '$10.3 B',\n",
       " '$10.3 B',\n",
       " '$10.3 B',\n",
       " '$10.3 B',\n",
       " '$10 B',\n",
       " '$10 B',\n",
       " '$10 B',\n",
       " '$10 B']"
      ]
     },
     "execution_count": 334,
     "metadata": {},
     "output_type": "execute_result"
    }
   ],
   "source": [
    "B_netWorth1"
   ]
  },
  {
   "cell_type": "code",
   "execution_count": 335,
   "id": "087b8fdb",
   "metadata": {},
   "outputs": [
    {
     "data": {
      "text/plain": [
       "200"
      ]
     },
     "execution_count": 335,
     "metadata": {},
     "output_type": "execute_result"
    }
   ],
   "source": [
    "B_Age = driver.find_elements(By.XPATH,'//div[@class=\"age\"]')\n",
    "len(B_Age)"
   ]
  },
  {
   "cell_type": "code",
   "execution_count": 336,
   "id": "ce95517f",
   "metadata": {},
   "outputs": [],
   "source": [
    "B_Age1=[]\n",
    "\n",
    "for i in B_Age:\n",
    "    #driver.get(i)\n",
    "    #time.sleep(5)\n",
    "    try:\n",
    "        #BrandName = driver.find_element(By.XPATH,'/html/body/div[1]/div/div[3]/div[1]/div[2]/div[2]/div/div[1]/h1/span')\n",
    "        B_Age1.append(i.text)\n",
    "    except NoSuchElementException :\n",
    "        B_Age1.append('Not present')"
   ]
  },
  {
   "cell_type": "code",
   "execution_count": 337,
   "id": "496f75f5",
   "metadata": {},
   "outputs": [
    {
     "data": {
      "text/plain": [
       "['50',\n",
       " '58',\n",
       " '73',\n",
       " '66',\n",
       " '91',\n",
       " '49',\n",
       " '48',\n",
       " '77',\n",
       " '66',\n",
       " '64',\n",
       " '59',\n",
       " '80',\n",
       " '82',\n",
       " '68',\n",
       " '37',\n",
       " '73',\n",
       " '67',\n",
       " '72',\n",
       " '77',\n",
       " '44',\n",
       " '86',\n",
       " '59',\n",
       " '86',\n",
       " '57',\n",
       " '38',\n",
       " '64',\n",
       " '84',\n",
       " '82',\n",
       " '53',\n",
       " '51',\n",
       " '52',\n",
       " '85',\n",
       " '84',\n",
       " '50',\n",
       " 'N/A',\n",
       " '57',\n",
       " '93',\n",
       " '75',\n",
       " '94',\n",
       " '64',\n",
       " '82',\n",
       " '86',\n",
       " '73',\n",
       " '71',\n",
       " '68',\n",
       " '68',\n",
       " '76',\n",
       " '83',\n",
       " '79',\n",
       " '76',\n",
       " '77',\n",
       " '86',\n",
       " '53',\n",
       " '73',\n",
       " '50',\n",
       " '59',\n",
       " '80',\n",
       " '51',\n",
       " '56',\n",
       " '30',\n",
       " '76',\n",
       " '58',\n",
       " '51',\n",
       " '81',\n",
       " '89',\n",
       " '40',\n",
       " '79',\n",
       " '57',\n",
       " '82',\n",
       " '66',\n",
       " '72',\n",
       " '60',\n",
       " '83',\n",
       " '64',\n",
       " '60',\n",
       " '91',\n",
       " '55',\n",
       " '59',\n",
       " '55',\n",
       " '77',\n",
       " '67',\n",
       " '66',\n",
       " '56',\n",
       " '86',\n",
       " '71',\n",
       " '40',\n",
       " '65',\n",
       " '55',\n",
       " '71',\n",
       " '60',\n",
       " '68',\n",
       " '72',\n",
       " '54',\n",
       " '71',\n",
       " '74',\n",
       " '65',\n",
       " '61',\n",
       " '76',\n",
       " '63',\n",
       " '66',\n",
       " '75',\n",
       " '81',\n",
       " '64',\n",
       " '54',\n",
       " '82',\n",
       " '54',\n",
       " '86',\n",
       " 'N/A',\n",
       " '35',\n",
       " '58',\n",
       " '69',\n",
       " '89',\n",
       " '55',\n",
       " '59',\n",
       " '66',\n",
       " '58',\n",
       " '82',\n",
       " '71',\n",
       " '42',\n",
       " '58',\n",
       " '67',\n",
       " '54',\n",
       " '37',\n",
       " '42',\n",
       " '92',\n",
       " '49',\n",
       " '44',\n",
       " '92',\n",
       " '63',\n",
       " '64',\n",
       " '66',\n",
       " '64',\n",
       " 'N/A',\n",
       " '58',\n",
       " '70',\n",
       " '49',\n",
       " '82',\n",
       " '57',\n",
       " '73',\n",
       " '56',\n",
       " '67',\n",
       " '81',\n",
       " '54',\n",
       " '89',\n",
       " '50',\n",
       " '56',\n",
       " '70',\n",
       " 'N/A',\n",
       " '92',\n",
       " '63',\n",
       " '66',\n",
       " '93',\n",
       " '84',\n",
       " '94',\n",
       " '59',\n",
       " '77',\n",
       " '63',\n",
       " '77',\n",
       " '72',\n",
       " '72',\n",
       " '57',\n",
       " '56',\n",
       " '98',\n",
       " '52',\n",
       " '74',\n",
       " '93',\n",
       " '40',\n",
       " '73',\n",
       " '37',\n",
       " '68',\n",
       " '62',\n",
       " '61',\n",
       " '42',\n",
       " '69',\n",
       " '54',\n",
       " '69',\n",
       " '59',\n",
       " '50',\n",
       " '43',\n",
       " '82',\n",
       " '71',\n",
       " '54',\n",
       " '75',\n",
       " '74',\n",
       " '79',\n",
       " '80',\n",
       " '40',\n",
       " '71',\n",
       " '48',\n",
       " '66',\n",
       " '74',\n",
       " '46',\n",
       " '65',\n",
       " '80',\n",
       " '56',\n",
       " '72',\n",
       " '70',\n",
       " '40',\n",
       " '79',\n",
       " '56']"
      ]
     },
     "execution_count": 337,
     "metadata": {},
     "output_type": "execute_result"
    }
   ],
   "source": [
    "B_Age1"
   ]
  },
  {
   "cell_type": "code",
   "execution_count": 338,
   "id": "381ba0d7",
   "metadata": {},
   "outputs": [
    {
     "data": {
      "text/plain": [
       "200"
      ]
     },
     "execution_count": 338,
     "metadata": {},
     "output_type": "execute_result"
    }
   ],
   "source": [
    "B_countryOfCitizenship = driver.find_elements(By.XPATH,'//div[@class=\"countryOfCitizenship\"]')\n",
    "len(B_countryOfCitizenship)"
   ]
  },
  {
   "cell_type": "code",
   "execution_count": 339,
   "id": "db8173ca",
   "metadata": {},
   "outputs": [],
   "source": [
    "B_countryOfCitizenship1=[]\n",
    "\n",
    "for i in B_countryOfCitizenship:\n",
    "    #driver.get(i)\n",
    "    #time.sleep(5)\n",
    "    try:\n",
    "        #BrandName = driver.find_element(By.XPATH,'/html/body/div[1]/div/div[3]/div[1]/div[2]/div[2]/div/div[1]/h1/span')\n",
    "        B_countryOfCitizenship1.append(i.text)\n",
    "    except NoSuchElementException :\n",
    "        B_countryOfCitizenship1.append('Not present')"
   ]
  },
  {
   "cell_type": "code",
   "execution_count": 340,
   "id": "136fd830",
   "metadata": {},
   "outputs": [
    {
     "data": {
      "text/plain": [
       "['United States',\n",
       " 'United States',\n",
       " 'France',\n",
       " 'United States',\n",
       " 'United States',\n",
       " 'United States',\n",
       " 'United States',\n",
       " 'United States',\n",
       " 'United States',\n",
       " 'India',\n",
       " 'India',\n",
       " 'United States',\n",
       " 'Mexico',\n",
       " 'France',\n",
       " 'United States',\n",
       " 'United States',\n",
       " 'China',\n",
       " 'United States',\n",
       " 'United States',\n",
       " 'Canada',\n",
       " 'United States',\n",
       " 'United States',\n",
       " 'Spain',\n",
       " 'United States',\n",
       " 'China',\n",
       " 'Canada',\n",
       " 'United States',\n",
       " 'Germany',\n",
       " 'Hong Kong',\n",
       " 'United States',\n",
       " 'France',\n",
       " 'France',\n",
       " 'Germany',\n",
       " 'China',\n",
       " 'Germany',\n",
       " 'Italy',\n",
       " 'Hong Kong',\n",
       " 'United States',\n",
       " 'Hong Kong',\n",
       " 'United States',\n",
       " 'United States',\n",
       " 'United States',\n",
       " 'France',\n",
       " 'France',\n",
       " 'Mexico',\n",
       " 'Australia',\n",
       " 'India',\n",
       " 'United States',\n",
       " 'China',\n",
       " 'United States',\n",
       " 'Austria',\n",
       " 'Italy',\n",
       " 'United States',\n",
       " 'Japan',\n",
       " 'China',\n",
       " 'Germany',\n",
       " 'India',\n",
       " 'China',\n",
       " 'China',\n",
       " 'United States',\n",
       " 'Japan',\n",
       " 'China',\n",
       " 'France',\n",
       " 'Indonesia',\n",
       " 'United States',\n",
       " 'Switzerland',\n",
       " 'Chile',\n",
       " 'China',\n",
       " 'Indonesia',\n",
       " 'United States',\n",
       " 'United States',\n",
       " 'United States',\n",
       " 'United States',\n",
       " 'Japan',\n",
       " 'United States',\n",
       " 'United States',\n",
       " 'Germany',\n",
       " 'United States',\n",
       " 'China',\n",
       " 'United States',\n",
       " 'India',\n",
       " 'China',\n",
       " 'China',\n",
       " 'Germany',\n",
       " 'Germany',\n",
       " 'China',\n",
       " 'Russia',\n",
       " 'China',\n",
       " 'India',\n",
       " 'Australia',\n",
       " 'China',\n",
       " 'India',\n",
       " 'China',\n",
       " 'Singapore',\n",
       " 'Sweden',\n",
       " 'United States',\n",
       " 'Russia',\n",
       " 'United States',\n",
       " 'China',\n",
       " 'China',\n",
       " 'Hong Kong',\n",
       " 'Switzerland',\n",
       " 'United States',\n",
       " 'Czechia',\n",
       " 'United States',\n",
       " 'India',\n",
       " 'United States',\n",
       " 'United States',\n",
       " 'United States',\n",
       " 'United States',\n",
       " 'United Kingdom',\n",
       " 'United States',\n",
       " 'Hong Kong',\n",
       " 'China',\n",
       " 'India',\n",
       " 'China',\n",
       " 'Brazil',\n",
       " 'Israel',\n",
       " 'Australia',\n",
       " 'China',\n",
       " 'Netherlands',\n",
       " 'United Kingdom',\n",
       " 'United Arab Emirates',\n",
       " 'Australia',\n",
       " 'Ireland',\n",
       " 'China',\n",
       " 'United States',\n",
       " 'United States',\n",
       " 'India',\n",
       " 'Nigeria',\n",
       " 'Russia',\n",
       " 'India',\n",
       " 'Singapore',\n",
       " 'China',\n",
       " 'Hong Kong',\n",
       " 'Denmark',\n",
       " 'Thailand',\n",
       " 'Hong Kong',\n",
       " 'China',\n",
       " 'Russia',\n",
       " 'China',\n",
       " 'United States',\n",
       " 'China',\n",
       " 'Australia',\n",
       " 'China',\n",
       " 'China',\n",
       " 'United States',\n",
       " 'United Kingdom',\n",
       " 'Hong Kong',\n",
       " 'China',\n",
       " 'Mexico',\n",
       " 'Canada',\n",
       " 'United States',\n",
       " 'Singapore',\n",
       " 'China',\n",
       " 'Thailand',\n",
       " 'United States',\n",
       " 'Cyprus',\n",
       " 'Germany',\n",
       " 'Germany',\n",
       " 'Russia',\n",
       " 'Thailand',\n",
       " 'Malaysia',\n",
       " 'China',\n",
       " 'Taiwan',\n",
       " 'Hong Kong',\n",
       " 'United States',\n",
       " 'United States',\n",
       " 'United States',\n",
       " 'Russia',\n",
       " 'United States',\n",
       " 'Australia',\n",
       " 'China',\n",
       " 'China',\n",
       " 'United States',\n",
       " 'Russia',\n",
       " 'United States',\n",
       " 'Russia',\n",
       " 'China',\n",
       " 'United States',\n",
       " 'Canada',\n",
       " 'Germany',\n",
       " 'United States',\n",
       " 'United States',\n",
       " 'United States',\n",
       " 'Malaysia',\n",
       " 'Brazil',\n",
       " 'Russia',\n",
       " 'China',\n",
       " 'Israel',\n",
       " 'Sweden',\n",
       " 'United States',\n",
       " 'China',\n",
       " 'Monaco',\n",
       " 'Russia',\n",
       " 'Brazil',\n",
       " 'United States',\n",
       " 'United States',\n",
       " 'United States',\n",
       " 'China']"
      ]
     },
     "execution_count": 340,
     "metadata": {},
     "output_type": "execute_result"
    }
   ],
   "source": [
    "B_countryOfCitizenship1"
   ]
  },
  {
   "cell_type": "code",
   "execution_count": 341,
   "id": "6122f733",
   "metadata": {},
   "outputs": [
    {
     "data": {
      "text/plain": [
       "200"
      ]
     },
     "execution_count": 341,
     "metadata": {},
     "output_type": "execute_result"
    }
   ],
   "source": [
    "B_source = driver.find_elements(By.XPATH,'//div[@class=\"source\"]')\n",
    "len(B_source)"
   ]
  },
  {
   "cell_type": "code",
   "execution_count": 342,
   "id": "79037823",
   "metadata": {},
   "outputs": [],
   "source": [
    "B_source1=[]\n",
    "\n",
    "for i in B_source:\n",
    "    #driver.get(i)\n",
    "    #time.sleep(5)\n",
    "    try:\n",
    "        #BrandName = driver.find_element(By.XPATH,'/html/body/div[1]/div/div[3]/div[1]/div[2]/div[2]/div/div[1]/h1/span')\n",
    "        B_source1.append(i.text)\n",
    "    except NoSuchElementException :\n",
    "        B_source1.append('Not present')"
   ]
  },
  {
   "cell_type": "code",
   "execution_count": 343,
   "id": "52c741f8",
   "metadata": {},
   "outputs": [
    {
     "data": {
      "text/plain": [
       "['Tesla, SpaceX',\n",
       " 'Amazon',\n",
       " 'LVMH',\n",
       " 'Microsoft',\n",
       " 'Berkshire Hathaway',\n",
       " 'Google',\n",
       " 'Google',\n",
       " 'software',\n",
       " 'Microsoft',\n",
       " 'diversified',\n",
       " 'infrastructure, commodities',\n",
       " 'Bloomberg LP',\n",
       " 'telecom',\n",
       " \"L'Oréal\",\n",
       " 'Facebook',\n",
       " 'Walmart',\n",
       " 'beverages, pharmaceuticals',\n",
       " 'Walmart',\n",
       " 'Walmart',\n",
       " 'cryptocurrency exchange',\n",
       " 'Koch Industries',\n",
       " 'Koch Industries',\n",
       " 'Zara',\n",
       " 'Dell computers',\n",
       " 'TikTok',\n",
       " 'media',\n",
       " 'Nike',\n",
       " 'retail',\n",
       " 'batteries',\n",
       " 'Amazon',\n",
       " 'shipping',\n",
       " 'luxury goods',\n",
       " 'shipping',\n",
       " 'internet media',\n",
       " 'supermarkets',\n",
       " 'Nutella, chocolates',\n",
       " 'diversified',\n",
       " 'investments',\n",
       " 'real estate',\n",
       " 'music, chemicals',\n",
       " 'candy, pet food',\n",
       " 'candy, pet food',\n",
       " 'Chanel',\n",
       " 'Chanel',\n",
       " 'mining',\n",
       " 'mining',\n",
       " 'software services',\n",
       " 'hedge funds',\n",
       " 'home appliances',\n",
       " 'casinos',\n",
       " 'Red Bull',\n",
       " 'eyeglasses',\n",
       " 'hedge funds',\n",
       " 'fashion retail',\n",
       " 'online games',\n",
       " 'BMW, pharmaceuticals',\n",
       " 'vaccines',\n",
       " 'package delivery',\n",
       " 'pig breeding',\n",
       " 'cryptocurrency exchange',\n",
       " 'sensors',\n",
       " 'automobiles',\n",
       " 'cheese',\n",
       " 'banking, tobacco',\n",
       " 'Estee Lauder',\n",
       " 'fintech',\n",
       " 'mining',\n",
       " 'e-commerce',\n",
       " 'banking, tobacco',\n",
       " 'Google',\n",
       " 'hedge funds',\n",
       " 'Quicken Loans',\n",
       " 'hospitals',\n",
       " 'internet, telecom',\n",
       " 'money management',\n",
       " 'newspapers, TV network',\n",
       " 'BMW',\n",
       " 'semiconductors',\n",
       " 'batteries',\n",
       " 'discount brokerage',\n",
       " 'retail, investments',\n",
       " 'soy sauce',\n",
       " 'batteries, automobiles',\n",
       " 'fasteners',\n",
       " \"Aldi, Trader Joe's\",\n",
       " 'real estate',\n",
       " 'steel, transport',\n",
       " 'petrochemicals',\n",
       " 'steel',\n",
       " 'mining',\n",
       " 'vaccines',\n",
       " 'steel',\n",
       " 'mining, copper products',\n",
       " 'medical devices',\n",
       " 'H&M',\n",
       " 'hedge funds',\n",
       " 'metals',\n",
       " 'oil & gas',\n",
       " 'pharmaceuticals',\n",
       " 'chemicals',\n",
       " 'real estate',\n",
       " 'Shipping',\n",
       " 'hedge funds',\n",
       " 'finance, telecommunications',\n",
       " 'home improvement stores',\n",
       " 'commodities',\n",
       " 'investments',\n",
       " 'supermarkets',\n",
       " 'Walmart',\n",
       " 'Apple, Disney',\n",
       " 'chemicals',\n",
       " 'real estate',\n",
       " 'medical devices',\n",
       " 'automobiles, batteries',\n",
       " 'pharmaceuticals',\n",
       " 'automobiles',\n",
       " 'beer',\n",
       " 'real estate, shipping',\n",
       " 'software',\n",
       " 'real estate',\n",
       " 'Heineken',\n",
       " 'hedge funds',\n",
       " 'messaging app',\n",
       " 'software',\n",
       " 'construction',\n",
       " 'coal',\n",
       " 'wireless networking gear',\n",
       " 'media',\n",
       " 'banking',\n",
       " 'cement, sugar',\n",
       " 'gas, chemicals',\n",
       " 'telecom',\n",
       " 'real estate',\n",
       " 'agribusiness',\n",
       " 'real estate',\n",
       " 'fashion retail',\n",
       " 'diversified',\n",
       " 'video surveillance',\n",
       " 'diversified',\n",
       " 'steel, investments',\n",
       " 'real estate',\n",
       " 'business software',\n",
       " 'solar wafers and modules',\n",
       " 'real estate',\n",
       " 'internet media',\n",
       " 'hospitals',\n",
       " 'venture capital',\n",
       " 'diversified',\n",
       " 'real estate',\n",
       " 'batteries',\n",
       " 'retail, media',\n",
       " 'diversified',\n",
       " 'discount brokerage',\n",
       " 'paints',\n",
       " 'solar panel components',\n",
       " 'alcohol, real estate',\n",
       " 'trading, investments',\n",
       " 'shipping',\n",
       " 'pharmaceuticals',\n",
       " 'pharmaceuticals',\n",
       " 'oil, banking, telecom',\n",
       " 'energy',\n",
       " 'palm oil, shipping, property',\n",
       " 'smartphones',\n",
       " 'shoes',\n",
       " 'casinos/hotels',\n",
       " 'Airbnb',\n",
       " 'hedge funds',\n",
       " 'Facebook',\n",
       " 'steel, telecom, investments',\n",
       " 'security software',\n",
       " 'manufacturing',\n",
       " 'e-commerce',\n",
       " 'solar panels',\n",
       " 'eBay, PayPal',\n",
       " 'oil, gas',\n",
       " 'medical devices',\n",
       " 'coal, fertilizers',\n",
       " 'e-commerce',\n",
       " 'investments',\n",
       " 'Google',\n",
       " 'real estate',\n",
       " 'roofing',\n",
       " 'sports, real estate',\n",
       " 'Dallas Cowboys',\n",
       " 'banking, property',\n",
       " 'Facebook',\n",
       " 'oil',\n",
       " 'e-commerce',\n",
       " 'shipping',\n",
       " 'investments',\n",
       " 'investments',\n",
       " 'petrochemicals',\n",
       " 'drugstores',\n",
       " 'investments',\n",
       " 'beer',\n",
       " 'private equity',\n",
       " 'Airbnb',\n",
       " 'movies, record labels',\n",
       " 'semiconductors']"
      ]
     },
     "execution_count": 343,
     "metadata": {},
     "output_type": "execute_result"
    }
   ],
   "source": [
    "B_source1"
   ]
  },
  {
   "cell_type": "code",
   "execution_count": 345,
   "id": "cb7e68f3",
   "metadata": {},
   "outputs": [
    {
     "data": {
      "text/plain": [
       "200"
      ]
     },
     "execution_count": 345,
     "metadata": {},
     "output_type": "execute_result"
    }
   ],
   "source": [
    "B_Industry = driver.find_elements(By.XPATH,'//div[@class=\"source-column\"]')\n",
    "len(B_Industry)"
   ]
  },
  {
   "cell_type": "code",
   "execution_count": 346,
   "id": "1a6e9622",
   "metadata": {},
   "outputs": [],
   "source": [
    "B_Industry1=[]\n",
    "\n",
    "for i in B_Industry:\n",
    "    #driver.get(i)\n",
    "    #time.sleep(5)\n",
    "    try:\n",
    "        #BrandName = driver.find_element(By.XPATH,'/html/body/div[1]/div/div[3]/div[1]/div[2]/div[2]/div/div[1]/h1/span')\n",
    "        B_Industry1.append(i.text)\n",
    "    except NoSuchElementException :\n",
    "        B_Industry1.append('Not present')"
   ]
  },
  {
   "cell_type": "code",
   "execution_count": 347,
   "id": "df046fe0",
   "metadata": {},
   "outputs": [
    {
     "data": {
      "text/plain": [
       "['Tesla, SpaceX',\n",
       " 'Amazon',\n",
       " 'LVMH',\n",
       " 'Microsoft',\n",
       " 'Berkshire Hathaway',\n",
       " 'Google',\n",
       " 'Google',\n",
       " 'software',\n",
       " 'Microsoft',\n",
       " 'diversified',\n",
       " 'infrastructure, commodities',\n",
       " 'Bloomberg LP',\n",
       " 'telecom',\n",
       " \"L'Oréal\",\n",
       " 'Facebook',\n",
       " 'Walmart',\n",
       " 'beverages, pharmaceuticals',\n",
       " 'Walmart',\n",
       " 'Walmart',\n",
       " 'cryptocurrency exchange',\n",
       " 'Koch Industries',\n",
       " 'Koch Industries',\n",
       " 'Zara',\n",
       " 'Dell computers',\n",
       " 'TikTok',\n",
       " 'media',\n",
       " 'Nike',\n",
       " 'retail',\n",
       " 'batteries',\n",
       " 'Amazon',\n",
       " 'shipping',\n",
       " 'luxury goods',\n",
       " 'shipping',\n",
       " 'internet media',\n",
       " 'supermarkets',\n",
       " 'Nutella, chocolates',\n",
       " 'diversified',\n",
       " 'investments',\n",
       " 'real estate',\n",
       " 'music, chemicals',\n",
       " 'candy, pet food',\n",
       " 'candy, pet food',\n",
       " 'Chanel',\n",
       " 'Chanel',\n",
       " 'mining',\n",
       " 'mining',\n",
       " 'software services',\n",
       " 'hedge funds',\n",
       " 'home appliances',\n",
       " 'casinos',\n",
       " 'Red Bull',\n",
       " 'eyeglasses',\n",
       " 'hedge funds',\n",
       " 'fashion retail',\n",
       " 'online games',\n",
       " 'BMW, pharmaceuticals',\n",
       " 'vaccines',\n",
       " 'package delivery',\n",
       " 'pig breeding',\n",
       " 'cryptocurrency exchange',\n",
       " 'sensors',\n",
       " 'automobiles',\n",
       " 'cheese',\n",
       " 'banking, tobacco',\n",
       " 'Estee Lauder',\n",
       " 'fintech',\n",
       " 'mining',\n",
       " 'e-commerce',\n",
       " 'banking, tobacco',\n",
       " 'Google',\n",
       " 'hedge funds',\n",
       " 'Quicken Loans',\n",
       " 'hospitals',\n",
       " 'internet, telecom',\n",
       " 'money management',\n",
       " 'newspapers, TV network',\n",
       " 'BMW',\n",
       " 'semiconductors',\n",
       " 'batteries',\n",
       " 'discount brokerage',\n",
       " 'retail, investments',\n",
       " 'soy sauce',\n",
       " 'batteries, automobiles',\n",
       " 'fasteners',\n",
       " \"Aldi, Trader Joe's\",\n",
       " 'real estate',\n",
       " 'steel, transport',\n",
       " 'petrochemicals',\n",
       " 'steel',\n",
       " 'mining',\n",
       " 'vaccines',\n",
       " 'steel',\n",
       " 'mining, copper products',\n",
       " 'medical devices',\n",
       " 'H&M',\n",
       " 'hedge funds',\n",
       " 'metals',\n",
       " 'oil & gas',\n",
       " 'pharmaceuticals',\n",
       " 'chemicals',\n",
       " 'real estate',\n",
       " 'Shipping',\n",
       " 'hedge funds',\n",
       " 'finance, telecommunications',\n",
       " 'home improvement stores',\n",
       " 'commodities',\n",
       " 'investments',\n",
       " 'supermarkets',\n",
       " 'Walmart',\n",
       " 'Apple, Disney',\n",
       " 'chemicals',\n",
       " 'real estate',\n",
       " 'medical devices',\n",
       " 'automobiles, batteries',\n",
       " 'pharmaceuticals',\n",
       " 'automobiles',\n",
       " 'beer',\n",
       " 'real estate, shipping',\n",
       " 'software',\n",
       " 'real estate',\n",
       " 'Heineken',\n",
       " 'hedge funds',\n",
       " 'messaging app',\n",
       " 'software',\n",
       " 'construction',\n",
       " 'coal',\n",
       " 'wireless networking gear',\n",
       " 'media',\n",
       " 'banking',\n",
       " 'cement, sugar',\n",
       " 'gas, chemicals',\n",
       " 'telecom',\n",
       " 'real estate',\n",
       " 'agribusiness',\n",
       " 'real estate',\n",
       " 'fashion retail',\n",
       " 'diversified',\n",
       " 'video surveillance',\n",
       " 'diversified',\n",
       " 'steel, investments',\n",
       " 'real estate',\n",
       " 'business software',\n",
       " 'solar wafers and modules',\n",
       " 'real estate',\n",
       " 'internet media',\n",
       " 'hospitals',\n",
       " 'venture capital',\n",
       " 'diversified',\n",
       " 'real estate',\n",
       " 'batteries',\n",
       " 'retail, media',\n",
       " 'diversified',\n",
       " 'discount brokerage',\n",
       " 'paints',\n",
       " 'solar panel components',\n",
       " 'alcohol, real estate',\n",
       " 'trading, investments',\n",
       " 'shipping',\n",
       " 'pharmaceuticals',\n",
       " 'pharmaceuticals',\n",
       " 'oil, banking, telecom',\n",
       " 'energy',\n",
       " 'palm oil, shipping, property',\n",
       " 'smartphones',\n",
       " 'shoes',\n",
       " 'casinos/hotels',\n",
       " 'Airbnb',\n",
       " 'hedge funds',\n",
       " 'Facebook',\n",
       " 'steel, telecom, investments',\n",
       " 'security software',\n",
       " 'manufacturing',\n",
       " 'e-commerce',\n",
       " 'solar panels',\n",
       " 'eBay, PayPal',\n",
       " 'oil, gas',\n",
       " 'medical devices',\n",
       " 'coal, fertilizers',\n",
       " 'e-commerce',\n",
       " 'investments',\n",
       " 'Google',\n",
       " 'real estate',\n",
       " 'roofing',\n",
       " 'sports, real estate',\n",
       " 'Dallas Cowboys',\n",
       " 'banking, property',\n",
       " 'Facebook',\n",
       " 'oil',\n",
       " 'e-commerce',\n",
       " 'shipping',\n",
       " 'investments',\n",
       " 'investments',\n",
       " 'petrochemicals',\n",
       " 'drugstores',\n",
       " 'investments',\n",
       " 'beer',\n",
       " 'private equity',\n",
       " 'Airbnb',\n",
       " 'movies, record labels',\n",
       " 'semiconductors']"
      ]
     },
     "execution_count": 347,
     "metadata": {},
     "output_type": "execute_result"
    }
   ],
   "source": [
    "B_Industry1"
   ]
  },
  {
   "cell_type": "code",
   "execution_count": 350,
   "id": "be9043fc",
   "metadata": {},
   "outputs": [
    {
     "data": {
      "text/plain": [
       "(200, 200, 200, 200, 200, 200, 200)"
      ]
     },
     "execution_count": 350,
     "metadata": {},
     "output_type": "execute_result"
    }
   ],
   "source": [
    "len(B_Rank1),len(B_Name1),len(B_netWorth1),len(B_Age1),len(B_countryOfCitizenship1),len(B_source1),len(B_Industry1)"
   ]
  },
  {
   "cell_type": "code",
   "execution_count": 351,
   "id": "7dc34d33",
   "metadata": {},
   "outputs": [
    {
     "data": {
      "text/html": [
       "<div>\n",
       "<style scoped>\n",
       "    .dataframe tbody tr th:only-of-type {\n",
       "        vertical-align: middle;\n",
       "    }\n",
       "\n",
       "    .dataframe tbody tr th {\n",
       "        vertical-align: top;\n",
       "    }\n",
       "\n",
       "    .dataframe thead th {\n",
       "        text-align: right;\n",
       "    }\n",
       "</style>\n",
       "<table border=\"1\" class=\"dataframe\">\n",
       "  <thead>\n",
       "    <tr style=\"text-align: right;\">\n",
       "      <th></th>\n",
       "      <th>B_Rank</th>\n",
       "      <th>B_Name</th>\n",
       "      <th>B_Networth</th>\n",
       "      <th>B_Age</th>\n",
       "      <th>B_countryOfCitizenship</th>\n",
       "      <th>B_source</th>\n",
       "      <th>B_Industry</th>\n",
       "    </tr>\n",
       "  </thead>\n",
       "  <tbody>\n",
       "    <tr>\n",
       "      <th>0</th>\n",
       "      <td>1.</td>\n",
       "      <td>Elon Musk</td>\n",
       "      <td>$219 B</td>\n",
       "      <td>50</td>\n",
       "      <td>United States</td>\n",
       "      <td>Tesla, SpaceX</td>\n",
       "      <td>Tesla, SpaceX</td>\n",
       "    </tr>\n",
       "    <tr>\n",
       "      <th>1</th>\n",
       "      <td>2.</td>\n",
       "      <td>Jeff Bezos</td>\n",
       "      <td>$171 B</td>\n",
       "      <td>58</td>\n",
       "      <td>United States</td>\n",
       "      <td>Amazon</td>\n",
       "      <td>Amazon</td>\n",
       "    </tr>\n",
       "    <tr>\n",
       "      <th>2</th>\n",
       "      <td>3.</td>\n",
       "      <td>Bernard Arnault &amp; family</td>\n",
       "      <td>$158 B</td>\n",
       "      <td>73</td>\n",
       "      <td>France</td>\n",
       "      <td>LVMH</td>\n",
       "      <td>LVMH</td>\n",
       "    </tr>\n",
       "    <tr>\n",
       "      <th>3</th>\n",
       "      <td>4.</td>\n",
       "      <td>Bill Gates</td>\n",
       "      <td>$129 B</td>\n",
       "      <td>66</td>\n",
       "      <td>United States</td>\n",
       "      <td>Microsoft</td>\n",
       "      <td>Microsoft</td>\n",
       "    </tr>\n",
       "    <tr>\n",
       "      <th>4</th>\n",
       "      <td>5.</td>\n",
       "      <td>Warren Buffett</td>\n",
       "      <td>$118 B</td>\n",
       "      <td>91</td>\n",
       "      <td>United States</td>\n",
       "      <td>Berkshire Hathaway</td>\n",
       "      <td>Berkshire Hathaway</td>\n",
       "    </tr>\n",
       "    <tr>\n",
       "      <th>...</th>\n",
       "      <td>...</td>\n",
       "      <td>...</td>\n",
       "      <td>...</td>\n",
       "      <td>...</td>\n",
       "      <td>...</td>\n",
       "      <td>...</td>\n",
       "      <td>...</td>\n",
       "    </tr>\n",
       "    <tr>\n",
       "      <th>195</th>\n",
       "      <td>192.</td>\n",
       "      <td>Marcel Herrmann Telles</td>\n",
       "      <td>$10.3 B</td>\n",
       "      <td>72</td>\n",
       "      <td>Brazil</td>\n",
       "      <td>beer</td>\n",
       "      <td>beer</td>\n",
       "    </tr>\n",
       "    <tr>\n",
       "      <th>196</th>\n",
       "      <td>197.</td>\n",
       "      <td>Leon Black</td>\n",
       "      <td>$10 B</td>\n",
       "      <td>70</td>\n",
       "      <td>United States</td>\n",
       "      <td>private equity</td>\n",
       "      <td>private equity</td>\n",
       "    </tr>\n",
       "    <tr>\n",
       "      <th>197</th>\n",
       "      <td>197.</td>\n",
       "      <td>Joe Gebbia</td>\n",
       "      <td>$10 B</td>\n",
       "      <td>40</td>\n",
       "      <td>United States</td>\n",
       "      <td>Airbnb</td>\n",
       "      <td>Airbnb</td>\n",
       "    </tr>\n",
       "    <tr>\n",
       "      <th>198</th>\n",
       "      <td>197.</td>\n",
       "      <td>David Geffen</td>\n",
       "      <td>$10 B</td>\n",
       "      <td>79</td>\n",
       "      <td>United States</td>\n",
       "      <td>movies, record labels</td>\n",
       "      <td>movies, record labels</td>\n",
       "    </tr>\n",
       "    <tr>\n",
       "      <th>199</th>\n",
       "      <td>197.</td>\n",
       "      <td>Yu Renrong</td>\n",
       "      <td>$10 B</td>\n",
       "      <td>56</td>\n",
       "      <td>China</td>\n",
       "      <td>semiconductors</td>\n",
       "      <td>semiconductors</td>\n",
       "    </tr>\n",
       "  </tbody>\n",
       "</table>\n",
       "<p>200 rows × 7 columns</p>\n",
       "</div>"
      ],
      "text/plain": [
       "    B_Rank                    B_Name B_Networth B_Age B_countryOfCitizenship  \\\n",
       "0       1.                 Elon Musk     $219 B    50          United States   \n",
       "1       2.                Jeff Bezos     $171 B    58          United States   \n",
       "2       3.  Bernard Arnault & family     $158 B    73                 France   \n",
       "3       4.                Bill Gates     $129 B    66          United States   \n",
       "4       5.            Warren Buffett     $118 B    91          United States   \n",
       "..     ...                       ...        ...   ...                    ...   \n",
       "195   192.    Marcel Herrmann Telles    $10.3 B    72                 Brazil   \n",
       "196   197.                Leon Black      $10 B    70          United States   \n",
       "197   197.                Joe Gebbia      $10 B    40          United States   \n",
       "198   197.              David Geffen      $10 B    79          United States   \n",
       "199   197.                Yu Renrong      $10 B    56                  China   \n",
       "\n",
       "                  B_source             B_Industry  \n",
       "0            Tesla, SpaceX          Tesla, SpaceX  \n",
       "1                   Amazon                 Amazon  \n",
       "2                     LVMH                   LVMH  \n",
       "3                Microsoft              Microsoft  \n",
       "4       Berkshire Hathaway     Berkshire Hathaway  \n",
       "..                     ...                    ...  \n",
       "195                   beer                   beer  \n",
       "196         private equity         private equity  \n",
       "197                 Airbnb                 Airbnb  \n",
       "198  movies, record labels  movies, record labels  \n",
       "199         semiconductors         semiconductors  \n",
       "\n",
       "[200 rows x 7 columns]"
      ]
     },
     "execution_count": 351,
     "metadata": {},
     "output_type": "execute_result"
    }
   ],
   "source": [
    "billionaires = pd.DataFrame()\n",
    "billionaires['B_Rank'] = B_Rank1\n",
    "billionaires['B_Name'] = B_Name1\n",
    "billionaires['B_Networth'] = B_netWorth1\n",
    "billionaires['B_Age'] = B_Age1\n",
    "billionaires['B_countryOfCitizenship'] = B_countryOfCitizenship1\n",
    "billionaires['B_source'] = B_source1\n",
    "billionaires['B_Industry'] = B_Industry1\n",
    "billionaires"
   ]
  },
  {
   "cell_type": "code",
   "execution_count": 352,
   "id": "b1e9ad6b",
   "metadata": {},
   "outputs": [],
   "source": [
    "billionaires.to_csv(r'D:\\I\\02.Flip Robo Assignments\\billionaires.csv', index=False)"
   ]
  },
  {
   "cell_type": "code",
   "execution_count": null,
   "id": "d5eed5d1",
   "metadata": {},
   "outputs": [],
   "source": []
  },
  {
   "cell_type": "code",
   "execution_count": 353,
   "id": "96e4463b",
   "metadata": {},
   "outputs": [],
   "source": [
    "# Due space issue in above I am continuing the question number 3 here"
   ]
  },
  {
   "cell_type": "code",
   "execution_count": 438,
   "id": "22bc892e",
   "metadata": {},
   "outputs": [
    {
     "data": {
      "text/plain": [
       "<selenium.webdriver.remote.webelement.WebElement (session=\"02d34194cb7ace9238d3a3d9d210ce1f\", element=\"37dea4c3-726c-4960-9203-e5bf231076a3\")>"
      ]
     },
     "execution_count": 438,
     "metadata": {},
     "output_type": "execute_result"
    }
   ],
   "source": [
    "search_Machine=driver.find_element(By.XPATH,\"/html/body/c-wiz/c-wiz/div/div[3]/div[2]/div/div[1]/form/div[1]/div[2]/div/div[2]/input\")\n",
    "search_Machine"
   ]
  },
  {
   "cell_type": "code",
   "execution_count": 440,
   "id": "8e00fef0",
   "metadata": {},
   "outputs": [],
   "source": [
    "search_Machine.send_keys(\"Machine Learning\")"
   ]
  },
  {
   "cell_type": "code",
   "execution_count": 441,
   "id": "c188ca50",
   "metadata": {},
   "outputs": [],
   "source": [
    "search6=driver.find_element(By.XPATH,\"/html/body/c-wiz/c-wiz/div/div[3]/div[2]/div/div[1]/form/div[1]/div[3]/div[2]/ul/div/ul/li[1]/div/div[2]/div/span\")\n",
    "search6.click()\n",
    "time.sleep(5)"
   ]
  },
  {
   "cell_type": "code",
   "execution_count": 442,
   "id": "f7b7e419",
   "metadata": {},
   "outputs": [
    {
     "data": {
      "text/plain": [
       "48"
      ]
     },
     "execution_count": 442,
     "metadata": {},
     "output_type": "execute_result"
    }
   ],
   "source": [
    "images_Machine = driver.find_elements(By.XPATH,'//img[@class=\"rg_i Q4LuWd\"]')\n",
    "len(images_Machine)"
   ]
  },
  {
   "cell_type": "code",
   "execution_count": 444,
   "id": "01bae651",
   "metadata": {},
   "outputs": [
    {
     "data": {
      "text/plain": [
       "4"
      ]
     },
     "execution_count": 444,
     "metadata": {},
     "output_type": "execute_result"
    }
   ],
   "source": [
    "img_urls_Machine=[] \n",
    "for image in images_Machine:\n",
    "    source=image.get_attribute('src')\n",
    "    if source is not None:\n",
    "        if(source[0:4]=='http'):\n",
    "            img_urls_Machine.append(source)\n",
    "            \n",
    "len(img_urls_Machine)"
   ]
  },
  {
   "cell_type": "code",
   "execution_count": 445,
   "id": "3285cd33",
   "metadata": {},
   "outputs": [
    {
     "name": "stdout",
     "output_type": "stream",
     "text": [
      "Downloading 0 of 20 images\n",
      "Downloading 1 of 20 images\n",
      "Downloading 2 of 20 images\n",
      "Downloading 3 of 20 images\n"
     ]
    }
   ],
   "source": [
    "for i in range(len(img_urls_Machine)):\n",
    "    if i>20:\n",
    "        break\n",
    "    print(\"Downloading {0} of {1} images\" .format(i,20))\n",
    "    try:\n",
    "        response=requests.get(img_urls[i])\n",
    "        file = open(r\"D:\\img_Cars\"+str(i)+\".jpg\",'wb')\n",
    "        file.write(response.content)\n",
    "    except:\n",
    "        pass"
   ]
  },
  {
   "cell_type": "code",
   "execution_count": 446,
   "id": "727d0c4d",
   "metadata": {},
   "outputs": [
    {
     "data": {
      "text/plain": [
       "<selenium.webdriver.remote.webelement.WebElement (session=\"02d34194cb7ace9238d3a3d9d210ce1f\", element=\"0bbd5d92-b8e1-4f87-b27f-9471436a2fc3\")>"
      ]
     },
     "execution_count": 446,
     "metadata": {},
     "output_type": "execute_result"
    }
   ],
   "source": [
    "search_Cakes=driver.find_element(By.XPATH,\"/html/body/c-wiz/c-wiz/div/div[3]/div[2]/div/div[1]/form/div[1]/div[2]/div/div[2]/input\")\n",
    "search_Cakes"
   ]
  },
  {
   "cell_type": "code",
   "execution_count": 447,
   "id": "932d2e3a",
   "metadata": {},
   "outputs": [],
   "source": [
    "search_Cakes.send_keys(\"Cakes\")"
   ]
  },
  {
   "cell_type": "code",
   "execution_count": 448,
   "id": "57c9023c",
   "metadata": {},
   "outputs": [],
   "source": [
    "search7=driver.find_element(By.XPATH,\"/html/body/c-wiz/c-wiz/div/div[3]/div[2]/div/div[1]/form/div[1]/div[3]/div[2]/ul/div/ul/li[1]/div/div[2]/div/span\")\n",
    "search7.click()\n",
    "time.sleep(5)"
   ]
  },
  {
   "cell_type": "code",
   "execution_count": 449,
   "id": "59e6fc69",
   "metadata": {},
   "outputs": [
    {
     "data": {
      "text/plain": [
       "48"
      ]
     },
     "execution_count": 449,
     "metadata": {},
     "output_type": "execute_result"
    }
   ],
   "source": [
    "images_cakes = driver.find_elements(By.XPATH,'//img[@class=\"rg_i Q4LuWd\"]')\n",
    "len(images_cakes)"
   ]
  },
  {
   "cell_type": "code",
   "execution_count": 450,
   "id": "b4f1dd59",
   "metadata": {},
   "outputs": [
    {
     "data": {
      "text/plain": [
       "10"
      ]
     },
     "execution_count": 450,
     "metadata": {},
     "output_type": "execute_result"
    }
   ],
   "source": [
    "img_urls_Cakes=[] \n",
    "for image in images_cakes:\n",
    "    source=image.get_attribute('src')\n",
    "    if source is not None:\n",
    "        if(source[0:4]=='http'):\n",
    "            img_urls_Cakes.append(source)\n",
    "            \n",
    "len(img_urls_Cakes)"
   ]
  },
  {
   "cell_type": "code",
   "execution_count": 452,
   "id": "6933cc4b",
   "metadata": {},
   "outputs": [
    {
     "name": "stdout",
     "output_type": "stream",
     "text": [
      "Downloading 0 of 20 images\n",
      "Downloading 1 of 20 images\n",
      "Downloading 2 of 20 images\n",
      "Downloading 3 of 20 images\n",
      "Downloading 4 of 20 images\n",
      "Downloading 5 of 20 images\n",
      "Downloading 6 of 20 images\n",
      "Downloading 7 of 20 images\n",
      "Downloading 8 of 20 images\n",
      "Downloading 9 of 20 images\n"
     ]
    }
   ],
   "source": [
    "for i in range(len(img_urls_Cakes)):\n",
    "    if i>20:\n",
    "        break\n",
    "    print(\"Downloading {0} of {1} images\" .format(i,20))\n",
    "    try:\n",
    "        response=requests.get(img_urls[i])\n",
    "        file = open(r\"D:\\img_Cakes\"+str(i)+\".jpg\",'wb')\n",
    "        file.write(response.content)\n",
    "    except:\n",
    "        pass"
   ]
  },
  {
   "cell_type": "code",
   "execution_count": null,
   "id": "e88b96f1",
   "metadata": {},
   "outputs": [],
   "source": []
  },
  {
   "cell_type": "code",
   "execution_count": null,
   "id": "246d6acc",
   "metadata": {},
   "outputs": [],
   "source": []
  },
  {
   "cell_type": "code",
   "execution_count": null,
   "id": "0ec34c6e",
   "metadata": {},
   "outputs": [],
   "source": []
  },
  {
   "cell_type": "code",
   "execution_count": null,
   "id": "baa69071",
   "metadata": {},
   "outputs": [],
   "source": [
    "#Q9"
   ]
  },
  {
   "cell_type": "code",
   "execution_count": 461,
   "id": "07661c4e",
   "metadata": {},
   "outputs": [
    {
     "name": "stderr",
     "output_type": "stream",
     "text": [
      "C:\\Users\\COTMAC\\AppData\\Local\\Temp/ipykernel_13720/2295598310.py:2: DeprecationWarning: executable_path has been deprecated, please pass in a Service object\n",
      "  driver = webdriver.Chrome(r'C:\\Users\\COTMAC\\Downloads\\chromedriver_win32\\chromedriver.exe')\n"
     ]
    }
   ],
   "source": [
    "# Connect to webdriver\n",
    "driver = webdriver.Chrome(r'C:\\Users\\COTMAC\\Downloads\\chromedriver_win32\\chromedriver.exe')"
   ]
  },
  {
   "cell_type": "code",
   "execution_count": 462,
   "id": "f16431eb",
   "metadata": {},
   "outputs": [],
   "source": [
    "driver.get('https://www.youtube.com/watch?v=kqtD5dpn9C8')"
   ]
  },
  {
   "cell_type": "code",
   "execution_count": 464,
   "id": "92f9de47",
   "metadata": {},
   "outputs": [],
   "source": [
    "for _ in range(1000):\n",
    "\n",
    "    driver.execute_script(\"window.scrollBy(0,1000)\")"
   ]
  },
  {
   "cell_type": "code",
   "execution_count": 486,
   "id": "1f996ba9",
   "metadata": {},
   "outputs": [
    {
     "data": {
      "text/plain": [
       "40"
      ]
     },
     "execution_count": 486,
     "metadata": {},
     "output_type": "execute_result"
    }
   ],
   "source": [
    "Y_Comment_upvote = driver.find_elements(By.XPATH,'//span[@class=\"style-scope ytd-comment-action-buttons-renderer\"]')\n",
    "len(Y_Comment_upvote)"
   ]
  },
  {
   "cell_type": "code",
   "execution_count": 487,
   "id": "0b9a194b",
   "metadata": {},
   "outputs": [],
   "source": [
    "Y_Comment_upvote1=[]\n",
    "\n",
    "for i in Y_Comment_upvote:\n",
    "    #driver.get(i)\n",
    "    #time.sleep(5)\n",
    "    try:\n",
    "        Y_Comment_upvote1.append(i.text)\n",
    "    except NoSuchElementException :\n",
    "        Y_Comment_upvote1.append('Not present')"
   ]
  },
  {
   "cell_type": "code",
   "execution_count": 488,
   "id": "da7fbbad",
   "metadata": {},
   "outputs": [
    {
     "data": {
      "text/plain": [
       "['',\n",
       " '125',\n",
       " '',\n",
       " '7.6K',\n",
       " '',\n",
       " '450',\n",
       " '',\n",
       " '28',\n",
       " '',\n",
       " '13',\n",
       " '',\n",
       " '122',\n",
       " '',\n",
       " '30',\n",
       " '',\n",
       " '1.2K',\n",
       " '',\n",
       " '1',\n",
       " '',\n",
       " '13',\n",
       " '',\n",
       " '7',\n",
       " '',\n",
       " '8',\n",
       " '',\n",
       " '1',\n",
       " '',\n",
       " '8.8K',\n",
       " '',\n",
       " '7',\n",
       " '',\n",
       " '5',\n",
       " '',\n",
       " '2',\n",
       " '',\n",
       " '',\n",
       " '',\n",
       " '672',\n",
       " '',\n",
       " '2']"
      ]
     },
     "execution_count": 488,
     "metadata": {},
     "output_type": "execute_result"
    }
   ],
   "source": [
    "Y_Comment_upvote1"
   ]
  },
  {
   "cell_type": "code",
   "execution_count": null,
   "id": "44c69907",
   "metadata": {},
   "outputs": [],
   "source": []
  },
  {
   "cell_type": "code",
   "execution_count": null,
   "id": "41a79a65",
   "metadata": {},
   "outputs": [],
   "source": []
  },
  {
   "cell_type": "code",
   "execution_count": 475,
   "id": "25944a7c",
   "metadata": {},
   "outputs": [
    {
     "data": {
      "text/plain": [
       "99"
      ]
     },
     "execution_count": 475,
     "metadata": {},
     "output_type": "execute_result"
    }
   ],
   "source": [
    "Y_Comment_Min = driver.find_elements(By.XPATH,'//a[@class=\"yt-simple-endpoint style-scope yt-formatted-string\"]')\n",
    "len(Y_Comment_Min)"
   ]
  },
  {
   "cell_type": "code",
   "execution_count": 476,
   "id": "e7f02b88",
   "metadata": {},
   "outputs": [],
   "source": [
    "Y_Comment_Min1=[]\n",
    "\n",
    "for i in Y_Comment_Min:\n",
    "    #driver.get(i)\n",
    "    #time.sleep(5)\n",
    "    try:\n",
    "        Y_Comment_Min1.append(i.text)\n",
    "    except NoSuchElementException :\n",
    "        Y_Comment_Min1.append('Not present')"
   ]
  },
  {
   "cell_type": "code",
   "execution_count": 477,
   "id": "f77e0f08",
   "metadata": {},
   "outputs": [
    {
     "data": {
      "text/plain": [
       "['#Python',\n",
       " '#MachineLearning',\n",
       " '#WebDevelopment',\n",
       " 'Programming with Mosh',\n",
       " 'https://goo.gl/6PYaGF',\n",
       " '',\n",
       " '',\n",
       " '',\n",
       " '',\n",
       " '',\n",
       " '',\n",
       " '',\n",
       " '',\n",
       " '',\n",
       " '',\n",
       " '',\n",
       " '',\n",
       " '',\n",
       " '',\n",
       " '',\n",
       " '',\n",
       " '',\n",
       " '',\n",
       " '',\n",
       " '',\n",
       " '',\n",
       " '',\n",
       " '',\n",
       " '',\n",
       " '',\n",
       " '',\n",
       " '',\n",
       " '',\n",
       " '',\n",
       " '',\n",
       " '',\n",
       " '',\n",
       " '',\n",
       " '',\n",
       " '4 months ago',\n",
       " 'https://goo.gl/6PYaGF',\n",
       " 'https://youtu.be/_uQrJ0TkZlc',\n",
       " '1 year ago',\n",
       " '3 months ago',\n",
       " '3 weeks ago',\n",
       " '5 days ago (edited)',\n",
       " '9:00',\n",
       " '',\n",
       " '2 months ago',\n",
       " '1 month ago',\n",
       " '5 months ago',\n",
       " '10 hours ago',\n",
       " '1:08',\n",
       " '2 months ago',\n",
       " '1 month ago',\n",
       " '2 months ago',\n",
       " '2 months ago',\n",
       " '1 year ago',\n",
       " '3 months ago',\n",
       " '1 month ago (edited)',\n",
       " '2 months ago',\n",
       " '2 months ago',\n",
       " '9 months ago',\n",
       " '3 months ago',\n",
       " '',\n",
       " '',\n",
       " '',\n",
       " '',\n",
       " '',\n",
       " '',\n",
       " '',\n",
       " '',\n",
       " '',\n",
       " '',\n",
       " '',\n",
       " '',\n",
       " '',\n",
       " '',\n",
       " '',\n",
       " '',\n",
       " '',\n",
       " '',\n",
       " '',\n",
       " '',\n",
       " '',\n",
       " '',\n",
       " '',\n",
       " '',\n",
       " '',\n",
       " '',\n",
       " '',\n",
       " '',\n",
       " '',\n",
       " '',\n",
       " '',\n",
       " '',\n",
       " '',\n",
       " '',\n",
       " '']"
      ]
     },
     "execution_count": 477,
     "metadata": {},
     "output_type": "execute_result"
    }
   ],
   "source": [
    "Y_Comment_Min1"
   ]
  },
  {
   "cell_type": "code",
   "execution_count": 478,
   "id": "5da60a61",
   "metadata": {},
   "outputs": [
    {
     "data": {
      "text/plain": [
       "99"
      ]
     },
     "execution_count": 478,
     "metadata": {},
     "output_type": "execute_result"
    }
   ],
   "source": [
    "Y_Comment_Desc = driver.find_elements(By.XPATH,'//div[@class=\"style-scope ytd-expander\"]')\n",
    "len(Y_Comment_Min)"
   ]
  },
  {
   "cell_type": "code",
   "execution_count": 479,
   "id": "d15ec082",
   "metadata": {},
   "outputs": [],
   "source": [
    "Y_Comment_Desc1=[]\n",
    "\n",
    "for i in Y_Comment_Desc:\n",
    "    #driver.get(i)\n",
    "    #time.sleep(5)\n",
    "    try:\n",
    "        Y_Comment_Desc1.append(i.text)\n",
    "    except NoSuchElementException :\n",
    "        Y_Comment_Desc1.append('Not present')"
   ]
  },
  {
   "cell_type": "code",
   "execution_count": 480,
   "id": "a4aec4d6",
   "metadata": {},
   "outputs": [
    {
     "data": {
      "text/plain": [
       "['This Python tutorial for beginners show how to get started with Python quickly. Learn to code in 1 hour! Watch this tutorial get started! \\n👍 Subscribe for more Python tutorials like this: https://goo.gl/6PYaGF',\n",
       " ' Subscribe for more Python tutorials like this: https://goo.gl/6PYaGF\\n Want to learn more? Watch my complete Python course: https://youtu.be/_uQrJ0TkZlc',\n",
       " 'This guy, sat for 1 hour and talked about python, and then released it for free. legend',\n",
       " 'Now THIS is superlative instruction; teach a concept, and then demonstrate it. That you include errors is a stroke of genius! The nuances of programming languages can be difficult to understand at first, but by showing things going WRONG, you also show how to CORRECT the mistakes. This is just brilliant work. Thank you! Subscribed as hell!',\n",
       " \"My tiny brain can't comprehend how you crammed so much information into such a short timespan and still made it easily understandable. Thank you so much for this tutorial and I hope this will be the start of a coding passion for me.\",\n",
       " 'Exercise 9:00\\n\\nfirst_name = \"John\"\\n\\nlast_name = \"Smith\"',\n",
       " \"You're like one of those good teachers that lead your students towards a mistake to teach them what and how something could go wrong then, teach how to do it properly. Loving this.\",\n",
       " 'Very very clear content and presentation. I have attended other 1 hour python courses and i was still confused on so many concepts, but this course is really good and gives no space for any such confusions. Thanks a lot. I would really sign up for an advanced course shortly as i am prepping for python certifications.',\n",
       " \"I'm literally only like 5 minutes in and this is making more sense then my weeks of classes. Sir you are amazing. You need to win some sort of award for the service you are doing for the millions of people watching. You are opening doors and potential futures for people. This could be life changing. You gained a subscriber.\",\n",
       " '1:08\\nMosh: \"So, why are you learning Python?\"\\nMe: \"Because I want to pass my A level computer science class\"',\n",
       " \"I really learned a lot from this video. Your voice, organization and one step at a time approach have encouraged me to learn more and more. I didn't feel tense at all. On the contrary, I felt it went smoothly and easily. Thank you so much.\",\n",
       " 'Learning for the data science realm. I watched your SQL course and it was amazing. Thank you for being so clear and concise with your explanations. Most YouTube instructors, or instructors in general, don’t share the “why you shouldn’t do something a certain way,” but you do. I feel job ready after watching your videos. Thank you for being awesome.',\n",
       " 'Currently recovering from TBI an struggle with learning conditions. Your videos are better then the digital book at my online school. Thank you for all your efforts.',\n",
       " 'I am taking GCSE computer science and one of the main tips i got was to learn to code. Watching this one hour tutorial, I have learned more in two hours than I did in 5 lessons of python tutoring at school. Thanks mosh.',\n",
       " \"I'm learning because i want a better job than driving a school bus.\",\n",
       " 'This video was amazing! Not only did it teach me Python that I needed for uni, it gave me the passion and interest to learn it for myself too :)',\n",
       " \"Reminds my of my high school days in the 70's learning how to code with Basic on a mainframe!  A lot of the concepts are the same!  Thanks for the video.  I want to learn more!\",\n",
       " \"Thanks for your lessons. You're a very good tutor. I learned so much so quickly.\",\n",
       " 'Thanks for this amazing tutorial. You just saved months of learning .',\n",
       " 'As a programming newbie, I can say that this has simplified Python to a point that I am wholly interested. Awesome job, Mosh!!',\n",
       " 'Thanks, Mr. Mosh, for your time and effort. Great tutorial!!',\n",
       " '']"
      ]
     },
     "execution_count": 480,
     "metadata": {},
     "output_type": "execute_result"
    }
   ],
   "source": [
    "Y_Comment_Desc1"
   ]
  },
  {
   "cell_type": "code",
   "execution_count": null,
   "id": "ffd43e13",
   "metadata": {},
   "outputs": [],
   "source": []
  },
  {
   "cell_type": "code",
   "execution_count": null,
   "id": "d026749f",
   "metadata": {},
   "outputs": [],
   "source": []
  },
  {
   "cell_type": "code",
   "execution_count": null,
   "id": "9266c51e",
   "metadata": {},
   "outputs": [],
   "source": []
  },
  {
   "cell_type": "code",
   "execution_count": 489,
   "id": "18c6a477",
   "metadata": {},
   "outputs": [],
   "source": [
    "#Q6."
   ]
  },
  {
   "cell_type": "code",
   "execution_count": 490,
   "id": "d67f8413",
   "metadata": {},
   "outputs": [
    {
     "name": "stderr",
     "output_type": "stream",
     "text": [
      "C:\\Users\\COTMAC\\AppData\\Local\\Temp/ipykernel_13720/2295598310.py:2: DeprecationWarning: executable_path has been deprecated, please pass in a Service object\n",
      "  driver = webdriver.Chrome(r'C:\\Users\\COTMAC\\Downloads\\chromedriver_win32\\chromedriver.exe')\n"
     ]
    }
   ],
   "source": [
    "# Connect to webdriver\n",
    "driver = webdriver.Chrome(r'C:\\Users\\COTMAC\\Downloads\\chromedriver_win32\\chromedriver.exe')"
   ]
  },
  {
   "cell_type": "code",
   "execution_count": 491,
   "id": "6ed4a7f5",
   "metadata": {},
   "outputs": [],
   "source": [
    "driver.get('https://trak.in/')"
   ]
  },
  {
   "cell_type": "code",
   "execution_count": 493,
   "id": "80e85983",
   "metadata": {},
   "outputs": [],
   "source": [
    "Funding_Deal=driver.find_element(By.XPATH,\"/html/body/div[1]/header/div[2]/div/div/div/div/nav/ul/li[9]/a\")\n",
    "Funding_Deal.click()\n",
    "time.sleep(5)"
   ]
  },
  {
   "cell_type": "code",
   "execution_count": 494,
   "id": "49038faf",
   "metadata": {},
   "outputs": [
    {
     "data": {
      "text/plain": [
       "1"
      ]
     },
     "execution_count": 494,
     "metadata": {},
     "output_type": "execute_result"
    }
   ],
   "source": [
    "Month = driver.find_elements(By.XPATH,'//h2[@class=\"tablepress-table-name tablepress-table-name-id-57\"]')\n",
    "len(Month)"
   ]
  },
  {
   "cell_type": "code",
   "execution_count": 495,
   "id": "a825b573",
   "metadata": {},
   "outputs": [
    {
     "data": {
      "text/plain": [
       "[<selenium.webdriver.remote.webelement.WebElement (session=\"b2c66c74ea38f10af15f937927378700\", element=\"3a4bc0b9-300b-4119-8f16-dacc499e4cc5\")>]"
      ]
     },
     "execution_count": 495,
     "metadata": {},
     "output_type": "execute_result"
    }
   ],
   "source": [
    "Month"
   ]
  },
  {
   "cell_type": "code",
   "execution_count": 500,
   "id": "363d1aac",
   "metadata": {},
   "outputs": [],
   "source": [
    "Month1=[]\n",
    "\n",
    "for i in Month:\n",
    "    #driver.get(i)\n",
    "    #time.sleep(5)\n",
    "    try:\n",
    "        #BrandName = driver.find_element(By.XPATH,'/html/body/div[1]/div/div[3]/div[1]/div[2]/div[2]/div/div[1]/h1/span')\n",
    "        Month1.append(i.text)\n",
    "    except NoSuchElementException :\n",
    "        Month1.append('Not present')"
   ]
  },
  {
   "cell_type": "code",
   "execution_count": 503,
   "id": "992aee02",
   "metadata": {},
   "outputs": [
    {
     "data": {
      "text/plain": [
       "['January, 2021']"
      ]
     },
     "execution_count": 503,
     "metadata": {},
     "output_type": "execute_result"
    }
   ],
   "source": [
    "Month1"
   ]
  },
  {
   "cell_type": "code",
   "execution_count": 504,
   "id": "60fff697",
   "metadata": {},
   "outputs": [
    {
     "data": {
      "text/plain": [
       "392"
      ]
     },
     "execution_count": 504,
     "metadata": {},
     "output_type": "execute_result"
    }
   ],
   "source": [
    "SrNO = driver.find_elements(By.XPATH,'//td[@class=\"column-1\"]')\n",
    "len(SrNO)"
   ]
  },
  {
   "cell_type": "code",
   "execution_count": 505,
   "id": "1d5a96cc",
   "metadata": {},
   "outputs": [],
   "source": [
    "SrNO1=[]\n",
    "\n",
    "for i in SrNO:\n",
    "    #driver.get(i)\n",
    "    #time.sleep(5)\n",
    "    try:\n",
    "        #BrandName = driver.find_element(By.XPATH,'/html/body/div[1]/div/div[3]/div[1]/div[2]/div[2]/div/div[1]/h1/span')\n",
    "        SrNO1.append(i.text)\n",
    "    except NoSuchElementException :\n",
    "        SrNO1.append('Not present')"
   ]
  },
  {
   "cell_type": "code",
   "execution_count": 525,
   "id": "a1c7a780",
   "metadata": {},
   "outputs": [
    {
     "data": {
      "text/plain": [
       "['1', '2', '3', '4', '5', '6', '7', '8']"
      ]
     },
     "execution_count": 525,
     "metadata": {},
     "output_type": "execute_result"
    }
   ],
   "source": [
    "SrNO1[21:29]"
   ]
  },
  {
   "cell_type": "code",
   "execution_count": 507,
   "id": "268c4ecd",
   "metadata": {},
   "outputs": [
    {
     "data": {
      "text/plain": [
       "392"
      ]
     },
     "execution_count": 507,
     "metadata": {},
     "output_type": "execute_result"
    }
   ],
   "source": [
    "SrDate = driver.find_elements(By.XPATH,'//td[@class=\"column-2\"]')\n",
    "len(SrDate)"
   ]
  },
  {
   "cell_type": "code",
   "execution_count": 526,
   "id": "ab227aad",
   "metadata": {},
   "outputs": [
    {
     "data": {
      "text/plain": [
       "['15/01/2021',\n",
       " '28/01/2021',\n",
       " '19/01/2021',\n",
       " '19/01/2021',\n",
       " '18/01/2021',\n",
       " '18/01/2021',\n",
       " '11/01/2021',\n",
       " '13/01/2021']"
      ]
     },
     "execution_count": 526,
     "metadata": {},
     "output_type": "execute_result"
    }
   ],
   "source": [
    "SrDate1=[]\n",
    "\n",
    "for i in SrDate:\n",
    "    #driver.get(i)\n",
    "    #time.sleep(5)\n",
    "    try:\n",
    "        #BrandName = driver.find_element(By.XPATH,'/html/body/div[1]/div/div[3]/div[1]/div[2]/div[2]/div/div[1]/h1/span')\n",
    "        SrDate1.append(i.text)\n",
    "    except NoSuchElementException :\n",
    "        SrDate1.append('Not present')\n",
    "        \n",
    "SrDate1[21:29]"
   ]
  },
  {
   "cell_type": "code",
   "execution_count": 511,
   "id": "4b976cd3",
   "metadata": {},
   "outputs": [
    {
     "data": {
      "text/plain": [
       "392"
      ]
     },
     "execution_count": 511,
     "metadata": {},
     "output_type": "execute_result"
    }
   ],
   "source": [
    "SrName = driver.find_elements(By.XPATH,'//td[@class=\"column-3\"]')\n",
    "len(SrName)"
   ]
  },
  {
   "cell_type": "code",
   "execution_count": 527,
   "id": "f6a42fbf",
   "metadata": {},
   "outputs": [
    {
     "data": {
      "text/plain": [
       "['Digit Insurance',\n",
       " 'Bombay Shaving Company',\n",
       " 'DeHaat',\n",
       " 'Darwinbox',\n",
       " 'mfine',\n",
       " 'Udayy',\n",
       " 'True Elements',\n",
       " 'Saveo']"
      ]
     },
     "execution_count": 527,
     "metadata": {},
     "output_type": "execute_result"
    }
   ],
   "source": [
    "SrName1=[]\n",
    "\n",
    "for i in SrName:\n",
    "    #driver.get(i)\n",
    "    #time.sleep(5)\n",
    "    try:\n",
    "        #BrandName = driver.find_element(By.XPATH,'/html/body/div[1]/div/div[3]/div[1]/div[2]/div[2]/div/div[1]/h1/span')\n",
    "        SrName1.append(i.text)\n",
    "    except NoSuchElementException :\n",
    "        SrName1.append('Not present')\n",
    "        \n",
    "SrName1[21:29]"
   ]
  },
  {
   "cell_type": "code",
   "execution_count": 513,
   "id": "025f136a",
   "metadata": {},
   "outputs": [
    {
     "data": {
      "text/plain": [
       "392"
      ]
     },
     "execution_count": 513,
     "metadata": {},
     "output_type": "execute_result"
    }
   ],
   "source": [
    "SrIndustry = driver.find_elements(By.XPATH,'//td[@class=\"column-4\"]')\n",
    "len(SrIndustry)"
   ]
  },
  {
   "cell_type": "code",
   "execution_count": 529,
   "id": "1a6e240e",
   "metadata": {},
   "outputs": [
    {
     "data": {
      "text/plain": [
       "['Financial Services',\n",
       " 'Consumer Goods Company',\n",
       " 'AgriTech Startup',\n",
       " 'SaaS',\n",
       " 'Health Tech Startup',\n",
       " 'EdTech',\n",
       " 'Food Startup',\n",
       " 'B2B E-commerce']"
      ]
     },
     "execution_count": 529,
     "metadata": {},
     "output_type": "execute_result"
    }
   ],
   "source": [
    "SrIndustry1=[]\n",
    "\n",
    "for i in SrIndustry:\n",
    "    #driver.get(i)\n",
    "    #time.sleep(5)\n",
    "    try:\n",
    "        #BrandName = driver.find_element(By.XPATH,'/html/body/div[1]/div/div[3]/div[1]/div[2]/div[2]/div/div[1]/h1/span')\n",
    "        SrIndustry1.append(i.text)\n",
    "    except NoSuchElementException :\n",
    "        SrIndustry.append('Not present')\n",
    "        \n",
    "SrIndustry1[21:29]"
   ]
  },
  {
   "cell_type": "code",
   "execution_count": 515,
   "id": "10963a36",
   "metadata": {},
   "outputs": [
    {
     "data": {
      "text/plain": [
       "392"
      ]
     },
     "execution_count": 515,
     "metadata": {},
     "output_type": "execute_result"
    }
   ],
   "source": [
    "SrSub = driver.find_elements(By.XPATH,'//td[@class=\"column-5\"]')\n",
    "len(SrSub)"
   ]
  },
  {
   "cell_type": "code",
   "execution_count": 530,
   "id": "16a746a0",
   "metadata": {},
   "outputs": [
    {
     "data": {
      "text/plain": [
       "['Insurance Services',\n",
       " 'Shave care, beard care, and skincare products',\n",
       " 'online marketplace for farm products and services',\n",
       " 'HR Tech',\n",
       " 'AI-powered telemedicine mobile app',\n",
       " 'Online learning platform for kids in class 1-5',\n",
       " 'Whole Food plant based Nashta',\n",
       " 'Pharmacies']"
      ]
     },
     "execution_count": 530,
     "metadata": {},
     "output_type": "execute_result"
    }
   ],
   "source": [
    "SrSub1=[]\n",
    "\n",
    "for i in SrSub:\n",
    "    #driver.get(i)\n",
    "    #time.sleep(5)\n",
    "    try:\n",
    "        #BrandName = driver.find_element(By.XPATH,'/html/body/div[1]/div/div[3]/div[1]/div[2]/div[2]/div/div[1]/h1/span')\n",
    "        SrSub1.append(i.text)\n",
    "    except NoSuchElementException :\n",
    "        SrSub1.append('Not present')\n",
    "        \n",
    "SrSub1[21:29]"
   ]
  },
  {
   "cell_type": "code",
   "execution_count": 517,
   "id": "b122e93a",
   "metadata": {},
   "outputs": [
    {
     "data": {
      "text/plain": [
       "392"
      ]
     },
     "execution_count": 517,
     "metadata": {},
     "output_type": "execute_result"
    }
   ],
   "source": [
    "Srcity = driver.find_elements(By.XPATH,'//td[@class=\"column-6\"]')\n",
    "len(Srcity)"
   ]
  },
  {
   "cell_type": "code",
   "execution_count": 531,
   "id": "80256cc6",
   "metadata": {},
   "outputs": [
    {
     "data": {
      "text/plain": [
       "['Bengaluru',\n",
       " 'New Delhi',\n",
       " 'Patna',\n",
       " 'Mumbai',\n",
       " 'Bengaluru',\n",
       " 'Gurgaon',\n",
       " 'Pune',\n",
       " 'Bengaluru']"
      ]
     },
     "execution_count": 531,
     "metadata": {},
     "output_type": "execute_result"
    }
   ],
   "source": [
    "Srcity1=[]\n",
    "\n",
    "for i in Srcity:\n",
    "    #driver.get(i)\n",
    "    #time.sleep(5)\n",
    "    try:\n",
    "        #BrandName = driver.find_element(By.XPATH,'/html/body/div[1]/div/div[3]/div[1]/div[2]/div[2]/div/div[1]/h1/span')\n",
    "        Srcity1.append(i.text)\n",
    "    except NoSuchElementException :\n",
    "        Srcity1.append('Not present')\n",
    "        \n",
    "Srcity1[21:29]"
   ]
  },
  {
   "cell_type": "code",
   "execution_count": 519,
   "id": "cc561700",
   "metadata": {},
   "outputs": [
    {
     "data": {
      "text/plain": [
       "392"
      ]
     },
     "execution_count": 519,
     "metadata": {},
     "output_type": "execute_result"
    }
   ],
   "source": [
    "SrInvestorName = driver.find_elements(By.XPATH,'//td[@class=\"column-7\"]')\n",
    "len(SrInvestorName)"
   ]
  },
  {
   "cell_type": "code",
   "execution_count": 532,
   "id": "c1cc9f00",
   "metadata": {},
   "outputs": [
    {
     "data": {
      "text/plain": [
       "['A91 Partners, Faering Capital, TVS Capital Funds',\n",
       " 'Reckitt Benckiser',\n",
       " 'Prosus Ventures',\n",
       " 'Salesforce Ventures',\n",
       " 'Heritas Capital Management',\n",
       " 'Sequoia Capital',\n",
       " 'SIDBI Venture Capital',\n",
       " 'Matrix Partners India, RTP Global, others']"
      ]
     },
     "execution_count": 532,
     "metadata": {},
     "output_type": "execute_result"
    }
   ],
   "source": [
    "SrInvestorName1=[]\n",
    "\n",
    "for i in SrInvestorName:\n",
    "    #driver.get(i)\n",
    "    #time.sleep(5)\n",
    "    try:\n",
    "        #BrandName = driver.find_element(By.XPATH,'/html/body/div[1]/div/div[3]/div[1]/div[2]/div[2]/div/div[1]/h1/span')\n",
    "        SrInvestorName1.append(i.text)\n",
    "    except NoSuchElementException :\n",
    "        SrInvestorName1.append('Not present')\n",
    "        \n",
    "SrInvestorName1[21:29]"
   ]
  },
  {
   "cell_type": "code",
   "execution_count": 521,
   "id": "af3dfc54",
   "metadata": {},
   "outputs": [
    {
     "data": {
      "text/plain": [
       "392"
      ]
     },
     "execution_count": 521,
     "metadata": {},
     "output_type": "execute_result"
    }
   ],
   "source": [
    "SrType = driver.find_elements(By.XPATH,'//td[@class=\"column-8\"]')\n",
    "len(SrType)"
   ]
  },
  {
   "cell_type": "code",
   "execution_count": 533,
   "id": "ba827014",
   "metadata": {},
   "outputs": [
    {
     "data": {
      "text/plain": [
       "['Venture',\n",
       " 'Venture',\n",
       " 'Series C',\n",
       " 'Seed',\n",
       " 'Venture Round',\n",
       " 'Seed Funding',\n",
       " 'Series',\n",
       " 'Seed']"
      ]
     },
     "execution_count": 533,
     "metadata": {},
     "output_type": "execute_result"
    }
   ],
   "source": [
    "SrType1=[]\n",
    "\n",
    "for i in SrType:\n",
    "    #driver.get(i)\n",
    "    #time.sleep(5)\n",
    "    try:\n",
    "        #BrandName = driver.find_element(By.XPATH,'/html/body/div[1]/div/div[3]/div[1]/div[2]/div[2]/div/div[1]/h1/span')\n",
    "        SrType1.append(i.text)\n",
    "    except NoSuchElementException :\n",
    "        SrType1.append('Not present')\n",
    "        \n",
    "SrType1[21:29]"
   ]
  },
  {
   "cell_type": "code",
   "execution_count": 523,
   "id": "f067eacb",
   "metadata": {},
   "outputs": [
    {
     "data": {
      "text/plain": [
       "392"
      ]
     },
     "execution_count": 523,
     "metadata": {},
     "output_type": "execute_result"
    }
   ],
   "source": [
    "SrAmount = driver.find_elements(By.XPATH,'//td[@class=\"column-9\"]')\n",
    "len(SrAmount)"
   ]
  },
  {
   "cell_type": "code",
   "execution_count": 535,
   "id": "eb661797",
   "metadata": {},
   "outputs": [
    {
     "data": {
      "text/plain": [
       "['1,80,00,000',\n",
       " '6,172,258.50',\n",
       " '30,000,000',\n",
       " '15,000,000',\n",
       " '16,000,000',\n",
       " '15,000,000',\n",
       " '100,000,000',\n",
       " '4,000,000']"
      ]
     },
     "execution_count": 535,
     "metadata": {},
     "output_type": "execute_result"
    }
   ],
   "source": [
    "SrAmount1=[]\n",
    "\n",
    "for i in SrAmount:\n",
    "    #driver.get(i)\n",
    "    #time.sleep(5)\n",
    "    try:\n",
    "        #BrandName = driver.find_element(By.XPATH,'/html/body/div[1]/div/div[3]/div[1]/div[2]/div[2]/div/div[1]/h1/span')\n",
    "        SrAmount1.append(i.text)\n",
    "    except NoSuchElementException :\n",
    "        SrAmount1.append('Not present')\n",
    "        \n",
    "SrAmount1[21:29]"
   ]
  },
  {
   "cell_type": "code",
   "execution_count": 538,
   "id": "c55bc4cc",
   "metadata": {},
   "outputs": [
    {
     "data": {
      "text/plain": [
       "(392, 392, 392, 392, 392, 392, 392, 392, 392)"
      ]
     },
     "execution_count": 538,
     "metadata": {},
     "output_type": "execute_result"
    }
   ],
   "source": [
    "len(SrNO1),len(SrDate1),len(SrName1),len(SrIndustry1),len(SrSub1),len(Srcity1),len(SrInvestorName1),len(SrType1),len(SrAmount1)"
   ]
  },
  {
   "cell_type": "code",
   "execution_count": 541,
   "id": "961582f9",
   "metadata": {},
   "outputs": [
    {
     "name": "stdout",
     "output_type": "stream",
     "text": [
      "Month of data is ['January, 2021']\n"
     ]
    },
    {
     "data": {
      "text/html": [
       "<div>\n",
       "<style scoped>\n",
       "    .dataframe tbody tr th:only-of-type {\n",
       "        vertical-align: middle;\n",
       "    }\n",
       "\n",
       "    .dataframe tbody tr th {\n",
       "        vertical-align: top;\n",
       "    }\n",
       "\n",
       "    .dataframe thead th {\n",
       "        text-align: right;\n",
       "    }\n",
       "</style>\n",
       "<table border=\"1\" class=\"dataframe\">\n",
       "  <thead>\n",
       "    <tr style=\"text-align: right;\">\n",
       "      <th></th>\n",
       "      <th>SrNO</th>\n",
       "      <th>SrDate</th>\n",
       "      <th>SrName</th>\n",
       "      <th>SrIndustry</th>\n",
       "      <th>SrSub</th>\n",
       "      <th>Srcity</th>\n",
       "      <th>SrInvestorName</th>\n",
       "      <th>SrType</th>\n",
       "      <th>SrAmount</th>\n",
       "    </tr>\n",
       "  </thead>\n",
       "  <tbody>\n",
       "    <tr>\n",
       "      <th>0</th>\n",
       "      <td>1</td>\n",
       "      <td>15/01/2021</td>\n",
       "      <td>Digit Insurance</td>\n",
       "      <td>Financial Services</td>\n",
       "      <td>Insurance Services</td>\n",
       "      <td>Bengaluru</td>\n",
       "      <td>A91 Partners, Faering Capital, TVS Capital Funds</td>\n",
       "      <td>Venture</td>\n",
       "      <td>1,80,00,000</td>\n",
       "    </tr>\n",
       "    <tr>\n",
       "      <th>1</th>\n",
       "      <td>2</td>\n",
       "      <td>28/01/2021</td>\n",
       "      <td>Bombay Shaving Company</td>\n",
       "      <td>Consumer Goods Company</td>\n",
       "      <td>Shave care, beard care, and skincare products</td>\n",
       "      <td>New Delhi</td>\n",
       "      <td>Reckitt Benckiser</td>\n",
       "      <td>Venture</td>\n",
       "      <td>6,172,258.50</td>\n",
       "    </tr>\n",
       "    <tr>\n",
       "      <th>2</th>\n",
       "      <td>3</td>\n",
       "      <td>19/01/2021</td>\n",
       "      <td>DeHaat</td>\n",
       "      <td>AgriTech Startup</td>\n",
       "      <td>online marketplace for farm products and services</td>\n",
       "      <td>Patna</td>\n",
       "      <td>Prosus Ventures</td>\n",
       "      <td>Series C</td>\n",
       "      <td>30,000,000</td>\n",
       "    </tr>\n",
       "    <tr>\n",
       "      <th>3</th>\n",
       "      <td>4</td>\n",
       "      <td>19/01/2021</td>\n",
       "      <td>Darwinbox</td>\n",
       "      <td>SaaS</td>\n",
       "      <td>HR Tech</td>\n",
       "      <td>Mumbai</td>\n",
       "      <td>Salesforce Ventures</td>\n",
       "      <td>Seed</td>\n",
       "      <td>15,000,000</td>\n",
       "    </tr>\n",
       "    <tr>\n",
       "      <th>4</th>\n",
       "      <td>5</td>\n",
       "      <td>18/01/2021</td>\n",
       "      <td>mfine</td>\n",
       "      <td>Health Tech Startup</td>\n",
       "      <td>AI-powered telemedicine mobile app</td>\n",
       "      <td>Bengaluru</td>\n",
       "      <td>Heritas Capital Management</td>\n",
       "      <td>Venture Round</td>\n",
       "      <td>16,000,000</td>\n",
       "    </tr>\n",
       "    <tr>\n",
       "      <th>5</th>\n",
       "      <td>6</td>\n",
       "      <td>18/01/2021</td>\n",
       "      <td>Udayy</td>\n",
       "      <td>EdTech</td>\n",
       "      <td>Online learning platform for kids in class 1-5</td>\n",
       "      <td>Gurgaon</td>\n",
       "      <td>Sequoia Capital</td>\n",
       "      <td>Seed Funding</td>\n",
       "      <td>15,000,000</td>\n",
       "    </tr>\n",
       "    <tr>\n",
       "      <th>6</th>\n",
       "      <td>7</td>\n",
       "      <td>11/01/2021</td>\n",
       "      <td>True Elements</td>\n",
       "      <td>Food Startup</td>\n",
       "      <td>Whole Food plant based Nashta</td>\n",
       "      <td>Pune</td>\n",
       "      <td>SIDBI Venture Capital</td>\n",
       "      <td>Series</td>\n",
       "      <td>100,000,000</td>\n",
       "    </tr>\n",
       "    <tr>\n",
       "      <th>7</th>\n",
       "      <td>8</td>\n",
       "      <td>13/01/2021</td>\n",
       "      <td>Saveo</td>\n",
       "      <td>B2B E-commerce</td>\n",
       "      <td>Pharmacies</td>\n",
       "      <td>Bengaluru</td>\n",
       "      <td>Matrix Partners India, RTP Global, others</td>\n",
       "      <td>Seed</td>\n",
       "      <td>4,000,000</td>\n",
       "    </tr>\n",
       "  </tbody>\n",
       "</table>\n",
       "</div>"
      ],
      "text/plain": [
       "  SrNO      SrDate                  SrName              SrIndustry  \\\n",
       "0    1  15/01/2021         Digit Insurance      Financial Services   \n",
       "1    2  28/01/2021  Bombay Shaving Company  Consumer Goods Company   \n",
       "2    3  19/01/2021                  DeHaat        AgriTech Startup   \n",
       "3    4  19/01/2021               Darwinbox                    SaaS   \n",
       "4    5  18/01/2021                   mfine     Health Tech Startup   \n",
       "5    6  18/01/2021                   Udayy                  EdTech   \n",
       "6    7  11/01/2021           True Elements            Food Startup   \n",
       "7    8  13/01/2021                   Saveo          B2B E-commerce   \n",
       "\n",
       "                                               SrSub     Srcity  \\\n",
       "0                                 Insurance Services  Bengaluru   \n",
       "1      Shave care, beard care, and skincare products  New Delhi   \n",
       "2  online marketplace for farm products and services      Patna   \n",
       "3                                            HR Tech     Mumbai   \n",
       "4                 AI-powered telemedicine mobile app  Bengaluru   \n",
       "5     Online learning platform for kids in class 1-5    Gurgaon   \n",
       "6                      Whole Food plant based Nashta       Pune   \n",
       "7                                         Pharmacies  Bengaluru   \n",
       "\n",
       "                                     SrInvestorName         SrType  \\\n",
       "0  A91 Partners, Faering Capital, TVS Capital Funds        Venture   \n",
       "1                                 Reckitt Benckiser        Venture   \n",
       "2                                   Prosus Ventures       Series C   \n",
       "3                               Salesforce Ventures           Seed   \n",
       "4                        Heritas Capital Management  Venture Round   \n",
       "5                                   Sequoia Capital   Seed Funding   \n",
       "6                             SIDBI Venture Capital         Series   \n",
       "7         Matrix Partners India, RTP Global, others           Seed   \n",
       "\n",
       "       SrAmount  \n",
       "0   1,80,00,000  \n",
       "1  6,172,258.50  \n",
       "2    30,000,000  \n",
       "3    15,000,000  \n",
       "4    16,000,000  \n",
       "5    15,000,000  \n",
       "6   100,000,000  \n",
       "7     4,000,000  "
      ]
     },
     "execution_count": 541,
     "metadata": {},
     "output_type": "execute_result"
    }
   ],
   "source": [
    "Deals=pd.DataFrame()\n",
    "Deals['SrNO'] = SrNO1[21:29]\n",
    "Deals['SrDate'] = SrDate1[21:29]\n",
    "Deals['SrName'] = SrName1[21:29]\n",
    "Deals['SrIndustry'] = SrIndustry1[21:29]\n",
    "Deals['SrSub'] = SrSub1[21:29]\n",
    "Deals['Srcity'] = Srcity1[21:29]\n",
    "Deals['SrInvestorName'] = SrInvestorName1[21:29]\n",
    "Deals['SrType'] = SrType1[21:29]\n",
    "Deals['SrAmount'] = SrAmount1[21:29]\n",
    "print('Month of data is',Month1)\n",
    "Deals"
   ]
  },
  {
   "cell_type": "code",
   "execution_count": 542,
   "id": "f95b35ee",
   "metadata": {},
   "outputs": [],
   "source": [
    "Deals.to_csv(r'D:\\I\\02.Flip Robo Assignments\\billionaires.csv', index=False)"
   ]
  },
  {
   "cell_type": "code",
   "execution_count": null,
   "id": "54551c61",
   "metadata": {},
   "outputs": [],
   "source": []
  },
  {
   "cell_type": "code",
   "execution_count": null,
   "id": "057474fb",
   "metadata": {},
   "outputs": [],
   "source": []
  },
  {
   "cell_type": "code",
   "execution_count": null,
   "id": "bb9fd7f0",
   "metadata": {},
   "outputs": [],
   "source": []
  }
 ],
 "metadata": {
  "kernelspec": {
   "display_name": "Python 3 (ipykernel)",
   "language": "python",
   "name": "python3"
  },
  "language_info": {
   "codemirror_mode": {
    "name": "ipython",
    "version": 3
   },
   "file_extension": ".py",
   "mimetype": "text/x-python",
   "name": "python",
   "nbconvert_exporter": "python",
   "pygments_lexer": "ipython3",
   "version": "3.9.7"
  }
 },
 "nbformat": 4,
 "nbformat_minor": 5
}
