{
 "cells": [
  {
   "cell_type": "code",
   "execution_count": 2,
   "id": "352df687",
   "metadata": {},
   "outputs": [
    {
     "name": "stdout",
     "output_type": "stream",
     "text": [
      "Factorial 6 is 1\n",
      "Factorial 6 is 2\n",
      "Factorial 6 is 6\n",
      "Factorial 6 is 24\n",
      "Factorial 6 is 120\n",
      "Factorial 6 is 720\n"
     ]
    }
   ],
   "source": [
    "# Facorial Umber\n",
    "num  = 6\n",
    "Fact = 1\n",
    "if num < 0:\n",
    "    print(\"factorial not exist negative value\")\n",
    "elif num == 0:\n",
    "    print(\"fact number is 0\")\n",
    "else :\n",
    "    for i in range(1,num + 1):\n",
    "            Fact = Fact * i\n",
    "            print(\"Factorial\", num, \"is\", Fact)"
   ]
  },
  {
   "cell_type": "code",
   "execution_count": 3,
   "id": "5fd03ac9",
   "metadata": {},
   "outputs": [
    {
     "name": "stdout",
     "output_type": "stream",
     "text": [
      "Enter Number5\n"
     ]
    }
   ],
   "source": [
    "n=int(input(\"Enter Number\"))\n",
    "if n > 1:\n",
    "    for i in range(2, n):\n",
    "        if (n % i) == 0:\n",
    "            print(n, \"Number is not prime\")"
   ]
  },
  {
   "cell_type": "code",
   "execution_count": 4,
   "id": "918bad87",
   "metadata": {},
   "outputs": [
    {
     "name": "stdout",
     "output_type": "stream",
     "text": [
      "Enter Number6\n",
      "6 Number is not prime\n"
     ]
    }
   ],
   "source": [
    "# Prime Number\n",
    "n=int(input(\"Enter Number\"))\n",
    "if n > 1:\n",
    "    for i in range(2, n):\n",
    "        if (n % i) == 0:\n",
    "            print(n, \"Number is not prime\")\n",
    "            break\n",
    "        else:\n",
    "            print(n,\"Number is prime\")"
   ]
  },
  {
   "cell_type": "code",
   "execution_count": 8,
   "id": "e2902922",
   "metadata": {},
   "outputs": [
    {
     "name": "stdout",
     "output_type": "stream",
     "text": [
      "Enter Number5\n",
      "5 Number is prime\n"
     ]
    }
   ],
   "source": [
    "# Prime Number\n",
    "n=int(input(\"Enter Number\"))\n",
    "if n > 1:\n",
    "    for i in range(2, n):\n",
    "        if (n % i) == 0:\n",
    "            print(n, \"Number is not prime\")\n",
    "            break\n",
    "        else:\n",
    "            print(n,\"Number is prime\")\n",
    "            break"
   ]
  },
  {
   "cell_type": "code",
   "execution_count": 13,
   "id": "6a4234ee",
   "metadata": {},
   "outputs": [
    {
     "name": "stdout",
     "output_type": "stream",
     "text": [
      "Please enter your own text:aabbcc\n"
     ]
    },
    {
     "ename": "NameError",
     "evalue": "name 'Str1' is not defined",
     "output_type": "error",
     "traceback": [
      "\u001b[1;31m---------------------------------------------------------------------------\u001b[0m",
      "\u001b[1;31mNameError\u001b[0m                                 Traceback (most recent call last)",
      "\u001b[1;32m~\\AppData\\Local\\Temp/ipykernel_10364/2369681845.py\u001b[0m in \u001b[0;36m<module>\u001b[1;34m\u001b[0m\n\u001b[0;32m      4\u001b[0m \u001b[1;32mfor\u001b[0m \u001b[0mi\u001b[0m \u001b[1;32min\u001b[0m \u001b[0mstring\u001b[0m\u001b[1;33m:\u001b[0m\u001b[1;33m\u001b[0m\u001b[1;33m\u001b[0m\u001b[0m\n\u001b[0;32m      5\u001b[0m     \u001b[0mstr1\u001b[0m \u001b[1;33m=\u001b[0m \u001b[0mi\u001b[0m \u001b[1;33m+\u001b[0m \u001b[0mstr1\u001b[0m\u001b[1;33m\u001b[0m\u001b[1;33m\u001b[0m\u001b[0m\n\u001b[1;32m----> 6\u001b[1;33m \u001b[0mprint\u001b[0m\u001b[1;33m(\u001b[0m\u001b[1;34m\"Reverse Order:\"\u001b[0m\u001b[1;33m,\u001b[0m \u001b[0mStr1\u001b[0m\u001b[1;33m)\u001b[0m\u001b[1;33m\u001b[0m\u001b[1;33m\u001b[0m\u001b[0m\n\u001b[0m\u001b[0;32m      7\u001b[0m \u001b[1;33m\u001b[0m\u001b[0m\n\u001b[0;32m      8\u001b[0m \u001b[1;32mif\u001b[0m\u001b[1;33m(\u001b[0m\u001b[0mstring\u001b[0m \u001b[1;33m==\u001b[0m \u001b[0mstr1\u001b[0m\u001b[1;33m)\u001b[0m\u001b[1;33m:\u001b[0m\u001b[1;33m\u001b[0m\u001b[1;33m\u001b[0m\u001b[0m\n",
      "\u001b[1;31mNameError\u001b[0m: name 'Str1' is not defined"
     ]
    }
   ],
   "source": [
    "string = input(\"Please enter your own text:\")\n",
    "str1 = \"\"\n",
    "\n",
    "for i in string:\n",
    "    str1 = i + str1\n",
    "print(\"Reverse Order:\", Str1)\n",
    "\n",
    "if(string == str1):\n",
    "    print(\"This is a Pallindrom String\")\n",
    "else:\n",
    "    print(\"This is Not\")"
   ]
  },
  {
   "cell_type": "code",
   "execution_count": 24,
   "id": "24f62529",
   "metadata": {},
   "outputs": [
    {
     "ename": "IndentationError",
     "evalue": "expected an indented block (Temp/ipykernel_10364/166001270.py, line 3)",
     "output_type": "error",
     "traceback": [
      "\u001b[1;36m  File \u001b[1;32m\"C:\\Users\\COTMAC\\AppData\\Local\\Temp/ipykernel_10364/166001270.py\"\u001b[1;36m, line \u001b[1;32m3\u001b[0m\n\u001b[1;33m    if Opposite_Side == str(\"x\"):\u001b[0m\n\u001b[1;37m    ^\u001b[0m\n\u001b[1;31mIndentationError\u001b[0m\u001b[1;31m:\u001b[0m expected an indented block\n"
     ]
    }
   ],
   "source": [
    "def Third(Opposite_Side,Adjacent_Side,Hypotenuse):\n",
    "    \n",
    "if Opposite_Side == str(\"x\"):\n",
    "    return (\"Opposite= \" + str(((Hypotenuse**2) - (Adjacent_Side**2))**0.5))\n",
    "elif Adjacent_Side == str(\"x\"):\n",
    "    return (\"Adjacent= \" + str(((Hypotenuse**2) - (Opposite_Side**2))**0.5))\n",
    "elif Hypotenuse == str(\"x\"):\n",
    "    return (\"Hypoteuse= \" + str(((Opposite_Side**2) - (Adjacent_Side**2))**0.5))\n",
    "else:\n",
    "    return \"Answer\"\n",
    "\n",
    "print(Third(3,4,'x'))\n",
    "print(Third(3,'x',5))\n",
    "print(Third('x',4,5))\n",
    "print(Third(3,4,5))"
   ]
  },
  {
   "cell_type": "code",
   "execution_count": 25,
   "id": "ae4b37fb",
   "metadata": {},
   "outputs": [
    {
     "name": "stdout",
     "output_type": "stream",
     "text": [
      "Given String: timeofeffort\n",
      "frequency of eachcharacter:\n",
      " {'t': 2, 'i': 1, 'm': 1, 'e': 2, 'o': 2, 'f': 3, 'r': 1}\n"
     ]
    }
   ],
   "source": [
    "from collections import Counter\n",
    "# Given String\n",
    "strA = \"timeofeffort\"\n",
    "print(\"Given String:\", strA)\n",
    "# Using Counter\n",
    "res = {}\n",
    "\n",
    "for keys in strA:\n",
    "    res[keys] = res.get(keys,0) + 1\n",
    "    \n",
    "#Result\n",
    "print(\"frequency of eachcharacter:\\n\", res)"
   ]
  },
  {
   "cell_type": "code",
   "execution_count": null,
   "id": "0a3fc182",
   "metadata": {},
   "outputs": [],
   "source": []
  },
  {
   "cell_type": "code",
   "execution_count": null,
   "id": "3657296d",
   "metadata": {},
   "outputs": [],
   "source": []
  }
 ],
 "metadata": {
  "kernelspec": {
   "display_name": "Python 3 (ipykernel)",
   "language": "python",
   "name": "python3"
  },
  "language_info": {
   "codemirror_mode": {
    "name": "ipython",
    "version": 3
   },
   "file_extension": ".py",
   "mimetype": "text/x-python",
   "name": "python",
   "nbconvert_exporter": "python",
   "pygments_lexer": "ipython3",
   "version": "3.9.7"
  }
 },
 "nbformat": 4,
 "nbformat_minor": 5
}
