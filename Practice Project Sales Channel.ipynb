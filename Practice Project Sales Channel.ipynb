{
 "cells": [
  {
   "cell_type": "code",
   "execution_count": 2,
   "id": "54d498f9",
   "metadata": {},
   "outputs": [],
   "source": [
    "import pandas as pd\n",
    "import numpy as np"
   ]
  },
  {
   "cell_type": "code",
   "execution_count": 3,
   "id": "eec3192e",
   "metadata": {},
   "outputs": [
    {
     "data": {
      "text/html": [
       "<div>\n",
       "<style scoped>\n",
       "    .dataframe tbody tr th:only-of-type {\n",
       "        vertical-align: middle;\n",
       "    }\n",
       "\n",
       "    .dataframe tbody tr th {\n",
       "        vertical-align: top;\n",
       "    }\n",
       "\n",
       "    .dataframe thead th {\n",
       "        text-align: right;\n",
       "    }\n",
       "</style>\n",
       "<table border=\"1\" class=\"dataframe\">\n",
       "  <thead>\n",
       "    <tr style=\"text-align: right;\">\n",
       "      <th></th>\n",
       "      <th>Number</th>\n",
       "      <th>TV</th>\n",
       "      <th>radio</th>\n",
       "      <th>newspaper</th>\n",
       "      <th>sales</th>\n",
       "    </tr>\n",
       "  </thead>\n",
       "  <tbody>\n",
       "    <tr>\n",
       "      <th>0</th>\n",
       "      <td>1</td>\n",
       "      <td>230.1</td>\n",
       "      <td>37.8</td>\n",
       "      <td>69.2</td>\n",
       "      <td>22.1</td>\n",
       "    </tr>\n",
       "    <tr>\n",
       "      <th>1</th>\n",
       "      <td>2</td>\n",
       "      <td>44.5</td>\n",
       "      <td>39.3</td>\n",
       "      <td>45.1</td>\n",
       "      <td>10.4</td>\n",
       "    </tr>\n",
       "    <tr>\n",
       "      <th>2</th>\n",
       "      <td>3</td>\n",
       "      <td>17.2</td>\n",
       "      <td>45.9</td>\n",
       "      <td>69.3</td>\n",
       "      <td>9.3</td>\n",
       "    </tr>\n",
       "    <tr>\n",
       "      <th>3</th>\n",
       "      <td>4</td>\n",
       "      <td>151.5</td>\n",
       "      <td>41.3</td>\n",
       "      <td>58.5</td>\n",
       "      <td>18.5</td>\n",
       "    </tr>\n",
       "    <tr>\n",
       "      <th>4</th>\n",
       "      <td>5</td>\n",
       "      <td>180.8</td>\n",
       "      <td>10.8</td>\n",
       "      <td>58.4</td>\n",
       "      <td>12.9</td>\n",
       "    </tr>\n",
       "    <tr>\n",
       "      <th>...</th>\n",
       "      <td>...</td>\n",
       "      <td>...</td>\n",
       "      <td>...</td>\n",
       "      <td>...</td>\n",
       "      <td>...</td>\n",
       "    </tr>\n",
       "    <tr>\n",
       "      <th>195</th>\n",
       "      <td>196</td>\n",
       "      <td>38.2</td>\n",
       "      <td>3.7</td>\n",
       "      <td>13.8</td>\n",
       "      <td>7.6</td>\n",
       "    </tr>\n",
       "    <tr>\n",
       "      <th>196</th>\n",
       "      <td>197</td>\n",
       "      <td>94.2</td>\n",
       "      <td>4.9</td>\n",
       "      <td>8.1</td>\n",
       "      <td>9.7</td>\n",
       "    </tr>\n",
       "    <tr>\n",
       "      <th>197</th>\n",
       "      <td>198</td>\n",
       "      <td>177.0</td>\n",
       "      <td>9.3</td>\n",
       "      <td>6.4</td>\n",
       "      <td>12.8</td>\n",
       "    </tr>\n",
       "    <tr>\n",
       "      <th>198</th>\n",
       "      <td>199</td>\n",
       "      <td>283.6</td>\n",
       "      <td>42.0</td>\n",
       "      <td>66.2</td>\n",
       "      <td>25.5</td>\n",
       "    </tr>\n",
       "    <tr>\n",
       "      <th>199</th>\n",
       "      <td>200</td>\n",
       "      <td>232.1</td>\n",
       "      <td>8.6</td>\n",
       "      <td>8.7</td>\n",
       "      <td>13.4</td>\n",
       "    </tr>\n",
       "  </tbody>\n",
       "</table>\n",
       "<p>200 rows × 5 columns</p>\n",
       "</div>"
      ],
      "text/plain": [
       "     Number     TV  radio  newspaper  sales\n",
       "0         1  230.1   37.8       69.2   22.1\n",
       "1         2   44.5   39.3       45.1   10.4\n",
       "2         3   17.2   45.9       69.3    9.3\n",
       "3         4  151.5   41.3       58.5   18.5\n",
       "4         5  180.8   10.8       58.4   12.9\n",
       "..      ...    ...    ...        ...    ...\n",
       "195     196   38.2    3.7       13.8    7.6\n",
       "196     197   94.2    4.9        8.1    9.7\n",
       "197     198  177.0    9.3        6.4   12.8\n",
       "198     199  283.6   42.0       66.2   25.5\n",
       "199     200  232.1    8.6        8.7   13.4\n",
       "\n",
       "[200 rows x 5 columns]"
      ]
     },
     "execution_count": 3,
     "metadata": {},
     "output_type": "execute_result"
    }
   ],
   "source": [
    "pd.read_csv('D:/I/02.Flip Robo Assignments/00.DataTrained Assignment/Advertising.csv')"
   ]
  },
  {
   "cell_type": "code",
   "execution_count": 4,
   "id": "b71ba5eb",
   "metadata": {},
   "outputs": [],
   "source": [
    "df=pd.read_csv('D:/I/02.Flip Robo Assignments/00.DataTrained Assignment/Advertising.csv')"
   ]
  },
  {
   "cell_type": "code",
   "execution_count": 5,
   "id": "ba39bf6b",
   "metadata": {},
   "outputs": [
    {
     "data": {
      "text/html": [
       "<div>\n",
       "<style scoped>\n",
       "    .dataframe tbody tr th:only-of-type {\n",
       "        vertical-align: middle;\n",
       "    }\n",
       "\n",
       "    .dataframe tbody tr th {\n",
       "        vertical-align: top;\n",
       "    }\n",
       "\n",
       "    .dataframe thead th {\n",
       "        text-align: right;\n",
       "    }\n",
       "</style>\n",
       "<table border=\"1\" class=\"dataframe\">\n",
       "  <thead>\n",
       "    <tr style=\"text-align: right;\">\n",
       "      <th></th>\n",
       "      <th>Number</th>\n",
       "      <th>TV</th>\n",
       "      <th>radio</th>\n",
       "      <th>newspaper</th>\n",
       "      <th>sales</th>\n",
       "    </tr>\n",
       "  </thead>\n",
       "  <tbody>\n",
       "    <tr>\n",
       "      <th>0</th>\n",
       "      <td>1</td>\n",
       "      <td>230.1</td>\n",
       "      <td>37.8</td>\n",
       "      <td>69.2</td>\n",
       "      <td>22.1</td>\n",
       "    </tr>\n",
       "    <tr>\n",
       "      <th>1</th>\n",
       "      <td>2</td>\n",
       "      <td>44.5</td>\n",
       "      <td>39.3</td>\n",
       "      <td>45.1</td>\n",
       "      <td>10.4</td>\n",
       "    </tr>\n",
       "    <tr>\n",
       "      <th>2</th>\n",
       "      <td>3</td>\n",
       "      <td>17.2</td>\n",
       "      <td>45.9</td>\n",
       "      <td>69.3</td>\n",
       "      <td>9.3</td>\n",
       "    </tr>\n",
       "    <tr>\n",
       "      <th>3</th>\n",
       "      <td>4</td>\n",
       "      <td>151.5</td>\n",
       "      <td>41.3</td>\n",
       "      <td>58.5</td>\n",
       "      <td>18.5</td>\n",
       "    </tr>\n",
       "    <tr>\n",
       "      <th>4</th>\n",
       "      <td>5</td>\n",
       "      <td>180.8</td>\n",
       "      <td>10.8</td>\n",
       "      <td>58.4</td>\n",
       "      <td>12.9</td>\n",
       "    </tr>\n",
       "    <tr>\n",
       "      <th>...</th>\n",
       "      <td>...</td>\n",
       "      <td>...</td>\n",
       "      <td>...</td>\n",
       "      <td>...</td>\n",
       "      <td>...</td>\n",
       "    </tr>\n",
       "    <tr>\n",
       "      <th>195</th>\n",
       "      <td>196</td>\n",
       "      <td>38.2</td>\n",
       "      <td>3.7</td>\n",
       "      <td>13.8</td>\n",
       "      <td>7.6</td>\n",
       "    </tr>\n",
       "    <tr>\n",
       "      <th>196</th>\n",
       "      <td>197</td>\n",
       "      <td>94.2</td>\n",
       "      <td>4.9</td>\n",
       "      <td>8.1</td>\n",
       "      <td>9.7</td>\n",
       "    </tr>\n",
       "    <tr>\n",
       "      <th>197</th>\n",
       "      <td>198</td>\n",
       "      <td>177.0</td>\n",
       "      <td>9.3</td>\n",
       "      <td>6.4</td>\n",
       "      <td>12.8</td>\n",
       "    </tr>\n",
       "    <tr>\n",
       "      <th>198</th>\n",
       "      <td>199</td>\n",
       "      <td>283.6</td>\n",
       "      <td>42.0</td>\n",
       "      <td>66.2</td>\n",
       "      <td>25.5</td>\n",
       "    </tr>\n",
       "    <tr>\n",
       "      <th>199</th>\n",
       "      <td>200</td>\n",
       "      <td>232.1</td>\n",
       "      <td>8.6</td>\n",
       "      <td>8.7</td>\n",
       "      <td>13.4</td>\n",
       "    </tr>\n",
       "  </tbody>\n",
       "</table>\n",
       "<p>200 rows × 5 columns</p>\n",
       "</div>"
      ],
      "text/plain": [
       "     Number     TV  radio  newspaper  sales\n",
       "0         1  230.1   37.8       69.2   22.1\n",
       "1         2   44.5   39.3       45.1   10.4\n",
       "2         3   17.2   45.9       69.3    9.3\n",
       "3         4  151.5   41.3       58.5   18.5\n",
       "4         5  180.8   10.8       58.4   12.9\n",
       "..      ...    ...    ...        ...    ...\n",
       "195     196   38.2    3.7       13.8    7.6\n",
       "196     197   94.2    4.9        8.1    9.7\n",
       "197     198  177.0    9.3        6.4   12.8\n",
       "198     199  283.6   42.0       66.2   25.5\n",
       "199     200  232.1    8.6        8.7   13.4\n",
       "\n",
       "[200 rows x 5 columns]"
      ]
     },
     "execution_count": 5,
     "metadata": {},
     "output_type": "execute_result"
    }
   ],
   "source": [
    "df"
   ]
  },
  {
   "cell_type": "code",
   "execution_count": 6,
   "id": "68cff560",
   "metadata": {},
   "outputs": [
    {
     "data": {
      "text/html": [
       "<div>\n",
       "<style scoped>\n",
       "    .dataframe tbody tr th:only-of-type {\n",
       "        vertical-align: middle;\n",
       "    }\n",
       "\n",
       "    .dataframe tbody tr th {\n",
       "        vertical-align: top;\n",
       "    }\n",
       "\n",
       "    .dataframe thead th {\n",
       "        text-align: right;\n",
       "    }\n",
       "</style>\n",
       "<table border=\"1\" class=\"dataframe\">\n",
       "  <thead>\n",
       "    <tr style=\"text-align: right;\">\n",
       "      <th></th>\n",
       "      <th>Number</th>\n",
       "      <th>TV</th>\n",
       "      <th>radio</th>\n",
       "      <th>newspaper</th>\n",
       "      <th>sales</th>\n",
       "    </tr>\n",
       "  </thead>\n",
       "  <tbody>\n",
       "    <tr>\n",
       "      <th>0</th>\n",
       "      <td>1</td>\n",
       "      <td>230.1</td>\n",
       "      <td>37.8</td>\n",
       "      <td>69.2</td>\n",
       "      <td>22.1</td>\n",
       "    </tr>\n",
       "    <tr>\n",
       "      <th>1</th>\n",
       "      <td>2</td>\n",
       "      <td>44.5</td>\n",
       "      <td>39.3</td>\n",
       "      <td>45.1</td>\n",
       "      <td>10.4</td>\n",
       "    </tr>\n",
       "    <tr>\n",
       "      <th>2</th>\n",
       "      <td>3</td>\n",
       "      <td>17.2</td>\n",
       "      <td>45.9</td>\n",
       "      <td>69.3</td>\n",
       "      <td>9.3</td>\n",
       "    </tr>\n",
       "    <tr>\n",
       "      <th>3</th>\n",
       "      <td>4</td>\n",
       "      <td>151.5</td>\n",
       "      <td>41.3</td>\n",
       "      <td>58.5</td>\n",
       "      <td>18.5</td>\n",
       "    </tr>\n",
       "    <tr>\n",
       "      <th>4</th>\n",
       "      <td>5</td>\n",
       "      <td>180.8</td>\n",
       "      <td>10.8</td>\n",
       "      <td>58.4</td>\n",
       "      <td>12.9</td>\n",
       "    </tr>\n",
       "  </tbody>\n",
       "</table>\n",
       "</div>"
      ],
      "text/plain": [
       "   Number     TV  radio  newspaper  sales\n",
       "0       1  230.1   37.8       69.2   22.1\n",
       "1       2   44.5   39.3       45.1   10.4\n",
       "2       3   17.2   45.9       69.3    9.3\n",
       "3       4  151.5   41.3       58.5   18.5\n",
       "4       5  180.8   10.8       58.4   12.9"
      ]
     },
     "execution_count": 6,
     "metadata": {},
     "output_type": "execute_result"
    }
   ],
   "source": [
    "df.head()"
   ]
  },
  {
   "cell_type": "code",
   "execution_count": 7,
   "id": "ae04bebc",
   "metadata": {},
   "outputs": [
    {
     "data": {
      "text/html": [
       "<div>\n",
       "<style scoped>\n",
       "    .dataframe tbody tr th:only-of-type {\n",
       "        vertical-align: middle;\n",
       "    }\n",
       "\n",
       "    .dataframe tbody tr th {\n",
       "        vertical-align: top;\n",
       "    }\n",
       "\n",
       "    .dataframe thead th {\n",
       "        text-align: right;\n",
       "    }\n",
       "</style>\n",
       "<table border=\"1\" class=\"dataframe\">\n",
       "  <thead>\n",
       "    <tr style=\"text-align: right;\">\n",
       "      <th></th>\n",
       "      <th>Number</th>\n",
       "      <th>TV</th>\n",
       "      <th>radio</th>\n",
       "      <th>newspaper</th>\n",
       "      <th>sales</th>\n",
       "    </tr>\n",
       "  </thead>\n",
       "  <tbody>\n",
       "    <tr>\n",
       "      <th>195</th>\n",
       "      <td>196</td>\n",
       "      <td>38.2</td>\n",
       "      <td>3.7</td>\n",
       "      <td>13.8</td>\n",
       "      <td>7.6</td>\n",
       "    </tr>\n",
       "    <tr>\n",
       "      <th>196</th>\n",
       "      <td>197</td>\n",
       "      <td>94.2</td>\n",
       "      <td>4.9</td>\n",
       "      <td>8.1</td>\n",
       "      <td>9.7</td>\n",
       "    </tr>\n",
       "    <tr>\n",
       "      <th>197</th>\n",
       "      <td>198</td>\n",
       "      <td>177.0</td>\n",
       "      <td>9.3</td>\n",
       "      <td>6.4</td>\n",
       "      <td>12.8</td>\n",
       "    </tr>\n",
       "    <tr>\n",
       "      <th>198</th>\n",
       "      <td>199</td>\n",
       "      <td>283.6</td>\n",
       "      <td>42.0</td>\n",
       "      <td>66.2</td>\n",
       "      <td>25.5</td>\n",
       "    </tr>\n",
       "    <tr>\n",
       "      <th>199</th>\n",
       "      <td>200</td>\n",
       "      <td>232.1</td>\n",
       "      <td>8.6</td>\n",
       "      <td>8.7</td>\n",
       "      <td>13.4</td>\n",
       "    </tr>\n",
       "  </tbody>\n",
       "</table>\n",
       "</div>"
      ],
      "text/plain": [
       "     Number     TV  radio  newspaper  sales\n",
       "195     196   38.2    3.7       13.8    7.6\n",
       "196     197   94.2    4.9        8.1    9.7\n",
       "197     198  177.0    9.3        6.4   12.8\n",
       "198     199  283.6   42.0       66.2   25.5\n",
       "199     200  232.1    8.6        8.7   13.4"
      ]
     },
     "execution_count": 7,
     "metadata": {},
     "output_type": "execute_result"
    }
   ],
   "source": [
    "df.tail()"
   ]
  },
  {
   "cell_type": "code",
   "execution_count": 8,
   "id": "1eb7877c",
   "metadata": {},
   "outputs": [
    {
     "data": {
      "text/plain": [
       "pandas.core.indexes.base.Index"
      ]
     },
     "execution_count": 8,
     "metadata": {},
     "output_type": "execute_result"
    }
   ],
   "source": [
    "type(df.columns)"
   ]
  },
  {
   "cell_type": "code",
   "execution_count": 9,
   "id": "6cf113fb",
   "metadata": {},
   "outputs": [
    {
     "data": {
      "text/plain": [
       "Index(['Number', 'TV', 'radio', 'newspaper', 'sales'], dtype='object')"
      ]
     },
     "execution_count": 9,
     "metadata": {},
     "output_type": "execute_result"
    }
   ],
   "source": [
    "df.columns"
   ]
  },
  {
   "cell_type": "code",
   "execution_count": 10,
   "id": "b13de7c3",
   "metadata": {},
   "outputs": [
    {
     "data": {
      "text/html": [
       "<div>\n",
       "<style scoped>\n",
       "    .dataframe tbody tr th:only-of-type {\n",
       "        vertical-align: middle;\n",
       "    }\n",
       "\n",
       "    .dataframe tbody tr th {\n",
       "        vertical-align: top;\n",
       "    }\n",
       "\n",
       "    .dataframe thead th {\n",
       "        text-align: right;\n",
       "    }\n",
       "</style>\n",
       "<table border=\"1\" class=\"dataframe\">\n",
       "  <thead>\n",
       "    <tr style=\"text-align: right;\">\n",
       "      <th></th>\n",
       "      <th>Number</th>\n",
       "      <th>TV</th>\n",
       "      <th>radio</th>\n",
       "      <th>newspaper</th>\n",
       "      <th>sales</th>\n",
       "    </tr>\n",
       "  </thead>\n",
       "  <tbody>\n",
       "    <tr>\n",
       "      <th>0</th>\n",
       "      <td>False</td>\n",
       "      <td>False</td>\n",
       "      <td>False</td>\n",
       "      <td>False</td>\n",
       "      <td>False</td>\n",
       "    </tr>\n",
       "    <tr>\n",
       "      <th>1</th>\n",
       "      <td>False</td>\n",
       "      <td>False</td>\n",
       "      <td>False</td>\n",
       "      <td>False</td>\n",
       "      <td>False</td>\n",
       "    </tr>\n",
       "    <tr>\n",
       "      <th>2</th>\n",
       "      <td>False</td>\n",
       "      <td>False</td>\n",
       "      <td>False</td>\n",
       "      <td>False</td>\n",
       "      <td>False</td>\n",
       "    </tr>\n",
       "    <tr>\n",
       "      <th>3</th>\n",
       "      <td>False</td>\n",
       "      <td>False</td>\n",
       "      <td>False</td>\n",
       "      <td>False</td>\n",
       "      <td>False</td>\n",
       "    </tr>\n",
       "    <tr>\n",
       "      <th>4</th>\n",
       "      <td>False</td>\n",
       "      <td>False</td>\n",
       "      <td>False</td>\n",
       "      <td>False</td>\n",
       "      <td>False</td>\n",
       "    </tr>\n",
       "    <tr>\n",
       "      <th>...</th>\n",
       "      <td>...</td>\n",
       "      <td>...</td>\n",
       "      <td>...</td>\n",
       "      <td>...</td>\n",
       "      <td>...</td>\n",
       "    </tr>\n",
       "    <tr>\n",
       "      <th>195</th>\n",
       "      <td>False</td>\n",
       "      <td>False</td>\n",
       "      <td>False</td>\n",
       "      <td>False</td>\n",
       "      <td>False</td>\n",
       "    </tr>\n",
       "    <tr>\n",
       "      <th>196</th>\n",
       "      <td>False</td>\n",
       "      <td>False</td>\n",
       "      <td>False</td>\n",
       "      <td>False</td>\n",
       "      <td>False</td>\n",
       "    </tr>\n",
       "    <tr>\n",
       "      <th>197</th>\n",
       "      <td>False</td>\n",
       "      <td>False</td>\n",
       "      <td>False</td>\n",
       "      <td>False</td>\n",
       "      <td>False</td>\n",
       "    </tr>\n",
       "    <tr>\n",
       "      <th>198</th>\n",
       "      <td>False</td>\n",
       "      <td>False</td>\n",
       "      <td>False</td>\n",
       "      <td>False</td>\n",
       "      <td>False</td>\n",
       "    </tr>\n",
       "    <tr>\n",
       "      <th>199</th>\n",
       "      <td>False</td>\n",
       "      <td>False</td>\n",
       "      <td>False</td>\n",
       "      <td>False</td>\n",
       "      <td>False</td>\n",
       "    </tr>\n",
       "  </tbody>\n",
       "</table>\n",
       "<p>200 rows × 5 columns</p>\n",
       "</div>"
      ],
      "text/plain": [
       "     Number     TV  radio  newspaper  sales\n",
       "0     False  False  False      False  False\n",
       "1     False  False  False      False  False\n",
       "2     False  False  False      False  False\n",
       "3     False  False  False      False  False\n",
       "4     False  False  False      False  False\n",
       "..      ...    ...    ...        ...    ...\n",
       "195   False  False  False      False  False\n",
       "196   False  False  False      False  False\n",
       "197   False  False  False      False  False\n",
       "198   False  False  False      False  False\n",
       "199   False  False  False      False  False\n",
       "\n",
       "[200 rows x 5 columns]"
      ]
     },
     "execution_count": 10,
     "metadata": {},
     "output_type": "execute_result"
    }
   ],
   "source": [
    "df.isnull()"
   ]
  },
  {
   "cell_type": "code",
   "execution_count": 11,
   "id": "4e6e0d92",
   "metadata": {},
   "outputs": [
    {
     "data": {
      "text/plain": [
       "Number       0\n",
       "TV           0\n",
       "radio        0\n",
       "newspaper    0\n",
       "sales        0\n",
       "dtype: int64"
      ]
     },
     "execution_count": 11,
     "metadata": {},
     "output_type": "execute_result"
    }
   ],
   "source": [
    "df.isnull().sum()"
   ]
  },
  {
   "cell_type": "code",
   "execution_count": 13,
   "id": "ddd4e23b",
   "metadata": {},
   "outputs": [],
   "source": [
    "#EDA Part Using Scaterplot\n",
    "import seaborn as sns"
   ]
  },
  {
   "cell_type": "code",
   "execution_count": 14,
   "id": "9d27517a",
   "metadata": {},
   "outputs": [
    {
     "data": {
      "text/plain": [
       "<AxesSubplot:xlabel='TV', ylabel='sales'>"
      ]
     },
     "execution_count": 14,
     "metadata": {},
     "output_type": "execute_result"
    },
    {
     "data": {
      "image/png": "[encoded data removed]",
      "text/plain": [
       "<Figure size 432x288 with 1 Axes>"
      ]
     },
     "metadata": {
      "needs_background": "light"
     },
     "output_type": "display_data"
    }
   ],
   "source": [
    "sns.scatterplot(x=\"TV\",y=\"sales\",data=df)"
   ]
  },
  {
   "cell_type": "code",
   "execution_count": 15,
   "id": "843b51bc",
   "metadata": {},
   "outputs": [
    {
     "data": {
      "text/plain": [
       "<AxesSubplot:xlabel='radio', ylabel='sales'>"
      ]
     },
     "execution_count": 15,
     "metadata": {},
     "output_type": "execute_result"
    },
    {
     "data": {
      "image/png": "[encoded data removed]",
      "text/plain": [
       "<Figure size 432x288 with 1 Axes>"
      ]
     },
     "metadata": {
      "needs_background": "light"
     },
     "output_type": "display_data"
    }
   ],
   "source": [
    "sns.scatterplot(x=\"radio\",y=\"sales\",data=df)"
   ]
  },
  {
   "cell_type": "code",
   "execution_count": 16,
   "id": "d5c9b945",
   "metadata": {},
   "outputs": [
    {
     "data": {
      "text/plain": [
       "<AxesSubplot:xlabel='newspaper', ylabel='sales'>"
      ]
     },
     "execution_count": 16,
     "metadata": {},
     "output_type": "execute_result"
    },
    {
     "data": {
      "image/png": "[encoded data removed]",
      "text/plain": [
       "<Figure size 432x288 with 1 Axes>"
      ]
     },
     "metadata": {
      "needs_background": "light"
     },
     "output_type": "display_data"
    }
   ],
   "source": [
    "sns.scatterplot(x=\"newspaper\",y=\"sales\",data=df)"
   ]
  },
  {
   "cell_type": "code",
   "execution_count": 17,
   "id": "61052b7a",
   "metadata": {},
   "outputs": [],
   "source": [
    "#EDA Part Using Boxplot"
   ]
  },
  {
   "cell_type": "code",
   "execution_count": 18,
   "id": "e926debb",
   "metadata": {},
   "outputs": [
    {
     "data": {
      "text/plain": [
       "<AxesSubplot:xlabel='TV', ylabel='sales'>"
      ]
     },
     "execution_count": 18,
     "metadata": {},
     "output_type": "execute_result"
    },
    {
     "data": {
      "image/png": "[encoded data removed]",
      "text/plain": [
       "<Figure size 432x288 with 1 Axes>"
      ]
     },
     "metadata": {
      "needs_background": "light"
     },
     "output_type": "display_data"
    }
   ],
   "source": [
    "sns.boxplot(x=\"TV\",y=\"sales\",data=df)"
   ]
  },
  {
   "cell_type": "code",
   "execution_count": 19,
   "id": "080bfc58",
   "metadata": {},
   "outputs": [
    {
     "data": {
      "text/plain": [
       "<AxesSubplot:xlabel='radio', ylabel='sales'>"
      ]
     },
     "execution_count": 19,
     "metadata": {},
     "output_type": "execute_result"
    },
    {
     "data": {
      "image/png": "[encoded data removed]",
      "text/plain": [
       "<Figure size 432x288 with 1 Axes>"
      ]
     },
     "metadata": {
      "needs_background": "light"
     },
     "output_type": "display_data"
    }
   ],
   "source": [
    "sns.boxplot(x=\"radio\",y=\"sales\",data=df)"
   ]
  },
  {
   "cell_type": "code",
   "execution_count": 20,
   "id": "f4b22531",
   "metadata": {},
   "outputs": [
    {
     "data": {
      "text/plain": [
       "<AxesSubplot:xlabel='newspaper', ylabel='sales'>"
      ]
     },
     "execution_count": 20,
     "metadata": {},
     "output_type": "execute_result"
    },
    {
     "data": {
      "image/png": "[encoded data removed]",
      "text/plain": [
       "<Figure size 432x288 with 1 Axes>"
      ]
     },
     "metadata": {
      "needs_background": "light"
     },
     "output_type": "display_data"
    }
   ],
   "source": [
    "sns.boxplot(x=\"newspaper\",y=\"sales\",data=df)"
   ]
  },
  {
   "cell_type": "code",
   "execution_count": 21,
   "id": "9c308c6a",
   "metadata": {},
   "outputs": [],
   "source": [
    "#EDA Part Using Barplot"
   ]
  },
  {
   "cell_type": "code",
   "execution_count": 22,
   "id": "35c77ff8",
   "metadata": {},
   "outputs": [
    {
     "data": {
      "text/plain": [
       "<AxesSubplot:xlabel='TV', ylabel='sales'>"
      ]
     },
     "execution_count": 22,
     "metadata": {},
     "output_type": "execute_result"
    },
    {
     "data": {
      "image/png": "[encoded data removed]",
      "text/plain": [
       "<Figure size 432x288 with 1 Axes>"
      ]
     },
     "metadata": {
      "needs_background": "light"
     },
     "output_type": "display_data"
    }
   ],
   "source": [
    "sns.histplot(x=\"TV\",y=\"sales\",data=df,kde=True)"
   ]
  },
  {
   "cell_type": "code",
   "execution_count": 23,
   "id": "ad304c11",
   "metadata": {},
   "outputs": [
    {
     "data": {
      "text/plain": [
       "<AxesSubplot:xlabel='radio', ylabel='sales'>"
      ]
     },
     "execution_count": 23,
     "metadata": {},
     "output_type": "execute_result"
    },
    {
     "data": {
      "image/png": "[encoded data removed]",
      "text/plain": [
       "<Figure size 432x288 with 1 Axes>"
      ]
     },
     "metadata": {
      "needs_background": "light"
     },
     "output_type": "display_data"
    }
   ],
   "source": [
    "sns.histplot(x=\"radio\",y=\"sales\",data=df,kde=True)"
   ]
  },
  {
   "cell_type": "code",
   "execution_count": 24,
   "id": "62ee5d2d",
   "metadata": {},
   "outputs": [
    {
     "data": {
      "text/plain": [
       "<AxesSubplot:xlabel='newspaper', ylabel='sales'>"
      ]
     },
     "execution_count": 24,
     "metadata": {},
     "output_type": "execute_result"
    },
    {
     "data": {
      "image/png": "[encoded data removed]",
      "text/plain": [
       "<Figure size 432x288 with 1 Axes>"
      ]
     },
     "metadata": {
      "needs_background": "light"
     },
     "output_type": "display_data"
    }
   ],
   "source": [
    "sns.histplot(x=\"newspaper\",y=\"sales\",data=df,kde=True)"
   ]
  },
  {
   "cell_type": "code",
   "execution_count": null,
   "id": "ddcceeb8",
   "metadata": {},
   "outputs": [],
   "source": []
  },
  {
   "cell_type": "code",
   "execution_count": null,
   "id": "bbef49f4",
   "metadata": {},
   "outputs": [],
   "source": []
  },
  {
   "cell_type": "code",
   "execution_count": null,
   "id": "d8a9d706",
   "metadata": {},
   "outputs": [],
   "source": []
  },
  {
   "cell_type": "code",
   "execution_count": 25,
   "id": "06d3fa60",
   "metadata": {},
   "outputs": [
    {
     "data": {
      "image/png": "[encoded data removed]",
      "text/plain": [
       "<Figure size 900x900 with 30 Axes>"
      ]
     },
     "metadata": {
      "needs_background": "light"
     },
     "output_type": "display_data"
    }
   ],
   "source": [
    "import matplotlib.pyplot as plt\n",
    "sns.pairplot(df)\n",
    "plt.savefig('pairplot.png')\n",
    "plt.show()"
   ]
  },
  {
   "cell_type": "code",
   "execution_count": 26,
   "id": "21f7556b",
   "metadata": {},
   "outputs": [],
   "source": [
    "#Correlation"
   ]
  },
  {
   "cell_type": "code",
   "execution_count": 27,
   "id": "2ea64340",
   "metadata": {},
   "outputs": [
    {
     "data": {
      "text/html": [
       "<div>\n",
       "<style scoped>\n",
       "    .dataframe tbody tr th:only-of-type {\n",
       "        vertical-align: middle;\n",
       "    }\n",
       "\n",
       "    .dataframe tbody tr th {\n",
       "        vertical-align: top;\n",
       "    }\n",
       "\n",
       "    .dataframe thead th {\n",
       "        text-align: right;\n",
       "    }\n",
       "</style>\n",
       "<table border=\"1\" class=\"dataframe\">\n",
       "  <thead>\n",
       "    <tr style=\"text-align: right;\">\n",
       "      <th></th>\n",
       "      <th>Number</th>\n",
       "      <th>TV</th>\n",
       "      <th>radio</th>\n",
       "      <th>newspaper</th>\n",
       "      <th>sales</th>\n",
       "    </tr>\n",
       "  </thead>\n",
       "  <tbody>\n",
       "    <tr>\n",
       "      <th>Number</th>\n",
       "      <td>1.000000</td>\n",
       "      <td>0.017715</td>\n",
       "      <td>-0.110680</td>\n",
       "      <td>-0.154944</td>\n",
       "      <td>-0.051616</td>\n",
       "    </tr>\n",
       "    <tr>\n",
       "      <th>TV</th>\n",
       "      <td>0.017715</td>\n",
       "      <td>1.000000</td>\n",
       "      <td>0.054809</td>\n",
       "      <td>0.056648</td>\n",
       "      <td>0.782224</td>\n",
       "    </tr>\n",
       "    <tr>\n",
       "      <th>radio</th>\n",
       "      <td>-0.110680</td>\n",
       "      <td>0.054809</td>\n",
       "      <td>1.000000</td>\n",
       "      <td>0.354104</td>\n",
       "      <td>0.576223</td>\n",
       "    </tr>\n",
       "    <tr>\n",
       "      <th>newspaper</th>\n",
       "      <td>-0.154944</td>\n",
       "      <td>0.056648</td>\n",
       "      <td>0.354104</td>\n",
       "      <td>1.000000</td>\n",
       "      <td>0.228299</td>\n",
       "    </tr>\n",
       "    <tr>\n",
       "      <th>sales</th>\n",
       "      <td>-0.051616</td>\n",
       "      <td>0.782224</td>\n",
       "      <td>0.576223</td>\n",
       "      <td>0.228299</td>\n",
       "      <td>1.000000</td>\n",
       "    </tr>\n",
       "  </tbody>\n",
       "</table>\n",
       "</div>"
      ],
      "text/plain": [
       "             Number        TV     radio  newspaper     sales\n",
       "Number     1.000000  0.017715 -0.110680  -0.154944 -0.051616\n",
       "TV         0.017715  1.000000  0.054809   0.056648  0.782224\n",
       "radio     -0.110680  0.054809  1.000000   0.354104  0.576223\n",
       "newspaper -0.154944  0.056648  0.354104   1.000000  0.228299\n",
       "sales     -0.051616  0.782224  0.576223   0.228299  1.000000"
      ]
     },
     "execution_count": 27,
     "metadata": {},
     "output_type": "execute_result"
    }
   ],
   "source": [
    "df.corr()"
   ]
  },
  {
   "cell_type": "code",
   "execution_count": 28,
   "id": "f44be97c",
   "metadata": {},
   "outputs": [
    {
     "data": {
      "text/plain": [
       "Number      -0.051616\n",
       "newspaper    0.228299\n",
       "radio        0.576223\n",
       "TV           0.782224\n",
       "sales        1.000000\n",
       "Name: sales, dtype: float64"
      ]
     },
     "execution_count": 28,
     "metadata": {},
     "output_type": "execute_result"
    }
   ],
   "source": [
    "df.corr()['sales'].sort_values()"
   ]
  },
  {
   "cell_type": "code",
   "execution_count": 29,
   "id": "cc9b9fbd",
   "metadata": {},
   "outputs": [
    {
     "data": {
      "text/plain": [
       "<AxesSubplot:>"
      ]
     },
     "execution_count": 29,
     "metadata": {},
     "output_type": "execute_result"
    },
    {
     "data": {
      "image/png": "[encoded data removed]",
      "text/plain": [
       "<Figure size 1080x504 with 2 Axes>"
      ]
     },
     "metadata": {
      "needs_background": "light"
     },
     "output_type": "display_data"
    }
   ],
   "source": [
    "# Correlation using Heatmap\n",
    "import matplotlib.pyplot as plt\n",
    "plt.figure(figsize=(15,7))\n",
    "sns.heatmap(df.corr(),annot=True,linewidth=0.5,linecolor='Black',fmt='.2f')"
   ]
  },
  {
   "cell_type": "code",
   "execution_count": 30,
   "id": "b00a6a13",
   "metadata": {},
   "outputs": [
    {
     "data": {
      "text/html": [
       "<div>\n",
       "<style scoped>\n",
       "    .dataframe tbody tr th:only-of-type {\n",
       "        vertical-align: middle;\n",
       "    }\n",
       "\n",
       "    .dataframe tbody tr th {\n",
       "        vertical-align: top;\n",
       "    }\n",
       "\n",
       "    .dataframe thead th {\n",
       "        text-align: right;\n",
       "    }\n",
       "</style>\n",
       "<table border=\"1\" class=\"dataframe\">\n",
       "  <thead>\n",
       "    <tr style=\"text-align: right;\">\n",
       "      <th></th>\n",
       "      <th>Number</th>\n",
       "      <th>TV</th>\n",
       "      <th>radio</th>\n",
       "      <th>newspaper</th>\n",
       "      <th>sales</th>\n",
       "    </tr>\n",
       "  </thead>\n",
       "  <tbody>\n",
       "    <tr>\n",
       "      <th>count</th>\n",
       "      <td>200.000000</td>\n",
       "      <td>200.000000</td>\n",
       "      <td>200.000000</td>\n",
       "      <td>200.000000</td>\n",
       "      <td>200.000000</td>\n",
       "    </tr>\n",
       "    <tr>\n",
       "      <th>mean</th>\n",
       "      <td>100.500000</td>\n",
       "      <td>147.042500</td>\n",
       "      <td>23.264000</td>\n",
       "      <td>30.554000</td>\n",
       "      <td>14.022500</td>\n",
       "    </tr>\n",
       "    <tr>\n",
       "      <th>std</th>\n",
       "      <td>57.879185</td>\n",
       "      <td>85.854236</td>\n",
       "      <td>14.846809</td>\n",
       "      <td>21.778621</td>\n",
       "      <td>5.217457</td>\n",
       "    </tr>\n",
       "    <tr>\n",
       "      <th>min</th>\n",
       "      <td>1.000000</td>\n",
       "      <td>0.700000</td>\n",
       "      <td>0.000000</td>\n",
       "      <td>0.300000</td>\n",
       "      <td>1.600000</td>\n",
       "    </tr>\n",
       "    <tr>\n",
       "      <th>25%</th>\n",
       "      <td>50.750000</td>\n",
       "      <td>74.375000</td>\n",
       "      <td>9.975000</td>\n",
       "      <td>12.750000</td>\n",
       "      <td>10.375000</td>\n",
       "    </tr>\n",
       "    <tr>\n",
       "      <th>50%</th>\n",
       "      <td>100.500000</td>\n",
       "      <td>149.750000</td>\n",
       "      <td>22.900000</td>\n",
       "      <td>25.750000</td>\n",
       "      <td>12.900000</td>\n",
       "    </tr>\n",
       "    <tr>\n",
       "      <th>75%</th>\n",
       "      <td>150.250000</td>\n",
       "      <td>218.825000</td>\n",
       "      <td>36.525000</td>\n",
       "      <td>45.100000</td>\n",
       "      <td>17.400000</td>\n",
       "    </tr>\n",
       "    <tr>\n",
       "      <th>max</th>\n",
       "      <td>200.000000</td>\n",
       "      <td>296.400000</td>\n",
       "      <td>49.600000</td>\n",
       "      <td>114.000000</td>\n",
       "      <td>27.000000</td>\n",
       "    </tr>\n",
       "  </tbody>\n",
       "</table>\n",
       "</div>"
      ],
      "text/plain": [
       "           Number          TV       radio   newspaper       sales\n",
       "count  200.000000  200.000000  200.000000  200.000000  200.000000\n",
       "mean   100.500000  147.042500   23.264000   30.554000   14.022500\n",
       "std     57.879185   85.854236   14.846809   21.778621    5.217457\n",
       "min      1.000000    0.700000    0.000000    0.300000    1.600000\n",
       "25%     50.750000   74.375000    9.975000   12.750000   10.375000\n",
       "50%    100.500000  149.750000   22.900000   25.750000   12.900000\n",
       "75%    150.250000  218.825000   36.525000   45.100000   17.400000\n",
       "max    200.000000  296.400000   49.600000  114.000000   27.000000"
      ]
     },
     "execution_count": 30,
     "metadata": {},
     "output_type": "execute_result"
    }
   ],
   "source": [
    "#Descriptive Statistics\n",
    "#Desribing Datasets (For Numerical Values)\n",
    "df.describe()"
   ]
  },
  {
   "cell_type": "code",
   "execution_count": 31,
   "id": "5f8ca9ae",
   "metadata": {},
   "outputs": [
    {
     "data": {
      "image/png": "[encoded data removed]",
      "text/plain": [
       "<Figure size 1080x864 with 2 Axes>"
      ]
     },
     "metadata": {
      "needs_background": "light"
     },
     "output_type": "display_data"
    }
   ],
   "source": [
    "plt.figure(figsize=(15,12))\n",
    "sns.heatmap(round(df.describe()[1:].transpose(),2),linewidth=2,annot=True,fmt=\"f\")\n",
    "plt.xticks(fontsize=18)\n",
    "plt.yticks(fontsize=12)\n",
    "plt.title(\"Sales Summary\")\n",
    "plt.savefig('heatamap.png')\n",
    "plt.show()"
   ]
  },
  {
   "cell_type": "code",
   "execution_count": 32,
   "id": "5a665fd3",
   "metadata": {},
   "outputs": [
    {
     "name": "stdout",
     "output_type": "stream",
     "text": [
      "<class 'pandas.core.frame.DataFrame'>\n",
      "RangeIndex: 200 entries, 0 to 199\n",
      "Data columns (total 5 columns):\n",
      " #   Column     Non-Null Count  Dtype  \n",
      "---  ------     --------------  -----  \n",
      " 0   Number     200 non-null    int64  \n",
      " 1   TV         200 non-null    float64\n",
      " 2   radio      200 non-null    float64\n",
      " 3   newspaper  200 non-null    float64\n",
      " 4   sales      200 non-null    float64\n",
      "dtypes: float64(4), int64(1)\n",
      "memory usage: 7.9 KB\n"
     ]
    }
   ],
   "source": [
    "df.info()"
   ]
  },
  {
   "cell_type": "code",
   "execution_count": 33,
   "id": "456aeb69",
   "metadata": {},
   "outputs": [],
   "source": [
    "#Preprocessing checking skewness\n",
    "x=df.drop(\"sales\",axis=1)\n",
    "y=df['sales']"
   ]
  },
  {
   "cell_type": "code",
   "execution_count": 34,
   "id": "f5c3bf1d",
   "metadata": {},
   "outputs": [
    {
     "data": {
      "text/plain": [
       "0      22.1\n",
       "1      10.4\n",
       "2       9.3\n",
       "3      18.5\n",
       "4      12.9\n",
       "       ... \n",
       "195     7.6\n",
       "196     9.7\n",
       "197    12.8\n",
       "198    25.5\n",
       "199    13.4\n",
       "Name: sales, Length: 200, dtype: float64"
      ]
     },
     "execution_count": 34,
     "metadata": {},
     "output_type": "execute_result"
    }
   ],
   "source": [
    "y"
   ]
  },
  {
   "cell_type": "code",
   "execution_count": 35,
   "id": "25f745b0",
   "metadata": {},
   "outputs": [
    {
     "data": {
      "text/plain": [
       "newspaper    0.894720\n",
       "radio        0.094175\n",
       "Number       0.000000\n",
       "TV          -0.069853\n",
       "dtype: float64"
      ]
     },
     "execution_count": 35,
     "metadata": {},
     "output_type": "execute_result"
    }
   ],
   "source": [
    "#Skewness\n",
    "x.skew().sort_values(ascending=False)"
   ]
  },
  {
   "cell_type": "code",
   "execution_count": 36,
   "id": "de68d3a1",
   "metadata": {},
   "outputs": [],
   "source": [
    "# Normal Distribution Curve\n",
    "import warnings\n",
    "warnings.filterwarnings('ignore')"
   ]
  },
  {
   "cell_type": "code",
   "execution_count": 37,
   "id": "d163c858",
   "metadata": {},
   "outputs": [
    {
     "data": {
      "text/plain": [
       "<AxesSubplot:xlabel='TV', ylabel='Density'>"
      ]
     },
     "execution_count": 37,
     "metadata": {},
     "output_type": "execute_result"
    },
    {
     "data": {
      "image/png": "[encoded data removed]",
      "text/plain": [
       "<Figure size 432x288 with 1 Axes>"
      ]
     },
     "metadata": {
      "needs_background": "light"
     },
     "output_type": "display_data"
    }
   ],
   "source": [
    "sns.distplot(df['TV'])"
   ]
  },
  {
   "cell_type": "code",
   "execution_count": 38,
   "id": "520304b0",
   "metadata": {},
   "outputs": [
    {
     "data": {
      "text/plain": [
       "<AxesSubplot:xlabel='radio', ylabel='Density'>"
      ]
     },
     "execution_count": 38,
     "metadata": {},
     "output_type": "execute_result"
    },
    {
     "data": {
      "image/png": "[encoded data removed]",
      "text/plain": [
       "<Figure size 432x288 with 1 Axes>"
      ]
     },
     "metadata": {
      "needs_background": "light"
     },
     "output_type": "display_data"
    }
   ],
   "source": [
    "sns.distplot(df['radio'])"
   ]
  },
  {
   "cell_type": "code",
   "execution_count": 39,
   "id": "bc9c640b",
   "metadata": {},
   "outputs": [
    {
     "data": {
      "text/plain": [
       "<AxesSubplot:xlabel='newspaper', ylabel='Density'>"
      ]
     },
     "execution_count": 39,
     "metadata": {},
     "output_type": "execute_result"
    },
    {
     "data": {
      "image/png": "[encoded data removed]",
      "text/plain": [
       "<Figure size 432x288 with 1 Axes>"
      ]
     },
     "metadata": {
      "needs_background": "light"
     },
     "output_type": "display_data"
    }
   ],
   "source": [
    "sns.distplot(df['newspaper'])"
   ]
  },
  {
   "cell_type": "code",
   "execution_count": 40,
   "id": "ab9cbaf1",
   "metadata": {},
   "outputs": [
    {
     "data": {
      "text/plain": [
       "array([[-2.07937596e+00,  9.48674291e-01,  9.62246888e-01,\n",
       "         1.51433531e+00,  1.46441197e+00],\n",
       "       [-2.03292263e+00, -1.19131426e+00,  1.04017880e+00,\n",
       "         7.87682518e-01, -6.50692513e-01],\n",
       "       [-1.99071100e+00, -1.64775660e+00,  1.37070964e+00,\n",
       "         1.51699753e+00, -8.94549951e-01],\n",
       "       [-1.95139683e+00,  1.41020233e-01,  1.14238689e+00,\n",
       "         1.21465643e+00,  8.82528036e-01],\n",
       "       [-1.91424742e+00,  4.52714928e-01, -7.48650643e-01,\n",
       "         1.21170398e+00, -1.34549801e-01],\n",
       "       [-1.87880665e+00, -1.82382233e+00,  1.51501853e+00,\n",
       "         1.66502354e+00, -1.39687742e+00],\n",
       "       [-1.84476580e+00, -1.00249116e+00,  6.93727035e-01,\n",
       "        -1.07753498e-01, -3.55780023e-01],\n",
       "       [-1.81190337e+00, -2.10275002e-01, -1.01585443e-01,\n",
       "        -8.44093412e-01, -7.56544391e-02],\n",
       "       [-1.78005350e+00, -1.82609501e+00, -1.63345378e+00,\n",
       "        -2.13259669e+00, -2.05242372e+00],\n",
       "       [-1.74908785e+00,  6.47644918e-01, -1.56676988e+00,\n",
       "        -2.29003949e-01, -6.07561054e-01],\n",
       "       [-1.71890445e+00, -8.83773778e-01, -1.20298758e+00,\n",
       "        -7.22615630e-02, -1.05614129e+00],\n",
       "       [-1.68942058e+00,  7.97083554e-01,  1.80725788e-01,\n",
       "        -1.60261898e+00,  6.94842655e-01],\n",
       "       [-1.66056789e+00, -1.52641627e+00,  8.19005629e-01,\n",
       "         1.42512925e+00, -9.17311773e-01],\n",
       "       [-1.63228912e+00, -4.80368438e-01, -1.02813642e+00,\n",
       "        -1.22982506e+00, -8.04522689e-01],\n",
       "       [-1.60453563e+00,  6.91065769e-01,  6.99240303e-01,\n",
       "         8.18605793e-01,  9.66193980e-01],\n",
       "       [-1.57726567e+00,  6.02957127e-01,  1.45770359e+00,\n",
       "         1.04432344e+00,  1.51091184e+00],\n",
       "       [-1.55044308e+00, -8.60799721e-01,  8.99069986e-01,\n",
       "         2.52943514e+00, -2.14012755e-01],\n",
       "       [-1.52403621e+00,  1.43552010e+00,  1.05563142e+00,\n",
       "         1.13383286e+00,  1.81402560e+00],\n",
       "       [-1.49801724e+00, -8.41993276e-01, -4.20990786e-02,\n",
       "        -3.93560155e-01, -4.59281788e-01],\n",
       "       [-1.47236146e+00,  9.50855074e-02,  1.74531653e-01,\n",
       "        -3.46715444e-01,  1.91784302e-01],\n",
       "       [-1.44704684e+00,  8.33760704e-01,  4.03670611e-01,\n",
       "         1.05996548e+00,  7.97849410e-01],\n",
       "       [-1.42205365e+00,  1.01958629e+00, -1.27567304e+00,\n",
       "        -1.07753498e-01, -2.14012755e-01],\n",
       "       [-1.39736406e+00, -1.72701642e+00, -3.57392888e-01,\n",
       "         9.38757391e-01, -1.82178350e+00],\n",
       "       [-1.37296197e+00,  9.31097982e-01, -2.86311290e-01,\n",
       "         2.58931103e-02,  3.57788642e-01],\n",
       "       [-1.34883272e+00, -9.35697721e-01, -6.04310610e-01,\n",
       "        -3.93560155e-01, -8.04522689e-01],\n",
       "       [-1.32496292e+00,  1.26290943e+00, -1.45505850e+00,\n",
       "        -3.23725895e-01, -3.14911734e-01],\n",
       "       [-1.30134033e+00,  4.65901285e-02,  4.96644055e-01,\n",
       "        -7.68672812e-01,  2.66104071e-01],\n",
       "       [-1.27795368e+00,  1.04566690e+00, -3.00403825e-01,\n",
       "        -1.38678899e-01,  4.30201548e-01],\n",
       "       [-1.25479261e+00,  1.12918152e+00,  3.68298098e-01,\n",
       "        -1.38678899e-01,  9.49539998e-01],\n",
       "       [-1.23184753e+00, -8.23286461e-01, -3.50213794e-01,\n",
       "         6.34520181e-01, -6.29082793e-01],\n",
       "       [-1.20910953e+00,  1.54129731e+00,  4.38761954e-01,\n",
       "         7.21148606e-01,  1.35479751e+00],\n",
       "       [-1.18657038e+00, -2.95533373e-01, -2.51340357e-01,\n",
       "         5.52358766e-01, -3.35308720e-01],\n",
       "       [-1.16422237e+00, -4.84042431e-01, -1.71918898e+00,\n",
       "         2.00719361e-01, -8.26879348e-01],\n",
       "       [-1.14205833e+00,  1.28829734e+00, -7.50270636e-02,\n",
       "        -2.32472495e+00,  6.94842655e-01],\n",
       "       [-1.12007157e+00, -5.02457489e-01, -1.73421070e+00,\n",
       "        -1.20981332e+00, -8.49335179e-01],\n",
       "       [-1.09825578e+00,  1.52114819e+00, -1.38531280e+00,\n",
       "        -1.10471076e+00, -1.54313854e-01],\n",
       "       [-1.07660508e+00,  1.30049670e+00,  1.26758870e+00,\n",
       "        -1.47330873e+00,  1.96137713e+00],\n",
       "       [-1.05511391e+00, -7.69052568e-01,  1.53874417e+00,\n",
       "         8.08339144e-01,  2.10447259e-01],\n",
       "       [-1.03377706e+00, -1.21245403e+00,  3.44556121e-01,\n",
       "         4.15598401e-01, -7.16061045e-01],\n",
       "       [-1.01258960e+00,  9.28165031e-01,  9.57010908e-01,\n",
       "         2.87423214e-01,  1.37055412e+00],\n",
       "       [-9.91546874e-01,  6.74937764e-01,  7.40958393e-02,\n",
       "         2.70348543e-01,  5.55016090e-01],\n",
       "       [-9.70644483e-01,  4.13090984e-01,  7.26714079e-01,\n",
       "         5.56153916e-01,  6.42748466e-01],\n",
       "       [-9.49878260e-01,  1.54769995e+00,  4.03670611e-01,\n",
       "        -1.95904851e+00,  1.24356382e+00],\n",
       "       [-9.29244253e-01,  7.19209431e-01, -9.54992860e-01,\n",
       "         3.54591841e-02, -1.34549801e-01],\n",
       "       [-9.08738708e-01, -1.50359538e+00,  2.84621180e-01,\n",
       "         7.24694111e-01, -1.07967118e+00],\n",
       "       [-8.88358059e-01,  3.93194665e-01,  8.67911555e-02,\n",
       "         2.66059606e-01,  2.47606631e-01],\n",
       "       [-8.68098911e-01, -5.76895621e-01, -8.23961058e-01,\n",
       "         4.39609343e-01, -6.07561054e-01],\n",
       "       [-8.47958031e-01,  1.04373768e+00,  1.15250515e+00,\n",
       "        -3.81737803e-01,  1.63356219e+00],\n",
       "       [-8.27932335e-01,  9.20338819e-01, -3.64588214e-01,\n",
       "         9.48527550e-01,  2.29054530e-01],\n",
       "       [-8.08018880e-01, -8.72943383e-01, -6.75503610e-01,\n",
       "         4.83005084e-01, -8.04522689e-01],\n",
       "       [-7.88214854e-01,  6.47644918e-01, -1.50354208e+00,\n",
       "         3.95399604e-01, -4.38425744e-01],\n",
       "       [-7.68517568e-01, -4.45005064e-01, -8.49587282e-01,\n",
       "        -1.65883577e+00, -5.86126183e-01],\n",
       "       [-7.48924449e-01,  8.13955853e-01,  1.16260524e+00,\n",
       "         5.90046655e-01,  1.54175652e+00],\n",
       "       [-7.29433032e-01,  4.71407030e-01,  1.38529598e+00,\n",
       "         1.22055211e+00,  1.32318495e+00],\n",
       "       [-7.10040954e-01,  1.26102610e+00,  4.67795685e-01,\n",
       "        -5.41769847e-01,  1.16307722e+00],\n",
       "       [-6.90745948e-01,  6.38525626e-01,  1.53874417e+00,\n",
       "         1.25857888e+00,  1.70925418e+00],\n",
       "       [-6.71545838e-01, -1.85624738e+00,  4.27095583e-01,\n",
       "         6.56460459e-01, -1.84986698e+00],\n",
       "       [-6.52438532e-01, -2.80221404e-02, -1.28341414e-01,\n",
       "        -4.97263421e-01, -7.56544391e-02],\n",
       "       [-6.33422020e-01,  7.58241972e-01,  1.54820925e+00,\n",
       "         5.17931907e-01,  1.72430603e+00],\n",
       "       [-6.14494369e-01,  7.57243542e-01,  5.08132451e-01,\n",
       "        -1.03293213e+00,  8.65674550e-01],\n",
       "       [-5.95653715e-01, -1.05927427e+00, -1.64727037e+00,\n",
       "        -2.18159752e-01, -1.17497413e+00],\n",
       "       [-5.76898266e-01,  1.24783212e+00,  1.21283741e+00,\n",
       "         1.10022212e+00,  1.78423066e+00],\n",
       "       [-5.58226293e-01,  1.03794746e+00, -3.86272941e-01,\n",
       "         7.79792875e-02,  3.94096812e-01],\n",
       "       [-5.39636128e-01, -4.17149550e-01,  5.13865863e-01,\n",
       "        -1.11394312e+00,  7.86071321e-02],\n",
       "       [-5.21126163e-01, -8.54682581e-02,  1.21783637e+00,\n",
       "         1.51547059e-01,  7.97849410e-01],\n",
       "       [-5.02694844e-01, -8.44673753e-01, -8.75491892e-01,\n",
       "        -2.15715720e+00, -8.94549951e-01],\n",
       "       [-4.84340670e-01, -1.39531449e+00,  2.17693948e-01,\n",
       "        -1.88378271e+00, -8.49335179e-01],\n",
       "       [-4.66062191e-01,  6.61780241e-03, -4.59668234e-01,\n",
       "        -9.56199424e-01, -3.67147025e-02],\n",
       "       [-4.47858005e-01,  1.01958629e+00,  3.91911417e-01,\n",
       "        -8.91141598e-01,  9.49539998e-01],\n",
       "       [-4.29726754e-01,  8.17920692e-01,  1.27254050e+00,\n",
       "         7.32966144e-02,  1.49544313e+00],\n",
       "       [-4.11667125e-01,  6.40553078e-01,  5.70812097e-01,\n",
       "         5.56153916e-01,  8.48780257e-01],\n",
       "       [-3.93677847e-01, -3.32176299e-01, -4.74561795e-01,\n",
       "         2.74629332e-01, -2.34050424e-01],\n",
       "       [-3.75757687e-01, -1.47420382e+00,  7.04747367e-01,\n",
       "        -3.35185568e-01, -1.00942392e+00],\n",
       "       [-3.57905450e-01, -1.04747493e-01, -1.21318999e+00,\n",
       "         2.57457125e-01, -5.22332008e-01],\n",
       "       [-3.40119980e-01,  7.84157305e-01,  2.17693948e-01,\n",
       "        -7.32248660e-01,  6.25293851e-01],\n",
       "       [-3.22400151e-01, -1.65352738e+00,  1.26263268e+00,\n",
       "         2.01064695e+00, -1.03272612e+00],\n",
       "       [-3.04744875e-01, -1.46224158e+00, -1.70439494e+00,\n",
       "        -2.56382112e-01, -1.47336162e+00],\n",
       "       [-2.87153092e-01, -2.06800984e-01,  4.50397966e-01,\n",
       "        -6.54842972e-01,  1.16564977e-01],\n",
       "       [-2.69623776e-01, -1.90271957e+00,  5.31023343e-01,\n",
       "        -1.02420602e+00, -1.90664895e+00],\n",
       "       [-2.52155927e-01, -2.59155131e-01, -1.01885558e+00,\n",
       "        -1.28317501e-01, -5.22332008e-01],\n",
       "       [-2.34748576e-01, -7.46796266e-01,  3.44556121e-01,\n",
       "        -1.70089405e-01, -3.55780023e-01],\n",
       "       [-2.17400778e-01,  1.04277291e+00, -1.38531280e+00,\n",
       "         4.86911126e-01, -2.54158371e-01],\n",
       "       [-2.00111616e-01, -7.61182351e-01, -5.52348217e-02,\n",
       "         3.08587095e-01, -4.59281788e-01],\n",
       "       [-1.82880197e-01, -8.52727454e-01,  1.30216339e+00,\n",
       "         4.35624508e-01,  1.97211699e-03],\n",
       "       [-1.65705652e-01,  7.85152371e-01,  1.22782124e+00,\n",
       "         3.62712431e-01,  1.40196911e+00],\n",
       "       [-1.48587137e-01,  5.80513413e-01, -1.82468098e-01,\n",
       "         1.41963599e+00,  3.02936968e-01],\n",
       "       [-1.31523825e-01, -7.48101832e-01,  3.91911417e-01,\n",
       "        -5.35342694e-01, -3.14911734e-01],\n",
       "       [-1.14514917e-01, -3.21510221e-01,  1.10682827e+00,\n",
       "         1.35009138e+00,  4.48178733e-01],\n",
       "       [-9.75596288e-02, -5.94450935e-01,  2.72532040e-01,\n",
       "         1.62418784e+00, -1.34549801e-01],\n",
       "       [-8.06571995e-02, -3.32176299e-01,  1.46250027e+00,\n",
       "         9.96850541e-01,  5.72655186e-01],\n",
       "       [-6.38068858e-02, -4.93560400e-02, -1.29701657e+00,\n",
       "        -1.03293213e+00, -4.80217536e-01],\n",
       "       [-4.70079631e-02, -1.44360046e+00, -1.71918898e+00,\n",
       "         3.29556055e-01, -1.37167544e+00],\n",
       "       [-3.02597247e-02,  8.26834497e-01,  7.32190496e-01,\n",
       "         1.22937273e+00,  1.03242254e+00],\n",
       "       [-1.35614807e-02,  1.14922339e+00,  8.93770757e-01,\n",
       "         1.59579653e+00,  1.47994324e+00],\n",
       "       [ 3.08744187e-03, -3.60732755e-01, -4.97042253e-01,\n",
       "        -8.99123777e-01, -4.17648460e-01],\n",
       "       [ 1.96877003e-02,  2.68314454e-01,  6.27074463e-01,\n",
       "         1.04432344e+00,  6.07793684e-01],\n",
       "       [ 3.62399364e-02,  6.25333983e-01, -1.45505850e+00,\n",
       "        -1.36793510e+00, -3.76326497e-01],\n",
       "       [ 5.27447769e-02,  4.95220530e-01, -9.46212909e-03,\n",
       "        -1.85982894e-01,  3.57788642e-01],\n",
       "       [ 6.92028344e-02,  1.51197614e+00,  1.19279775e+00,\n",
       "         9.90457455e-01,  1.96137713e+00],\n",
       "       [ 8.56147072e-02, -3.92406304e-02,  1.16260524e+00,\n",
       "         8.15188102e-01,  6.60157896e-01],\n",
       "       [ 1.01980980e-01,  8.73226881e-01, -1.36277082e+00,\n",
       "         9.45274806e-01, -3.76326497e-01],\n",
       "       [ 1.18302226e-01,  1.57327016e+00,  8.83156087e-01,\n",
       "         2.26282480e+00,  1.72430603e+00],\n",
       "       [ 1.34579003e-01,  1.42441703e+00, -8.07026337e-01,\n",
       "        -2.18159752e-01,  2.29054530e-01],\n",
       "       [ 1.50811858e-01,  5.26164071e-01, -2.65284657e-01,\n",
       "        -4.17434728e-01,  2.10447259e-01],\n",
       "       [ 1.67001327e-01,  1.02732204e+00,  7.75785830e-01,\n",
       "        -1.43715760e+00,  1.24356382e+00],\n",
       "       [ 1.83147934e-01, -9.00053015e-03,  1.39500055e+00,\n",
       "         1.22937273e+00,  9.99385169e-01],\n",
       "       [ 1.99252190e-01, -1.50533991e+00, -7.32216741e-01,\n",
       "         1.87417464e-01, -1.39687742e+00],\n",
       "       [ 2.15314598e-01, -5.68145060e-01, -1.91962741e+00,\n",
       "        -1.23156783e-01, -1.03272612e+00],\n",
       "       [ 2.31335648e-01, -1.72906885e+00, -1.90076688e+00,\n",
       "        -3.06944277e-03, -1.90664895e+00],\n",
       "       [ 2.47315823e-01,  1.19202117e+00,  3.56443350e-01,\n",
       "        -1.41364623e+00,  1.09804459e+00],\n",
       "       [ 2.63255592e-01,  9.06625338e-01, -9.73048354e-01,\n",
       "         1.15501188e+00, -3.67147025e-02],\n",
       "       [ 2.79155417e-01,  1.06108536e+00,  9.72703420e-01,\n",
       "        -1.23156783e-01,  1.41762790e+00],\n",
       "       [ 2.95015752e-01,  3.99483862e-01, -3.93534557e-01,\n",
       "        -1.84832983e+00,  9.76155384e-02],\n",
       "       [ 3.10837038e-01,  7.46252506e-01, -3.55487043e-02,\n",
       "        -9.15213781e-01,  4.30201548e-01],\n",
       "       [ 3.26619711e-01, -7.23372194e-01,  1.41436293e+00,\n",
       "         3.91338778e-01,  1.91784302e-01],\n",
       "       [ 3.42364196e-01, -7.63803919e-01,  8.13623294e-01,\n",
       "         1.03804144e+00, -1.94044602e-01],\n",
       "       [ 3.58070910e-01,  5.50358813e-03, -4.74561795e-01,\n",
       "        -3.06944277e-03, -2.74337375e-01],\n",
       "       [ 3.73740265e-01, -7.46796266e-01, -1.82997283e+00,\n",
       "        -6.14079398e-01, -8.71891572e-01],\n",
       "       [ 3.89372660e-01, -1.46941503e-01,  9.14935492e-01,\n",
       "         1.76974284e+00,  4.30201548e-01],\n",
       "       [ 4.04968491e-01, -1.60617806e+00, -3.50213794e-01,\n",
       "        -1.70089405e-01, -1.55122108e+00],\n",
       "       [ 4.20528144e-01,  2.88579277e-02,  3.50503816e-01,\n",
       "         8.25427675e-01,  3.57788642e-01],\n",
       "       [ 4.36051998e-01, -1.61739376e+00,  3.57578973e-02,\n",
       "         9.64732133e-01, -1.44771784e+00],\n",
       "       [ 4.51540426e-01,  8.88960541e-01, -1.59299019e+00,\n",
       "        -5.61193935e-01, -3.96949013e-01],\n",
       "       [ 4.66993793e-01, -1.76787737e-01,  7.92036635e-01,\n",
       "        -7.83474818e-01,  3.02936968e-01],\n",
       "       [ 4.82412459e-01,  9.42819586e-01,  6.66066737e-01,\n",
       "         1.64467302e+00,  1.08169499e+00],\n",
       "       [ 4.97796775e-01, -6.08295855e-01, -6.67500267e-01,\n",
       "         1.14618924e-02, -6.07561054e-01],\n",
       "       [ 5.13147088e-01, -1.84451116e+00,  1.01950683e+00,\n",
       "         9.71186601e-01, -1.55122108e+00],\n",
       "       [ 5.28463738e-01, -6.97511075e-01, -1.97986350e+00,\n",
       "        -1.04171092e+00, -1.00942392e+00],\n",
       "       [ 5.43747059e-01,  8.52530821e-01,  1.51977089e+00,\n",
       "        -1.71817136e+00,  1.85851240e+00],\n",
       "       [ 5.58997378e-01, -9.73096101e-01, -6.51564819e-01,\n",
       "         7.17598125e-01, -8.04522689e-01],\n",
       "       [ 5.74215018e-01, -2.04026249e+00,  1.05563142e+00,\n",
       "        -1.08642518e+00, -3.17911570e+00],\n",
       "       [ 5.89400296e-01,  1.28454050e+00, -1.52845902e+00,\n",
       "         7.14042650e-01, -1.74145213e-01],\n",
       "       [ 6.04553524e-01, -1.83065941e+00,  3.74213391e-01,\n",
       "        -1.90202575e+00, -1.79389895e+00],\n",
       "       [ 6.19675006e-01,  8.47595492e-01,  7.32190496e-01,\n",
       "         7.87682518e-01,  1.06530829e+00],\n",
       "       [ 6.34765046e-01, -1.30833884e+00,  1.00395090e+00,\n",
       "         1.41688552e+00, -5.64777092e-01],\n",
       "       [ 6.49823937e-01, -1.13478620e+00,  1.42402092e+00,\n",
       "        -1.10471076e+00, -3.96949013e-01],\n",
       "       [ 6.64851971e-01, -1.49489926e+00,  1.02468221e+00,\n",
       "        -1.03293213e+00, -8.49335179e-01],\n",
       "       [ 6.79849435e-01,  1.36405418e+00,  4.73580051e-01,\n",
       "         1.24984840e+00,  1.25955635e+00],\n",
       "       [ 6.94816609e-01, -1.21397080e+00,  2.96675803e-01,\n",
       "        -2.67442843e-01, -8.26879348e-01],\n",
       "       [ 7.09753771e-01,  4.95220530e-01,  1.27254050e+00,\n",
       "        -1.97889407e+00,  1.24356382e+00],\n",
       "       [ 7.24661193e-01, -7.86161984e-01, -2.79287572e-01,\n",
       "        -7.46720688e-01, -5.43512715e-01],\n",
       "       [ 7.39539143e-01,  5.85620177e-01,  8.35118593e-01,\n",
       "         1.68019945e+00,  9.99385169e-01],\n",
       "       [ 7.54387885e-01,  8.54504120e-01,  7.15742982e-01,\n",
       "         5.25624866e-01,  1.14687342e+00],\n",
       "       [ 7.69207678e-01, -3.94262424e-01, -1.21318999e+00,\n",
       "         3.87270854e-01, -6.50692513e-01],\n",
       "       [ 7.83998778e-01, -4.96310740e-01, -4.37464695e-01,\n",
       "         5.63726474e-01, -4.38425744e-01],\n",
       "       [ 7.98761436e-01,  1.77483448e-02, -1.66126392e+00,\n",
       "        -1.05942991e+00, -6.72391350e-01],\n",
       "       [ 8.13495900e-01,  1.04566690e+00, -1.05622936e+00,\n",
       "        -1.08642518e+00, -7.56544391e-02],\n",
       "       [ 8.28202414e-01,  1.07551559e+00,  1.51977089e+00,\n",
       "         7.59879425e-01,  1.96137713e+00],\n",
       "       [ 8.42881218e-01, -1.29103896e+00,  1.09151903e+00,\n",
       "        -8.21089268e-01, -5.43512715e-01],\n",
       "       [ 8.57532549e-01, -1.18830853e+00,  2.90652784e-01,\n",
       "        -2.61904542e-01, -7.16061045e-01],\n",
       "       [ 8.72156638e-01,  1.42904484e+00, -5.04573789e-01,\n",
       "         4.90810783e-01,  4.66106375e-01],\n",
       "       [ 8.86753716e-01, -2.01016025e-01, -9.54992860e-01,\n",
       "         9.09229669e-01, -3.96949013e-01],\n",
       "       [ 9.01324009e-01,  6.25333983e-01,  1.37165414e-01,\n",
       "        -6.54842972e-01,  5.55016090e-01],\n",
       "       [ 9.15867738e-01,  3.53229472e-01,  1.06077260e+00,\n",
       "         5.17931907e-01,  9.66193980e-01],\n",
       "       [ 9.30385124e-01,  5.25134738e-01, -2.96885385e-03,\n",
       "        -1.01553176e+00,  3.75968381e-01],\n",
       "       [ 9.44876383e-01, -1.93665721e+00, -6.83531045e-01,\n",
       "        -1.39057916e+00, -2.56395906e+00],\n",
       "       [ 9.59341727e-01, -5.24656326e-01,  1.25270792e+00,\n",
       "         9.67961309e-01,  3.21273403e-01],\n",
       "       [ 9.73781366e-01,  1.22468716e-01, -1.74947332e+00,\n",
       "        -6.72413922e-02, -7.16061045e-01],\n",
       "       [ 9.88195508e-01, -1.75822712e+00,  9.14935492e-01,\n",
       "         7.91136815e-01, -1.37167544e+00],\n",
       "       [ 1.00258436e+00, -7.86796272e-02, -1.82468098e-01,\n",
       "         3.95399604e-01, -1.34549801e-01],\n",
       "       [ 1.01694811e+00,  3.65875186e-01, -2.02984414e-01,\n",
       "         2.31449840e-01,  1.54289219e-01],\n",
       "       [ 1.03128697e+00, -6.27249669e-01,  8.56523914e-01,\n",
       "         9.28951258e-01, -5.61526322e-02],\n",
       "       [ 1.04560114e+00,  5.31308559e-01, -2.02984414e-01,\n",
       "        -3.06944277e-03,  2.47606631e-01],\n",
       "       [ 1.05989079e+00,  2.70450559e-01,  9.09652335e-01,\n",
       "        -1.20981332e+00,  7.97849410e-01],\n",
       "       [ 1.07415613e+00, -2.45142383e-01, -4.44847849e-01,\n",
       "        -1.42534498e+00, -3.35308720e-01],\n",
       "       [ 1.08839735e+00,  9.91485988e-01, -1.46701964e+00,\n",
       "         1.90420913e+00, -3.35308720e-01],\n",
       "       [ 1.10261461e+00, -1.63438885e+00,  9.51769761e-01,\n",
       "        -2.07375411e-01, -1.19910522e+00],\n",
       "       [ 1.11680812e+00,  7.18206045e-01, -1.26510158e+00,\n",
       "        -3.29447026e-01, -2.74337375e-01],\n",
       "       [ 1.13097805e+00,  8.04035245e-01,  1.55892019e-01,\n",
       "         1.18797267e+00,  6.42748466e-01],\n",
       "       [ 1.14512457e+00,  1.46230082e+00, -7.65191217e-01,\n",
       "        -1.31304986e+00,  2.66104071e-01],\n",
       "       [ 1.15924786e+00, -1.10987617e+00, -6.83531045e-01,\n",
       "        -3.87639535e-01, -1.10331755e+00],\n",
       "       [ 1.17334810e+00,  2.81120730e-01, -1.59666802e-02,\n",
       "         8.65987393e-01,  1.73065134e-01],\n",
       "       [ 1.18742546e+00, -1.60245911e+00, -6.84177298e-02,\n",
       "        -4.72322408e-01, -1.29691198e+00],\n",
       "       [ 1.20148009e+00,  3.22571660e-01, -1.07517365e+00,\n",
       "        -7.54005137e-01, -3.76326497e-01],\n",
       "       [ 1.21551218e+00,  8.73226881e-01, -1.46701964e+00,\n",
       "        -7.32248660e-01, -4.17648460e-01],\n",
       "       [ 1.22952188e+00,  1.39381826e+00,  1.51501853e+00,\n",
       "         6.70980580e-01,  2.19179743e+00],\n",
       "       [ 1.24350935e+00,  1.12535894e+00,  5.48117355e-01,\n",
       "        -2.78567541e-01,  1.16307722e+00],\n",
       "       [ 1.25747476e+00,  3.41616947e-01, -1.00961537e+00,\n",
       "         4.19617314e-01, -3.76326497e-01],\n",
       "       [ 1.27141827e+00,  1.39196069e+00, -1.60632069e+00,\n",
       "        -9.75494949e-02, -3.55780023e-01],\n",
       "       [ 1.28534002e+00,  2.92838107e-01, -8.15479006e-01,\n",
       "        -4.35546989e-01, -1.94044602e-01],\n",
       "       [ 1.29924018e+00,  1.96347852e-01, -1.56676988e+00,\n",
       "        -1.12323656e+00, -6.29082793e-01],\n",
       "       [ 1.31311888e+00,  8.34749681e-01, -1.24415190e+00,\n",
       "         8.26517146e-02, -2.74337375e-01],\n",
       "       [ 1.32697630e+00, -1.02082882e+00, -1.21318999e+00,\n",
       "         1.87417464e-01, -1.03272612e+00],\n",
       "       [ 1.34081256e+00,  1.49268741e+00,  1.22782124e+00,\n",
       "         1.58280405e+00,  2.07738228e+00],\n",
       "       [ 1.35462783e+00,  1.17682728e+00,  9.98415011e-03,\n",
       "         2.00719361e-01,  7.29350986e-01],\n",
       "       [ 1.36842224e+00,  7.00123041e-01,  1.33163754e+00,\n",
       "        -3.18022039e-01,  1.54175652e+00],\n",
       "       [ 1.38219593e+00,  8.84559671e-03, -1.63345378e+00,\n",
       "         4.49820703e-02, -6.72391350e-01],\n",
       "       [ 1.39594906e+00,  5.59026618e-01,  4.62003906e-01,\n",
       "        -3.99499822e-01,  6.77522506e-01],\n",
       "       [ 1.40968175e+00,  1.47796614e+00, -5.04573789e-01,\n",
       "        -1.64450612e+00,  4.30201548e-01],\n",
       "       [ 1.42339414e+00, -1.61927178e+00, -6.43632210e-01,\n",
       "        -1.12874870e-01, -1.52511031e+00],\n",
       "       [ 1.43708637e+00, -1.26765600e+00,  1.13225036e+00,\n",
       "        -1.37920552e+00, -5.64777092e-01],\n",
       "       [ 1.45075858e+00, -7.58562612e-01, -7.48650643e-01,\n",
       "        -1.35676548e+00, -7.60101478e-01],\n",
       "       [ 1.46441090e+00, -1.64775660e+00, -1.38531280e+00,\n",
       "         2.70348543e-01, -1.73870942e+00],\n",
       "       [ 1.47804345e+00,  3.05597228e-01,  1.17772160e+00,\n",
       "        -1.65883577e+00,  1.06530829e+00],\n",
       "       [ 1.49165638e+00,  1.21375721e-01,  8.45832415e-01,\n",
       "        -1.35676548e+00,  6.77522506e-01],\n",
       "       [ 1.50524980e+00, -1.28790757e+00, -1.43143631e+00,\n",
       "        -6.82575813e-01, -1.29691198e+00],\n",
       "       [ 1.51882384e+00, -5.20948785e-01, -1.29701657e+00,\n",
       "        -1.14201102e+00, -8.04522689e-01],\n",
       "       [ 1.53237863e+00,  4.13090984e-01, -8.75491892e-01,\n",
       "        -1.31304986e+00, -1.54313854e-01],\n",
       "       [ 1.54591430e+00,  1.45584317e+00,  1.17772160e+00,\n",
       "         1.43335009e+00,  1.97596711e+00],\n",
       "       [ 1.55943096e+00,  9.68160821e-01, -9.37083420e-01,\n",
       "        -1.08642518e+00, -3.67147025e-02]])"
      ]
     },
     "execution_count": 40,
     "metadata": {},
     "output_type": "execute_result"
    }
   ],
   "source": [
    "#Using Power Transformation \n",
    "from sklearn.preprocessing import power_transform\n",
    "x_new = power_transform(df)\n",
    "x_new"
   ]
  },
  {
   "cell_type": "code",
   "execution_count": 41,
   "id": "ecd87b42",
   "metadata": {},
   "outputs": [
    {
     "data": {
      "text/plain": [
       "sales       -0.007841\n",
       "newspaper   -0.077942\n",
       "radio       -0.242968\n",
       "Number      -0.268270\n",
       "TV          -0.315199\n",
       "dtype: float64"
      ]
     },
     "execution_count": 41,
     "metadata": {},
     "output_type": "execute_result"
    }
   ],
   "source": [
    "# Checking skewness\n",
    "pd.DataFrame(x_new,columns=df.columns).skew().sort_values(ascending=False)"
   ]
  },
  {
   "cell_type": "code",
   "execution_count": 42,
   "id": "b9fca8c9",
   "metadata": {},
   "outputs": [],
   "source": [
    "# To checking Outliers"
   ]
  },
  {
   "cell_type": "code",
   "execution_count": 43,
   "id": "01664b22",
   "metadata": {},
   "outputs": [
    {
     "data": {
      "image/png": "[encoded data removed]",
      "text/plain": [
       "<Figure size 2160x6480 with 4 Axes>"
      ]
     },
     "metadata": {
      "needs_background": "light"
     },
     "output_type": "display_data"
    }
   ],
   "source": [
    "collist = x.columns.values\n",
    "ncol = 30\n",
    "nrows = 14\n",
    "plt.figure(figsize=(ncol,3*ncol))\n",
    "for i in range(0,len(collist)):\n",
    "    plt.subplot(nrows,ncol,i+1)\n",
    "    sns.boxplot(data=x[collist[i]],color='green',orient='v')\n",
    "    plt.tight_layout()"
   ]
  },
  {
   "cell_type": "code",
   "execution_count": 53,
   "id": "301b1279",
   "metadata": {},
   "outputs": [
    {
     "data": {
      "text/plain": [
       "Number         int64\n",
       "TV           float64\n",
       "radio        float64\n",
       "newspaper    float64\n",
       "sales        float64\n",
       "dtype: object"
      ]
     },
     "execution_count": 53,
     "metadata": {},
     "output_type": "execute_result"
    }
   ],
   "source": [
    "df.dtypes"
   ]
  },
  {
   "cell_type": "code",
   "execution_count": 54,
   "id": "9ed59b26",
   "metadata": {},
   "outputs": [
    {
     "data": {
      "text/plain": [
       "<AxesSubplot:>"
      ]
     },
     "execution_count": 54,
     "metadata": {},
     "output_type": "execute_result"
    },
    {
     "data": {
      "image/png": "[encoded data removed]",
      "text/plain": [
       "<Figure size 432x288 with 1 Axes>"
      ]
     },
     "metadata": {
      "needs_background": "light"
     },
     "output_type": "display_data"
    }
   ],
   "source": [
    "df[\"TV\"].plot.box()"
   ]
  },
  {
   "cell_type": "code",
   "execution_count": 55,
   "id": "6a38af40",
   "metadata": {},
   "outputs": [
    {
     "data": {
      "text/plain": [
       "<AxesSubplot:>"
      ]
     },
     "execution_count": 55,
     "metadata": {},
     "output_type": "execute_result"
    },
    {
     "data": {
      "image/png": "[encoded data removed]",
      "text/plain": [
       "<Figure size 432x288 with 1 Axes>"
      ]
     },
     "metadata": {
      "needs_background": "light"
     },
     "output_type": "display_data"
    }
   ],
   "source": [
    "df[\"radio\"].plot.box()"
   ]
  },
  {
   "cell_type": "code",
   "execution_count": 56,
   "id": "7a8d6e76",
   "metadata": {},
   "outputs": [
    {
     "data": {
      "text/plain": [
       "<AxesSubplot:>"
      ]
     },
     "execution_count": 56,
     "metadata": {},
     "output_type": "execute_result"
    },
    {
     "data": {
      "image/png": "[encoded data removed]",
      "text/plain": [
       "<Figure size 432x288 with 1 Axes>"
      ]
     },
     "metadata": {
      "needs_background": "light"
     },
     "output_type": "display_data"
    }
   ],
   "source": [
    "df[\"newspaper\"].plot.box()"
   ]
  },
  {
   "cell_type": "code",
   "execution_count": 57,
   "id": "56cf5620",
   "metadata": {},
   "outputs": [
    {
     "data": {
      "text/plain": [
       "(array([ 16, 101], dtype=int64), array([3, 3], dtype=int64))"
      ]
     },
     "execution_count": 57,
     "metadata": {},
     "output_type": "execute_result"
    }
   ],
   "source": [
    "# Removing Outliers Using Z score\n",
    "from scipy.stats import zscore\n",
    "import numpy as np\n",
    "z=np.abs(zscore(df))\n",
    "threshold = 3\n",
    "np.where(z>3)"
   ]
  },
  {
   "cell_type": "code",
   "execution_count": 58,
   "id": "d9d8dd6e",
   "metadata": {},
   "outputs": [
    {
     "data": {
      "text/html": [
       "<div>\n",
       "<style scoped>\n",
       "    .dataframe tbody tr th:only-of-type {\n",
       "        vertical-align: middle;\n",
       "    }\n",
       "\n",
       "    .dataframe tbody tr th {\n",
       "        vertical-align: top;\n",
       "    }\n",
       "\n",
       "    .dataframe thead th {\n",
       "        text-align: right;\n",
       "    }\n",
       "</style>\n",
       "<table border=\"1\" class=\"dataframe\">\n",
       "  <thead>\n",
       "    <tr style=\"text-align: right;\">\n",
       "      <th></th>\n",
       "      <th>Number</th>\n",
       "      <th>TV</th>\n",
       "      <th>radio</th>\n",
       "      <th>newspaper</th>\n",
       "      <th>sales</th>\n",
       "    </tr>\n",
       "  </thead>\n",
       "  <tbody>\n",
       "    <tr>\n",
       "      <th>0</th>\n",
       "      <td>1</td>\n",
       "      <td>230.1</td>\n",
       "      <td>37.8</td>\n",
       "      <td>69.2</td>\n",
       "      <td>22.1</td>\n",
       "    </tr>\n",
       "    <tr>\n",
       "      <th>1</th>\n",
       "      <td>2</td>\n",
       "      <td>44.5</td>\n",
       "      <td>39.3</td>\n",
       "      <td>45.1</td>\n",
       "      <td>10.4</td>\n",
       "    </tr>\n",
       "    <tr>\n",
       "      <th>2</th>\n",
       "      <td>3</td>\n",
       "      <td>17.2</td>\n",
       "      <td>45.9</td>\n",
       "      <td>69.3</td>\n",
       "      <td>9.3</td>\n",
       "    </tr>\n",
       "    <tr>\n",
       "      <th>3</th>\n",
       "      <td>4</td>\n",
       "      <td>151.5</td>\n",
       "      <td>41.3</td>\n",
       "      <td>58.5</td>\n",
       "      <td>18.5</td>\n",
       "    </tr>\n",
       "    <tr>\n",
       "      <th>4</th>\n",
       "      <td>5</td>\n",
       "      <td>180.8</td>\n",
       "      <td>10.8</td>\n",
       "      <td>58.4</td>\n",
       "      <td>12.9</td>\n",
       "    </tr>\n",
       "    <tr>\n",
       "      <th>...</th>\n",
       "      <td>...</td>\n",
       "      <td>...</td>\n",
       "      <td>...</td>\n",
       "      <td>...</td>\n",
       "      <td>...</td>\n",
       "    </tr>\n",
       "    <tr>\n",
       "      <th>195</th>\n",
       "      <td>196</td>\n",
       "      <td>38.2</td>\n",
       "      <td>3.7</td>\n",
       "      <td>13.8</td>\n",
       "      <td>7.6</td>\n",
       "    </tr>\n",
       "    <tr>\n",
       "      <th>196</th>\n",
       "      <td>197</td>\n",
       "      <td>94.2</td>\n",
       "      <td>4.9</td>\n",
       "      <td>8.1</td>\n",
       "      <td>9.7</td>\n",
       "    </tr>\n",
       "    <tr>\n",
       "      <th>197</th>\n",
       "      <td>198</td>\n",
       "      <td>177.0</td>\n",
       "      <td>9.3</td>\n",
       "      <td>6.4</td>\n",
       "      <td>12.8</td>\n",
       "    </tr>\n",
       "    <tr>\n",
       "      <th>198</th>\n",
       "      <td>199</td>\n",
       "      <td>283.6</td>\n",
       "      <td>42.0</td>\n",
       "      <td>66.2</td>\n",
       "      <td>25.5</td>\n",
       "    </tr>\n",
       "    <tr>\n",
       "      <th>199</th>\n",
       "      <td>200</td>\n",
       "      <td>232.1</td>\n",
       "      <td>8.6</td>\n",
       "      <td>8.7</td>\n",
       "      <td>13.4</td>\n",
       "    </tr>\n",
       "  </tbody>\n",
       "</table>\n",
       "<p>198 rows × 5 columns</p>\n",
       "</div>"
      ],
      "text/plain": [
       "     Number     TV  radio  newspaper  sales\n",
       "0         1  230.1   37.8       69.2   22.1\n",
       "1         2   44.5   39.3       45.1   10.4\n",
       "2         3   17.2   45.9       69.3    9.3\n",
       "3         4  151.5   41.3       58.5   18.5\n",
       "4         5  180.8   10.8       58.4   12.9\n",
       "..      ...    ...    ...        ...    ...\n",
       "195     196   38.2    3.7       13.8    7.6\n",
       "196     197   94.2    4.9        8.1    9.7\n",
       "197     198  177.0    9.3        6.4   12.8\n",
       "198     199  283.6   42.0       66.2   25.5\n",
       "199     200  232.1    8.6        8.7   13.4\n",
       "\n",
       "[198 rows x 5 columns]"
      ]
     },
     "execution_count": 58,
     "metadata": {},
     "output_type": "execute_result"
    }
   ],
   "source": [
    "df_new_z=df[(z<3).all(axis=1)]\n",
    "df_new_z"
   ]
  },
  {
   "cell_type": "code",
   "execution_count": null,
   "id": "d2851f77",
   "metadata": {},
   "outputs": [],
   "source": []
  },
  {
   "cell_type": "code",
   "execution_count": null,
   "id": "c6335148",
   "metadata": {},
   "outputs": [],
   "source": []
  },
  {
   "cell_type": "code",
   "execution_count": 59,
   "id": "373558e1",
   "metadata": {},
   "outputs": [
    {
     "data": {
      "text/plain": [
       "(198, 5)"
      ]
     },
     "execution_count": 59,
     "metadata": {},
     "output_type": "execute_result"
    }
   ],
   "source": [
    "df_new_z.shape"
   ]
  },
  {
   "cell_type": "code",
   "execution_count": 60,
   "id": "5126563d",
   "metadata": {},
   "outputs": [],
   "source": [
    "data_loss=((199-199)/199)*100"
   ]
  },
  {
   "cell_type": "code",
   "execution_count": 61,
   "id": "0f543f06",
   "metadata": {},
   "outputs": [
    {
     "data": {
      "text/plain": [
       "0.0"
      ]
     },
     "execution_count": 61,
     "metadata": {},
     "output_type": "execute_result"
    }
   ],
   "source": [
    "data_loss"
   ]
  },
  {
   "cell_type": "code",
   "execution_count": null,
   "id": "bfc980bf",
   "metadata": {},
   "outputs": [],
   "source": [
    "# No need to remove outliers due to loss of data is 0.0"
   ]
  },
  {
   "cell_type": "code",
   "execution_count": 62,
   "id": "23a23f98",
   "metadata": {},
   "outputs": [],
   "source": [
    "features=df.drop(\"sales\",axis=1)\n",
    "target=df[\"sales\"]"
   ]
  },
  {
   "cell_type": "code",
   "execution_count": 63,
   "id": "2f4258e7",
   "metadata": {},
   "outputs": [],
   "source": [
    "#scaling data using MinMax scalar"
   ]
  },
  {
   "cell_type": "code",
   "execution_count": 100,
   "id": "506bb106",
   "metadata": {},
   "outputs": [],
   "source": [
    "from sklearn.preprocessing import MinMaxScaler\n",
    "mns=MinMaxScaler\n",
    "from sklearn.linear_model import LinearRegression\n",
    "lr=LinearRegression()\n",
    "from sklearn.metrics import r2_score\n",
    "from sklearn.model_selection import train_test_split"
   ]
  },
  {
   "cell_type": "code",
   "execution_count": 65,
   "id": "d65ebdce",
   "metadata": {},
   "outputs": [],
   "source": [
    "import warnings\n",
    "warnings.filterwarnings('ignore')"
   ]
  },
  {
   "cell_type": "code",
   "execution_count": 99,
   "id": "3aa80d32",
   "metadata": {},
   "outputs": [
    {
     "name": "stdout",
     "output_type": "stream",
     "text": [
      "At Random state 0,the training accuracy is:- 0.9073274552252846\n",
      "At Random state 0,the training accuracy is:- 0.856480214327925\n",
      "\n",
      "\n",
      "At Random state 1,the training accuracy is:- 0.8959391993971187\n",
      "At Random state 1,the training accuracy is:- 0.8928781912093181\n",
      "\n",
      "\n",
      "At Random state 2,the training accuracy is:- 0.9152614531156523\n",
      "At Random state 2,the training accuracy is:- 0.7570326409482367\n",
      "\n",
      "\n",
      "At Random state 3,the training accuracy is:- 0.8931443451313652\n",
      "At Random state 3,the training accuracy is:- 0.9134449674582059\n",
      "\n",
      "\n",
      "At Random state 4,the training accuracy is:- 0.8911682084041699\n",
      "At Random state 4,the training accuracy is:- 0.9084934434517352\n",
      "\n",
      "\n",
      "At Random state 5,the training accuracy is:- 0.89570620107301\n",
      "At Random state 5,the training accuracy is:- 0.89851958363058\n",
      "\n",
      "\n",
      "At Random state 6,the training accuracy is:- 0.8915582028345674\n",
      "At Random state 6,the training accuracy is:- 0.921941222913581\n",
      "\n",
      "\n",
      "At Random state 7,the training accuracy is:- 0.8929171093102488\n",
      "At Random state 7,the training accuracy is:- 0.9094946118605033\n",
      "\n",
      "\n",
      "At Random state 8,the training accuracy is:- 0.9089671598668994\n",
      "At Random state 8,the training accuracy is:- 0.8454524606304807\n",
      "\n",
      "\n",
      "At Random state 9,the training accuracy is:- 0.8897879071515497\n",
      "At Random state 9,the training accuracy is:- 0.9254791165935141\n",
      "\n",
      "\n",
      "At Random state 10,the training accuracy is:- 0.9210064755430887\n",
      "At Random state 10,the training accuracy is:- 0.8350889287403334\n",
      "\n",
      "\n",
      "At Random state 11,the training accuracy is:- 0.9111623809104603\n",
      "At Random state 11,the training accuracy is:- 0.8449820092996336\n",
      "\n",
      "\n",
      "At Random state 12,the training accuracy is:- 0.8918075499129059\n",
      "At Random state 12,the training accuracy is:- 0.9110007582766769\n",
      "\n",
      "\n",
      "At Random state 13,the training accuracy is:- 0.887016186914774\n",
      "At Random state 13,the training accuracy is:- 0.9305870148904292\n",
      "\n",
      "\n",
      "At Random state 14,the training accuracy is:- 0.9086355983008996\n",
      "At Random state 14,the training accuracy is:- 0.8549475163509118\n",
      "\n",
      "\n",
      "At Random state 15,the training accuracy is:- 0.8938079254185115\n",
      "At Random state 15,the training accuracy is:- 0.9055692412310968\n",
      "\n",
      "\n",
      "At Random state 16,the training accuracy is:- 0.8926643673594483\n",
      "At Random state 16,the training accuracy is:- 0.9179051167419227\n",
      "\n",
      "\n",
      "At Random state 17,the training accuracy is:- 0.9116703196823303\n",
      "At Random state 17,the training accuracy is:- 0.8260144163842627\n",
      "\n",
      "\n",
      "At Random state 18,the training accuracy is:- 0.9058537276169787\n",
      "At Random state 18,the training accuracy is:- 0.8692586836034338\n",
      "\n",
      "\n",
      "At Random state 19,the training accuracy is:- 0.8936964884458823\n",
      "At Random state 19,the training accuracy is:- 0.9035293150713195\n",
      "\n",
      "\n",
      "At Random state 20,the training accuracy is:- 0.8940674217997686\n",
      "At Random state 20,the training accuracy is:- 0.9028631545455051\n",
      "\n",
      "\n",
      "At Random state 21,the training accuracy is:- 0.8890540600770627\n",
      "At Random state 21,the training accuracy is:- 0.9146569039385174\n",
      "\n",
      "\n",
      "At Random state 22,the training accuracy is:- 0.8899973381223143\n",
      "At Random state 22,the training accuracy is:- 0.9182082402965809\n",
      "\n",
      "\n",
      "At Random state 23,the training accuracy is:- 0.8921767001074105\n",
      "At Random state 23,the training accuracy is:- 0.9099324713476881\n",
      "\n",
      "\n",
      "At Random state 24,the training accuracy is:- 0.8948669853718487\n",
      "At Random state 24,the training accuracy is:- 0.9031175758867456\n",
      "\n",
      "\n",
      "At Random state 25,the training accuracy is:- 0.901084029469538\n",
      "At Random state 25,the training accuracy is:- 0.8720389628792304\n",
      "\n",
      "\n",
      "At Random state 26,the training accuracy is:- 0.9008142925470226\n",
      "At Random state 26,the training accuracy is:- 0.8660817826604932\n",
      "\n",
      "\n",
      "At Random state 27,the training accuracy is:- 0.8949084508267352\n",
      "At Random state 27,the training accuracy is:- 0.9055839757493602\n",
      "\n",
      "\n",
      "At Random state 28,the training accuracy is:- 0.8997566457323917\n",
      "At Random state 28,the training accuracy is:- 0.882889952375476\n",
      "\n",
      "\n",
      "At Random state 29,the training accuracy is:- 0.8897990754621425\n",
      "At Random state 29,the training accuracy is:- 0.9121642709962423\n",
      "\n",
      "\n",
      "At Random state 30,the training accuracy is:- 0.8935867104133169\n",
      "At Random state 30,the training accuracy is:- 0.9070725716744538\n",
      "\n",
      "\n",
      "At Random state 31,the training accuracy is:- 0.8861151331622692\n",
      "At Random state 31,the training accuracy is:- 0.9274231828872666\n",
      "\n",
      "\n",
      "At Random state 32,the training accuracy is:- 0.9172993061976911\n",
      "At Random state 32,the training accuracy is:- 0.7769624816211904\n",
      "\n",
      "\n",
      "At Random state 33,the training accuracy is:- 0.896294422055296\n",
      "At Random state 33,the training accuracy is:- 0.8938166042095906\n",
      "\n",
      "\n",
      "At Random state 34,the training accuracy is:- 0.8970815554113069\n",
      "At Random state 34,the training accuracy is:- 0.8919648426080482\n",
      "\n",
      "\n",
      "At Random state 35,the training accuracy is:- 0.9149816013369177\n",
      "At Random state 35,the training accuracy is:- 0.786373587730015\n",
      "\n",
      "\n",
      "At Random state 36,the training accuracy is:- 0.8887390025066806\n",
      "At Random state 36,the training accuracy is:- 0.9265569630488937\n",
      "\n",
      "\n",
      "At Random state 37,the training accuracy is:- 0.8998734924150504\n",
      "At Random state 37,the training accuracy is:- 0.8832381464120009\n",
      "\n",
      "\n",
      "At Random state 38,the training accuracy is:- 0.8972914103912516\n",
      "At Random state 38,the training accuracy is:- 0.8908696135503188\n",
      "\n",
      "\n",
      "At Random state 39,the training accuracy is:- 0.9002556473795614\n",
      "At Random state 39,the training accuracy is:- 0.8690558832908658\n",
      "\n",
      "\n",
      "At Random state 40,the training accuracy is:- 0.9204058033654225\n",
      "At Random state 40,the training accuracy is:- 0.7965905680536843\n",
      "\n",
      "\n",
      "At Random state 41,the training accuracy is:- 0.9006927327079468\n",
      "At Random state 41,the training accuracy is:- 0.8820470614688671\n",
      "\n",
      "\n",
      "At Random state 42,the training accuracy is:- 0.8957553000540606\n",
      "At Random state 42,the training accuracy is:- 0.8986489151417081\n",
      "\n",
      "\n",
      "At Random state 43,the training accuracy is:- 0.8886405668646471\n",
      "At Random state 43,the training accuracy is:- 0.9279997802005557\n",
      "\n",
      "\n",
      "At Random state 44,the training accuracy is:- 0.9065906284233083\n",
      "At Random state 44,the training accuracy is:- 0.8309225032852494\n",
      "\n",
      "\n",
      "At Random state 45,the training accuracy is:- 0.8963875424029035\n",
      "At Random state 45,the training accuracy is:- 0.8915316806090338\n",
      "\n",
      "\n",
      "At Random state 46,the training accuracy is:- 0.9036235036433334\n",
      "At Random state 46,the training accuracy is:- 0.8503383755246359\n",
      "\n",
      "\n",
      "At Random state 47,the training accuracy is:- 0.8988386546103042\n",
      "At Random state 47,the training accuracy is:- 0.8849834045904889\n",
      "\n",
      "\n",
      "At Random state 48,the training accuracy is:- 0.890542166403924\n",
      "At Random state 48,the training accuracy is:- 0.9189262097926163\n",
      "\n",
      "\n",
      "At Random state 49,the training accuracy is:- 0.913865852180709\n",
      "At Random state 49,the training accuracy is:- 0.8231216329494812\n",
      "\n",
      "\n",
      "At Random state 50,the training accuracy is:- 0.9013718398317787\n",
      "At Random state 50,the training accuracy is:- 0.8476464379397719\n",
      "\n",
      "\n",
      "At Random state 51,the training accuracy is:- 0.8936175989328149\n",
      "At Random state 51,the training accuracy is:- 0.9076546711720634\n",
      "\n",
      "\n",
      "At Random state 52,the training accuracy is:- 0.9018604295382086\n",
      "At Random state 52,the training accuracy is:- 0.8807089729330375\n",
      "\n",
      "\n",
      "At Random state 53,the training accuracy is:- 0.888857938922339\n",
      "At Random state 53,the training accuracy is:- 0.9251773581549692\n",
      "\n",
      "\n",
      "At Random state 54,the training accuracy is:- 0.8920887237166686\n",
      "At Random state 54,the training accuracy is:- 0.9172149618279113\n",
      "\n",
      "\n",
      "At Random state 55,the training accuracy is:- 0.894930160761274\n",
      "At Random state 55,the training accuracy is:- 0.8978864477773828\n",
      "\n",
      "\n",
      "At Random state 56,the training accuracy is:- 0.8989201587327643\n",
      "At Random state 56,the training accuracy is:- 0.888224634953456\n",
      "\n",
      "\n",
      "At Random state 57,the training accuracy is:- 0.8825879766148067\n",
      "At Random state 57,the training accuracy is:- 0.9408099432427623\n",
      "\n",
      "\n",
      "At Random state 58,the training accuracy is:- 0.9127355018257423\n",
      "At Random state 58,the training accuracy is:- 0.8401442189987403\n",
      "\n",
      "\n",
      "At Random state 59,the training accuracy is:- 0.8893758445368163\n",
      "At Random state 59,the training accuracy is:- 0.9250247055288898\n",
      "\n",
      "\n",
      "At Random state 60,the training accuracy is:- 0.8929488169971975\n",
      "At Random state 60,the training accuracy is:- 0.9074416119003319\n",
      "\n",
      "\n",
      "At Random state 61,the training accuracy is:- 0.8995558396715964\n",
      "At Random state 61,the training accuracy is:- 0.878101642882558\n",
      "\n",
      "\n",
      "At Random state 62,the training accuracy is:- 0.9120188082159291\n",
      "At Random state 62,the training accuracy is:- 0.8418326614272956\n",
      "\n",
      "\n",
      "At Random state 63,the training accuracy is:- 0.8951057681539462\n",
      "At Random state 63,the training accuracy is:- 0.9005058624602784\n",
      "\n",
      "\n",
      "At Random state 64,the training accuracy is:- 0.8977795664080803\n",
      "At Random state 64,the training accuracy is:- 0.8817995595827229\n",
      "\n",
      "\n",
      "At Random state 65,the training accuracy is:- 0.8969891176837769\n",
      "At Random state 65,the training accuracy is:- 0.8942556589953752\n",
      "\n",
      "\n",
      "At Random state 66,the training accuracy is:- 0.8992060099166295\n",
      "At Random state 66,the training accuracy is:- 0.8838295132236418\n",
      "\n",
      "\n",
      "At Random state 67,the training accuracy is:- 0.8995954079489461\n",
      "At Random state 67,the training accuracy is:- 0.8813062371563375\n",
      "\n",
      "\n",
      "At Random state 68,the training accuracy is:- 0.9004472797727481\n",
      "At Random state 68,the training accuracy is:- 0.8669862566176891\n",
      "\n",
      "\n",
      "At Random state 69,the training accuracy is:- 0.8870476050134384\n",
      "At Random state 69,the training accuracy is:- 0.9233095015758521\n",
      "\n",
      "\n",
      "At Random state 70,the training accuracy is:- 0.8862589587247461\n",
      "At Random state 70,the training accuracy is:- 0.9261899619072469\n",
      "\n",
      "\n",
      "At Random state 71,the training accuracy is:- 0.9170792242159567\n",
      "At Random state 71,the training accuracy is:- 0.8214330315197064\n",
      "\n",
      "\n",
      "At Random state 72,the training accuracy is:- 0.8939630309765105\n",
      "At Random state 72,the training accuracy is:- 0.9063814288042916\n",
      "\n",
      "\n",
      "At Random state 73,the training accuracy is:- 0.9081745525874727\n",
      "At Random state 73,the training accuracy is:- 0.838245651416483\n",
      "\n",
      "\n",
      "At Random state 74,the training accuracy is:- 0.8980451797105264\n",
      "At Random state 74,the training accuracy is:- 0.8802918295913446\n",
      "\n",
      "\n",
      "At Random state 75,the training accuracy is:- 0.8944097316106918\n",
      "At Random state 75,the training accuracy is:- 0.9074740863261651\n",
      "\n",
      "\n",
      "At Random state 76,the training accuracy is:- 0.9092071576699313\n",
      "At Random state 76,the training accuracy is:- 0.7531289748171518\n",
      "\n",
      "\n",
      "At Random state 77,the training accuracy is:- 0.8859821552154192\n",
      "At Random state 77,the training accuracy is:- 0.937956975915543\n",
      "\n",
      "\n",
      "At Random state 78,the training accuracy is:- 0.8957614044756782\n",
      "At Random state 78,the training accuracy is:- 0.9027962436962178\n",
      "\n",
      "\n",
      "At Random state 79,the training accuracy is:- 0.8918809749821501\n",
      "At Random state 79,the training accuracy is:- 0.9039590138288892\n",
      "\n",
      "\n",
      "At Random state 80,the training accuracy is:- 0.9169729628077916\n",
      "At Random state 80,the training accuracy is:- 0.8002879936768352\n",
      "\n",
      "\n",
      "At Random state 81,the training accuracy is:- 0.9035712487248864\n",
      "At Random state 81,the training accuracy is:- 0.8609698767855934\n",
      "\n",
      "\n",
      "At Random state 82,the training accuracy is:- 0.9154275126468338\n",
      "At Random state 82,the training accuracy is:- 0.8013214526563002\n",
      "\n",
      "\n",
      "At Random state 83,the training accuracy is:- 0.8842230653829803\n",
      "At Random state 83,the training accuracy is:- 0.936533183297641\n",
      "\n",
      "\n",
      "At Random state 84,the training accuracy is:- 0.8954723130793452\n",
      "At Random state 84,the training accuracy is:- 0.8982625547501828\n",
      "\n",
      "\n",
      "At Random state 85,the training accuracy is:- 0.9086556153894079\n",
      "At Random state 85,the training accuracy is:- 0.8439750044569613\n",
      "\n",
      "\n",
      "At Random state 86,the training accuracy is:- 0.8941933141983467\n",
      "At Random state 86,the training accuracy is:- 0.9101136416354886\n",
      "\n",
      "\n",
      "At Random state 87,the training accuracy is:- 0.9120854281966964\n",
      "At Random state 87,the training accuracy is:- 0.7590318344044371\n",
      "\n",
      "\n",
      "At Random state 88,the training accuracy is:- 0.909607024863585\n",
      "At Random state 88,the training accuracy is:- 0.8387190488012204\n",
      "\n",
      "\n",
      "At Random state 89,the training accuracy is:- 0.9007733237783739\n",
      "At Random state 89,the training accuracy is:- 0.8715218402293794\n",
      "\n",
      "\n",
      "At Random state 90,the training accuracy is:- 0.9035155910972225\n",
      "At Random state 90,the training accuracy is:- 0.8470679956762829\n",
      "\n",
      "\n",
      "At Random state 91,the training accuracy is:- 0.8874503790642361\n",
      "At Random state 91,the training accuracy is:- 0.9040620243534963\n",
      "\n",
      "\n",
      "At Random state 92,the training accuracy is:- 0.879228484038034\n",
      "At Random state 92,the training accuracy is:- 0.950983339269277\n",
      "\n",
      "\n",
      "At Random state 93,the training accuracy is:- 0.8934257355566151\n",
      "At Random state 93,the training accuracy is:- 0.9092789029786972\n",
      "\n",
      "\n",
      "At Random state 94,the training accuracy is:- 0.9084405371218475\n",
      "At Random state 94,the training accuracy is:- 0.8559756457570239\n",
      "\n",
      "\n",
      "At Random state 95,the training accuracy is:- 0.8935661522674359\n",
      "At Random state 95,the training accuracy is:- 0.8951483094107863\n",
      "\n",
      "\n",
      "At Random state 96,the training accuracy is:- 0.9038616523881903\n",
      "At Random state 96,the training accuracy is:- 0.858009872088536\n",
      "\n",
      "\n",
      "At Random state 97,the training accuracy is:- 0.8906962083562392\n",
      "At Random state 97,the training accuracy is:- 0.907763020464028\n",
      "\n",
      "\n",
      "At Random state 98,the training accuracy is:- 0.8820113423343215\n",
      "At Random state 98,the training accuracy is:- 0.9393724951506759\n",
      "\n",
      "\n",
      "At Random state 99,the training accuracy is:- 0.8906644266587815\n",
      "At Random state 99,the training accuracy is:- 0.9201416862699034\n",
      "\n",
      "\n"
     ]
    }
   ],
   "source": [
    "for i in range(0,100):\n",
    "    features_train,features_test,target_train,target_test=train_test_split(features,target,test_size=0.2,random_state=i)\n",
    "    lr.fit(features_train,target_train)\n",
    "    pred_train=lr.predict(features_train)\n",
    "    pred_test=lr.predict(features_test)\n",
    "    print(f\"At Random state {i},the training accuracy is:- {r2_score(target_train,pred_train)}\")\n",
    "    print(f\"At Random state {i},the training accuracy is:- {r2_score(target_test,pred_test)}\")\n",
    "    print(\"\\n\")"
   ]
  },
  {
   "cell_type": "code",
   "execution_count": 67,
   "id": "be6cc059",
   "metadata": {},
   "outputs": [],
   "source": [
    "features_train,features_test,target_train,target_test=train_test_split(features,target,test_size=0.2,random_state=20)"
   ]
  },
  {
   "cell_type": "code",
   "execution_count": 68,
   "id": "ba4a6122",
   "metadata": {},
   "outputs": [
    {
     "data": {
      "text/plain": [
       "LinearRegression()"
      ]
     },
     "execution_count": 68,
     "metadata": {},
     "output_type": "execute_result"
    }
   ],
   "source": [
    "lr.fit(features_train,target_train)"
   ]
  },
  {
   "cell_type": "code",
   "execution_count": 69,
   "id": "60eb5164",
   "metadata": {},
   "outputs": [],
   "source": [
    "pred_test=lr.predict(features_test)"
   ]
  },
  {
   "cell_type": "code",
   "execution_count": 70,
   "id": "7f6fe1c1",
   "metadata": {},
   "outputs": [
    {
     "name": "stdout",
     "output_type": "stream",
     "text": [
      "0.9028631545455051\n"
     ]
    }
   ],
   "source": [
    "print(r2_score(target_test,pred_test))"
   ]
  },
  {
   "cell_type": "code",
   "execution_count": 71,
   "id": "2efaed90",
   "metadata": {},
   "outputs": [],
   "source": [
    "#Cross Validation of Model"
   ]
  },
  {
   "cell_type": "code",
   "execution_count": 72,
   "id": "8b3d0dcf",
   "metadata": {},
   "outputs": [],
   "source": [
    "Train_accuracy=r2_score(target_train,pred_train)\n",
    "Test_accuracy=r2_score(target_test,pred_test)"
   ]
  },
  {
   "cell_type": "code",
   "execution_count": 74,
   "id": "9127e55a",
   "metadata": {},
   "outputs": [
    {
     "name": "stdout",
     "output_type": "stream",
     "text": [
      "At cross fold 2 the cv score is 0.8557808905096393 and accuracy score for training is -0.8957905265874349 and accuracy for the testing is 0.9028631545455051\n",
      "\n",
      "\n",
      "At cross fold 3 the cv score is 0.8913539823868294 and accuracy score for training is -0.8957905265874349 and accuracy for the testing is 0.9028631545455051\n",
      "\n",
      "\n",
      "At cross fold 4 the cv score is 0.8858779626590163 and accuracy score for training is -0.8957905265874349 and accuracy for the testing is 0.9028631545455051\n",
      "\n",
      "\n",
      "At cross fold 5 the cv score is 0.8842777844741689 and accuracy score for training is -0.8957905265874349 and accuracy for the testing is 0.9028631545455051\n",
      "\n",
      "\n",
      "At cross fold 6 the cv score is 0.8877823078964706 and accuracy score for training is -0.8957905265874349 and accuracy for the testing is 0.9028631545455051\n",
      "\n",
      "\n",
      "At cross fold 7 the cv score is 0.8830284351379021 and accuracy score for training is -0.8957905265874349 and accuracy for the testing is 0.9028631545455051\n",
      "\n",
      "\n",
      "At cross fold 8 the cv score is 0.8795059347365249 and accuracy score for training is -0.8957905265874349 and accuracy for the testing is 0.9028631545455051\n",
      "\n",
      "\n",
      "At cross fold 9 the cv score is 0.879704245100306 and accuracy score for training is -0.8957905265874349 and accuracy for the testing is 0.9028631545455051\n",
      "\n",
      "\n",
      "At cross fold 10 the cv score is 0.8824997330280173 and accuracy score for training is -0.8957905265874349 and accuracy for the testing is 0.9028631545455051\n",
      "\n",
      "\n",
      "At cross fold 11 the cv score is 0.8740196816233481 and accuracy score for training is -0.8957905265874349 and accuracy for the testing is 0.9028631545455051\n",
      "\n",
      "\n",
      "At cross fold 12 the cv score is 0.8825703237498278 and accuracy score for training is -0.8957905265874349 and accuracy for the testing is 0.9028631545455051\n",
      "\n",
      "\n",
      "At cross fold 13 the cv score is 0.8821884640860825 and accuracy score for training is -0.8957905265874349 and accuracy for the testing is 0.9028631545455051\n",
      "\n",
      "\n",
      "At cross fold 14 the cv score is 0.8722370669946964 and accuracy score for training is -0.8957905265874349 and accuracy for the testing is 0.9028631545455051\n",
      "\n",
      "\n",
      "At cross fold 15 the cv score is 0.8707926208554668 and accuracy score for training is -0.8957905265874349 and accuracy for the testing is 0.9028631545455051\n",
      "\n",
      "\n",
      "At cross fold 16 the cv score is 0.8792965555642274 and accuracy score for training is -0.8957905265874349 and accuracy for the testing is 0.9028631545455051\n",
      "\n",
      "\n",
      "At cross fold 17 the cv score is 0.8596111928075775 and accuracy score for training is -0.8957905265874349 and accuracy for the testing is 0.9028631545455051\n",
      "\n",
      "\n",
      "At cross fold 18 the cv score is 0.876927596124723 and accuracy score for training is -0.8957905265874349 and accuracy for the testing is 0.9028631545455051\n",
      "\n",
      "\n",
      "At cross fold 19 the cv score is 0.8720761733556737 and accuracy score for training is -0.8957905265874349 and accuracy for the testing is 0.9028631545455051\n",
      "\n",
      "\n"
     ]
    }
   ],
   "source": [
    "from sklearn.model_selection import cross_val_score\n",
    "for j in range(2,20):\n",
    "    cv_score=cross_val_score(lr,features,target,cv=j)\n",
    "    cv_mean=cv_score.mean()\n",
    "    print(f\"At cross fold {j} the cv score is {cv_mean} and accuracy score for training is {Train_accuracy} and accuracy for the testing is {Test_accuracy}\")\n",
    "    print(\"\\n\")"
   ]
  },
  {
   "cell_type": "code",
   "execution_count": 75,
   "id": "ee6b09ec",
   "metadata": {},
   "outputs": [],
   "source": [
    "#cv=3 is selected due to less difference"
   ]
  },
  {
   "cell_type": "code",
   "execution_count": 77,
   "id": "32a6028f",
   "metadata": {},
   "outputs": [
    {
     "data": {
      "image/png": "[encoded data removed]",
      "text/plain": [
       "<Figure size 576x432 with 1 Axes>"
      ]
     },
     "metadata": {
      "needs_background": "light"
     },
     "output_type": "display_data"
    }
   ],
   "source": [
    "import matplotlib.pyplot as plt\n",
    "plt.figure(figsize=(8,6))\n",
    "plt.scatter(x=target_test,y=pred_test, color='y')\n",
    "plt.plot(target_test,target_test,color='b')\n",
    "plt.xlabel(\"Actual Charges\",fontsize=14)\n",
    "plt.ylabel(\"Predicted Charges\",fontsize=14)\n",
    "plt.title('Linear Regression',fontsize=18)\n",
    "plt.show()"
   ]
  },
  {
   "cell_type": "code",
   "execution_count": 78,
   "id": "d0cbada8",
   "metadata": {},
   "outputs": [],
   "source": [
    "#Regularization"
   ]
  },
  {
   "cell_type": "code",
   "execution_count": 79,
   "id": "aa29d1ff",
   "metadata": {},
   "outputs": [],
   "source": [
    "from sklearn.model_selection import GridSearchCV\n",
    "from sklearn.model_selection import cross_val_score\n",
    "import warnings\n",
    "warnings.filterwarnings('ignore')"
   ]
  },
  {
   "cell_type": "code",
   "execution_count": 80,
   "id": "6c6914d3",
   "metadata": {},
   "outputs": [],
   "source": [
    "from sklearn.linear_model import Lasso"
   ]
  },
  {
   "cell_type": "code",
   "execution_count": 82,
   "id": "842ad6b8",
   "metadata": {},
   "outputs": [
    {
     "data": {
      "text/plain": [
       "GridSearchCV(estimator=Lasso(),\n",
       "             param_grid={'alpha': [0.0002, 0.002, 0.02, 0.2, 2, 20],\n",
       "                         'random_state': [0, 1, 2, 3, 4, 5, 6, 7, 8, 9, 10, 11,\n",
       "                                          12, 13, 14, 15, 16, 17, 18, 19]})"
      ]
     },
     "execution_count": 82,
     "metadata": {},
     "output_type": "execute_result"
    }
   ],
   "source": [
    "parameters = {'alpha':[.0002,.002,.02,.2,2,20],'random_state':list(range(0,20))}\n",
    "ls=Lasso()\n",
    "clf=GridSearchCV(ls,parameters)\n",
    "clf.fit(features_train,target_train)"
   ]
  },
  {
   "cell_type": "code",
   "execution_count": 83,
   "id": "b0e9aada",
   "metadata": {},
   "outputs": [
    {
     "name": "stdout",
     "output_type": "stream",
     "text": [
      "{'alpha': 0.2, 'random_state': 0}\n"
     ]
    }
   ],
   "source": [
    "print(clf.best_params_)"
   ]
  },
  {
   "cell_type": "code",
   "execution_count": 84,
   "id": "e91c2257",
   "metadata": {},
   "outputs": [],
   "source": [
    "ls=Lasso(alpha=0.2,random_state=0)\n",
    "ls.fit(features_train,target_train)\n",
    "ls.score(features_train,target_train)\n",
    "pred_ls=ls.predict(features_test)"
   ]
  },
  {
   "cell_type": "code",
   "execution_count": 85,
   "id": "4758f1fb",
   "metadata": {},
   "outputs": [
    {
     "data": {
      "text/plain": [
       "0.9029307642259718"
      ]
     },
     "execution_count": 85,
     "metadata": {},
     "output_type": "execute_result"
    }
   ],
   "source": [
    "lss=r2_score(target_test,pred_ls)\n",
    "lss"
   ]
  },
  {
   "cell_type": "code",
   "execution_count": 86,
   "id": "57a376b3",
   "metadata": {},
   "outputs": [
    {
     "data": {
      "text/plain": [
       "0.8915359390263681"
      ]
     },
     "execution_count": 86,
     "metadata": {},
     "output_type": "execute_result"
    }
   ],
   "source": [
    "cv_score=cross_val_score(ls,features,target,cv=3)\n",
    "cv_mean=cv_score.mean()\n",
    "cv_mean"
   ]
  },
  {
   "cell_type": "code",
   "execution_count": 87,
   "id": "53bca78e",
   "metadata": {},
   "outputs": [],
   "source": [
    "#Ensemble technoque"
   ]
  },
  {
   "cell_type": "code",
   "execution_count": 89,
   "id": "11794283",
   "metadata": {},
   "outputs": [
    {
     "name": "stdout",
     "output_type": "stream",
     "text": [
      "{'criterion': 'mae', 'max_features': 'auto'}\n"
     ]
    }
   ],
   "source": [
    "from sklearn.model_selection import GridSearchCV\n",
    "from sklearn.ensemble import RandomForestRegressor\n",
    "\n",
    "parameters = {'criterion':['mse','mae'],'max_features':[\"auto\",\"sqrt\",\"log2\"]}\n",
    "rf=RandomForestRegressor()\n",
    "clf=GridSearchCV(rf,parameters)\n",
    "clf.fit(features_train,target_train)\n",
    "\n",
    "print(clf.best_params_)"
   ]
  },
  {
   "cell_type": "code",
   "execution_count": 90,
   "id": "08dd395c",
   "metadata": {},
   "outputs": [
    {
     "name": "stdout",
     "output_type": "stream",
     "text": [
      "R2 Score: 98.05531021867557\n",
      "cross val score: 96.7128855783372\n"
     ]
    }
   ],
   "source": [
    "rf=RandomForestRegressor(criterion=\"mae\",max_features=\"auto\")\n",
    "rf.fit(features_train,target_train)\n",
    "rf.score(features_train,target_train)\n",
    "pred_decision=rf.predict(features_test)\n",
    "\n",
    "rfs=r2_score(target_test,pred_decision)\n",
    "print('R2 Score:',rfs*100)\n",
    "\n",
    "rfscore=cross_val_score(rf,features,target,cv=3)\n",
    "rfc=rfscore.mean()\n",
    "print('cross val score:', rfc*100)"
   ]
  },
  {
   "cell_type": "code",
   "execution_count": 91,
   "id": "ec54ab4e",
   "metadata": {},
   "outputs": [],
   "source": [
    "#difference between r2 score & cross_val_score is very less so random forest is best method"
   ]
  },
  {
   "cell_type": "code",
   "execution_count": 92,
   "id": "c7b830b9",
   "metadata": {},
   "outputs": [],
   "source": [
    "import pickle\n",
    "filename ='churn.pk3'\n",
    "pickle.dump(rf,open(filename,'wb'))"
   ]
  },
  {
   "cell_type": "code",
   "execution_count": 93,
   "id": "e7927ae2",
   "metadata": {},
   "outputs": [],
   "source": [
    "#Conclusion"
   ]
  },
  {
   "cell_type": "code",
   "execution_count": 94,
   "id": "f14471cf",
   "metadata": {},
   "outputs": [
    {
     "name": "stdout",
     "output_type": "stream",
     "text": [
      "0.9805531021867557\n"
     ]
    }
   ],
   "source": [
    "loaded_model=pickle.load(open('churn.pk3','rb'))\n",
    "result=loaded_model.score(features_test,target_test)\n",
    "print(result)"
   ]
  },
  {
   "cell_type": "code",
   "execution_count": 95,
   "id": "189f3779",
   "metadata": {},
   "outputs": [],
   "source": [
    "conclusion = pd.DataFrame([loaded_model.predict(features_test)[:],pred_decision[:]],index=[\"predicted\",\"origional\"])"
   ]
  },
  {
   "cell_type": "code",
   "execution_count": 96,
   "id": "57ac1238",
   "metadata": {},
   "outputs": [
    {
     "data": {
      "text/html": [
       "<div>\n",
       "<style scoped>\n",
       "    .dataframe tbody tr th:only-of-type {\n",
       "        vertical-align: middle;\n",
       "    }\n",
       "\n",
       "    .dataframe tbody tr th {\n",
       "        vertical-align: top;\n",
       "    }\n",
       "\n",
       "    .dataframe thead th {\n",
       "        text-align: right;\n",
       "    }\n",
       "</style>\n",
       "<table border=\"1\" class=\"dataframe\">\n",
       "  <thead>\n",
       "    <tr style=\"text-align: right;\">\n",
       "      <th></th>\n",
       "      <th>0</th>\n",
       "      <th>1</th>\n",
       "      <th>2</th>\n",
       "      <th>3</th>\n",
       "      <th>4</th>\n",
       "      <th>5</th>\n",
       "      <th>6</th>\n",
       "      <th>7</th>\n",
       "      <th>8</th>\n",
       "      <th>9</th>\n",
       "      <th>...</th>\n",
       "      <th>30</th>\n",
       "      <th>31</th>\n",
       "      <th>32</th>\n",
       "      <th>33</th>\n",
       "      <th>34</th>\n",
       "      <th>35</th>\n",
       "      <th>36</th>\n",
       "      <th>37</th>\n",
       "      <th>38</th>\n",
       "      <th>39</th>\n",
       "    </tr>\n",
       "  </thead>\n",
       "  <tbody>\n",
       "    <tr>\n",
       "      <th>predicted</th>\n",
       "      <td>15.227</td>\n",
       "      <td>18.811</td>\n",
       "      <td>10.408</td>\n",
       "      <td>11.934</td>\n",
       "      <td>18.955</td>\n",
       "      <td>16.667</td>\n",
       "      <td>12.568</td>\n",
       "      <td>10.262</td>\n",
       "      <td>22.882</td>\n",
       "      <td>8.436</td>\n",
       "      <td>...</td>\n",
       "      <td>9.652</td>\n",
       "      <td>20.711</td>\n",
       "      <td>7.653</td>\n",
       "      <td>8.163</td>\n",
       "      <td>25.021</td>\n",
       "      <td>14.916</td>\n",
       "      <td>9.957</td>\n",
       "      <td>10.303</td>\n",
       "      <td>12.315</td>\n",
       "      <td>14.83</td>\n",
       "    </tr>\n",
       "    <tr>\n",
       "      <th>origional</th>\n",
       "      <td>15.227</td>\n",
       "      <td>18.811</td>\n",
       "      <td>10.408</td>\n",
       "      <td>11.934</td>\n",
       "      <td>18.955</td>\n",
       "      <td>16.667</td>\n",
       "      <td>12.568</td>\n",
       "      <td>10.262</td>\n",
       "      <td>22.882</td>\n",
       "      <td>8.436</td>\n",
       "      <td>...</td>\n",
       "      <td>9.652</td>\n",
       "      <td>20.711</td>\n",
       "      <td>7.653</td>\n",
       "      <td>8.163</td>\n",
       "      <td>25.021</td>\n",
       "      <td>14.916</td>\n",
       "      <td>9.957</td>\n",
       "      <td>10.303</td>\n",
       "      <td>12.315</td>\n",
       "      <td>14.83</td>\n",
       "    </tr>\n",
       "  </tbody>\n",
       "</table>\n",
       "<p>2 rows × 40 columns</p>\n",
       "</div>"
      ],
      "text/plain": [
       "               0       1       2       3       4       5       6       7   \\\n",
       "predicted  15.227  18.811  10.408  11.934  18.955  16.667  12.568  10.262   \n",
       "origional  15.227  18.811  10.408  11.934  18.955  16.667  12.568  10.262   \n",
       "\n",
       "               8      9   ...     30      31     32     33      34      35  \\\n",
       "predicted  22.882  8.436  ...  9.652  20.711  7.653  8.163  25.021  14.916   \n",
       "origional  22.882  8.436  ...  9.652  20.711  7.653  8.163  25.021  14.916   \n",
       "\n",
       "              36      37      38     39  \n",
       "predicted  9.957  10.303  12.315  14.83  \n",
       "origional  9.957  10.303  12.315  14.83  \n",
       "\n",
       "[2 rows x 40 columns]"
      ]
     },
     "execution_count": 96,
     "metadata": {},
     "output_type": "execute_result"
    }
   ],
   "source": [
    "conclusion"
   ]
  },
  {
   "cell_type": "code",
   "execution_count": null,
   "id": "109fc414",
   "metadata": {},
   "outputs": [],
   "source": []
  }
 ],
 "metadata": {
  "kernelspec": {
   "display_name": "Python 3 (ipykernel)",
   "language": "python",
   "name": "python3"
  },
  "language_info": {
   "codemirror_mode": {
    "name": "ipython",
    "version": 3
   },
   "file_extension": ".py",
   "mimetype": "text/x-python",
   "name": "python",
   "nbconvert_exporter": "python",
   "pygments_lexer": "ipython3",
   "version": "3.9.7"
  }
 },
 "nbformat": 4,
 "nbformat_minor": 5
}
