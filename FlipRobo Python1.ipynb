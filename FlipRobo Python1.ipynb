{
 "cells": [
  {
   "cell_type": "code",
   "execution_count": 1,
   "id": "79ae85b2",
   "metadata": {},
   "outputs": [
    {
     "data": {
      "text/plain": [
       "0.6666666666666666"
      ]
     },
     "execution_count": 1,
     "metadata": {},
     "output_type": "execute_result"
    }
   ],
   "source": [
    "2/3"
   ]
  },
  {
   "cell_type": "code",
   "execution_count": 2,
   "id": "2fce5763",
   "metadata": {},
   "outputs": [
    {
     "data": {
      "text/plain": [
       "24"
      ]
     },
     "execution_count": 2,
     "metadata": {},
     "output_type": "execute_result"
    }
   ],
   "source": [
    "6<<2"
   ]
  },
  {
   "cell_type": "code",
   "execution_count": 3,
   "id": "c519a2b3",
   "metadata": {},
   "outputs": [
    {
     "data": {
      "text/plain": [
       "2"
      ]
     },
     "execution_count": 3,
     "metadata": {},
     "output_type": "execute_result"
    }
   ],
   "source": [
    "6&2"
   ]
  },
  {
   "cell_type": "code",
   "execution_count": 4,
   "id": "7bee89ca",
   "metadata": {},
   "outputs": [
    {
     "data": {
      "text/plain": [
       "3.0"
      ]
     },
     "execution_count": 4,
     "metadata": {},
     "output_type": "execute_result"
    }
   ],
   "source": [
    "6/2"
   ]
  },
  {
   "cell_type": "code",
   "execution_count": 5,
   "id": "f5b011f2",
   "metadata": {},
   "outputs": [
    {
     "ename": "SyntaxError",
     "evalue": "unexpected character after line continuation character (Temp/ipykernel_10236/3813927241.py, line 1)",
     "output_type": "error",
     "traceback": [
      "\u001b[1;36m  File \u001b[1;32m\"C:\\Users\\COTMAC\\AppData\\Local\\Temp/ipykernel_10236/3813927241.py\"\u001b[1;36m, line \u001b[1;32m1\u001b[0m\n\u001b[1;33m    6\\2\u001b[0m\n\u001b[1;37m      ^\u001b[0m\n\u001b[1;31mSyntaxError\u001b[0m\u001b[1;31m:\u001b[0m unexpected character after line continuation character\n"
     ]
    }
   ],
   "source": [
    "6\\2"
   ]
  },
  {
   "cell_type": "code",
   "execution_count": 6,
   "id": "093dbba0",
   "metadata": {},
   "outputs": [
    {
     "data": {
      "text/plain": [
       "6"
      ]
     },
     "execution_count": 6,
     "metadata": {},
     "output_type": "execute_result"
    }
   ],
   "source": [
    "6|2"
   ]
  },
  {
   "cell_type": "code",
   "execution_count": 7,
   "id": "32f368f1",
   "metadata": {},
   "outputs": [
    {
     "ename": "NameError",
     "evalue": "name '_abc' is not defined",
     "output_type": "error",
     "traceback": [
      "\u001b[1;31m---------------------------------------------------------------------------\u001b[0m",
      "\u001b[1;31mNameError\u001b[0m                                 Traceback (most recent call last)",
      "\u001b[1;32m~\\AppData\\Local\\Temp/ipykernel_10236/2254345659.py\u001b[0m in \u001b[0;36m<module>\u001b[1;34m\u001b[0m\n\u001b[1;32m----> 1\u001b[1;33m \u001b[0m_abc\u001b[0m\u001b[1;33m\u001b[0m\u001b[1;33m\u001b[0m\u001b[0m\n\u001b[0m",
      "\u001b[1;31mNameError\u001b[0m: name '_abc' is not defined"
     ]
    }
   ],
   "source": [
    "_abc"
   ]
  },
  {
   "cell_type": "code",
   "execution_count": 8,
   "id": "00be6fef",
   "metadata": {},
   "outputs": [
    {
     "ename": "SyntaxError",
     "evalue": "invalid syntax (Temp/ipykernel_10236/1563291265.py, line 1)",
     "output_type": "error",
     "traceback": [
      "\u001b[1;36m  File \u001b[1;32m\"C:\\Users\\COTMAC\\AppData\\Local\\Temp/ipykernel_10236/1563291265.py\"\u001b[1;36m, line \u001b[1;32m1\u001b[0m\n\u001b[1;33m    1abc\u001b[0m\n\u001b[1;37m     ^\u001b[0m\n\u001b[1;31mSyntaxError\u001b[0m\u001b[1;31m:\u001b[0m invalid syntax\n"
     ]
    }
   ],
   "source": [
    "1abc"
   ]
  },
  {
   "cell_type": "code",
   "execution_count": 9,
   "id": "ef944f37",
   "metadata": {},
   "outputs": [
    {
     "ename": "NameError",
     "evalue": "name 'abc2' is not defined",
     "output_type": "error",
     "traceback": [
      "\u001b[1;31m---------------------------------------------------------------------------\u001b[0m",
      "\u001b[1;31mNameError\u001b[0m                                 Traceback (most recent call last)",
      "\u001b[1;32m~\\AppData\\Local\\Temp/ipykernel_10236/1084339227.py\u001b[0m in \u001b[0;36m<module>\u001b[1;34m\u001b[0m\n\u001b[1;32m----> 1\u001b[1;33m \u001b[0mabc2\u001b[0m\u001b[1;33m\u001b[0m\u001b[1;33m\u001b[0m\u001b[0m\n\u001b[0m",
      "\u001b[1;31mNameError\u001b[0m: name 'abc2' is not defined"
     ]
    }
   ],
   "source": [
    "abc2"
   ]
  },
  {
   "cell_type": "code",
   "execution_count": 10,
   "id": "6b430b46",
   "metadata": {},
   "outputs": [
    {
     "ename": "NameError",
     "evalue": "name 'a' is not defined",
     "output_type": "error",
     "traceback": [
      "\u001b[1;31m---------------------------------------------------------------------------\u001b[0m",
      "\u001b[1;31mNameError\u001b[0m                                 Traceback (most recent call last)",
      "\u001b[1;32m~\\AppData\\Local\\Temp/ipykernel_10236/2167009006.py\u001b[0m in \u001b[0;36m<module>\u001b[1;34m\u001b[0m\n\u001b[1;32m----> 1\u001b[1;33m \u001b[0ma\u001b[0m\u001b[1;33m\u001b[0m\u001b[1;33m\u001b[0m\u001b[0m\n\u001b[0m",
      "\u001b[1;31mNameError\u001b[0m: name 'a' is not defined"
     ]
    }
   ],
   "source": [
    "a"
   ]
  },
  {
   "cell_type": "code",
   "execution_count": 11,
   "id": "02e29b3e",
   "metadata": {},
   "outputs": [
    {
     "ename": "SyntaxError",
     "evalue": "invalid syntax (Temp/ipykernel_10236/3009902539.py, line 1)",
     "output_type": "error",
     "traceback": [
      "\u001b[1;36m  File \u001b[1;32m\"C:\\Users\\COTMAC\\AppData\\Local\\Temp/ipykernel_10236/3009902539.py\"\u001b[1;36m, line \u001b[1;32m1\u001b[0m\n\u001b[1;33m    var 1abc\u001b[0m\n\u001b[1;37m        ^\u001b[0m\n\u001b[1;31mSyntaxError\u001b[0m\u001b[1;31m:\u001b[0m invalid syntax\n"
     ]
    }
   ],
   "source": [
    "var 1abc"
   ]
  },
  {
   "cell_type": "code",
   "execution_count": 12,
   "id": "48ce4aeb",
   "metadata": {},
   "outputs": [
    {
     "ename": "SyntaxError",
     "evalue": "invalid syntax (Temp/ipykernel_10236/2960509913.py, line 1)",
     "output_type": "error",
     "traceback": [
      "\u001b[1;36m  File \u001b[1;32m\"C:\\Users\\COTMAC\\AppData\\Local\\Temp/ipykernel_10236/2960509913.py\"\u001b[1;36m, line \u001b[1;32m1\u001b[0m\n\u001b[1;33m    var _abc\u001b[0m\n\u001b[1;37m        ^\u001b[0m\n\u001b[1;31mSyntaxError\u001b[0m\u001b[1;31m:\u001b[0m invalid syntax\n"
     ]
    }
   ],
   "source": [
    "var _abc"
   ]
  },
  {
   "cell_type": "code",
   "execution_count": 13,
   "id": "7f1fa55d",
   "metadata": {},
   "outputs": [
    {
     "ename": "SyntaxError",
     "evalue": "invalid syntax (Temp/ipykernel_10236/2196619676.py, line 1)",
     "output_type": "error",
     "traceback": [
      "\u001b[1;36m  File \u001b[1;32m\"C:\\Users\\COTMAC\\AppData\\Local\\Temp/ipykernel_10236/2196619676.py\"\u001b[1;36m, line \u001b[1;32m1\u001b[0m\n\u001b[1;33m    var a\u001b[0m\n\u001b[1;37m        ^\u001b[0m\n\u001b[1;31mSyntaxError\u001b[0m\u001b[1;31m:\u001b[0m invalid syntax\n"
     ]
    }
   ],
   "source": [
    "var a"
   ]
  },
  {
   "cell_type": "code",
   "execution_count": 14,
   "id": "fd2d1af5",
   "metadata": {},
   "outputs": [],
   "source": [
    "a = 15"
   ]
  },
  {
   "cell_type": "code",
   "execution_count": 15,
   "id": "adad76de",
   "metadata": {},
   "outputs": [
    {
     "data": {
      "text/plain": [
       "15"
      ]
     },
     "execution_count": 15,
     "metadata": {},
     "output_type": "execute_result"
    }
   ],
   "source": [
    "a"
   ]
  },
  {
   "cell_type": "code",
   "execution_count": 16,
   "id": "1a775e47",
   "metadata": {},
   "outputs": [],
   "source": [
    "_abc = 20"
   ]
  },
  {
   "cell_type": "code",
   "execution_count": 17,
   "id": "09aba216",
   "metadata": {},
   "outputs": [
    {
     "ename": "SyntaxError",
     "evalue": "invalid syntax (Temp/ipykernel_10236/2419892568.py, line 1)",
     "output_type": "error",
     "traceback": [
      "\u001b[1;36m  File \u001b[1;32m\"C:\\Users\\COTMAC\\AppData\\Local\\Temp/ipykernel_10236/2419892568.py\"\u001b[1;36m, line \u001b[1;32m1\u001b[0m\n\u001b[1;33m    1abc = 5\u001b[0m\n\u001b[1;37m     ^\u001b[0m\n\u001b[1;31mSyntaxError\u001b[0m\u001b[1;31m:\u001b[0m invalid syntax\n"
     ]
    }
   ],
   "source": [
    "1abc = 5"
   ]
  },
  {
   "cell_type": "code",
   "execution_count": 18,
   "id": "1c78399f",
   "metadata": {},
   "outputs": [],
   "source": [
    "abc2 = 6"
   ]
  },
  {
   "cell_type": "code",
   "execution_count": 19,
   "id": "9f62c7e2",
   "metadata": {},
   "outputs": [
    {
     "data": {
      "text/plain": [
       "6"
      ]
     },
     "execution_count": 19,
     "metadata": {},
     "output_type": "execute_result"
    }
   ],
   "source": [
    "abc2"
   ]
  },
  {
   "cell_type": "code",
   "execution_count": 20,
   "id": "e424c817",
   "metadata": {},
   "outputs": [
    {
     "data": {
      "text/plain": [
       "20"
      ]
     },
     "execution_count": 20,
     "metadata": {},
     "output_type": "execute_result"
    }
   ],
   "source": [
    "_abc"
   ]
  },
  {
   "cell_type": "code",
   "execution_count": 21,
   "id": "a4a1cf3b",
   "metadata": {},
   "outputs": [
    {
     "ename": "NameError",
     "evalue": "name 'keyword' is not defined",
     "output_type": "error",
     "traceback": [
      "\u001b[1;31m---------------------------------------------------------------------------\u001b[0m",
      "\u001b[1;31mNameError\u001b[0m                                 Traceback (most recent call last)",
      "\u001b[1;32m~\\AppData\\Local\\Temp/ipykernel_10236/2560788840.py\u001b[0m in \u001b[0;36m<module>\u001b[1;34m\u001b[0m\n\u001b[1;32m----> 1\u001b[1;33m \u001b[0mkeyword\u001b[0m\u001b[1;33m\u001b[0m\u001b[1;33m\u001b[0m\u001b[0m\n\u001b[0m",
      "\u001b[1;31mNameError\u001b[0m: name 'keyword' is not defined"
     ]
    }
   ],
   "source": [
    "keyword"
   ]
  },
  {
   "cell_type": "code",
   "execution_count": 22,
   "id": "5a12d8ed",
   "metadata": {},
   "outputs": [
    {
     "ename": "NameError",
     "evalue": "name 'keywords' is not defined",
     "output_type": "error",
     "traceback": [
      "\u001b[1;31m---------------------------------------------------------------------------\u001b[0m",
      "\u001b[1;31mNameError\u001b[0m                                 Traceback (most recent call last)",
      "\u001b[1;32m~\\AppData\\Local\\Temp/ipykernel_10236/3865403269.py\u001b[0m in \u001b[0;36m<module>\u001b[1;34m\u001b[0m\n\u001b[1;32m----> 1\u001b[1;33m \u001b[0mkeywords\u001b[0m\u001b[1;33m\u001b[0m\u001b[1;33m\u001b[0m\u001b[0m\n\u001b[0m",
      "\u001b[1;31mNameError\u001b[0m: name 'keywords' is not defined"
     ]
    }
   ],
   "source": [
    "keywords"
   ]
  },
  {
   "cell_type": "code",
   "execution_count": 23,
   "id": "fdbb78b7",
   "metadata": {},
   "outputs": [
    {
     "ename": "RuntimeError",
     "evalue": "No active exception to reraise",
     "output_type": "error",
     "traceback": [
      "\u001b[1;31m---------------------------------------------------------------------------\u001b[0m",
      "\u001b[1;31mRuntimeError\u001b[0m                              Traceback (most recent call last)",
      "\u001b[1;32m~\\AppData\\Local\\Temp/ipykernel_10236/2235509928.py\u001b[0m in \u001b[0;36m<module>\u001b[1;34m\u001b[0m\n\u001b[1;32m----> 1\u001b[1;33m \u001b[1;32mraise\u001b[0m\u001b[1;33m\u001b[0m\u001b[1;33m\u001b[0m\u001b[0m\n\u001b[0m",
      "\u001b[1;31mRuntimeError\u001b[0m: No active exception to reraise"
     ]
    }
   ],
   "source": [
    "raise"
   ]
  },
  {
   "cell_type": "code",
   "execution_count": 24,
   "id": "04ceae74",
   "metadata": {},
   "outputs": [
    {
     "ename": "SyntaxError",
     "evalue": "'yield' outside function (Temp/ipykernel_10236/1066964422.py, line 1)",
     "output_type": "error",
     "traceback": [
      "\u001b[1;36m  File \u001b[1;32m\"C:\\Users\\COTMAC\\AppData\\Local\\Temp/ipykernel_10236/1066964422.py\"\u001b[1;36m, line \u001b[1;32m1\u001b[0m\n\u001b[1;33m    yield\u001b[0m\n\u001b[1;37m    ^\u001b[0m\n\u001b[1;31mSyntaxError\u001b[0m\u001b[1;31m:\u001b[0m 'yield' outside function\n"
     ]
    }
   ],
   "source": [
    "yield"
   ]
  },
  {
   "cell_type": "code",
   "execution_count": 25,
   "id": "6d8b4d5e",
   "metadata": {},
   "outputs": [
    {
     "ename": "SyntaxError",
     "evalue": "invalid syntax (Temp/ipykernel_10236/1764518227.py, line 6)",
     "output_type": "error",
     "traceback": [
      "\u001b[1;36m  File \u001b[1;32m\"C:\\Users\\COTMAC\\AppData\\Local\\Temp/ipykernel_10236/1764518227.py\"\u001b[1;36m, line \u001b[1;32m6\u001b[0m\n\u001b[1;33m    else :\u001b[0m\n\u001b[1;37m    ^\u001b[0m\n\u001b[1;31mSyntaxError\u001b[0m\u001b[1;31m:\u001b[0m invalid syntax\n"
     ]
    }
   ],
   "source": [
    "# To find Factorial Number\n",
    "num  = 7\n",
    "Fact = 1\n",
    "if num < 0:\n",
    "    print (\"factorial not exist negative value\")\n",
    "    else :\n",
    "        for i in range(1,num + 1):\n",
    "            fact = fact * i\n",
    "            print(\"Factorial\", num, \"is\", fact)\n",
    "            "
   ]
  },
  {
   "cell_type": "code",
   "execution_count": 26,
   "id": "95bcf968",
   "metadata": {},
   "outputs": [
    {
     "ename": "SyntaxError",
     "evalue": "invalid syntax (Temp/ipykernel_10236/1860678326.py, line 5)",
     "output_type": "error",
     "traceback": [
      "\u001b[1;36m  File \u001b[1;32m\"C:\\Users\\COTMAC\\AppData\\Local\\Temp/ipykernel_10236/1860678326.py\"\u001b[1;36m, line \u001b[1;32m5\u001b[0m\n\u001b[1;33m    elif :\u001b[0m\n\u001b[1;37m    ^\u001b[0m\n\u001b[1;31mSyntaxError\u001b[0m\u001b[1;31m:\u001b[0m invalid syntax\n"
     ]
    }
   ],
   "source": [
    "num  = 7\n",
    "Fact = 1\n",
    "if num < 0:\n",
    "    print (\"factorial not exist negative value\")\n",
    "    elif :\n",
    "        for i in range(1,num + 1):\n",
    "            fact = fact * i\n",
    "            print(\"Factorial\", num, \"is\", fact)"
   ]
  },
  {
   "cell_type": "code",
   "execution_count": 27,
   "id": "46074514",
   "metadata": {},
   "outputs": [
    {
     "ename": "SyntaxError",
     "evalue": "invalid syntax (Temp/ipykernel_10236/2963268314.py, line 5)",
     "output_type": "error",
     "traceback": [
      "\u001b[1;36m  File \u001b[1;32m\"C:\\Users\\COTMAC\\AppData\\Local\\Temp/ipykernel_10236/2963268314.py\"\u001b[1;36m, line \u001b[1;32m5\u001b[0m\n\u001b[1;33m    elif num == 0:\u001b[0m\n\u001b[1;37m    ^\u001b[0m\n\u001b[1;31mSyntaxError\u001b[0m\u001b[1;31m:\u001b[0m invalid syntax\n"
     ]
    }
   ],
   "source": [
    "num  = 7\n",
    "Fact = 1\n",
    "if num < 0:\n",
    "    print (\"factorial not exist negative value\")\n",
    "    elif num == 0:\n",
    "        print(\"fact number is 0\")\n",
    "        else :\n",
    "        for i in range(1,num + 1):\n",
    "            fact = fact * i\n",
    "            print(\"Factorial\", num, \"is\", fact)"
   ]
  },
  {
   "cell_type": "code",
   "execution_count": 28,
   "id": "619276ff",
   "metadata": {},
   "outputs": [],
   "source": [
    "num  = 7\n",
    "Fact = 1"
   ]
  },
  {
   "cell_type": "code",
   "execution_count": 29,
   "id": "eefd1be9",
   "metadata": {},
   "outputs": [],
   "source": [
    "if num < 0:\n",
    "    print (\"factorial not exist negative value\")"
   ]
  },
  {
   "cell_type": "code",
   "execution_count": 30,
   "id": "94de0191",
   "metadata": {},
   "outputs": [
    {
     "ename": "SyntaxError",
     "evalue": "invalid syntax (Temp/ipykernel_10236/209700470.py, line 3)",
     "output_type": "error",
     "traceback": [
      "\u001b[1;36m  File \u001b[1;32m\"C:\\Users\\COTMAC\\AppData\\Local\\Temp/ipykernel_10236/209700470.py\"\u001b[1;36m, line \u001b[1;32m3\u001b[0m\n\u001b[1;33m    elif num == 0:\u001b[0m\n\u001b[1;37m    ^\u001b[0m\n\u001b[1;31mSyntaxError\u001b[0m\u001b[1;31m:\u001b[0m invalid syntax\n"
     ]
    }
   ],
   "source": [
    "if num < 0:\n",
    "    print (\"factorial not exist negative value\")\n",
    "    elif num == 0:\n",
    "        print(\"fact number is 0\")"
   ]
  },
  {
   "cell_type": "code",
   "execution_count": 31,
   "id": "4daa1f56",
   "metadata": {},
   "outputs": [],
   "source": [
    "num  = 7\n",
    "Fact = 1\n",
    "if num < 0:\n",
    "    print (\"factorial not exist negative value\")"
   ]
  },
  {
   "cell_type": "code",
   "execution_count": 32,
   "id": "3d65270a",
   "metadata": {},
   "outputs": [
    {
     "ename": "SyntaxError",
     "evalue": "invalid syntax (Temp/ipykernel_10236/1959454326.py, line 5)",
     "output_type": "error",
     "traceback": [
      "\u001b[1;36m  File \u001b[1;32m\"C:\\Users\\COTMAC\\AppData\\Local\\Temp/ipykernel_10236/1959454326.py\"\u001b[1;36m, line \u001b[1;32m5\u001b[0m\n\u001b[1;33m    elif num == 0:\u001b[0m\n\u001b[1;37m    ^\u001b[0m\n\u001b[1;31mSyntaxError\u001b[0m\u001b[1;31m:\u001b[0m invalid syntax\n"
     ]
    }
   ],
   "source": [
    "num  = 7\n",
    "Fact = 1\n",
    "if num < 0:\n",
    "    print (\"factorial not exist negative value\")\n",
    "    elif num == 0:"
   ]
  },
  {
   "cell_type": "code",
   "execution_count": 33,
   "id": "19ba2ffe",
   "metadata": {},
   "outputs": [
    {
     "ename": "SyntaxError",
     "evalue": "invalid syntax (Temp/ipykernel_10236/1154315549.py, line 5)",
     "output_type": "error",
     "traceback": [
      "\u001b[1;36m  File \u001b[1;32m\"C:\\Users\\COTMAC\\AppData\\Local\\Temp/ipykernel_10236/1154315549.py\"\u001b[1;36m, line \u001b[1;32m5\u001b[0m\n\u001b[1;33m    elif num == 0:\u001b[0m\n\u001b[1;37m    ^\u001b[0m\n\u001b[1;31mSyntaxError\u001b[0m\u001b[1;31m:\u001b[0m invalid syntax\n"
     ]
    }
   ],
   "source": [
    "num  = int(input(\"Enter a number\"))\n",
    "Fact = 1\n",
    "if num < 0:\n",
    "    print (\"factorial not exist negative value\")\n",
    "    elif num == 0:\n",
    "        print(\"fact number is 0\")\n",
    "        else :\n",
    "        for i in range(1,num + 1):\n",
    "            fact = fact * i\n",
    "            print(\"Factorial\", num, \"is\", fact)"
   ]
  },
  {
   "cell_type": "code",
   "execution_count": 34,
   "id": "e2bea0a5",
   "metadata": {},
   "outputs": [
    {
     "ename": "SyntaxError",
     "evalue": "invalid syntax (Temp/ipykernel_10236/608068273.py, line 5)",
     "output_type": "error",
     "traceback": [
      "\u001b[1;36m  File \u001b[1;32m\"C:\\Users\\COTMAC\\AppData\\Local\\Temp/ipykernel_10236/608068273.py\"\u001b[1;36m, line \u001b[1;32m5\u001b[0m\n\u001b[1;33m    elif num == 0:\u001b[0m\n\u001b[1;37m    ^\u001b[0m\n\u001b[1;31mSyntaxError\u001b[0m\u001b[1;31m:\u001b[0m invalid syntax\n"
     ]
    }
   ],
   "source": [
    "num  = int(input(\"Enter a number\"))\n",
    "Fact = 1\n",
    "if num < 0:\n",
    "    print(\"factorial not exist negative value\")\n",
    "    elif num == 0:\n",
    "        print(\"fact number is 0\")\n",
    "        else :\n",
    "        for i in range(1,num + 1):\n",
    "            fact = fact * i\n",
    "            print(\"Factorial\", num, \"is\", fact)"
   ]
  },
  {
   "cell_type": "code",
   "execution_count": null,
   "id": "428ba506",
   "metadata": {},
   "outputs": [],
   "source": [
    "num  = 6\n",
    "Fact = 1\n",
    "if num < 0:\n",
    "    print(\"factorial not exist negative value\")\n",
    "elif num == 0:\n",
    "    print(\"fact number is 0\")\n",
    "else :\n",
    "    for i in range(1,num + 1):\n",
    "            Fact = Fact * i\n",
    "            print(\"Factorial\", num, \"is\", Fact)"
   ]
  },
  {
   "cell_type": "code",
   "execution_count": null,
   "id": "4c1fd6c9",
   "metadata": {},
   "outputs": [],
   "source": [
    "num  = 6\n",
    "Fact = 1\n",
    "if num < 0:\n",
    "    print(\"factorial not exist negative value\")\n",
    "elif num == 0:\n",
    "    print(\"fact number is 0\")\n",
    "else :\n",
    "    for i in range(1,num + 1):\n",
    "            Fact = Fact * i\n",
    "            print(\"Factorial\", num, \"is\", Fact)"
   ]
  },
  {
   "cell_type": "code",
   "execution_count": null,
   "id": "0d03e3c2",
   "metadata": {},
   "outputs": [],
   "source": [
    "n=int(input(\"Enter Number\"))\n",
    "if (n==0 or n==1)\n",
    "print(n,\"Number is prime or composite\")\n",
    "elif n>1:\n",
    "    for i in range(2,n):\n",
    "        if(n%i == 0):\n",
    "            print(n, \"composite number\")\n",
    "            break\n",
    "            else:\n",
    "                print(n,\"Number is prime\")\n",
    "                else:\n",
    "                    print(\"enter positive number\")\n",
    "                    "
   ]
  },
  {
   "cell_type": "code",
   "execution_count": null,
   "id": "d9f9c12f",
   "metadata": {},
   "outputs": [],
   "source": []
  }
 ],
 "metadata": {
  "kernelspec": {
   "display_name": "Python 3 (ipykernel)",
   "language": "python",
   "name": "python3"
  },
  "language_info": {
   "codemirror_mode": {
    "name": "ipython",
    "version": 3
   },
   "file_extension": ".py",
   "mimetype": "text/x-python",
   "name": "python",
   "nbconvert_exporter": "python",
   "pygments_lexer": "ipython3",
   "version": "3.9.7"
  }
 },
 "nbformat": 4,
 "nbformat_minor": 5
}
