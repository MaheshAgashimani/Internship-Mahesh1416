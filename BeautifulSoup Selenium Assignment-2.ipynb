{
 "cells": [
  {
   "cell_type": "code",
   "execution_count": 2,
   "id": "baaa513d",
   "metadata": {},
   "outputs": [
    {
     "name": "stdout",
     "output_type": "stream",
     "text": [
      "Requirement already satisfied: selenium in c:\\programdata\\anaconda3\\lib\\site-packages (4.3.0)\n",
      "Requirement already satisfied: trio~=0.17 in c:\\programdata\\anaconda3\\lib\\site-packages (from selenium) (0.21.0)\n",
      "Requirement already satisfied: trio-websocket~=0.9 in c:\\programdata\\anaconda3\\lib\\site-packages (from selenium) (0.9.2)\n",
      "Requirement already satisfied: urllib3[secure,socks]~=1.26 in c:\\programdata\\anaconda3\\lib\\site-packages (from selenium) (1.26.7)\n",
      "Requirement already satisfied: cffi>=1.14 in c:\\programdata\\anaconda3\\lib\\site-packages (from trio~=0.17->selenium) (1.14.6)\n",
      "Requirement already satisfied: sortedcontainers in c:\\programdata\\anaconda3\\lib\\site-packages (from trio~=0.17->selenium) (2.4.0)\n",
      "Requirement already satisfied: async-generator>=1.9 in c:\\programdata\\anaconda3\\lib\\site-packages (from trio~=0.17->selenium) (1.10)\n",
      "Requirement already satisfied: attrs>=19.2.0 in c:\\programdata\\anaconda3\\lib\\site-packages (from trio~=0.17->selenium) (21.2.0)\n",
      "Requirement already satisfied: outcome in c:\\programdata\\anaconda3\\lib\\site-packages (from trio~=0.17->selenium) (1.2.0)\n",
      "Requirement already satisfied: sniffio in c:\\programdata\\anaconda3\\lib\\site-packages (from trio~=0.17->selenium) (1.2.0)\n",
      "Requirement already satisfied: idna in c:\\programdata\\anaconda3\\lib\\site-packages (from trio~=0.17->selenium) (3.2)\n",
      "Requirement already satisfied: pycparser in c:\\programdata\\anaconda3\\lib\\site-packages (from cffi>=1.14->trio~=0.17->selenium) (2.20)\n",
      "Requirement already satisfied: wsproto>=0.14 in c:\\programdata\\anaconda3\\lib\\site-packages (from trio-websocket~=0.9->selenium) (1.1.0)\n",
      "Requirement already satisfied: PySocks!=1.5.7,<2.0,>=1.5.6 in c:\\programdata\\anaconda3\\lib\\site-packages (from urllib3[secure,socks]~=1.26->selenium) (1.7.1)\n",
      "Requirement already satisfied: pyOpenSSL>=0.14 in c:\\programdata\\anaconda3\\lib\\site-packages (from urllib3[secure,socks]~=1.26->selenium) (21.0.0)\n",
      "Requirement already satisfied: cryptography>=1.3.4 in c:\\programdata\\anaconda3\\lib\\site-packages (from urllib3[secure,socks]~=1.26->selenium) (3.4.8)\n",
      "Requirement already satisfied: certifi in c:\\programdata\\anaconda3\\lib\\site-packages (from urllib3[secure,socks]~=1.26->selenium) (2021.10.8)\n",
      "Requirement already satisfied: six>=1.5.2 in c:\\programdata\\anaconda3\\lib\\site-packages (from pyOpenSSL>=0.14->urllib3[secure,socks]~=1.26->selenium) (1.16.0)\n",
      "Requirement already satisfied: h11<1,>=0.9.0 in c:\\programdata\\anaconda3\\lib\\site-packages (from wsproto>=0.14->trio-websocket~=0.9->selenium) (0.13.0)\n"
     ]
    }
   ],
   "source": [
    "!pip install selenium"
   ]
  },
  {
   "cell_type": "code",
   "execution_count": 3,
   "id": "61169889",
   "metadata": {},
   "outputs": [],
   "source": [
    "import selenium\n",
    "from selenium import webdriver\n",
    "import pandas as pd\n",
    "import warnings\n",
    "warnings.filterwarnings(\"ignore\")\n",
    "from selenium.webdriver.common.by import By"
   ]
  },
  {
   "cell_type": "code",
   "execution_count": 116,
   "id": "9dd5e4b4",
   "metadata": {},
   "outputs": [],
   "source": [
    "# Q1 Code Finding Data Analyst data\n",
    "# I am not able to access india Naukri.com, so have generated data using https://www.naukrigulf.com.\n",
    "# Because if i have used nakri.com link its automatically redirecting to www.naukrigulf.com.\n",
    "# I have facing in middle east for only naukri.com website\n",
    "# Whichever related to naukri.com questions ,I have solved using https://www.naukrigulf.com & UAE data."
   ]
  },
  {
   "cell_type": "code",
   "execution_count": 117,
   "id": "026247f9",
   "metadata": {},
   "outputs": [],
   "source": [
    "# Connect to webdriver\n",
    "driver = webdriver.Chrome(r'C:\\Users\\COTMAC\\Downloads\\chromedriver_win32\\chromedriver.exe')"
   ]
  },
  {
   "cell_type": "code",
   "execution_count": 118,
   "id": "b8ff83db",
   "metadata": {},
   "outputs": [],
   "source": [
    "url = 'https://www.naukri.com/'\n",
    "driver.get(url)"
   ]
  },
  {
   "cell_type": "code",
   "execution_count": 119,
   "id": "a6fc494c",
   "metadata": {},
   "outputs": [
    {
     "data": {
      "text/plain": [
       "<selenium.webdriver.remote.webelement.WebElement (session=\"79fb9537227e4a42cf52dd1b21c8fbec\", element=\"d299e80c-602d-4b46-a1d1-0422c6daca5a\")>"
      ]
     },
     "execution_count": 119,
     "metadata": {},
     "output_type": "execute_result"
    }
   ],
   "source": [
    "English=driver.find_element(By.XPATH,\"/html/body/div[1]/header/div[1]/div/nav/ul/li[1]/span\")\n",
    "English"
   ]
  },
  {
   "cell_type": "code",
   "execution_count": 120,
   "id": "b7c94592",
   "metadata": {},
   "outputs": [],
   "source": [
    "English.click()"
   ]
  },
  {
   "cell_type": "code",
   "execution_count": 121,
   "id": "299df97b",
   "metadata": {},
   "outputs": [
    {
     "data": {
      "text/plain": [
       "<selenium.webdriver.remote.webelement.WebElement (session=\"79fb9537227e4a42cf52dd1b21c8fbec\", element=\"27552794-0037-450a-bc40-dd7e91196be2\")>"
      ]
     },
     "execution_count": 121,
     "metadata": {},
     "output_type": "execute_result"
    }
   ],
   "source": [
    "search_jobs=driver.find_element(By.XPATH,\"/html/body/div[1]/div[2]/main/div[1]/div[1]/div\")\n",
    "search_jobs"
   ]
  },
  {
   "cell_type": "code",
   "execution_count": 122,
   "id": "78ac5363",
   "metadata": {},
   "outputs": [],
   "source": [
    "search_jobs.click()"
   ]
  },
  {
   "cell_type": "code",
   "execution_count": 123,
   "id": "0cec8ba9",
   "metadata": {},
   "outputs": [
    {
     "data": {
      "text/plain": [
       "<selenium.webdriver.remote.webelement.WebElement (session=\"79fb9537227e4a42cf52dd1b21c8fbec\", element=\"301a7c11-2706-4d68-abf4-3826be6afbda\")>"
      ]
     },
     "execution_count": 123,
     "metadata": {},
     "output_type": "execute_result"
    }
   ],
   "source": [
    "search_jobs1=driver.find_element(By.XPATH,\"/html/body/div[1]/div[2]/div/div/div/div[1]/form/div[1]/input\")\n",
    "search_jobs1"
   ]
  },
  {
   "cell_type": "code",
   "execution_count": 124,
   "id": "969dc814",
   "metadata": {},
   "outputs": [],
   "source": [
    "search_jobs1.send_keys(\"Data Analyst\")"
   ]
  },
  {
   "cell_type": "code",
   "execution_count": 125,
   "id": "294c2de4",
   "metadata": {},
   "outputs": [
    {
     "data": {
      "text/plain": [
       "<selenium.webdriver.remote.webelement.WebElement (session=\"79fb9537227e4a42cf52dd1b21c8fbec\", element=\"4df828fe-4f4e-448a-b52c-9435bd29b504\")>"
      ]
     },
     "execution_count": 125,
     "metadata": {},
     "output_type": "execute_result"
    }
   ],
   "source": [
    "search_Location=driver.find_element(By.XPATH,\"/html/body/div[1]/div[2]/div/div/div/div[1]/form/div[2]/input\")\n",
    "search_Location"
   ]
  },
  {
   "cell_type": "code",
   "execution_count": 126,
   "id": "93e3589d",
   "metadata": {},
   "outputs": [],
   "source": [
    "# I am in out of india so i am not able to search india naukri.com link,its automatically opening naukrigulf website.\n",
    "# So i have searched Saudi Arabia Location\n",
    "\n",
    "search_Location.send_keys(\"UAE\")"
   ]
  },
  {
   "cell_type": "code",
   "execution_count": 127,
   "id": "874e767e",
   "metadata": {},
   "outputs": [
    {
     "data": {
      "text/plain": [
       "<selenium.webdriver.remote.webelement.WebElement (session=\"79fb9537227e4a42cf52dd1b21c8fbec\", element=\"47ee35ec-7258-461c-878f-e307d0dabbe5\")>"
      ]
     },
     "execution_count": 127,
     "metadata": {},
     "output_type": "execute_result"
    }
   ],
   "source": [
    "search_btn=driver.find_element(By.XPATH,\"/html/body/div[1]/div[2]/div/div/div/div[1]/form/input\")\n",
    "search_btn"
   ]
  },
  {
   "cell_type": "code",
   "execution_count": 128,
   "id": "9a30b9d3",
   "metadata": {},
   "outputs": [],
   "source": [
    "search_btn.click()"
   ]
  },
  {
   "cell_type": "code",
   "execution_count": null,
   "id": "2f09247f",
   "metadata": {},
   "outputs": [],
   "source": []
  },
  {
   "cell_type": "code",
   "execution_count": null,
   "id": "6fe08f6b",
   "metadata": {},
   "outputs": [],
   "source": []
  },
  {
   "cell_type": "code",
   "execution_count": 129,
   "id": "e68ec083",
   "metadata": {},
   "outputs": [],
   "source": [
    "Job_Title = driver.find_elements(By.XPATH,'//h2[@class=\"designation-title\"]')"
   ]
  },
  {
   "cell_type": "code",
   "execution_count": 130,
   "id": "a712dfbb",
   "metadata": {},
   "outputs": [
    {
     "data": {
      "text/plain": [
       "30"
      ]
     },
     "execution_count": 130,
     "metadata": {},
     "output_type": "execute_result"
    }
   ],
   "source": [
    "len(Job_Title)"
   ]
  },
  {
   "cell_type": "code",
   "execution_count": 131,
   "id": "94c8a31f",
   "metadata": {},
   "outputs": [],
   "source": [
    "job_titles1=[]\n",
    "for i in Job_Title:\n",
    "    job_titles1.append(i.text)\n",
    "    len(job_titles1)"
   ]
  },
  {
   "cell_type": "code",
   "execution_count": 134,
   "id": "d88d7f10",
   "metadata": {},
   "outputs": [
    {
     "data": {
      "text/plain": [
       "['Data Analyst',\n",
       " 'Data Analyst',\n",
       " 'Data Analyst',\n",
       " 'Data Analyst',\n",
       " 'Data Analyst',\n",
       " 'Processor / Data Analyst / Customer Engagement Coordinator',\n",
       " 'Sr. Data Analyst',\n",
       " 'CRM Data Analyst | Al-Futtaim Digital Retail',\n",
       " 'Data Analyst',\n",
       " 'Data Analyst ( 4-6 Months Contract )']"
      ]
     },
     "execution_count": 134,
     "metadata": {},
     "output_type": "execute_result"
    }
   ],
   "source": [
    "job_titles1[0:10]"
   ]
  },
  {
   "cell_type": "code",
   "execution_count": 135,
   "id": "38596f98",
   "metadata": {},
   "outputs": [],
   "source": [
    "Job_Company_Name = driver.find_elements(By.XPATH,'//a[@class=\"info-org\"]')"
   ]
  },
  {
   "cell_type": "code",
   "execution_count": 136,
   "id": "e786c970",
   "metadata": {},
   "outputs": [
    {
     "data": {
      "text/plain": [
       "21"
      ]
     },
     "execution_count": 136,
     "metadata": {},
     "output_type": "execute_result"
    }
   ],
   "source": [
    "len(Job_Company_Name)"
   ]
  },
  {
   "cell_type": "code",
   "execution_count": 137,
   "id": "1d64753e",
   "metadata": {},
   "outputs": [],
   "source": [
    "Job_Company_Name1=[]\n",
    "for i in Job_Company_Name:\n",
    "    Job_Company_Name1.append(i.text)\n",
    "    len(Job_Company_Name1)"
   ]
  },
  {
   "cell_type": "code",
   "execution_count": 138,
   "id": "eaad18b0",
   "metadata": {},
   "outputs": [
    {
     "data": {
      "text/plain": [
       "['Robt Stone (ME) LLC',\n",
       " 'NEST Employment Services LLC',\n",
       " 'TASC Outsourcing',\n",
       " 'DULSCO LLC',\n",
       " 'Deriv Services Ltd',\n",
       " 'Smart Technology Services DWC LLC',\n",
       " 'MELODICA MUSIC CENTER LLC',\n",
       " 'Al Futtaim Private Company (LLC)',\n",
       " 'PEGASUS EDUSOLUTIONS',\n",
       " 'TASC Outsourcing']"
      ]
     },
     "execution_count": 138,
     "metadata": {},
     "output_type": "execute_result"
    }
   ],
   "source": [
    "Job_Company_Name1[0:10]"
   ]
  },
  {
   "cell_type": "code",
   "execution_count": 139,
   "id": "5a469e99",
   "metadata": {},
   "outputs": [],
   "source": [
    "Job_Company_Exp = driver.find_elements(By.XPATH,'//li[@class=\"info-exp \"]')"
   ]
  },
  {
   "cell_type": "code",
   "execution_count": 140,
   "id": "db2fa9e7",
   "metadata": {},
   "outputs": [
    {
     "data": {
      "text/plain": [
       "16"
      ]
     },
     "execution_count": 140,
     "metadata": {},
     "output_type": "execute_result"
    }
   ],
   "source": [
    "len(Job_Company_Exp)"
   ]
  },
  {
   "cell_type": "code",
   "execution_count": 141,
   "id": "44094263",
   "metadata": {},
   "outputs": [],
   "source": [
    "Job_Company_Exp1=[]\n",
    "for i in Job_Company_Exp:\n",
    "    Job_Company_Exp1.append(i.text)\n",
    "    len(Job_Company_Exp1)"
   ]
  },
  {
   "cell_type": "code",
   "execution_count": 142,
   "id": "77c5e22e",
   "metadata": {},
   "outputs": [
    {
     "data": {
      "text/plain": [
       "['5 - 10 Years',\n",
       " '4 - 8 Years',\n",
       " '3 - 8 Years',\n",
       " '2 - 8 Years',\n",
       " '4 - 5 Years',\n",
       " '1 - 3 Years',\n",
       " '1 - 6 Years',\n",
       " '4 - 9 Years',\n",
       " '1 - 3 Years',\n",
       " '2 - 8 Years']"
      ]
     },
     "execution_count": 142,
     "metadata": {},
     "output_type": "execute_result"
    }
   ],
   "source": [
    "Job_Company_Exp1[0:10]"
   ]
  },
  {
   "cell_type": "code",
   "execution_count": 143,
   "id": "1f8bf7b3",
   "metadata": {},
   "outputs": [],
   "source": [
    "Job_Company_Location = driver.find_elements(By.XPATH,'//li[@class=\"info-loc \"]')"
   ]
  },
  {
   "cell_type": "code",
   "execution_count": 144,
   "id": "f12406a1",
   "metadata": {},
   "outputs": [
    {
     "data": {
      "text/plain": [
       "16"
      ]
     },
     "execution_count": 144,
     "metadata": {},
     "output_type": "execute_result"
    }
   ],
   "source": [
    "len(Job_Company_Location)"
   ]
  },
  {
   "cell_type": "code",
   "execution_count": 145,
   "id": "84d69521",
   "metadata": {},
   "outputs": [],
   "source": [
    "Job_Company_Location1=[]\n",
    "for i in Job_Company_Location:\n",
    "    Job_Company_Location1.append(i.text)\n",
    "    len(Job_Company_Location1)"
   ]
  },
  {
   "cell_type": "code",
   "execution_count": 146,
   "id": "34dc8737",
   "metadata": {},
   "outputs": [
    {
     "data": {
      "text/plain": [
       "['Abu Dhabi , Habshan - United Arab Emirates',\n",
       " 'Dubai - United Arab Emirates',\n",
       " 'Dubai - United Arab Emirates',\n",
       " 'Dubai - United Arab Emirates',\n",
       " 'Dubai - United Arab Emirates',\n",
       " 'Dubai - United Arab Emirates',\n",
       " 'Dubai - United Arab Emirates',\n",
       " 'UAE - United Arab Emirates',\n",
       " 'Dubai - United Arab Emirates',\n",
       " 'UAE - United Arab Emirates']"
      ]
     },
     "execution_count": 146,
     "metadata": {},
     "output_type": "execute_result"
    }
   ],
   "source": [
    "Job_Company_Location1[0:10]"
   ]
  },
  {
   "cell_type": "code",
   "execution_count": 150,
   "id": "8c7aeef0",
   "metadata": {},
   "outputs": [
    {
     "data": {
      "text/plain": [
       "(30, 21, 16, 16)"
      ]
     },
     "execution_count": 150,
     "metadata": {},
     "output_type": "execute_result"
    }
   ],
   "source": [
    "len(job_titles1),len(Job_Company_Name1),len(Job_Company_Exp1),len(Job_Company_Location1)"
   ]
  },
  {
   "cell_type": "code",
   "execution_count": 218,
   "id": "6ffbb0a6",
   "metadata": {},
   "outputs": [
    {
     "data": {
      "text/html": [
       "<div>\n",
       "<style scoped>\n",
       "    .dataframe tbody tr th:only-of-type {\n",
       "        vertical-align: middle;\n",
       "    }\n",
       "\n",
       "    .dataframe tbody tr th {\n",
       "        vertical-align: top;\n",
       "    }\n",
       "\n",
       "    .dataframe thead th {\n",
       "        text-align: right;\n",
       "    }\n",
       "</style>\n",
       "<table border=\"1\" class=\"dataframe\">\n",
       "  <thead>\n",
       "    <tr style=\"text-align: right;\">\n",
       "      <th></th>\n",
       "      <th>Job Title</th>\n",
       "      <th>Company Name</th>\n",
       "      <th>Job Location</th>\n",
       "      <th>Job Experience</th>\n",
       "    </tr>\n",
       "  </thead>\n",
       "  <tbody>\n",
       "    <tr>\n",
       "      <th>0</th>\n",
       "      <td>Data Analyst</td>\n",
       "      <td>Robt Stone (ME) LLC</td>\n",
       "      <td>Abu Dhabi , Habshan - United Arab Emirates</td>\n",
       "      <td>5 - 10 Years</td>\n",
       "    </tr>\n",
       "    <tr>\n",
       "      <th>1</th>\n",
       "      <td>Data Analyst</td>\n",
       "      <td>NEST Employment Services LLC</td>\n",
       "      <td>Dubai - United Arab Emirates</td>\n",
       "      <td>4 - 8 Years</td>\n",
       "    </tr>\n",
       "    <tr>\n",
       "      <th>2</th>\n",
       "      <td>Data Analyst</td>\n",
       "      <td>TASC Outsourcing</td>\n",
       "      <td>Dubai - United Arab Emirates</td>\n",
       "      <td>3 - 8 Years</td>\n",
       "    </tr>\n",
       "    <tr>\n",
       "      <th>3</th>\n",
       "      <td>Data Analyst</td>\n",
       "      <td>DULSCO LLC</td>\n",
       "      <td>Dubai - United Arab Emirates</td>\n",
       "      <td>2 - 8 Years</td>\n",
       "    </tr>\n",
       "    <tr>\n",
       "      <th>4</th>\n",
       "      <td>Data Analyst</td>\n",
       "      <td>Deriv Services Ltd</td>\n",
       "      <td>Dubai - United Arab Emirates</td>\n",
       "      <td>4 - 5 Years</td>\n",
       "    </tr>\n",
       "    <tr>\n",
       "      <th>5</th>\n",
       "      <td>Processor / Data Analyst / Customer Engagement...</td>\n",
       "      <td>Smart Technology Services DWC LLC</td>\n",
       "      <td>Dubai - United Arab Emirates</td>\n",
       "      <td>1 - 3 Years</td>\n",
       "    </tr>\n",
       "    <tr>\n",
       "      <th>6</th>\n",
       "      <td>Sr. Data Analyst</td>\n",
       "      <td>MELODICA MUSIC CENTER LLC</td>\n",
       "      <td>Dubai - United Arab Emirates</td>\n",
       "      <td>1 - 6 Years</td>\n",
       "    </tr>\n",
       "    <tr>\n",
       "      <th>7</th>\n",
       "      <td>CRM Data Analyst | Al-Futtaim Digital Retail</td>\n",
       "      <td>Al Futtaim Private Company (LLC)</td>\n",
       "      <td>UAE - United Arab Emirates</td>\n",
       "      <td>4 - 9 Years</td>\n",
       "    </tr>\n",
       "    <tr>\n",
       "      <th>8</th>\n",
       "      <td>Data Analyst</td>\n",
       "      <td>PEGASUS EDUSOLUTIONS</td>\n",
       "      <td>Dubai - United Arab Emirates</td>\n",
       "      <td>1 - 3 Years</td>\n",
       "    </tr>\n",
       "    <tr>\n",
       "      <th>9</th>\n",
       "      <td>Data Analyst ( 4-6 Months Contract )</td>\n",
       "      <td>TASC Outsourcing</td>\n",
       "      <td>UAE - United Arab Emirates</td>\n",
       "      <td>2 - 8 Years</td>\n",
       "    </tr>\n",
       "  </tbody>\n",
       "</table>\n",
       "</div>"
      ],
      "text/plain": [
       "                                           Job Title  \\\n",
       "0                                       Data Analyst   \n",
       "1                                       Data Analyst   \n",
       "2                                       Data Analyst   \n",
       "3                                       Data Analyst   \n",
       "4                                       Data Analyst   \n",
       "5  Processor / Data Analyst / Customer Engagement...   \n",
       "6                                   Sr. Data Analyst   \n",
       "7       CRM Data Analyst | Al-Futtaim Digital Retail   \n",
       "8                                       Data Analyst   \n",
       "9               Data Analyst ( 4-6 Months Contract )   \n",
       "\n",
       "                        Company Name  \\\n",
       "0                Robt Stone (ME) LLC   \n",
       "1       NEST Employment Services LLC   \n",
       "2                   TASC Outsourcing   \n",
       "3                         DULSCO LLC   \n",
       "4                 Deriv Services Ltd   \n",
       "5  Smart Technology Services DWC LLC   \n",
       "6          MELODICA MUSIC CENTER LLC   \n",
       "7   Al Futtaim Private Company (LLC)   \n",
       "8               PEGASUS EDUSOLUTIONS   \n",
       "9                   TASC Outsourcing   \n",
       "\n",
       "                                 Job Location Job Experience  \n",
       "0  Abu Dhabi , Habshan - United Arab Emirates   5 - 10 Years  \n",
       "1                Dubai - United Arab Emirates    4 - 8 Years  \n",
       "2                Dubai - United Arab Emirates    3 - 8 Years  \n",
       "3                Dubai - United Arab Emirates    2 - 8 Years  \n",
       "4                Dubai - United Arab Emirates    4 - 5 Years  \n",
       "5                Dubai - United Arab Emirates    1 - 3 Years  \n",
       "6                Dubai - United Arab Emirates    1 - 6 Years  \n",
       "7                  UAE - United Arab Emirates    4 - 9 Years  \n",
       "8                Dubai - United Arab Emirates    1 - 3 Years  \n",
       "9                  UAE - United Arab Emirates    2 - 8 Years  "
      ]
     },
     "execution_count": 218,
     "metadata": {},
     "output_type": "execute_result"
    }
   ],
   "source": [
    "jobs = pd.DataFrame()\n",
    "jobs['Job Title'] = job_titles1[0:10]\n",
    "jobs['Company Name'] = Job_Company_Name1[0:10]\n",
    "jobs['Job Location'] = Job_Company_Location1[0:10]\n",
    "jobs['Job Experience'] = Job_Company_Exp1[0:10]\n",
    "jobs"
   ]
  },
  {
   "cell_type": "code",
   "execution_count": 152,
   "id": "f3581750",
   "metadata": {},
   "outputs": [],
   "source": [
    "# Q2 Code Finding Data Scientist Data"
   ]
  },
  {
   "cell_type": "code",
   "execution_count": 270,
   "id": "ff4b99bb",
   "metadata": {},
   "outputs": [],
   "source": [
    "# Connect to webdriver\n",
    "driver = webdriver.Chrome(r'C:\\Users\\COTMAC\\Downloads\\chromedriver_win32\\chromedriver.exe')"
   ]
  },
  {
   "cell_type": "code",
   "execution_count": 271,
   "id": "f004ab38",
   "metadata": {},
   "outputs": [],
   "source": [
    "url = 'https://www.naukri.com/'\n",
    "driver.get(url)"
   ]
  },
  {
   "cell_type": "code",
   "execution_count": 272,
   "id": "29697865",
   "metadata": {},
   "outputs": [
    {
     "data": {
      "text/plain": [
       "<selenium.webdriver.remote.webelement.WebElement (session=\"9af85a7e81e1cb2a00bb72574630edc7\", element=\"35acc330-464e-4b5c-9653-274a76635722\")>"
      ]
     },
     "execution_count": 272,
     "metadata": {},
     "output_type": "execute_result"
    }
   ],
   "source": [
    "English=driver.find_element(By.XPATH,\"/html/body/div[1]/header/div[1]/div/nav/ul/li[1]/span\")\n",
    "English"
   ]
  },
  {
   "cell_type": "code",
   "execution_count": 273,
   "id": "a31fba16",
   "metadata": {},
   "outputs": [],
   "source": [
    "English.click()"
   ]
  },
  {
   "cell_type": "code",
   "execution_count": 274,
   "id": "dc0de09f",
   "metadata": {},
   "outputs": [
    {
     "data": {
      "text/plain": [
       "<selenium.webdriver.remote.webelement.WebElement (session=\"9af85a7e81e1cb2a00bb72574630edc7\", element=\"45a448da-a37c-4934-ba78-6f4259ba0859\")>"
      ]
     },
     "execution_count": 274,
     "metadata": {},
     "output_type": "execute_result"
    }
   ],
   "source": [
    "search_jobs=driver.find_element(By.XPATH,\"/html/body/div[1]/div[2]/main/div[1]/div[1]/div\")\n",
    "search_jobs"
   ]
  },
  {
   "cell_type": "code",
   "execution_count": 275,
   "id": "81c7a271",
   "metadata": {},
   "outputs": [],
   "source": [
    "search_jobs.click()"
   ]
  },
  {
   "cell_type": "code",
   "execution_count": 276,
   "id": "a10ebcd6",
   "metadata": {},
   "outputs": [
    {
     "data": {
      "text/plain": [
       "<selenium.webdriver.remote.webelement.WebElement (session=\"9af85a7e81e1cb2a00bb72574630edc7\", element=\"cb220030-b7c5-43dd-bf91-ede32889f7fc\")>"
      ]
     },
     "execution_count": 276,
     "metadata": {},
     "output_type": "execute_result"
    }
   ],
   "source": [
    "search_jobs1=driver.find_element(By.XPATH,\"/html/body/div[1]/div[2]/div/div/div/div[1]/form/div[1]/input\")\n",
    "search_jobs1"
   ]
  },
  {
   "cell_type": "code",
   "execution_count": 277,
   "id": "fd0cbfd8",
   "metadata": {},
   "outputs": [],
   "source": [
    "search_jobs1.send_keys(\"Data Scientist\")"
   ]
  },
  {
   "cell_type": "code",
   "execution_count": 278,
   "id": "2b76f48b",
   "metadata": {},
   "outputs": [
    {
     "data": {
      "text/plain": [
       "<selenium.webdriver.remote.webelement.WebElement (session=\"9af85a7e81e1cb2a00bb72574630edc7\", element=\"bfe56f49-3df9-4769-91d9-c83bc6b7d600\")>"
      ]
     },
     "execution_count": 278,
     "metadata": {},
     "output_type": "execute_result"
    }
   ],
   "source": [
    "search_Location=driver.find_element(By.XPATH,\"/html/body/div[1]/div[2]/div/div/div/div[1]/form/div[2]/input\")\n",
    "search_Location"
   ]
  },
  {
   "cell_type": "code",
   "execution_count": 279,
   "id": "66a67c35",
   "metadata": {},
   "outputs": [],
   "source": [
    "search_Location.send_keys(\"UAE\")"
   ]
  },
  {
   "cell_type": "code",
   "execution_count": 280,
   "id": "5909f710",
   "metadata": {},
   "outputs": [
    {
     "data": {
      "text/plain": [
       "<selenium.webdriver.remote.webelement.WebElement (session=\"9af85a7e81e1cb2a00bb72574630edc7\", element=\"b67da7f4-9bac-49ca-b34d-9ba004d4eae4\")>"
      ]
     },
     "execution_count": 280,
     "metadata": {},
     "output_type": "execute_result"
    }
   ],
   "source": [
    "search_btn=driver.find_element(By.XPATH,\"/html/body/div[1]/div[2]/div/div/div/div[1]/form/input\")\n",
    "search_btn"
   ]
  },
  {
   "cell_type": "code",
   "execution_count": 281,
   "id": "808a637c",
   "metadata": {},
   "outputs": [],
   "source": [
    "search_btn.click()"
   ]
  },
  {
   "cell_type": "code",
   "execution_count": 229,
   "id": "4edbf13d",
   "metadata": {},
   "outputs": [],
   "source": [
    "Title_Tags = driver.find_elements(By.XPATH,'//h2[@class=\"designation-title\"]')"
   ]
  },
  {
   "cell_type": "code",
   "execution_count": 230,
   "id": "c30a9d4e",
   "metadata": {},
   "outputs": [
    {
     "data": {
      "text/plain": [
       "18"
      ]
     },
     "execution_count": 230,
     "metadata": {},
     "output_type": "execute_result"
    }
   ],
   "source": [
    "len(Title_Tags)"
   ]
  },
  {
   "cell_type": "code",
   "execution_count": 231,
   "id": "db253e13",
   "metadata": {},
   "outputs": [],
   "source": [
    "job_titles=[]\n",
    "for i in Title_Tags:\n",
    "    job_titles.append(i.text)\n",
    "    len(job_titles)"
   ]
  },
  {
   "cell_type": "code",
   "execution_count": 192,
   "id": "521d7d08",
   "metadata": {},
   "outputs": [
    {
     "data": {
      "text/plain": [
       "['Applied Data Scientist',\n",
       " 'Data Scientist-One Year Renewal contract',\n",
       " 'Lead Data Scientist/Machine Learning Engineer',\n",
       " 'Senior Data Scientist - R/Python',\n",
       " 'Data Scientist',\n",
       " 'Data Scientist',\n",
       " 'Data Scientist',\n",
       " 'Data Scientist',\n",
       " 'Data Scientist',\n",
       " 'LEAD DATA SCIENTIST',\n",
       " 'Chief Marketing Officer',\n",
       " 'Head of Programmatic',\n",
       " 'Machine Learning Engineer',\n",
       " 'Senior Engineer (m/f/x)',\n",
       " 'Engagement Manager - Data Engineering',\n",
       " 'Full Stack Engineer',\n",
       " 'Search Engineering Director',\n",
       " 'Software Development Manager _ Location: Dubai, UAE']"
      ]
     },
     "execution_count": 192,
     "metadata": {},
     "output_type": "execute_result"
    }
   ],
   "source": [
    "job_titles"
   ]
  },
  {
   "cell_type": "code",
   "execution_count": 249,
   "id": "c154a7f5",
   "metadata": {},
   "outputs": [],
   "source": [
    "Company_Name2 = driver.find_elements(By.XPATH,'//p[@class=\"info-org \"]')"
   ]
  },
  {
   "cell_type": "code",
   "execution_count": 250,
   "id": "ce03dc4b",
   "metadata": {},
   "outputs": [
    {
     "data": {
      "text/plain": [
       "9"
      ]
     },
     "execution_count": 250,
     "metadata": {},
     "output_type": "execute_result"
    }
   ],
   "source": [
    "len(Company_Name2)"
   ]
  },
  {
   "cell_type": "code",
   "execution_count": 251,
   "id": "dc608916",
   "metadata": {},
   "outputs": [],
   "source": [
    "job_Company_Name2=[]\n",
    "for i in Company_Name2:\n",
    "    job_Company_Name2.append(i.text)\n",
    "    len(job_Company_Name2)"
   ]
  },
  {
   "cell_type": "code",
   "execution_count": 252,
   "id": "8f10737f",
   "metadata": {},
   "outputs": [
    {
     "data": {
      "text/plain": [
       "['Confidential Company',\n",
       " 'Alef Education',\n",
       " 'MNR Solutions Private Limited',\n",
       " 'Talent Arabia',\n",
       " 'Client of Aventus Global Talent',\n",
       " 'Datailer Technologies',\n",
       " 'Think Markets',\n",
       " 'Wavemaker',\n",
       " 'Pinnacle Infotech']"
      ]
     },
     "execution_count": 252,
     "metadata": {},
     "output_type": "execute_result"
    }
   ],
   "source": [
    "job_Company_Name2"
   ]
  },
  {
   "cell_type": "code",
   "execution_count": 253,
   "id": "f80c8bba",
   "metadata": {},
   "outputs": [
    {
     "data": {
      "text/plain": [
       "9"
      ]
     },
     "execution_count": 253,
     "metadata": {},
     "output_type": "execute_result"
    }
   ],
   "source": [
    "Title_exp2 = driver.find_elements(By.XPATH,'//li[@class=\"info-exp \"]')\n",
    "len(Title_exp2)"
   ]
  },
  {
   "cell_type": "code",
   "execution_count": 254,
   "id": "f2959936",
   "metadata": {},
   "outputs": [],
   "source": [
    "job_exp2=[]\n",
    "for i in Title_exp2:\n",
    "    job_exp2.append(i.text)\n",
    "    len(job_exp2)"
   ]
  },
  {
   "cell_type": "code",
   "execution_count": 255,
   "id": "3e4444af",
   "metadata": {},
   "outputs": [
    {
     "data": {
      "text/plain": [
       "['5 - 7 Years',\n",
       " '3 - 5 Years',\n",
       " '5 - 7 Years',\n",
       " '8 - 15 Years',\n",
       " '5 - 6 Years',\n",
       " '5 - 8 Years',\n",
       " '10 - 11 Years',\n",
       " '2 - 4 Years',\n",
       " '10 - 18 Years']"
      ]
     },
     "execution_count": 255,
     "metadata": {},
     "output_type": "execute_result"
    }
   ],
   "source": [
    "job_exp2"
   ]
  },
  {
   "cell_type": "code",
   "execution_count": 256,
   "id": "468d1e1f",
   "metadata": {},
   "outputs": [
    {
     "data": {
      "text/plain": [
       "9"
      ]
     },
     "execution_count": 256,
     "metadata": {},
     "output_type": "execute_result"
    }
   ],
   "source": [
    "Title_Location2 = driver.find_elements(By.XPATH,'//li[@class=\"info-loc \"]')\n",
    "len(Title_Location2)"
   ]
  },
  {
   "cell_type": "code",
   "execution_count": 257,
   "id": "f2fe7e74",
   "metadata": {},
   "outputs": [],
   "source": [
    "job_Location2=[]\n",
    "for i in Title_Location2:\n",
    "    job_Location2.append(i.text)\n",
    "    len(job_Location2)"
   ]
  },
  {
   "cell_type": "code",
   "execution_count": 258,
   "id": "a25f0ef3",
   "metadata": {},
   "outputs": [
    {
     "data": {
      "text/plain": [
       "['Abu Dhabi - United Arab Emirates',\n",
       " 'Abu Dhabi - United Arab Emirates',\n",
       " 'Dubai - United Arab Emirates',\n",
       " 'Dubai - United Arab Emirates',\n",
       " 'Dubai - United Arab Emirates',\n",
       " 'Abu Dhabi - United Arab Emirates',\n",
       " 'Dubai - United Arab Emirates',\n",
       " 'Dubai - United Arab Emirates',\n",
       " 'Dubai - United Arab Emirates']"
      ]
     },
     "execution_count": 258,
     "metadata": {},
     "output_type": "execute_result"
    }
   ],
   "source": [
    "job_Location2"
   ]
  },
  {
   "cell_type": "code",
   "execution_count": 259,
   "id": "955a48c6",
   "metadata": {},
   "outputs": [
    {
     "data": {
      "text/plain": [
       "(18, 9, 9, 9)"
      ]
     },
     "execution_count": 259,
     "metadata": {},
     "output_type": "execute_result"
    }
   ],
   "source": [
    "len(job_titles),len(job_Company_Name2),len(job_exp2),len(job_Location2)"
   ]
  },
  {
   "cell_type": "code",
   "execution_count": 262,
   "id": "eaa4180f",
   "metadata": {},
   "outputs": [
    {
     "data": {
      "text/html": [
       "<div>\n",
       "<style scoped>\n",
       "    .dataframe tbody tr th:only-of-type {\n",
       "        vertical-align: middle;\n",
       "    }\n",
       "\n",
       "    .dataframe tbody tr th {\n",
       "        vertical-align: top;\n",
       "    }\n",
       "\n",
       "    .dataframe thead th {\n",
       "        text-align: right;\n",
       "    }\n",
       "</style>\n",
       "<table border=\"1\" class=\"dataframe\">\n",
       "  <thead>\n",
       "    <tr style=\"text-align: right;\">\n",
       "      <th></th>\n",
       "      <th>Job Title</th>\n",
       "      <th>Job Company Name</th>\n",
       "      <th>Job Experience</th>\n",
       "      <th>Job Location</th>\n",
       "    </tr>\n",
       "  </thead>\n",
       "  <tbody>\n",
       "    <tr>\n",
       "      <th>0</th>\n",
       "      <td>Data Scientist-One Year Renewal contract</td>\n",
       "      <td>Alef Education</td>\n",
       "      <td>3 - 5 Years</td>\n",
       "      <td>Abu Dhabi - United Arab Emirates</td>\n",
       "    </tr>\n",
       "    <tr>\n",
       "      <th>1</th>\n",
       "      <td>Lead Data Scientist/Machine Learning Engineer</td>\n",
       "      <td>MNR Solutions Private Limited</td>\n",
       "      <td>5 - 7 Years</td>\n",
       "      <td>Dubai - United Arab Emirates</td>\n",
       "    </tr>\n",
       "    <tr>\n",
       "      <th>2</th>\n",
       "      <td>Senior Data Scientist - R/Python</td>\n",
       "      <td>Talent Arabia</td>\n",
       "      <td>8 - 15 Years</td>\n",
       "      <td>Dubai - United Arab Emirates</td>\n",
       "    </tr>\n",
       "    <tr>\n",
       "      <th>3</th>\n",
       "      <td>Data Scientist</td>\n",
       "      <td>Client of Aventus Global Talent</td>\n",
       "      <td>5 - 6 Years</td>\n",
       "      <td>Dubai - United Arab Emirates</td>\n",
       "    </tr>\n",
       "    <tr>\n",
       "      <th>4</th>\n",
       "      <td>Data Scientist</td>\n",
       "      <td>Datailer Technologies</td>\n",
       "      <td>5 - 8 Years</td>\n",
       "      <td>Abu Dhabi - United Arab Emirates</td>\n",
       "    </tr>\n",
       "    <tr>\n",
       "      <th>5</th>\n",
       "      <td>Data Scientist</td>\n",
       "      <td>Think Markets</td>\n",
       "      <td>10 - 11 Years</td>\n",
       "      <td>Dubai - United Arab Emirates</td>\n",
       "    </tr>\n",
       "    <tr>\n",
       "      <th>6</th>\n",
       "      <td>Data Scientist</td>\n",
       "      <td>Wavemaker</td>\n",
       "      <td>2 - 4 Years</td>\n",
       "      <td>Dubai - United Arab Emirates</td>\n",
       "    </tr>\n",
       "    <tr>\n",
       "      <th>7</th>\n",
       "      <td>Data Scientist</td>\n",
       "      <td>Pinnacle Infotech</td>\n",
       "      <td>10 - 18 Years</td>\n",
       "      <td>Dubai - United Arab Emirates</td>\n",
       "    </tr>\n",
       "  </tbody>\n",
       "</table>\n",
       "</div>"
      ],
      "text/plain": [
       "                                       Job Title  \\\n",
       "0       Data Scientist-One Year Renewal contract   \n",
       "1  Lead Data Scientist/Machine Learning Engineer   \n",
       "2               Senior Data Scientist - R/Python   \n",
       "3                                 Data Scientist   \n",
       "4                                 Data Scientist   \n",
       "5                                 Data Scientist   \n",
       "6                                 Data Scientist   \n",
       "7                                 Data Scientist   \n",
       "\n",
       "                  Job Company Name Job Experience  \\\n",
       "0                   Alef Education    3 - 5 Years   \n",
       "1    MNR Solutions Private Limited    5 - 7 Years   \n",
       "2                    Talent Arabia   8 - 15 Years   \n",
       "3  Client of Aventus Global Talent    5 - 6 Years   \n",
       "4            Datailer Technologies    5 - 8 Years   \n",
       "5                    Think Markets  10 - 11 Years   \n",
       "6                        Wavemaker    2 - 4 Years   \n",
       "7                Pinnacle Infotech  10 - 18 Years   \n",
       "\n",
       "                       Job Location  \n",
       "0  Abu Dhabi - United Arab Emirates  \n",
       "1      Dubai - United Arab Emirates  \n",
       "2      Dubai - United Arab Emirates  \n",
       "3      Dubai - United Arab Emirates  \n",
       "4  Abu Dhabi - United Arab Emirates  \n",
       "5      Dubai - United Arab Emirates  \n",
       "6      Dubai - United Arab Emirates  \n",
       "7      Dubai - United Arab Emirates  "
      ]
     },
     "execution_count": 262,
     "metadata": {},
     "output_type": "execute_result"
    }
   ],
   "source": [
    "jobs = pd.DataFrame()\n",
    "jobs['Job Title'] = job_titles[1:9]\n",
    "jobs['Job Company Name'] = job_Company_Name2[1:9]\n",
    "jobs['Job Experience'] = job_exp2[1:9]\n",
    "jobs['Job Location'] = job_Location2[1:9]\n",
    "jobs"
   ]
  },
  {
   "cell_type": "code",
   "execution_count": 263,
   "id": "5c6eb36b",
   "metadata": {},
   "outputs": [],
   "source": [
    "#Q3.Scrap data Scientist location & salary\n",
    "\n",
    "# Due to Naukri.com india website not opening so i did salary check tickmark data for Naukrigulf.com website\n",
    "#In this website Location tab is not availbale so i did only for salary check."
   ]
  },
  {
   "cell_type": "code",
   "execution_count": 282,
   "id": "ef7eeb50",
   "metadata": {},
   "outputs": [],
   "source": [
    "# Connect to webdriver\n",
    "driver = webdriver.Chrome(r'C:\\Users\\COTMAC\\Downloads\\chromedriver_win32\\chromedriver.exe')"
   ]
  },
  {
   "cell_type": "code",
   "execution_count": 283,
   "id": "a1fb480e",
   "metadata": {},
   "outputs": [],
   "source": [
    "url = 'https://www.naukrigulf.com/data-scientist-jobs-in-uae'\n",
    "driver.get(url)"
   ]
  },
  {
   "cell_type": "code",
   "execution_count": 284,
   "id": "2eb432f6",
   "metadata": {},
   "outputs": [
    {
     "data": {
      "text/plain": [
       "<selenium.webdriver.remote.webelement.WebElement (session=\"cb0de589e6813ba95b6b65025ab7791f\", element=\"8db9251e-d472-4ddb-a37a-baac77945ef2\")>"
      ]
     },
     "execution_count": 284,
     "metadata": {},
     "output_type": "execute_result"
    }
   ],
   "source": [
    "English=driver.find_element(By.XPATH,\"/html/body/div[1]/header/div[1]/div/nav/ul/li[1]/span\")\n",
    "English"
   ]
  },
  {
   "cell_type": "code",
   "execution_count": 285,
   "id": "74c94419",
   "metadata": {},
   "outputs": [],
   "source": [
    "English.click()"
   ]
  },
  {
   "cell_type": "code",
   "execution_count": 290,
   "id": "14f3a1fc",
   "metadata": {},
   "outputs": [
    {
     "data": {
      "text/plain": [
       "<selenium.webdriver.remote.webelement.WebElement (session=\"cb0de589e6813ba95b6b65025ab7791f\", element=\"5db4f586-740b-4e4b-abc1-1eff73554a5c\")>"
      ]
     },
     "execution_count": 290,
     "metadata": {},
     "output_type": "execute_result"
    }
   ],
   "source": [
    "Monthly_Sal=driver.find_element(By.XPATH,\"/html/body/div[1]/div[2]/main/div/section[2]/div[1]/form/div[3]/div[6]/span\")\n",
    "Monthly_Sal"
   ]
  },
  {
   "cell_type": "code",
   "execution_count": 291,
   "id": "7526396c",
   "metadata": {},
   "outputs": [],
   "source": [
    "Monthly_Sal.click()"
   ]
  },
  {
   "cell_type": "code",
   "execution_count": 292,
   "id": "a15b187d",
   "metadata": {},
   "outputs": [
    {
     "data": {
      "text/plain": [
       "<selenium.webdriver.remote.webelement.WebElement (session=\"cb0de589e6813ba95b6b65025ab7791f\", element=\"612ec30e-5caf-4999-a023-fc8be5fbc8dc\")>"
      ]
     },
     "execution_count": 292,
     "metadata": {},
     "output_type": "execute_result"
    }
   ],
   "source": [
    "salary_check=driver.find_element(By.XPATH,\"/html/body/div[1]/div[2]/main/div/section[2]/div[1]/form/div[3]/div[6]/ul/li[1]/label/span[2]\")\n",
    "salary_check"
   ]
  },
  {
   "cell_type": "code",
   "execution_count": 293,
   "id": "7fec77a7",
   "metadata": {},
   "outputs": [],
   "source": [
    "salary_check.click()"
   ]
  },
  {
   "cell_type": "code",
   "execution_count": 294,
   "id": "9c74fde5",
   "metadata": {},
   "outputs": [
    {
     "data": {
      "text/plain": [
       "<selenium.webdriver.remote.webelement.WebElement (session=\"cb0de589e6813ba95b6b65025ab7791f\", element=\"cf96ff19-d91a-4bd1-900e-3d890d8e53ad\")>"
      ]
     },
     "execution_count": 294,
     "metadata": {},
     "output_type": "execute_result"
    }
   ],
   "source": [
    "Refine_jobs=driver.find_element(By.XPATH,\"/html/body/div[1]/div[2]/main/div/section[2]/div[1]/form/div[3]/button\")\n",
    "Refine_jobs"
   ]
  },
  {
   "cell_type": "code",
   "execution_count": 295,
   "id": "ff128a92",
   "metadata": {},
   "outputs": [],
   "source": [
    "Refine_jobs.click()"
   ]
  },
  {
   "cell_type": "code",
   "execution_count": null,
   "id": "4ffd2566",
   "metadata": {},
   "outputs": [],
   "source": []
  },
  {
   "cell_type": "code",
   "execution_count": null,
   "id": "f3ba96d9",
   "metadata": {},
   "outputs": [],
   "source": []
  },
  {
   "cell_type": "code",
   "execution_count": null,
   "id": "5dbd6737",
   "metadata": {},
   "outputs": [],
   "source": []
  },
  {
   "cell_type": "code",
   "execution_count": 297,
   "id": "9af9a8e9",
   "metadata": {},
   "outputs": [
    {
     "data": {
      "text/plain": [
       "1"
      ]
     },
     "execution_count": 297,
     "metadata": {},
     "output_type": "execute_result"
    }
   ],
   "source": [
    "Title_Tags3 = driver.find_elements(By.XPATH,'//h2[@class=\"designation-title\"]')\n",
    "len(Title_Tags3)"
   ]
  },
  {
   "cell_type": "code",
   "execution_count": 298,
   "id": "1331c7b7",
   "metadata": {},
   "outputs": [],
   "source": [
    "job_titles3=[]\n",
    "for i in Title_Tags3:\n",
    "    job_titles3.append(i.text)\n",
    "    len(job_titles3)"
   ]
  },
  {
   "cell_type": "code",
   "execution_count": 299,
   "id": "a31d021e",
   "metadata": {},
   "outputs": [
    {
     "data": {
      "text/plain": [
       "['Data Scientist-One Year Renewal contract']"
      ]
     },
     "execution_count": 299,
     "metadata": {},
     "output_type": "execute_result"
    }
   ],
   "source": [
    "job_titles3"
   ]
  },
  {
   "cell_type": "code",
   "execution_count": 300,
   "id": "cf127eec",
   "metadata": {},
   "outputs": [
    {
     "data": {
      "text/plain": [
       "1"
      ]
     },
     "execution_count": 300,
     "metadata": {},
     "output_type": "execute_result"
    }
   ],
   "source": [
    "Title_Company_Name3 = driver.find_elements(By.XPATH,'//p[@class=\"info-org \"]')\n",
    "len(Title_Company_Name3)"
   ]
  },
  {
   "cell_type": "code",
   "execution_count": 302,
   "id": "d3fb8d2d",
   "metadata": {},
   "outputs": [],
   "source": [
    "job_Company_Name3=[]\n",
    "for i in Title_Company_Name3:\n",
    "    job_Company_Name3.append(i.text)\n",
    "    len(job_Company_Name3)"
   ]
  },
  {
   "cell_type": "code",
   "execution_count": 303,
   "id": "aa9181ba",
   "metadata": {},
   "outputs": [
    {
     "data": {
      "text/plain": [
       "['Confidential Company']"
      ]
     },
     "execution_count": 303,
     "metadata": {},
     "output_type": "execute_result"
    }
   ],
   "source": [
    "job_Company_Name3"
   ]
  },
  {
   "cell_type": "code",
   "execution_count": 304,
   "id": "f9ad9531",
   "metadata": {},
   "outputs": [
    {
     "data": {
      "text/plain": [
       "1"
      ]
     },
     "execution_count": 304,
     "metadata": {},
     "output_type": "execute_result"
    }
   ],
   "source": [
    "Title_Exp3 = driver.find_elements(By.XPATH,'//li[@class=\"info-exp \"]')\n",
    "len(Title_Exp3)"
   ]
  },
  {
   "cell_type": "code",
   "execution_count": 306,
   "id": "f687b384",
   "metadata": {},
   "outputs": [],
   "source": [
    "job_Exp3=[]\n",
    "for i in Title_Exp3:\n",
    "    job_Exp3.append(i.text)\n",
    "    len(job_Exp3)"
   ]
  },
  {
   "cell_type": "code",
   "execution_count": 307,
   "id": "4f3700f6",
   "metadata": {},
   "outputs": [
    {
     "data": {
      "text/plain": [
       "['5 - 7 Years']"
      ]
     },
     "execution_count": 307,
     "metadata": {},
     "output_type": "execute_result"
    }
   ],
   "source": [
    "job_Exp3"
   ]
  },
  {
   "cell_type": "code",
   "execution_count": 311,
   "id": "345233e7",
   "metadata": {},
   "outputs": [
    {
     "data": {
      "text/plain": [
       "1"
      ]
     },
     "execution_count": 311,
     "metadata": {},
     "output_type": "execute_result"
    }
   ],
   "source": [
    "Title_Location3 = driver.find_elements(By.XPATH,'//li[@class=\"info-loc \"]')\n",
    "len(Title_Location3)"
   ]
  },
  {
   "cell_type": "code",
   "execution_count": 312,
   "id": "56c949b2",
   "metadata": {},
   "outputs": [],
   "source": [
    "job_Location3=[]\n",
    "for i in Title_Location3:\n",
    "    job_Location3.append(i.text)\n",
    "    len(job_Location3)"
   ]
  },
  {
   "cell_type": "code",
   "execution_count": 313,
   "id": "9e21e7d0",
   "metadata": {},
   "outputs": [
    {
     "data": {
      "text/plain": [
       "['Abu Dhabi - United Arab Emirates']"
      ]
     },
     "execution_count": 313,
     "metadata": {},
     "output_type": "execute_result"
    }
   ],
   "source": [
    "job_Location3"
   ]
  },
  {
   "cell_type": "code",
   "execution_count": 314,
   "id": "ef942378",
   "metadata": {},
   "outputs": [
    {
     "data": {
      "text/plain": [
       "(1, 1, 1, 1)"
      ]
     },
     "execution_count": 314,
     "metadata": {},
     "output_type": "execute_result"
    }
   ],
   "source": [
    "len(job_titles3),len(job_Company_Name3),len(job_Exp3),len(job_Location3)"
   ]
  },
  {
   "cell_type": "code",
   "execution_count": 316,
   "id": "0b8808f1",
   "metadata": {},
   "outputs": [],
   "source": [
    "Jobs = pd.DataFrame()\n",
    "Jobs['Job Title'] = job_titles3\n",
    "Jobs['Job Company Name'] = job_Company_Name3\n",
    "Jobs['Job Experience'] = job_Exp3\n",
    "Jobs['Job Location'] = job_Location3\n"
   ]
  },
  {
   "cell_type": "code",
   "execution_count": 317,
   "id": "156e3de7",
   "metadata": {},
   "outputs": [
    {
     "data": {
      "text/html": [
       "<div>\n",
       "<style scoped>\n",
       "    .dataframe tbody tr th:only-of-type {\n",
       "        vertical-align: middle;\n",
       "    }\n",
       "\n",
       "    .dataframe tbody tr th {\n",
       "        vertical-align: top;\n",
       "    }\n",
       "\n",
       "    .dataframe thead th {\n",
       "        text-align: right;\n",
       "    }\n",
       "</style>\n",
       "<table border=\"1\" class=\"dataframe\">\n",
       "  <thead>\n",
       "    <tr style=\"text-align: right;\">\n",
       "      <th></th>\n",
       "      <th>Job Title</th>\n",
       "      <th>Job Company Name</th>\n",
       "      <th>Job Experience</th>\n",
       "      <th>Job Location</th>\n",
       "    </tr>\n",
       "  </thead>\n",
       "  <tbody>\n",
       "    <tr>\n",
       "      <th>0</th>\n",
       "      <td>Data Scientist-One Year Renewal contract</td>\n",
       "      <td>Confidential Company</td>\n",
       "      <td>5 - 7 Years</td>\n",
       "      <td>Abu Dhabi - United Arab Emirates</td>\n",
       "    </tr>\n",
       "  </tbody>\n",
       "</table>\n",
       "</div>"
      ],
      "text/plain": [
       "                                  Job Title      Job Company Name  \\\n",
       "0  Data Scientist-One Year Renewal contract  Confidential Company   \n",
       "\n",
       "  Job Experience                      Job Location  \n",
       "0    5 - 7 Years  Abu Dhabi - United Arab Emirates  "
      ]
     },
     "execution_count": 317,
     "metadata": {},
     "output_type": "execute_result"
    }
   ],
   "source": [
    "Jobs"
   ]
  },
  {
   "cell_type": "code",
   "execution_count": null,
   "id": "760882f8",
   "metadata": {},
   "outputs": [],
   "source": []
  },
  {
   "cell_type": "code",
   "execution_count": null,
   "id": "0a2a66b9",
   "metadata": {},
   "outputs": [],
   "source": []
  },
  {
   "cell_type": "code",
   "execution_count": 318,
   "id": "361268df",
   "metadata": {},
   "outputs": [],
   "source": [
    "#Q4 FlipKart Data scrap"
   ]
  },
  {
   "cell_type": "code",
   "execution_count": 431,
   "id": "79bc951c",
   "metadata": {},
   "outputs": [],
   "source": [
    "# Connect to webdriver\n",
    "driver = webdriver.Chrome(r'C:\\Users\\COTMAC\\Downloads\\chromedriver_win32\\chromedriver.exe')"
   ]
  },
  {
   "cell_type": "code",
   "execution_count": 432,
   "id": "05dda065",
   "metadata": {},
   "outputs": [],
   "source": [
    "url = 'https://www.flipkart.com/'\n",
    "driver.get(url)"
   ]
  },
  {
   "cell_type": "code",
   "execution_count": 433,
   "id": "b4da9620",
   "metadata": {},
   "outputs": [
    {
     "data": {
      "text/plain": [
       "<selenium.webdriver.remote.webelement.WebElement (session=\"28d608cbf8e6468b71e723c0829a6127\", element=\"feee57ef-9a31-494d-a3c6-1200298283fc\")>"
      ]
     },
     "execution_count": 433,
     "metadata": {},
     "output_type": "execute_result"
    }
   ],
   "source": [
    "Close=driver.find_element(By.XPATH,\"/html/body/div[2]/div/div/button\")\n",
    "Close"
   ]
  },
  {
   "cell_type": "code",
   "execution_count": 434,
   "id": "5abd8927",
   "metadata": {},
   "outputs": [],
   "source": [
    "Close.click()"
   ]
  },
  {
   "cell_type": "code",
   "execution_count": 435,
   "id": "673b9108",
   "metadata": {},
   "outputs": [
    {
     "data": {
      "text/plain": [
       "<selenium.webdriver.remote.webelement.WebElement (session=\"28d608cbf8e6468b71e723c0829a6127\", element=\"abd0d4cf-7e13-43ea-a2ac-214bbb145cf4\")>"
      ]
     },
     "execution_count": 435,
     "metadata": {},
     "output_type": "execute_result"
    }
   ],
   "source": [
    "search_name=driver.find_element(By.XPATH,\"/html/body/div[1]/div/div[1]/div[1]/div[2]/div[2]/form/div/div/input\")\n",
    "search_name"
   ]
  },
  {
   "cell_type": "code",
   "execution_count": 436,
   "id": "ce808f20",
   "metadata": {},
   "outputs": [],
   "source": [
    "search_name.send_keys(\"sunglasses\")"
   ]
  },
  {
   "cell_type": "code",
   "execution_count": 440,
   "id": "dcc43781",
   "metadata": {},
   "outputs": [
    {
     "data": {
      "text/plain": [
       "<selenium.webdriver.remote.webelement.WebElement (session=\"28d608cbf8e6468b71e723c0829a6127\", element=\"db8b219d-5d56-43f1-bd1e-5a9e0e3adc0f\")>"
      ]
     },
     "execution_count": 440,
     "metadata": {},
     "output_type": "execute_result"
    }
   ],
   "source": [
    "search3=driver.find_element(By.XPATH,\"/html/body/div/div/div[1]/div[1]/div[2]/div[2]/form/div/button\")\n",
    "search3"
   ]
  },
  {
   "cell_type": "code",
   "execution_count": 441,
   "id": "a1f2347f",
   "metadata": {},
   "outputs": [],
   "source": [
    "search3.click()"
   ]
  },
  {
   "cell_type": "code",
   "execution_count": null,
   "id": "e7f8ce2f",
   "metadata": {},
   "outputs": [],
   "source": []
  },
  {
   "cell_type": "code",
   "execution_count": 401,
   "id": "4a53944d",
   "metadata": {},
   "outputs": [
    {
     "data": {
      "text/plain": [
       "40"
      ]
     },
     "execution_count": 401,
     "metadata": {},
     "output_type": "execute_result"
    }
   ],
   "source": [
    "Sunglass_Name = driver.find_elements(By.XPATH,'//div[@class=\"_2WkVRV\"]')\n",
    "len(Sunglass_Name)"
   ]
  },
  {
   "cell_type": "code",
   "execution_count": 402,
   "id": "551d74af",
   "metadata": {},
   "outputs": [],
   "source": [
    "Sunglass_Name1=[]\n",
    "for i in Sunglass_Name:\n",
    "    Sunglass_Name1.append(i.text)\n",
    "    len(Sunglass_Name1)"
   ]
  },
  {
   "cell_type": "code",
   "execution_count": 403,
   "id": "14c0de43",
   "metadata": {},
   "outputs": [
    {
     "data": {
      "text/plain": [
       "['VINCENT CHASE',\n",
       " 'GANSTA',\n",
       " 'Fastrack',\n",
       " 'DAHAAZIL',\n",
       " 'New Specs',\n",
       " 'Elligator',\n",
       " 'PIRASO',\n",
       " 'GANSTA',\n",
       " 'Fastrack',\n",
       " 'SRPM',\n",
       " 'PIRASO',\n",
       " 'Sewell',\n",
       " 'PIRASO',\n",
       " 'Fastrack',\n",
       " 'SUNBEE',\n",
       " 'IZAAN MART',\n",
       " 'SUNBEE',\n",
       " 'Lee Topper',\n",
       " 'SHAAH COLLECTIONS',\n",
       " 'ROYAL SON',\n",
       " 'ROZZETTA CRAFT',\n",
       " 'Fastrack',\n",
       " 'Lee Topper',\n",
       " 'ROYAL SON',\n",
       " 'Fastrack',\n",
       " 'PIRASO',\n",
       " 'CRYSTAL CART',\n",
       " 'ROZZETTA CRAFT',\n",
       " 'PIRASO',\n",
       " 'PIRASO',\n",
       " 'Sewell',\n",
       " 'ROYAL SON',\n",
       " 'Fastrack',\n",
       " 'ROZZETTA CRAFT',\n",
       " 'ROZZETTA CRAFT',\n",
       " 'ROYAL SON',\n",
       " 'SHAAH COLLECTIONS',\n",
       " 'PIRASO',\n",
       " 'VINCENT CHASE',\n",
       " 'ROZZETTA CRAFT']"
      ]
     },
     "execution_count": 403,
     "metadata": {},
     "output_type": "execute_result"
    }
   ],
   "source": [
    "Sunglass_Name1"
   ]
  },
  {
   "cell_type": "code",
   "execution_count": 356,
   "id": "83137c8c",
   "metadata": {},
   "outputs": [
    {
     "data": {
      "text/plain": [
       "40"
      ]
     },
     "execution_count": 356,
     "metadata": {},
     "output_type": "execute_result"
    }
   ],
   "source": [
    "Sunglass_Assured = driver.find_elements(By.XPATH,'//a[@class=\"IRpwTa\"]')\n",
    "len(Sunglass_Assured)"
   ]
  },
  {
   "cell_type": "code",
   "execution_count": 358,
   "id": "1e3fa5e1",
   "metadata": {},
   "outputs": [],
   "source": [
    "Sunglass_Assured1=[]\n",
    "for i in Sunglass_Assured:\n",
    "    Sunglass_Assured1.append(i.text)\n",
    "    len(Sunglass_Assured)"
   ]
  },
  {
   "cell_type": "code",
   "execution_count": 359,
   "id": "b1d9258e",
   "metadata": {},
   "outputs": [
    {
     "data": {
      "text/plain": [
       "['UV Protection Rectangular Sunglasses (Free Size)',\n",
       " 'UV Protection, Night Vision, Riding Glasses Wayfarer, W...',\n",
       " 'UV Protection Rectangular Sunglasses (Free Size)',\n",
       " 'UV Protection Round Sunglasses (54)',\n",
       " 'UV Protection Aviator Sunglasses (54)',\n",
       " 'UV Protection Wayfarer Sunglasses (Free Size)',\n",
       " 'UV Protection Wayfarer Sunglasses (50)',\n",
       " 'UV Protection Aviator Sunglasses (58)',\n",
       " 'UV Protection Aviator Sunglasses (54)',\n",
       " 'UV Protection Aviator Sunglasses (Free Size)',\n",
       " 'UV Protection, Polarized, Mirrored Retro Square Sunglas...',\n",
       " 'UV Protection, Polarized Wayfarer Sunglasses (Free Size...',\n",
       " 'UV Protection Cat-eye Sunglasses (Free Size)',\n",
       " 'UV Protection, Polarized, Mirrored Rectangular Sunglass...',\n",
       " 'Polarized, Riding Glasses Sports, Wrap-around Sunglasse...',\n",
       " 'UV Protection Wayfarer Sunglasses (32)',\n",
       " 'Gradient, UV Protection Wayfarer Sunglasses (Free Size)',\n",
       " 'UV Protection Aviator Sunglasses (58)',\n",
       " 'Riding Glasses Wrap-around Sunglasses (Free Size)',\n",
       " 'UV Protection Rectangular Sunglasses (52)',\n",
       " 'Mirrored, Night Vision Oval Sunglasses (Free Size)',\n",
       " 'UV Protection Aviator Sunglasses (54)',\n",
       " 'Mirrored, Night Vision, UV Protection, Riding Glasses S...',\n",
       " 'UV Protection Shield Sunglasses (Free Size)',\n",
       " 'UV Protection Rectangular Sunglasses (Free Size)',\n",
       " 'UV Protection, Gradient Retro Square Sunglasses (Free S...',\n",
       " 'by Lenskart Polarized, UV Protection Cat-eye Sunglasses...',\n",
       " 'UV Protection Over-sized Sunglasses (65)',\n",
       " 'UV Protection Round Sunglasses (Free Size)',\n",
       " 'Polarized Aviator Sunglasses (Free Size)',\n",
       " 'UV Protection Sports Sunglasses (62)',\n",
       " 'Mirrored, UV Protection, Riding Glasses, Others Round S...',\n",
       " 'UV Protection Rectangular Sunglasses (Free Size)',\n",
       " 'UV Protection Aviator Sunglasses (55)',\n",
       " 'Others Wayfarer, Retro Square Sunglasses (50)',\n",
       " 'UV Protection Round Sunglasses (53)',\n",
       " 'UV Protection, Polarized, Mirrored Wayfarer Sunglasses ...',\n",
       " 'UV Protection Retro Square Sunglasses (Free Size)',\n",
       " 'UV Protection Round Sunglasses (54)',\n",
       " 'by Lenskart Polarized, UV Protection Wayfarer Sunglasse...']"
      ]
     },
     "execution_count": 359,
     "metadata": {},
     "output_type": "execute_result"
    }
   ],
   "source": [
    "Sunglass_Assured1"
   ]
  },
  {
   "cell_type": "code",
   "execution_count": 360,
   "id": "e8559cf6",
   "metadata": {},
   "outputs": [
    {
     "data": {
      "text/plain": [
       "40"
      ]
     },
     "execution_count": 360,
     "metadata": {},
     "output_type": "execute_result"
    }
   ],
   "source": [
    "Sunglass_Price = driver.find_elements(By.XPATH,'//a[@class=\"_3bPFwb\"]')\n",
    "len(Sunglass_Price)"
   ]
  },
  {
   "cell_type": "code",
   "execution_count": 362,
   "id": "6ab70c05",
   "metadata": {},
   "outputs": [],
   "source": [
    "Sunglass_Price1=[]\n",
    "for i in Sunglass_Price:\n",
    "    Sunglass_Price1.append(i.text)\n",
    "    len(Sunglass_Price)"
   ]
  },
  {
   "cell_type": "code",
   "execution_count": 365,
   "id": "e33bbff4",
   "metadata": {},
   "outputs": [
    {
     "data": {
      "text/plain": [
       "['₹639₹79920% off',\n",
       " '₹177₹99982% off',\n",
       " '₹264₹2,59989% off',\n",
       " '₹298₹2,49588% off',\n",
       " '₹224₹1,59985% off',\n",
       " '₹719₹99928% off',\n",
       " '₹211₹1,29983% off',\n",
       " '₹359₹2,59986% off',\n",
       " '₹224₹1,59985% off\\nFree delivery',\n",
       " '₹639₹79920% off\\nFree delivery',\n",
       " '₹246₹1,29981% off\\nFree delivery',\n",
       " '₹268₹1,29979% off\\nFree delivery',\n",
       " '₹229₹1,29982% off\\nFree delivery',\n",
       " '₹185₹1,69989% off\\nFree delivery',\n",
       " '₹499₹1,99975% off\\nFree delivery',\n",
       " '₹226₹1,59985% off\\nFree delivery',\n",
       " '₹639₹89928% off\\nFree delivery',\n",
       " '₹1,039₹1,29920% off\\nFree delivery',\n",
       " '₹299₹2,49988% off\\nFree delivery',\n",
       " '₹306₹2,59988% off\\nFree delivery',\n",
       " '₹189₹59968% off\\nFree delivery',\n",
       " '₹246₹1,59984% off\\nFree delivery',\n",
       " '₹265₹1,49982% off\\nFree delivery',\n",
       " '₹719₹89920% off\\nFree delivery',\n",
       " '₹319₹1,49978% off\\nFree delivery',\n",
       " '₹349₹1,99982% off\\nFree delivery',\n",
       " '₹949₹1,99952% off\\nFree delivery',\n",
       " '₹410₹2,59984% off\\nFree delivery',\n",
       " '₹265₹1,29979% off\\nFree delivery',\n",
       " '₹1,009₹1,19915% off\\nFree delivery',\n",
       " '₹326₹1,24573% off\\nFree delivery',\n",
       " '₹299₹1,59981% off\\nFree delivery',\n",
       " '₹219₹99978% off\\nFree delivery',\n",
       " '₹246₹1,59984% off\\nFree delivery',\n",
       " '₹207₹99979% off\\nFree delivery',\n",
       " '₹207₹99879% off\\nFree delivery',\n",
       " '₹268₹1,29979% off\\nFree delivery',\n",
       " '₹499₹2,22577% off\\nFree delivery',\n",
       " '₹214₹99978% off',\n",
       " '₹749₹2,50070% off']"
      ]
     },
     "execution_count": 365,
     "metadata": {},
     "output_type": "execute_result"
    }
   ],
   "source": [
    "Sunglass_Price1"
   ]
  },
  {
   "cell_type": "code",
   "execution_count": 366,
   "id": "904e1413",
   "metadata": {},
   "outputs": [
    {
     "data": {
      "text/plain": [
       "<selenium.webdriver.remote.webelement.WebElement (session=\"04e1b846fcf9645de1815017b2e79069\", element=\"f72bd705-85a2-4c60-8d2e-3d4fff562546\")>"
      ]
     },
     "execution_count": 366,
     "metadata": {},
     "output_type": "execute_result"
    }
   ],
   "source": [
    "Next_Button=driver.find_element(By.XPATH,\"/html/body/div[1]/div/div[3]/div[1]/div[2]/div[12]/div/div/nav/a[11]/span\")\n",
    "Next_Button"
   ]
  },
  {
   "cell_type": "code",
   "execution_count": 368,
   "id": "671e30f0",
   "metadata": {},
   "outputs": [],
   "source": [
    "Next_Button.click()"
   ]
  },
  {
   "cell_type": "code",
   "execution_count": 369,
   "id": "be1d90dc",
   "metadata": {},
   "outputs": [
    {
     "data": {
      "text/plain": [
       "40"
      ]
     },
     "execution_count": 369,
     "metadata": {},
     "output_type": "execute_result"
    }
   ],
   "source": [
    "Sunglass_Name2 = driver.find_elements(By.XPATH,'//div[@class=\"_2WkVRV\"]')\n",
    "len(Sunglass_Name2)"
   ]
  },
  {
   "cell_type": "code",
   "execution_count": 371,
   "id": "f5656091",
   "metadata": {},
   "outputs": [],
   "source": [
    "Sunglass_Name3=[]\n",
    "for i in Sunglass_Name2:\n",
    "    Sunglass_Name3.append(i.text)\n",
    "    len(Sunglass_Name3)"
   ]
  },
  {
   "cell_type": "code",
   "execution_count": 372,
   "id": "d4fdc8d2",
   "metadata": {},
   "outputs": [
    {
     "data": {
      "text/plain": [
       "['Fastrack',\n",
       " 'ROYAL SON',\n",
       " 'PHENOMENAL',\n",
       " 'ROZZETTA CRAFT',\n",
       " 'SRPM',\n",
       " 'ROYAL SON',\n",
       " 'kingsunglasses',\n",
       " 'AISLIN',\n",
       " 'PIRASO',\n",
       " 'kingsunglasses',\n",
       " 'Fastrack',\n",
       " 'ROZZETTA CRAFT',\n",
       " 'CRYSTAL CART',\n",
       " 'Silver Kartz',\n",
       " 'Singco India',\n",
       " 'ROZZETTA CRAFT',\n",
       " 'ROZZETTA CRAFT',\n",
       " 'kingsunglasses',\n",
       " 'DEIXELS',\n",
       " 'Singco India',\n",
       " 'Fastrack',\n",
       " 'Elligator',\n",
       " 'Rich Club',\n",
       " 'ROYAL SON',\n",
       " 'New Specs',\n",
       " 'VINCENT CHASE',\n",
       " 'LIZA ANGEL',\n",
       " 'VINCENT CHASE',\n",
       " 'LIZA ANGEL',\n",
       " 'Fastrack',\n",
       " 'VINCENT CHASE',\n",
       " 'ROZZETTA CRAFT',\n",
       " 'ROYAL SON',\n",
       " 'Singco India',\n",
       " 'ROYAL SON',\n",
       " 'VINCENT CHASE',\n",
       " 'Fastrack',\n",
       " 'Fastrack',\n",
       " 'kingsunglasses',\n",
       " 'GANSTA']"
      ]
     },
     "execution_count": 372,
     "metadata": {},
     "output_type": "execute_result"
    }
   ],
   "source": [
    "Sunglass_Name3"
   ]
  },
  {
   "cell_type": "code",
   "execution_count": 405,
   "id": "d837694e",
   "metadata": {},
   "outputs": [
    {
     "data": {
      "text/plain": [
       "40"
      ]
     },
     "execution_count": 405,
     "metadata": {},
     "output_type": "execute_result"
    }
   ],
   "source": [
    "Sunglass_Assured2 = driver.find_elements(By.XPATH,'//a[@class=\"IRpwTa\"]')\n",
    "len(Sunglass_Assured2)"
   ]
  },
  {
   "cell_type": "code",
   "execution_count": 406,
   "id": "b8237b58",
   "metadata": {},
   "outputs": [],
   "source": [
    "Sunglass_Assured3=[]\n",
    "for i in Sunglass_Assured2:\n",
    "    Sunglass_Assured3.append(i.text)\n",
    "    len(Sunglass_Assured3)"
   ]
  },
  {
   "cell_type": "code",
   "execution_count": 407,
   "id": "1ab224c5",
   "metadata": {},
   "outputs": [
    {
     "data": {
      "text/plain": [
       "['UV Protection Sports Sunglasses (62)',\n",
       " 'Mirrored, UV Protection, Riding Glasses, Others Round S...',\n",
       " 'Polarized Aviator Sunglasses (Free Size)',\n",
       " 'UV Protection Clubmaster Sunglasses (53)',\n",
       " 'UV Protection Rectangular Sunglasses (Free Size)',\n",
       " 'UV Protection Round Sunglasses (53)',\n",
       " 'UV Protection Aviator Sunglasses (55)',\n",
       " 'UV Protection, Gradient Round Sunglasses (Free Size)',\n",
       " 'UV Protection, Polarized, Mirrored Wayfarer Sunglasses ...',\n",
       " 'UV Protection Retro Square Sunglasses (Free Size)',\n",
       " 'UV Protection Round Sunglasses (54)',\n",
       " 'UV Protection Spectacle Sunglasses (Free Size)',\n",
       " 'by Lenskart Polarized, UV Protection Wayfarer Sunglasse...',\n",
       " 'Mirrored Aviator Sunglasses (Free Size)',\n",
       " 'Others Wayfarer, Retro Square Sunglasses (50)',\n",
       " 'UV Protection Aviator Sunglasses (62)',\n",
       " 'Mirrored Aviator Sunglasses (55)',\n",
       " 'UV Protection, Mirrored Aviator Sunglasses (Free Size)',\n",
       " 'UV Protection Aviator Sunglasses (54)',\n",
       " 'Riding Glasses, UV Protection, Others Aviator Sunglasse...',\n",
       " 'UV Protection Retro Square Sunglasses (Free Size)',\n",
       " 'Gradient, UV Protection Wayfarer Sunglasses (Free Size)',\n",
       " 'UV Protection Round Sunglasses (Free Size)',\n",
       " 'by Lenskart Polarized, UV Protection Cat-eye Sunglasses...',\n",
       " 'UV Protection, Riding Glasses, Mirrored Wayfarer Sungla...',\n",
       " 'UV Protection Wayfarer Sunglasses (Free Size)',\n",
       " 'Polarized, UV Protection, Mirrored, Gradient Rectangula...',\n",
       " 'UV Protection Oval Sunglasses (56)',\n",
       " 'Mirrored, UV Protection Wayfarer Sunglasses (Free Size)',\n",
       " 'UV Protection Aviator Sunglasses (Free Size)',\n",
       " 'Gradient, UV Protection Wayfarer Sunglasses (Free Size)',\n",
       " 'UV Protection, Night Vision, Riding Glasses Aviator Sun...',\n",
       " 'Riding Glasses, Night Vision Spectacle Sunglasses (Fre...',\n",
       " 'UV Protection, Gradient Rectangular Sunglasses (Free Si...',\n",
       " 'UV Protection, Mirrored Round Sunglasses (Free Size)',\n",
       " 'UV Protection Aviator Sunglasses (62)',\n",
       " 'Gradient, Toughened Glass Lens, UV Protection Retro Squ...',\n",
       " 'UV Protection, Riding Glasses, Night Vision Spectacle ...',\n",
       " 'UV Protection, Riding Glasses Rectangular, Retro Square...',\n",
       " 'UV Protection Rectangular Sunglasses (52)']"
      ]
     },
     "execution_count": 407,
     "metadata": {},
     "output_type": "execute_result"
    }
   ],
   "source": [
    "Sunglass_Assured3"
   ]
  },
  {
   "cell_type": "code",
   "execution_count": 379,
   "id": "f48eddb1",
   "metadata": {},
   "outputs": [
    {
     "data": {
      "text/plain": [
       "40"
      ]
     },
     "execution_count": 379,
     "metadata": {},
     "output_type": "execute_result"
    }
   ],
   "source": [
    "Sunglass_Price2 = driver.find_elements(By.XPATH,'//a[@class=\"_3bPFwb\"]')\n",
    "len(Sunglass_Price2)"
   ]
  },
  {
   "cell_type": "code",
   "execution_count": 382,
   "id": "52e5d12f",
   "metadata": {},
   "outputs": [],
   "source": [
    "Sunglass_Price3=[]\n",
    "for i in Sunglass_Price2:\n",
    "    Sunglass_Price3.append(i.text)\n",
    "    len(Sunglass_Price3)"
   ]
  },
  {
   "cell_type": "code",
   "execution_count": 383,
   "id": "c950ea15",
   "metadata": {},
   "outputs": [
    {
     "data": {
      "text/plain": [
       "['₹719₹89920% off',\n",
       " '₹379₹1,49974% off',\n",
       " '₹369₹1,99981% off\\nFree delivery',\n",
       " '₹399₹1,99980% off',\n",
       " '₹207₹99979% off',\n",
       " '₹379₹1,49974% off',\n",
       " '₹269₹1,89985% off\\nFree delivery',\n",
       " '₹704₹3,25078% off\\nFree delivery',\n",
       " '₹223₹1,59986% off\\nFree delivery',\n",
       " '₹213₹1,19982% off\\nFree delivery',\n",
       " '₹799₹99920% off\\nFree delivery',\n",
       " '₹399₹1,99980% off\\nFree delivery',\n",
       " '₹529₹2,09974% off\\nFree delivery',\n",
       " '₹288₹1,49980% off\\nFree delivery',\n",
       " '₹629₹3,20080% off\\nFree delivery',\n",
       " '₹649₹2,55574% off\\nFree delivery',\n",
       " '₹399₹1,99980% off\\nFree delivery',\n",
       " '₹265₹1,69984% off\\nFree delivery',\n",
       " '₹236₹1,19980% off\\nFree delivery',\n",
       " '₹220₹1,49985% off\\nFree delivery',\n",
       " '₹719₹89920% off\\nFree delivery',\n",
       " '₹379₹1,49974% off\\nFree delivery',\n",
       " '₹260₹79967% off\\nFree delivery',\n",
       " '₹664₹1,99966% off\\nFree delivery',\n",
       " '₹268₹1,29979% off\\nFree delivery',\n",
       " '₹1,099₹1,99945% off\\nFree delivery',\n",
       " '₹169₹49966% off\\nFree delivery',\n",
       " '₹799₹1,99960% off\\nFree delivery',\n",
       " '₹179₹99982% off\\nFree delivery',\n",
       " '₹639₹79920% off\\nFree delivery',\n",
       " '₹749₹1,99962% off\\nFree delivery',\n",
       " '₹649₹2,55574% off\\nFree delivery',\n",
       " '₹664₹1,99966% off\\nFree delivery',\n",
       " '₹567₹2,99981% off\\nFree delivery',\n",
       " '₹699₹1,99965% off\\nFree delivery',\n",
       " '₹649₹1,99967% off\\nFree delivery',\n",
       " '₹849₹99915% off\\nFree delivery',\n",
       " '₹719₹89920% off\\nFree delivery',\n",
       " '₹189₹1,29985% off\\nFree delivery',\n",
       " '₹314₹1,99984% off\\nFree delivery']"
      ]
     },
     "execution_count": 383,
     "metadata": {},
     "output_type": "execute_result"
    }
   ],
   "source": [
    "Sunglass_Price3"
   ]
  },
  {
   "cell_type": "code",
   "execution_count": 385,
   "id": "d7c0cdd4",
   "metadata": {},
   "outputs": [
    {
     "data": {
      "text/plain": [
       "<selenium.webdriver.remote.webelement.WebElement (session=\"04e1b846fcf9645de1815017b2e79069\", element=\"f72bd705-85a2-4c60-8d2e-3d4fff562546\")>"
      ]
     },
     "execution_count": 385,
     "metadata": {},
     "output_type": "execute_result"
    }
   ],
   "source": [
    "Next_Button1=driver.find_element(By.XPATH,\"/html/body/div[1]/div/div[3]/div[1]/div[2]/div[12]/div/div/nav/a[12]/span\")\n",
    "Next_Button1"
   ]
  },
  {
   "cell_type": "code",
   "execution_count": 386,
   "id": "cf631194",
   "metadata": {},
   "outputs": [],
   "source": [
    "Next_Button1.click()"
   ]
  },
  {
   "cell_type": "code",
   "execution_count": 387,
   "id": "a7f7c83d",
   "metadata": {},
   "outputs": [
    {
     "data": {
      "text/plain": [
       "40"
      ]
     },
     "execution_count": 387,
     "metadata": {},
     "output_type": "execute_result"
    }
   ],
   "source": [
    "Sunglass_Name4 = driver.find_elements(By.XPATH,'//div[@class=\"_2WkVRV\"]')\n",
    "len(Sunglass_Name4)"
   ]
  },
  {
   "cell_type": "code",
   "execution_count": 388,
   "id": "b88e3cb3",
   "metadata": {},
   "outputs": [],
   "source": [
    "Sunglass_Name5=[]\n",
    "for i in Sunglass_Name4:\n",
    "    Sunglass_Name5.append(i.text)\n",
    "    len(Sunglass_Name5)"
   ]
  },
  {
   "cell_type": "code",
   "execution_count": 389,
   "id": "3464a6f2",
   "metadata": {},
   "outputs": [
    {
     "data": {
      "text/plain": [
       "['ROYAL SON',\n",
       " 'Mi',\n",
       " 'Fastrack',\n",
       " 'Singco India',\n",
       " 'Elligator',\n",
       " 'New Specs',\n",
       " 'AISLIN',\n",
       " 'VINCENT CHASE',\n",
       " 'ROYAL SON',\n",
       " 'Roadster',\n",
       " 'LIZA ANGEL',\n",
       " 'ROZZETTA CRAFT',\n",
       " 'Mi',\n",
       " 'ROZZETTA CRAFT',\n",
       " 'ROYAL SON',\n",
       " 'AISLIN',\n",
       " 'kingsunglasses',\n",
       " 'SRPM',\n",
       " 'PIRASO',\n",
       " 'DEIXELS',\n",
       " 'Fastrack',\n",
       " 'Fastrack',\n",
       " 'ROYAL SON',\n",
       " 'ROZZETTA CRAFT',\n",
       " 'HAMIW COLLECTION',\n",
       " 'Fastrack',\n",
       " 'New Specs',\n",
       " 'ROYAL SON',\n",
       " 'VINCENT CHASE',\n",
       " 'kingsunglasses',\n",
       " 'GANSTA',\n",
       " 'VINCENT CHASE',\n",
       " 'VINCENT CHASE',\n",
       " 'Fastrack',\n",
       " 'ROYAL SON',\n",
       " 'Silver Kartz',\n",
       " 'Singco India',\n",
       " 'kingsunglasses',\n",
       " 'kingsunglasses',\n",
       " 'GANSTA']"
      ]
     },
     "execution_count": 389,
     "metadata": {},
     "output_type": "execute_result"
    }
   ],
   "source": [
    "Sunglass_Name5"
   ]
  },
  {
   "cell_type": "code",
   "execution_count": 390,
   "id": "289701e4",
   "metadata": {},
   "outputs": [
    {
     "data": {
      "text/plain": [
       "40"
      ]
     },
     "execution_count": 390,
     "metadata": {},
     "output_type": "execute_result"
    }
   ],
   "source": [
    "Sunglass_Assured4 = driver.find_elements(By.XPATH,'//a[@class=\"IRpwTa\"]')\n",
    "len(Sunglass_Assured4)"
   ]
  },
  {
   "cell_type": "code",
   "execution_count": 391,
   "id": "1b88c03a",
   "metadata": {},
   "outputs": [],
   "source": [
    "Sunglass_Assured5=[]\n",
    "for i in Sunglass_Assured4:\n",
    "    Sunglass_Assured5.append(i.text)\n",
    "    len(Sunglass_Assured5)"
   ]
  },
  {
   "cell_type": "code",
   "execution_count": 392,
   "id": "52832174",
   "metadata": {},
   "outputs": [
    {
     "data": {
      "text/plain": [
       "['Mirrored Aviator Sunglasses (58)',\n",
       " 'Polarized Aviator Sunglasses (Free Size)',\n",
       " 'UV Protection Round Sunglasses (55)',\n",
       " 'Gradient, Toughened Glass Lens, UV Protection Retro Squ...',\n",
       " 'UV Protection Retro Square, Round Sunglasses (54)',\n",
       " 'UV Protection Rectangular Sunglasses (Free Size)',\n",
       " 'UV Protection, Gradient Butterfly, Retro Square Sunglas...',\n",
       " 'by Lenskart Polarized, UV Protection Rectangular Sungla...',\n",
       " 'Mirrored Aviator Sunglasses (55)',\n",
       " 'UV Protection Oval Sunglasses (58)',\n",
       " 'UV Protection, Night Vision, Riding Glasses Round Sungl...',\n",
       " 'UV Protection Spectacle Sunglasses (Free Size)',\n",
       " 'Polarized Wayfarer Sunglasses (Free Size)',\n",
       " 'UV Protection, Gradient Round Sunglasses (Free Size)',\n",
       " 'UV Protection, Gradient Wayfarer Sunglasses (55)',\n",
       " 'UV Protection Wrap-around, Rectangular Sunglasses (56)',\n",
       " 'Mirrored, UV Protection Wayfarer Sunglasses (Free Size)',\n",
       " 'Night Vision, UV Protection Round Sunglasses (54)',\n",
       " 'UV Protection Butterfly Sunglasses (60)',\n",
       " 'UV Protection Aviator Sunglasses (Free Size)',\n",
       " 'UV Protection Shield Sunglasses (Free Size)',\n",
       " 'UV Protection Wayfarer Sunglasses (55)',\n",
       " 'Polarized Rectangular Sunglasses (60)',\n",
       " 'UV Protection Aviator Sunglasses (62)',\n",
       " 'UV Protection Wayfarer, Sports, Shield, Rectangular, Re...',\n",
       " 'UV Protection Aviator Sunglasses (58)',\n",
       " 'UV Protection Aviator Sunglasses (Free Size)',\n",
       " 'UV Protection, Gradient Over-sized Sunglasses (59)',\n",
       " 'by Lenskart Polarized, UV Protection Wayfarer Sunglasse...',\n",
       " 'Mirrored, UV Protection Wayfarer, Rectangular Sunglasse...',\n",
       " 'UV Protection, Riding Glasses Aviator Sunglasses (57)',\n",
       " 'by Lenskart Polarized, UV Protection Cat-eye Sunglasses...',\n",
       " 'by Lenskart Polarized, UV Protection Aviator Sunglasses...',\n",
       " 'UV Protection Sports Sunglasses (Free Size)',\n",
       " 'UV Protection, Gradient Butterfly Sunglasses (52)',\n",
       " 'UV Protection Oval Sunglasses (56)',\n",
       " 'Riding Glasses, UV Protection, Others Aviator Sunglasse...',\n",
       " 'UV Protection Rectangular Sunglasses (55)',\n",
       " 'UV Protection, Night Vision Wayfarer Sunglasses (Free S...',\n",
       " 'UV Protection, Night Vision, Riding Glasses Aviator Sun...']"
      ]
     },
     "execution_count": 392,
     "metadata": {},
     "output_type": "execute_result"
    }
   ],
   "source": [
    "Sunglass_Assured5"
   ]
  },
  {
   "cell_type": "code",
   "execution_count": 393,
   "id": "3e11b90d",
   "metadata": {},
   "outputs": [
    {
     "data": {
      "text/plain": [
       "40"
      ]
     },
     "execution_count": 393,
     "metadata": {},
     "output_type": "execute_result"
    }
   ],
   "source": [
    "Sunglass_Price4 = driver.find_elements(By.XPATH,'//a[@class=\"_3bPFwb\"]')\n",
    "len(Sunglass_Price4)"
   ]
  },
  {
   "cell_type": "code",
   "execution_count": 394,
   "id": "90c4bd7f",
   "metadata": {},
   "outputs": [],
   "source": [
    "Sunglass_Price5=[]\n",
    "for i in Sunglass_Price4:\n",
    "    Sunglass_Price5.append(i.text)\n",
    "    len(Sunglass_Price5)"
   ]
  },
  {
   "cell_type": "code",
   "execution_count": 395,
   "id": "e002dc84",
   "metadata": {},
   "outputs": [
    {
     "data": {
      "text/plain": [
       "['₹379₹1,49974% off\\nFree delivery',\n",
       " '₹949₹1,19920% off\\nFree delivery',\n",
       " '₹979₹9992% off\\nFree delivery',\n",
       " '₹567₹2,99981% off\\nFree delivery',\n",
       " '₹329₹1,99983% off\\nFree delivery',\n",
       " '₹189₹1,59988% off\\nFree delivery',\n",
       " '₹498₹1,52567% off\\nFree delivery',\n",
       " '₹749₹1,99962% off\\nFree delivery',\n",
       " '₹379₹1,49974% off\\nFree delivery',\n",
       " '₹649₹99935% off\\nFree delivery',\n",
       " '₹199₹79975% off\\nFree delivery',\n",
       " '₹399₹1,99980% off\\nFree delivery',\n",
       " '₹849₹99915% off\\nFree delivery',\n",
       " '₹399₹1,99980% off',\n",
       " '₹217₹99978% off\\nFree delivery',\n",
       " '₹845₹3,25074% off\\nFree delivery',\n",
       " '₹269₹1,49982% off\\nFree delivery',\n",
       " '₹233₹99976% off\\nFree delivery',\n",
       " '₹405₹2,59984% off\\nFree delivery',\n",
       " '₹236₹1,19980% off\\nFree delivery',\n",
       " '₹809₹89910% off\\nFree delivery',\n",
       " '₹721₹7999% off\\nFree delivery',\n",
       " '₹664₹1,99966% off\\nFree delivery',\n",
       " '₹649₹2,55574% off\\nFree delivery',\n",
       " '₹219₹1,99989% off\\nFree delivery',\n",
       " '₹1,169₹1,29910% off\\nFree delivery',\n",
       " '₹214₹1,59986% off\\nFree delivery',\n",
       " '₹664₹1,99966% off\\nFree delivery',\n",
       " '₹949₹1,99952% off\\nFree delivery',\n",
       " '₹289₹1,99985% off\\nFree delivery',\n",
       " '₹314₹1,99984% off\\nFree delivery',\n",
       " '₹799₹1,99960% off\\nFree delivery',\n",
       " '₹949₹1,99952% off\\nFree delivery',\n",
       " '₹759₹89915% off\\nFree delivery',\n",
       " '₹664₹1,99966% off\\nFree delivery',\n",
       " '₹314₹1,19973% off\\nFree delivery',\n",
       " '₹220₹1,49985% off\\nFree delivery',\n",
       " '₹269₹1,49982% off\\nFree delivery',\n",
       " '₹299₹1,69982% off\\nFree delivery',\n",
       " '₹314₹1,99984% off\\nFree delivery']"
      ]
     },
     "execution_count": 395,
     "metadata": {},
     "output_type": "execute_result"
    }
   ],
   "source": [
    "Sunglass_Price5"
   ]
  },
  {
   "cell_type": "code",
   "execution_count": 408,
   "id": "c56769b9",
   "metadata": {},
   "outputs": [
    {
     "data": {
      "text/plain": [
       "(40, 40, 40, 40, 40, 40, 40, 40, 40)"
      ]
     },
     "execution_count": 408,
     "metadata": {},
     "output_type": "execute_result"
    }
   ],
   "source": [
    "len(Sunglass_Name1),len(Sunglass_Assured1),len(Sunglass_Price1),len(Sunglass_Name3),len(Sunglass_Assured3),len(Sunglass_Price3),len(Sunglass_Name5),len(Sunglass_Assured5),len(Sunglass_Price5)"
   ]
  },
  {
   "cell_type": "code",
   "execution_count": 1,
   "id": "4552ece6",
   "metadata": {},
   "outputs": [],
   "source": [
    "#Q5. Scrap iphone-11 data\n",
    "# I am not able to scrap data for iphone11.Its giving output '0'.But in inspect if seacrh valuits showing value count.\n",
    "# If possible share me the code for this question"
   ]
  },
  {
   "cell_type": "code",
   "execution_count": 84,
   "id": "95782c41",
   "metadata": {},
   "outputs": [],
   "source": [
    "# Connect to webdriver\n",
    "driver = webdriver.Chrome(r'C:\\Users\\COTMAC\\Downloads\\chromedriver_win32\\chromedriver.exe')"
   ]
  },
  {
   "cell_type": "code",
   "execution_count": 85,
   "id": "24e1eb6e",
   "metadata": {},
   "outputs": [],
   "source": [
    "url = 'https://www.flipkart.com/'\n",
    "driver.get(url)"
   ]
  },
  {
   "cell_type": "code",
   "execution_count": 86,
   "id": "fd1f7375",
   "metadata": {},
   "outputs": [
    {
     "data": {
      "text/plain": [
       "<selenium.webdriver.remote.webelement.WebElement (session=\"a3fa40a48850e6c48fb3a19041429dc6\", element=\"5b58dd99-f52a-4a07-8fc8-6da4aa1666b6\")>"
      ]
     },
     "execution_count": 86,
     "metadata": {},
     "output_type": "execute_result"
    }
   ],
   "source": [
    "Close=driver.find_element(By.XPATH,\"/html/body/div[2]/div/div/button\")\n",
    "Close"
   ]
  },
  {
   "cell_type": "code",
   "execution_count": 87,
   "id": "0b4fcf27",
   "metadata": {},
   "outputs": [],
   "source": [
    "Close.click()"
   ]
  },
  {
   "cell_type": "code",
   "execution_count": 88,
   "id": "df7533c2",
   "metadata": {},
   "outputs": [
    {
     "data": {
      "text/plain": [
       "<selenium.webdriver.remote.webelement.WebElement (session=\"a3fa40a48850e6c48fb3a19041429dc6\", element=\"b76082be-04e0-4c66-a63e-21c51fdef35e\")>"
      ]
     },
     "execution_count": 88,
     "metadata": {},
     "output_type": "execute_result"
    }
   ],
   "source": [
    "search_name=driver.find_element(By.XPATH,\"/html/body/div[1]/div/div[1]/div[1]/div[2]/div[2]/form/div/div/input\")\n",
    "search_name"
   ]
  },
  {
   "cell_type": "code",
   "execution_count": 89,
   "id": "8f3d47ef",
   "metadata": {},
   "outputs": [],
   "source": [
    "search_name.send_keys(\"iphone 11\")"
   ]
  },
  {
   "cell_type": "code",
   "execution_count": 90,
   "id": "b2ff0c81",
   "metadata": {},
   "outputs": [
    {
     "data": {
      "text/plain": [
       "<selenium.webdriver.remote.webelement.WebElement (session=\"a3fa40a48850e6c48fb3a19041429dc6\", element=\"18b1ef19-fdcc-4951-989e-63ec07fdfe5d\")>"
      ]
     },
     "execution_count": 90,
     "metadata": {},
     "output_type": "execute_result"
    }
   ],
   "source": [
    "search4=driver.find_element(By.XPATH,\"/html/body/div/div/div[1]/div[1]/div[2]/div[2]/form/div/button\")\n",
    "search4"
   ]
  },
  {
   "cell_type": "code",
   "execution_count": 93,
   "id": "cac9f2d5",
   "metadata": {},
   "outputs": [],
   "source": [
    "search4.click()"
   ]
  },
  {
   "cell_type": "code",
   "execution_count": 94,
   "id": "77b96b3e",
   "metadata": {},
   "outputs": [
    {
     "data": {
      "text/plain": [
       "<selenium.webdriver.remote.webelement.WebElement (session=\"a3fa40a48850e6c48fb3a19041429dc6\", element=\"ceee1ce7-f0bb-45e5-a310-314ae6bc8041\")>"
      ]
     },
     "execution_count": 94,
     "metadata": {},
     "output_type": "execute_result"
    }
   ],
   "source": [
    "iphone_click=driver.find_element(By.XPATH,\"/html/body/div[1]/div/div[3]/div[1]/div[2]/div[2]/div/div/div/a/div[2]/div[1]/div[1]\")\n",
    "iphone_click"
   ]
  },
  {
   "cell_type": "code",
   "execution_count": 95,
   "id": "f05f59e0",
   "metadata": {},
   "outputs": [],
   "source": [
    "iphone_click.click()"
   ]
  },
  {
   "cell_type": "code",
   "execution_count": 99,
   "id": "fd52d96f",
   "metadata": {},
   "outputs": [
    {
     "data": {
      "text/plain": [
       "24"
      ]
     },
     "execution_count": 99,
     "metadata": {},
     "output_type": "execute_result"
    }
   ],
   "source": [
    "Rating=driver.find_elements(By.XPATH,'//img[@class=\"_1wB99o\"]')\n",
    "len(Rating)"
   ]
  },
  {
   "cell_type": "code",
   "execution_count": 104,
   "id": "0eb802dd",
   "metadata": {},
   "outputs": [
    {
     "ename": "TypeError",
     "evalue": "'WebElement' object is not subscriptable",
     "output_type": "error",
     "traceback": [
      "\u001b[1;31m---------------------------------------------------------------------------\u001b[0m",
      "\u001b[1;31mTypeError\u001b[0m                                 Traceback (most recent call last)",
      "\u001b[1;32m~\\AppData\\Local\\Temp/ipykernel_7780/1065642223.py\u001b[0m in \u001b[0;36m<module>\u001b[1;34m\u001b[0m\n\u001b[0;32m      1\u001b[0m \u001b[0mRating1\u001b[0m\u001b[1;33m=\u001b[0m\u001b[1;33m[\u001b[0m\u001b[1;33m]\u001b[0m\u001b[1;33m\u001b[0m\u001b[1;33m\u001b[0m\u001b[0m\n\u001b[0;32m      2\u001b[0m \u001b[1;32mfor\u001b[0m \u001b[0mi\u001b[0m \u001b[1;32min\u001b[0m \u001b[0mRating\u001b[0m\u001b[1;33m:\u001b[0m\u001b[1;33m\u001b[0m\u001b[1;33m\u001b[0m\u001b[0m\n\u001b[1;32m----> 3\u001b[1;33m     \u001b[0mRating1\u001b[0m\u001b[1;33m.\u001b[0m\u001b[0mappend\u001b[0m\u001b[1;33m(\u001b[0m\u001b[0mi\u001b[0m\u001b[1;33m[\u001b[0m\u001b[1;34m'src'\u001b[0m\u001b[1;33m]\u001b[0m\u001b[1;33m)\u001b[0m\u001b[1;33m\u001b[0m\u001b[1;33m\u001b[0m\u001b[0m\n\u001b[0m\u001b[0;32m      4\u001b[0m     \u001b[0mlen\u001b[0m\u001b[1;33m(\u001b[0m\u001b[0mRating1\u001b[0m\u001b[1;33m)\u001b[0m\u001b[1;33m\u001b[0m\u001b[1;33m\u001b[0m\u001b[0m\n",
      "\u001b[1;31mTypeError\u001b[0m: 'WebElement' object is not subscriptable"
     ]
    }
   ],
   "source": [
    "Rating1=[]\n",
    "for i in Rating:\n",
    "    Rating1.append(i['src'])\n",
    "    len(Rating1)"
   ]
  },
  {
   "cell_type": "code",
   "execution_count": 106,
   "id": "7008ffcc",
   "metadata": {},
   "outputs": [],
   "source": [
    "Rating1=[]\n",
    "for i in Rating:\n",
    "    Rating1.append(i.text)\n",
    "    len(Rating1)"
   ]
  },
  {
   "cell_type": "code",
   "execution_count": 107,
   "id": "0a7cba4f",
   "metadata": {},
   "outputs": [
    {
     "data": {
      "text/plain": [
       "['',\n",
       " '',\n",
       " '',\n",
       " '',\n",
       " '',\n",
       " '',\n",
       " '',\n",
       " '',\n",
       " '',\n",
       " '',\n",
       " '',\n",
       " '',\n",
       " '',\n",
       " '',\n",
       " '',\n",
       " '',\n",
       " '',\n",
       " '',\n",
       " '',\n",
       " '',\n",
       " '',\n",
       " '',\n",
       " '',\n",
       " '']"
      ]
     },
     "execution_count": 107,
     "metadata": {},
     "output_type": "execute_result"
    }
   ],
   "source": [
    "Rating1"
   ]
  },
  {
   "cell_type": "code",
   "execution_count": 105,
   "id": "f9f44b71",
   "metadata": {},
   "outputs": [
    {
     "data": {
      "text/plain": [
       "0"
      ]
     },
     "execution_count": 105,
     "metadata": {},
     "output_type": "execute_result"
    }
   ],
   "source": [
    "Review_Summary = driver.find_elements(By.XPATH,'//p[@class=\"_2-N8zT\"]')\n",
    "len(Review_Summary)"
   ]
  },
  {
   "cell_type": "code",
   "execution_count": null,
   "id": "a5d82105",
   "metadata": {},
   "outputs": [],
   "source": []
  },
  {
   "cell_type": "code",
   "execution_count": 64,
   "id": "e1a89f9d",
   "metadata": {},
   "outputs": [
    {
     "data": {
      "text/plain": [
       "0"
      ]
     },
     "execution_count": 64,
     "metadata": {},
     "output_type": "execute_result"
    }
   ],
   "source": [
    "Full_Review_Summary = driver.find_elements(By.XPATH,'//div[@class=\"t-ZTKy\"]')\n",
    "len(Full_Review_Summary)"
   ]
  },
  {
   "cell_type": "code",
   "execution_count": null,
   "id": "b4488558",
   "metadata": {},
   "outputs": [],
   "source": []
  },
  {
   "cell_type": "code",
   "execution_count": null,
   "id": "5c6a7e6e",
   "metadata": {},
   "outputs": [],
   "source": []
  },
  {
   "cell_type": "code",
   "execution_count": null,
   "id": "14132cf5",
   "metadata": {},
   "outputs": [],
   "source": []
  },
  {
   "cell_type": "code",
   "execution_count": null,
   "id": "cee369c6",
   "metadata": {},
   "outputs": [],
   "source": []
  },
  {
   "cell_type": "code",
   "execution_count": 65,
   "id": "ad37ef33",
   "metadata": {},
   "outputs": [],
   "source": [
    "#Q6. Sneaker shoes data\n",
    "# Connect to webdriver\n",
    "driver = webdriver.Chrome(r'C:\\Users\\COTMAC\\Downloads\\chromedriver_win32\\chromedriver.exe')"
   ]
  },
  {
   "cell_type": "code",
   "execution_count": 66,
   "id": "6e1017a1",
   "metadata": {},
   "outputs": [],
   "source": [
    "url = 'https://www.flipkart.com/'\n",
    "driver.get(url)"
   ]
  },
  {
   "cell_type": "code",
   "execution_count": 67,
   "id": "953762b3",
   "metadata": {},
   "outputs": [
    {
     "data": {
      "text/plain": [
       "<selenium.webdriver.remote.webelement.WebElement (session=\"75393b63168859144e854776b701b93d\", element=\"0e77347d-e253-4da0-812f-c1e174dc841d\")>"
      ]
     },
     "execution_count": 67,
     "metadata": {},
     "output_type": "execute_result"
    }
   ],
   "source": [
    "Close=driver.find_element(By.XPATH,\"/html/body/div[2]/div/div/button\")\n",
    "Close"
   ]
  },
  {
   "cell_type": "code",
   "execution_count": 68,
   "id": "2be3784e",
   "metadata": {},
   "outputs": [],
   "source": [
    "Close.click()"
   ]
  },
  {
   "cell_type": "code",
   "execution_count": 69,
   "id": "9d9eecb4",
   "metadata": {},
   "outputs": [
    {
     "data": {
      "text/plain": [
       "<selenium.webdriver.remote.webelement.WebElement (session=\"75393b63168859144e854776b701b93d\", element=\"3f18d1df-0fd6-4515-bd88-55c0d6158e0f\")>"
      ]
     },
     "execution_count": 69,
     "metadata": {},
     "output_type": "execute_result"
    }
   ],
   "source": [
    "search_name=driver.find_element(By.XPATH,\"/html/body/div[1]/div/div[1]/div[1]/div[2]/div[2]/form/div/div/input\")\n",
    "search_name"
   ]
  },
  {
   "cell_type": "code",
   "execution_count": 70,
   "id": "110ec8fc",
   "metadata": {},
   "outputs": [],
   "source": [
    "search_name.send_keys(\"sneakers\")"
   ]
  },
  {
   "cell_type": "code",
   "execution_count": 71,
   "id": "83e74c9a",
   "metadata": {},
   "outputs": [
    {
     "data": {
      "text/plain": [
       "<selenium.webdriver.remote.webelement.WebElement (session=\"75393b63168859144e854776b701b93d\", element=\"3bb07b97-d932-4c19-8f60-2f656e445b40\")>"
      ]
     },
     "execution_count": 71,
     "metadata": {},
     "output_type": "execute_result"
    }
   ],
   "source": [
    "search5=driver.find_element(By.XPATH,\"/html/body/div/div/div[1]/div[1]/div[2]/div[2]/form/div/button\")\n",
    "search5"
   ]
  },
  {
   "cell_type": "code",
   "execution_count": 72,
   "id": "1b87678f",
   "metadata": {},
   "outputs": [],
   "source": [
    "search5.click()"
   ]
  },
  {
   "cell_type": "code",
   "execution_count": 77,
   "id": "79e36133",
   "metadata": {},
   "outputs": [
    {
     "data": {
      "text/plain": [
       "40"
      ]
     },
     "execution_count": 77,
     "metadata": {},
     "output_type": "execute_result"
    }
   ],
   "source": [
    "Brand = driver.find_elements(By.XPATH,'//div[@class=\"_2WkVRV\"]')\n",
    "len(Brand)"
   ]
  },
  {
   "cell_type": "code",
   "execution_count": 78,
   "id": "4d8fced1",
   "metadata": {},
   "outputs": [],
   "source": [
    "Brand_Name=[]\n",
    "for i in Brand:\n",
    "    Brand_Name.append(i.text)\n",
    "    len(Brand_Name)"
   ]
  },
  {
   "cell_type": "code",
   "execution_count": 79,
   "id": "71ec2fbd",
   "metadata": {},
   "outputs": [
    {
     "data": {
      "text/plain": [
       "['KWIK FIT',\n",
       " 'aadi',\n",
       " 'WOODLAND',\n",
       " 'BRUTON',\n",
       " 'BRUTON',\n",
       " 'Magnolia',\n",
       " 'URBANBOX',\n",
       " 'ROCKFIELD',\n",
       " 'Labbin',\n",
       " 'BIRDE',\n",
       " 'aadi',\n",
       " 'STRANGER BROTHERS',\n",
       " 'BIRDE',\n",
       " 'ONECENTRE',\n",
       " 'PUMA',\n",
       " 'aadi',\n",
       " 'SFR',\n",
       " 'HOTSTYLE',\n",
       " 'corsac',\n",
       " 'Bonexy',\n",
       " 'ASTEROID',\n",
       " 'PEXLO',\n",
       " 'CLYMB',\n",
       " 'ADDOP',\n",
       " 'KWIK FIT',\n",
       " 'Chevit',\n",
       " 'BRUTON',\n",
       " 'ROCKFIELD',\n",
       " 'SCATCHITE',\n",
       " 'BIRDE',\n",
       " 'Kraasa',\n",
       " 'Bonexy',\n",
       " 'Kraasa',\n",
       " 'Kraasa',\n",
       " 'Robbie jones',\n",
       " 'ROCKFIELD',\n",
       " 'Kzaara',\n",
       " 'BIRDE',\n",
       " 'D-SNEAKERZ',\n",
       " 'ROCKFIELD']"
      ]
     },
     "execution_count": 79,
     "metadata": {},
     "output_type": "execute_result"
    }
   ],
   "source": [
    "Brand_Name"
   ]
  },
  {
   "cell_type": "code",
   "execution_count": 80,
   "id": "cf3403db",
   "metadata": {},
   "outputs": [
    {
     "data": {
      "text/plain": [
       "35"
      ]
     },
     "execution_count": 80,
     "metadata": {},
     "output_type": "execute_result"
    }
   ],
   "source": [
    "Product_Desc = driver.find_elements(By.XPATH,'//a[@class=\"IRpwTa\"]')\n",
    "len(Product_Desc)"
   ]
  },
  {
   "cell_type": "code",
   "execution_count": 81,
   "id": "353fd29b",
   "metadata": {},
   "outputs": [],
   "source": [
    "Product_Desc1=[]\n",
    "for i in Product_Desc:\n",
    "    Product_Desc1.append(i.text)\n",
    "    len(Product_Desc1)"
   ]
  },
  {
   "cell_type": "code",
   "execution_count": 82,
   "id": "c6bd9b4d",
   "metadata": {},
   "outputs": [
    {
     "data": {
      "text/plain": [
       "['Sneakers For Men',\n",
       " 'Sneakers For Men',\n",
       " 'Modern Trendy Sneakers Shoes Sneakers For Men',\n",
       " 'Modern Trendy Sneakers Shoes Sneakers For Men',\n",
       " 'Sneakers For Men',\n",
       " 'Sneakers For Men',\n",
       " 'Sneakers For Men',\n",
       " 'Stylish Comfortable Lightweight, Breathable Walking Sho...',\n",
       " 'Sneakers For Men',\n",
       " 'Stylish Comfortable Lightweight, Breathable Walking Sho...',\n",
       " 'STR2 Sneakers For Men',\n",
       " 'Puma Smash v2 L Sneakers For Men',\n",
       " 'Synthetic Leather Sneakers For Men',\n",
       " 'Sneakers For Men',\n",
       " 'Sneakers For Men',\n",
       " 'STYLISH MENS BLACK SNEAKER Sneakers For Men',\n",
       " 'Sneakers For Men',\n",
       " \"Original Luxury Branded Fashionable Men's Casual Walkin...\",\n",
       " 'Combo Pack of 3 Casual Shoes, Sneakers For Men',\n",
       " 'Sneakers For Men',\n",
       " 'Kwik FIT casual sneaker shoes and partywear shoes Casua...',\n",
       " 'Super Stylish & Trendy Combo Pack of 02 Pairs Sneakers ...',\n",
       " 'Sneaker Sneakers For Men',\n",
       " 'Sneakers For Men',\n",
       " 'Sneakers Sneakers For Men',\n",
       " 'Stylish Comfortable Lightweight, Breathable Casual Walk...',\n",
       " 'Shark-41 Sneakers For Men',\n",
       " 'Casuals, Canvas, Partywear Sneakers For Men',\n",
       " 'Series 7 Sneakers For Men',\n",
       " 'Casual Sneakers Canvas Shoes For Men Sneakers For Men',\n",
       " 'Sneakers For Men',\n",
       " 'Sneakers For Men',\n",
       " 'Sports Running Shoes Sneakers For Men',\n",
       " \"Casual , Partywear Sneakers Shoes For Men's And Boys Wh...\",\n",
       " 'Sneakers For Men']"
      ]
     },
     "execution_count": 82,
     "metadata": {},
     "output_type": "execute_result"
    }
   ],
   "source": [
    "Product_Desc1"
   ]
  },
  {
   "cell_type": "code",
   "execution_count": 83,
   "id": "87184997",
   "metadata": {},
   "outputs": [
    {
     "data": {
      "text/plain": [
       "40"
      ]
     },
     "execution_count": 83,
     "metadata": {},
     "output_type": "execute_result"
    }
   ],
   "source": [
    "Price = driver.find_elements(By.XPATH,'//div[@class=\"_30jeq3\"]')\n",
    "len(Price)"
   ]
  },
  {
   "cell_type": "code",
   "execution_count": 84,
   "id": "acdff5a3",
   "metadata": {},
   "outputs": [],
   "source": [
    "Price1=[]\n",
    "for i in Price:\n",
    "    Price1.append(i.text)\n",
    "    len(Price1)"
   ]
  },
  {
   "cell_type": "code",
   "execution_count": 85,
   "id": "3af0df09",
   "metadata": {},
   "outputs": [
    {
     "data": {
      "text/plain": [
       "['₹499',\n",
       " '₹399',\n",
       " '₹2,096',\n",
       " '₹269',\n",
       " '₹299',\n",
       " '₹449',\n",
       " '₹198',\n",
       " '₹474',\n",
       " '₹499',\n",
       " '₹378',\n",
       " '₹319',\n",
       " '₹496',\n",
       " '₹335',\n",
       " '₹299',\n",
       " '₹1,763',\n",
       " '₹479',\n",
       " '₹289',\n",
       " '₹258',\n",
       " '₹499',\n",
       " '₹569',\n",
       " '₹474',\n",
       " '₹561',\n",
       " '₹616',\n",
       " '₹799',\n",
       " '₹397',\n",
       " '₹649',\n",
       " '₹269',\n",
       " '₹569',\n",
       " '₹399',\n",
       " '₹335',\n",
       " '₹479',\n",
       " '₹699',\n",
       " '₹479',\n",
       " '₹479',\n",
       " '₹499',\n",
       " '₹569',\n",
       " '₹259',\n",
       " '₹249',\n",
       " '₹299',\n",
       " '₹699']"
      ]
     },
     "execution_count": 85,
     "metadata": {},
     "output_type": "execute_result"
    }
   ],
   "source": [
    "Price1"
   ]
  },
  {
   "cell_type": "code",
   "execution_count": 86,
   "id": "eb3caa14",
   "metadata": {},
   "outputs": [
    {
     "data": {
      "text/plain": [
       "<selenium.webdriver.remote.webelement.WebElement (session=\"75393b63168859144e854776b701b93d\", element=\"ce3b7c17-7a90-456c-a4a4-beef6289df45\")>"
      ]
     },
     "execution_count": 86,
     "metadata": {},
     "output_type": "execute_result"
    }
   ],
   "source": [
    "Next_Button=driver.find_element(By.XPATH,\"/html/body/div[1]/div/div[3]/div[1]/div[2]/div[12]/div/div/nav/a[11]/span\")\n",
    "Next_Button"
   ]
  },
  {
   "cell_type": "code",
   "execution_count": 87,
   "id": "6ee7c265",
   "metadata": {},
   "outputs": [],
   "source": [
    "Next_Button.click()"
   ]
  },
  {
   "cell_type": "code",
   "execution_count": 91,
   "id": "00c63d9f",
   "metadata": {},
   "outputs": [
    {
     "data": {
      "text/plain": [
       "40"
      ]
     },
     "execution_count": 91,
     "metadata": {},
     "output_type": "execute_result"
    }
   ],
   "source": [
    "Brand2 = driver.find_elements(By.XPATH,'//div[@class=\"_2WkVRV\"]')\n",
    "len(Brand2)"
   ]
  },
  {
   "cell_type": "code",
   "execution_count": 92,
   "id": "41115974",
   "metadata": {},
   "outputs": [],
   "source": [
    "Brand_Name1=[]\n",
    "for i in Brand2:\n",
    "    Brand_Name1.append(i.text)\n",
    "    len(Brand_Name1)"
   ]
  },
  {
   "cell_type": "code",
   "execution_count": 93,
   "id": "cf667519",
   "metadata": {},
   "outputs": [
    {
     "data": {
      "text/plain": [
       "['D-SNEAKERZ',\n",
       " 'BRUTON',\n",
       " 'aadi',\n",
       " 'Numenzo',\n",
       " 'Noztile',\n",
       " 'BRUTON',\n",
       " 'KNIGHT WALKERS',\n",
       " 'luxury fashion',\n",
       " 'PUMA',\n",
       " 'Rzisbo',\n",
       " 'Dizzler',\n",
       " 'TR',\n",
       " 'DUKE',\n",
       " 'Magnolia',\n",
       " 'WHITE WALKERS',\n",
       " 'Numenzo',\n",
       " 'SPARX',\n",
       " 'PUMA',\n",
       " 'Airland',\n",
       " 'HOTSTYLE',\n",
       " 'Shoes Bank',\n",
       " 'Airland',\n",
       " 'Chevit',\n",
       " 'CALCADOS',\n",
       " 'ASTEROID',\n",
       " 'India hub',\n",
       " 'Numenzo',\n",
       " 'STRANGER BROTHERS',\n",
       " 'LE GREEM',\n",
       " 'luxury fashion',\n",
       " 'T-ROCK',\n",
       " 'Bacan',\n",
       " 'Stinson',\n",
       " 'Numenzo',\n",
       " 'URBANBOX',\n",
       " 'Scull Wings',\n",
       " 'ROCKFIELD',\n",
       " 'AMICO',\n",
       " 'aadi',\n",
       " 'SPARX']"
      ]
     },
     "execution_count": 93,
     "metadata": {},
     "output_type": "execute_result"
    }
   ],
   "source": [
    "Brand_Name1"
   ]
  },
  {
   "cell_type": "code",
   "execution_count": 94,
   "id": "d815976c",
   "metadata": {},
   "outputs": [
    {
     "data": {
      "text/plain": [
       "32"
      ]
     },
     "execution_count": 94,
     "metadata": {},
     "output_type": "execute_result"
    }
   ],
   "source": [
    "Product_Desc2 = driver.find_elements(By.XPATH,'//a[@class=\"IRpwTa\"]')\n",
    "len(Product_Desc2)"
   ]
  },
  {
   "cell_type": "code",
   "execution_count": 95,
   "id": "8f597df0",
   "metadata": {},
   "outputs": [],
   "source": [
    "Product_Desc3=[]\n",
    "for i in Product_Desc2:\n",
    "    Product_Desc3.append(i.text)\n",
    "    len(Product_Desc3)"
   ]
  },
  {
   "cell_type": "code",
   "execution_count": 96,
   "id": "68600b2b",
   "metadata": {},
   "outputs": [
    {
     "data": {
      "text/plain": [
       "[\"Casual , Partywear Sneakers Shoes For Men's And Boys Wh...\",\n",
       " 'Lattest Sneakers Shoe Sneakers For Men',\n",
       " 'Sneakers For Men',\n",
       " 'Sneakers For Men',\n",
       " 'Sneakers For Men',\n",
       " 'Lightweight Pack Of 1 Trendy Sneakers Sneakers For Men',\n",
       " 'SS1100 Sneakers For Men',\n",
       " 'Luxury Fashionable casual sneaker shoes Sneakers For Me...',\n",
       " 'Puma Smash v2 L Sneakers For Men',\n",
       " 'Sneakers For Men',\n",
       " 'Sneakers For Men',\n",
       " 'Sneakers For Men',\n",
       " 'Sneakers For Men',\n",
       " 'Stylish & Trending Outdoor Walking Comfortable Sneakers...',\n",
       " 'Sneakers For Men',\n",
       " 'ST Activate V2 Sneakers For Men',\n",
       " '1259 smart black lace-ups sneakers for men Sneakers For...',\n",
       " \"White Sneaker For Men's/Boy's Sneakers For Men\",\n",
       " 'sneaker men red 1258 - 8 Sneakers For Men',\n",
       " \"Men's Combo Pack of 02 Shoes for Men Casual Sneakers Ou...\",\n",
       " 'Original Luxury Branded Black Fancy Casual Walking Part...',\n",
       " 'Luxury Fashionable casual sneaker shoes Sneakers For Me...',\n",
       " 'Sneakers For Men',\n",
       " 'Comfortable & Ultra Light Weight Sneaker Sneakers For M...',\n",
       " 'Luxury Fashionable casual sneaker shoes Sneakers For Me...',\n",
       " 'Stylish Party Wear Casual Sneakers Shoes For Men Sneake...',\n",
       " 'Sneakers For Men',\n",
       " '411 Casual Sneakers For Men',\n",
       " 'Sneakers For Men',\n",
       " 'Sneakers For Men',\n",
       " 'Mesh | Ultralightweight | Comfortable | Breathable Walk...',\n",
       " 'SM-641 Sneakers For Men']"
      ]
     },
     "execution_count": 96,
     "metadata": {},
     "output_type": "execute_result"
    }
   ],
   "source": [
    "Product_Desc3"
   ]
  },
  {
   "cell_type": "code",
   "execution_count": 97,
   "id": "63a7a87a",
   "metadata": {},
   "outputs": [
    {
     "data": {
      "text/plain": [
       "40"
      ]
     },
     "execution_count": 97,
     "metadata": {},
     "output_type": "execute_result"
    }
   ],
   "source": [
    "Price2 = driver.find_elements(By.XPATH,'//div[@class=\"_30jeq3\"]')\n",
    "len(Price2)"
   ]
  },
  {
   "cell_type": "code",
   "execution_count": 98,
   "id": "9aecfc09",
   "metadata": {},
   "outputs": [],
   "source": [
    "Price3=[]\n",
    "for i in Price2:\n",
    "    Price3.append(i.text)\n",
    "    len(Price3)"
   ]
  },
  {
   "cell_type": "code",
   "execution_count": 99,
   "id": "181a0ae4",
   "metadata": {},
   "outputs": [
    {
     "data": {
      "text/plain": [
       "['₹299',\n",
       " '₹269',\n",
       " '₹299',\n",
       " '₹494',\n",
       " '₹399',\n",
       " '₹199',\n",
       " '₹699',\n",
       " '₹379',\n",
       " '₹2,036',\n",
       " '₹521',\n",
       " '₹449',\n",
       " '₹419',\n",
       " '₹1,318',\n",
       " '₹449',\n",
       " '₹599',\n",
       " '₹494',\n",
       " '₹714',\n",
       " '₹1,574',\n",
       " '₹239',\n",
       " '₹195',\n",
       " '₹298',\n",
       " '₹246',\n",
       " '₹466',\n",
       " '₹548',\n",
       " '₹474',\n",
       " '₹397',\n",
       " '₹539',\n",
       " '₹496',\n",
       " '₹499',\n",
       " '₹399',\n",
       " '₹699',\n",
       " '₹526',\n",
       " '₹229',\n",
       " '₹450',\n",
       " '₹179',\n",
       " '₹496',\n",
       " '₹284',\n",
       " '₹549',\n",
       " '₹799',\n",
       " '₹1,218']"
      ]
     },
     "execution_count": 99,
     "metadata": {},
     "output_type": "execute_result"
    }
   ],
   "source": [
    "Price3"
   ]
  },
  {
   "cell_type": "code",
   "execution_count": 100,
   "id": "a449da62",
   "metadata": {},
   "outputs": [
    {
     "data": {
      "text/plain": [
       "<selenium.webdriver.remote.webelement.WebElement (session=\"75393b63168859144e854776b701b93d\", element=\"ce3b7c17-7a90-456c-a4a4-beef6289df45\")>"
      ]
     },
     "execution_count": 100,
     "metadata": {},
     "output_type": "execute_result"
    }
   ],
   "source": [
    "Next_Button1=driver.find_element(By.XPATH,\"/html/body/div[1]/div/div[3]/div[1]/div[2]/div[12]/div/div/nav/a[12]/span\")\n",
    "Next_Button1"
   ]
  },
  {
   "cell_type": "code",
   "execution_count": 101,
   "id": "00cd532f",
   "metadata": {},
   "outputs": [],
   "source": [
    "Next_Button1.click()"
   ]
  },
  {
   "cell_type": "code",
   "execution_count": 102,
   "id": "56c116d0",
   "metadata": {},
   "outputs": [
    {
     "data": {
      "text/plain": [
       "40"
      ]
     },
     "execution_count": 102,
     "metadata": {},
     "output_type": "execute_result"
    }
   ],
   "source": [
    "Brand3 = driver.find_elements(By.XPATH,'//div[@class=\"_2WkVRV\"]')\n",
    "len(Brand3)"
   ]
  },
  {
   "cell_type": "code",
   "execution_count": 103,
   "id": "c93196c9",
   "metadata": {},
   "outputs": [],
   "source": [
    "Brand_Name2=[]\n",
    "for i in Brand3:\n",
    "    Brand_Name2.append(i.text)\n",
    "    len(Brand_Name2)"
   ]
  },
  {
   "cell_type": "code",
   "execution_count": 104,
   "id": "ca08fb12",
   "metadata": {},
   "outputs": [
    {
     "data": {
      "text/plain": [
       "['BIRDE',\n",
       " 'PEXLO',\n",
       " 'WHITE WALKERS',\n",
       " 'Arivo',\n",
       " 'aadi',\n",
       " 'Robbie jones',\n",
       " 'AMICO',\n",
       " 'India hub',\n",
       " 'aadi',\n",
       " 'Eiffel',\n",
       " 'Xtoon',\n",
       " 'LE GREEM',\n",
       " 'KNIGHT WALKERS',\n",
       " 'PUMA',\n",
       " 'Layasa',\n",
       " 'PUMA',\n",
       " 'WHITE WALKERS',\n",
       " 'Roadster',\n",
       " 'Aragats',\n",
       " 'KWIK FIT',\n",
       " 'ADIDAS ORIGINALS',\n",
       " 'PUMA',\n",
       " 'Nobelite',\n",
       " 'Zorth',\n",
       " 'Robbie jones',\n",
       " 'PUMA',\n",
       " 'BRUTON',\n",
       " 'Roadster',\n",
       " 'BRUTON',\n",
       " 'SPARX',\n",
       " 'Magnolia',\n",
       " 'LE GREEM',\n",
       " 'Robbie jones',\n",
       " 'ZF Klub',\n",
       " 'RapidBox',\n",
       " 'SPARX',\n",
       " \"K' Footlance\",\n",
       " 'PUMA',\n",
       " 'U.S. POLO ASSN.',\n",
       " 'AMICO']"
      ]
     },
     "execution_count": 104,
     "metadata": {},
     "output_type": "execute_result"
    }
   ],
   "source": [
    "Brand_Name2"
   ]
  },
  {
   "cell_type": "code",
   "execution_count": 105,
   "id": "2f3da536",
   "metadata": {},
   "outputs": [
    {
     "data": {
      "text/plain": [
       "33"
      ]
     },
     "execution_count": 105,
     "metadata": {},
     "output_type": "execute_result"
    }
   ],
   "source": [
    "Product_Desc4 = driver.find_elements(By.XPATH,'//a[@class=\"IRpwTa\"]')\n",
    "len(Product_Desc4)"
   ]
  },
  {
   "cell_type": "code",
   "execution_count": 106,
   "id": "c879b9a0",
   "metadata": {},
   "outputs": [],
   "source": [
    "Product_Desc5=[]\n",
    "for i in Product_Desc4:\n",
    "    Product_Desc5.append(i.text)\n",
    "    len(Product_Desc5)"
   ]
  },
  {
   "cell_type": "code",
   "execution_count": 107,
   "id": "010e94c9",
   "metadata": {},
   "outputs": [
    {
     "data": {
      "text/plain": [
       "['Stylish Comfortable Lightweight, Breathable Walking Sho...',\n",
       " 'Combo Pack of 3 Casual Shoes Sneakers For Men',\n",
       " 'Stylish & Trending Outdoor Walking Comfortable Sneakers...',\n",
       " 'Sneakers For Men',\n",
       " 'Casual Sneakers White Shoes For Men Sneakers For Men',\n",
       " 'Sneakers For Men',\n",
       " 'Luxury Fashionable casual sneaker shoes Sneakers For Me...',\n",
       " 'Sneakers For Men',\n",
       " \"White casual, gym,training & Running sneakers for men's...\",\n",
       " 'Comfortable & Ultra Light Weight Sneaker Sneakers For M...',\n",
       " 'Brave Sneakers For Men',\n",
       " 'Sneakers For Men',\n",
       " 'Ferrari Electron E Pro Sneakers For Men',\n",
       " 'Stylish & Trending Outdoor Walking Comfortable Sneakers...',\n",
       " 'Sneakers For Men',\n",
       " 'Casual Sneakers For Men',\n",
       " 'SUPERSTAR Sneakers For Men',\n",
       " 'Men & Boys Stylish, Comfortable AirMix Sole for Gyming/...',\n",
       " 'Sneakers For Men',\n",
       " 'R78 Sneakers For Men',\n",
       " 'Combo Pack Of 2 Latest Stylish Casual Shoes for Men Lac...',\n",
       " 'Men Blue Solid Sneakers Sneakers For Men',\n",
       " 'Exclusive Sneaker Shoes Sneakers For Men',\n",
       " 'Sneakers For Men',\n",
       " 'Sneakers For Men',\n",
       " 'Comfortable & Smart Sneakers For Men',\n",
       " 'Sneakers For Men',\n",
       " 'Sneakers For Men',\n",
       " 'SM-322 Sneakers For Men',\n",
       " 'Fashion and Stylish Soft Ultralight Lace Up Sneakers Ca...',\n",
       " 'x KL Denver Sneakers For Men',\n",
       " 'CLARKIN Sneakers For Men',\n",
       " 'Sneakers For Men']"
      ]
     },
     "execution_count": 107,
     "metadata": {},
     "output_type": "execute_result"
    }
   ],
   "source": [
    "Product_Desc5"
   ]
  },
  {
   "cell_type": "code",
   "execution_count": 108,
   "id": "f74e5a92",
   "metadata": {},
   "outputs": [
    {
     "data": {
      "text/plain": [
       "40"
      ]
     },
     "execution_count": 108,
     "metadata": {},
     "output_type": "execute_result"
    }
   ],
   "source": [
    "Price4 = driver.find_elements(By.XPATH,'//div[@class=\"_30jeq3\"]')\n",
    "len(Price4)"
   ]
  },
  {
   "cell_type": "code",
   "execution_count": 109,
   "id": "9bf8831b",
   "metadata": {},
   "outputs": [],
   "source": [
    "Price5=[]\n",
    "for i in Price4:\n",
    "    Price5.append(i.text)\n",
    "    len(Price5)"
   ]
  },
  {
   "cell_type": "code",
   "execution_count": 110,
   "id": "99e634dc",
   "metadata": {},
   "outputs": [
    {
     "data": {
      "text/plain": [
       "['₹419',\n",
       " '₹670',\n",
       " '₹599',\n",
       " '₹599',\n",
       " '₹399',\n",
       " '₹499',\n",
       " '₹521',\n",
       " '₹397',\n",
       " '₹319',\n",
       " '₹388',\n",
       " '₹499',\n",
       " '₹499',\n",
       " '₹699',\n",
       " '₹1,484',\n",
       " '₹399',\n",
       " '₹3,704',\n",
       " '₹599',\n",
       " '₹1,135',\n",
       " '₹521',\n",
       " '₹499',\n",
       " '₹3,849',\n",
       " '₹1,899',\n",
       " '₹398',\n",
       " '₹495',\n",
       " '₹499',\n",
       " '₹2,339',\n",
       " '₹499',\n",
       " '₹1,395',\n",
       " '₹299',\n",
       " '₹725',\n",
       " '₹449',\n",
       " '₹499',\n",
       " '₹499',\n",
       " '₹399',\n",
       " '₹630',\n",
       " '₹824',\n",
       " '₹384',\n",
       " '₹2,279',\n",
       " '₹1,799',\n",
       " '₹549']"
      ]
     },
     "execution_count": 110,
     "metadata": {},
     "output_type": "execute_result"
    }
   ],
   "source": [
    "Price5"
   ]
  },
  {
   "cell_type": "code",
   "execution_count": null,
   "id": "740cdfe5",
   "metadata": {},
   "outputs": [],
   "source": []
  },
  {
   "cell_type": "code",
   "execution_count": 111,
   "id": "2c669c9e",
   "metadata": {},
   "outputs": [],
   "source": [
    "#Q7.scrap Shoes Data\n",
    "# Connect to webdriver\n",
    "driver = webdriver.Chrome(r'C:\\Users\\COTMAC\\Downloads\\chromedriver_win32\\chromedriver.exe')"
   ]
  },
  {
   "cell_type": "code",
   "execution_count": 112,
   "id": "8f272f45",
   "metadata": {},
   "outputs": [],
   "source": [
    "url = 'https://www.myntra.com/shoes/'\n",
    "driver.get(url)"
   ]
  },
  {
   "cell_type": "code",
   "execution_count": 113,
   "id": "9749cb76",
   "metadata": {},
   "outputs": [
    {
     "data": {
      "text/plain": [
       "<selenium.webdriver.remote.webelement.WebElement (session=\"6b26aaee2e9102755fc0bfc2805004bc\", element=\"7a5a310c-d9e1-498a-aec5-c1020567d899\")>"
      ]
     },
     "execution_count": 113,
     "metadata": {},
     "output_type": "execute_result"
    }
   ],
   "source": [
    "Price_Select=driver.find_element(By.XPATH,\"/html/body/div[2]/div/div[1]/main/div[3]/div[1]/section/div/div[5]/ul/li[2]/label\")\n",
    "Price_Select"
   ]
  },
  {
   "cell_type": "code",
   "execution_count": 114,
   "id": "7bc569d4",
   "metadata": {},
   "outputs": [],
   "source": [
    "Price_Select.click()"
   ]
  },
  {
   "cell_type": "code",
   "execution_count": 115,
   "id": "a321dbea",
   "metadata": {},
   "outputs": [
    {
     "data": {
      "text/plain": [
       "<selenium.webdriver.remote.webelement.WebElement (session=\"6b26aaee2e9102755fc0bfc2805004bc\", element=\"ad3063fd-ba7a-4623-9d76-f4a4deeaf2cd\")>"
      ]
     },
     "execution_count": 115,
     "metadata": {},
     "output_type": "execute_result"
    }
   ],
   "source": [
    "Color_Select=driver.find_element(By.XPATH,\"/html/body/div[2]/div/div[1]/main/div[3]/div[1]/section/div/div[6]/ul/li[1]/label/div\")\n",
    "Color_Select"
   ]
  },
  {
   "cell_type": "code",
   "execution_count": 116,
   "id": "8e84edcf",
   "metadata": {},
   "outputs": [],
   "source": [
    "Color_Select.click()"
   ]
  },
  {
   "cell_type": "code",
   "execution_count": 117,
   "id": "2c647a90",
   "metadata": {},
   "outputs": [
    {
     "data": {
      "text/plain": [
       "50"
      ]
     },
     "execution_count": 117,
     "metadata": {},
     "output_type": "execute_result"
    }
   ],
   "source": [
    "Shoe_Title = driver.find_elements(By.XPATH,'//h3[@class=\"product-brand\"]')\n",
    "len(Shoe_Title)"
   ]
  },
  {
   "cell_type": "code",
   "execution_count": 118,
   "id": "593dbf27",
   "metadata": {},
   "outputs": [],
   "source": [
    "Shoe_Title1=[]\n",
    "for i in Shoe_Title:\n",
    "    Shoe_Title1.append(i.text)\n",
    "    len(Shoe_Title1)"
   ]
  },
  {
   "cell_type": "code",
   "execution_count": 119,
   "id": "0b965304",
   "metadata": {},
   "outputs": [
    {
     "data": {
      "text/plain": [
       "['Nike',\n",
       " 'ALDO',\n",
       " 'Hush Puppies',\n",
       " 'ADIDAS',\n",
       " 'Nike',\n",
       " 'Nike',\n",
       " 'Puma',\n",
       " 'Nike',\n",
       " 'UNDER ARMOUR',\n",
       " 'Nike',\n",
       " 'Puma',\n",
       " 'Skechers',\n",
       " 'ADIDAS',\n",
       " 'Geox',\n",
       " 'Puma',\n",
       " 'Skechers',\n",
       " 'ADIDAS',\n",
       " 'Skechers',\n",
       " 'ADIDAS',\n",
       " 'Puma',\n",
       " 'ADIDAS Originals',\n",
       " 'ADIDAS',\n",
       " 'ADIDAS',\n",
       " 'UNDER ARMOUR',\n",
       " 'Geox',\n",
       " 'New Balance',\n",
       " 'ADIDAS',\n",
       " 'Puma',\n",
       " 'Geox',\n",
       " 'PUMA Hoops',\n",
       " 'Saint G',\n",
       " 'Tommy Hilfiger',\n",
       " 'Saint G',\n",
       " 'Hush Puppies',\n",
       " 'Clarks',\n",
       " 'New Balance',\n",
       " 'Puma',\n",
       " 'Columbia',\n",
       " 'Puma',\n",
       " 'Hush Puppies',\n",
       " 'Puma',\n",
       " 'Puma',\n",
       " 'UNDER ARMOUR',\n",
       " 'Puma',\n",
       " 'Saint G',\n",
       " 'ASICS',\n",
       " 'Columbia',\n",
       " 'Geox',\n",
       " 'ADIDAS',\n",
       " 'Hush Puppies']"
      ]
     },
     "execution_count": 119,
     "metadata": {},
     "output_type": "execute_result"
    }
   ],
   "source": [
    "Shoe_Title1"
   ]
  },
  {
   "cell_type": "code",
   "execution_count": 120,
   "id": "d58e4fa5",
   "metadata": {},
   "outputs": [
    {
     "data": {
      "text/plain": [
       "50"
      ]
     },
     "execution_count": 120,
     "metadata": {},
     "output_type": "execute_result"
    }
   ],
   "source": [
    "Shoe_Desc = driver.find_elements(By.XPATH,'//h4[@class=\"product-product\"]')\n",
    "len(Shoe_Desc)"
   ]
  },
  {
   "cell_type": "code",
   "execution_count": 121,
   "id": "6ebead96",
   "metadata": {},
   "outputs": [],
   "source": [
    "Shoe_Desc1=[]\n",
    "for i in Shoe_Desc:\n",
    "    Shoe_Desc1.append(i.text)\n",
    "    len(Shoe_Desc1)"
   ]
  },
  {
   "cell_type": "code",
   "execution_count": 122,
   "id": "af6a4f71",
   "metadata": {},
   "outputs": [
    {
     "data": {
      "text/plain": [
       "['Men React Infinity 3 Running',\n",
       " 'Men Leather Loafers',\n",
       " 'Men Solid Leather Formal Slip-Ons',\n",
       " 'Men Defiant Generation Tennis',\n",
       " 'Men SRG 3 FK Training Shoes',\n",
       " 'Women React Escape Running',\n",
       " 'Unisex TRC Blaze Sneakers',\n",
       " 'Women React MR 3 Running Shoes',\n",
       " 'Men HOVR Sonic SE Running Shoe',\n",
       " 'Women Free Metcon 4 Training',\n",
       " 'Men RS-Z Molded Men Sneakers',\n",
       " 'Men ENIGMA Running Shoes',\n",
       " 'Women Eastrail 2 Hiking Shoes',\n",
       " 'Men Lightweight Sneakers',\n",
       " 'Eternity Nitro Running Shoes',\n",
       " 'Men Sky Vault Walking Shoes',\n",
       " 'Men Solar Glide 4 ST Running',\n",
       " 'Men MAX CUSHIONING ELITE-LUCID',\n",
       " 'Men Supernova 2 Running Shoes',\n",
       " 'Men FUSE Performance Training',\n",
       " 'Men Solid Oznova Sneakers',\n",
       " 'Men Adizero Boston 11 Running',\n",
       " 'Women SL20.3 Running Shoes',\n",
       " 'Women Hovr Sonic SE Run Shoes',\n",
       " 'Men Leather Sneakers',\n",
       " 'Men Woven Design Suede Sneakers',\n",
       " 'Women SN1997 Running Shoes',\n",
       " 'Unisex Wild Rider Sneakers',\n",
       " 'Men Leather Sneakers',\n",
       " 'Men TRC Blaze Basketball Shoes',\n",
       " 'Leather Block',\n",
       " 'Men Solid Sneakers',\n",
       " 'Leather High-Top Heeled Boots',\n",
       " 'Men Formal Derbys',\n",
       " 'Men Leather Slip-Ons',\n",
       " 'Men Woven Design Suede Sneakers',\n",
       " 'Men Deviate Nitro Shoes',\n",
       " 'PEAKFREAK OUTDRY Trekking Shoe',\n",
       " 'Men M Nitro Running Shoess',\n",
       " 'Men Solid Leather Formal Slip-Ons',\n",
       " 'Men Velocity Nitro 2 Running',\n",
       " 'Women Electrify Nitro Running',\n",
       " 'Women Charged Breeze Running',\n",
       " 'Women Eternity NITRO Shoes',\n",
       " 'Leather Ankle Boots',\n",
       " 'Men GEL-Quantum 360 6 Sports',\n",
       " 'Men FACET OUTDRY Trekking Shoe',\n",
       " 'Leather Block Sandals',\n",
       " 'Women KarlieKlossX9000 Running',\n",
       " 'Men Solid Formal Slip-Ons']"
      ]
     },
     "execution_count": 122,
     "metadata": {},
     "output_type": "execute_result"
    }
   ],
   "source": [
    "Shoe_Desc1"
   ]
  },
  {
   "cell_type": "code",
   "execution_count": 123,
   "id": "cee361b5",
   "metadata": {},
   "outputs": [
    {
     "data": {
      "text/plain": [
       "50"
      ]
     },
     "execution_count": 123,
     "metadata": {},
     "output_type": "execute_result"
    }
   ],
   "source": [
    "Shoe_Price = driver.find_elements(By.XPATH,'//div[@class=\"product-price\"]')\n",
    "len(Shoe_Price)"
   ]
  },
  {
   "cell_type": "code",
   "execution_count": 124,
   "id": "b41981cf",
   "metadata": {},
   "outputs": [],
   "source": [
    "Shoe_Price1=[]\n",
    "for i in Shoe_Price:\n",
    "    Shoe_Price1.append(i.text)\n",
    "    len(Shoe_Price1)"
   ]
  },
  {
   "cell_type": "code",
   "execution_count": 125,
   "id": "2ee57223",
   "metadata": {},
   "outputs": [
    {
     "data": {
      "text/plain": [
       "['Rs. 11196Rs. 13995(20% OFF)',\n",
       " 'Rs. 7799Rs. 12999(40% OFF)',\n",
       " 'Rs. 7649Rs. 8999(15% OFF)',\n",
       " 'Rs. 8999Rs. 9999(10% OFF)',\n",
       " 'Rs. 8895',\n",
       " 'Rs. 9196Rs. 11495(20% OFF)',\n",
       " 'Rs. 7499Rs. 9999(25% OFF)',\n",
       " 'Rs. 8396Rs. 10495(20% OFF)',\n",
       " 'Rs. 9999',\n",
       " 'Rs. 8796Rs. 10995(20% OFF)',\n",
       " 'Rs. 7999Rs. 9999(20% OFF)',\n",
       " 'Rs. 7599Rs. 9499(20% OFF)',\n",
       " 'Rs. 7199Rs. 7999(10% OFF)',\n",
       " 'Rs. 11990',\n",
       " 'Rs. 9749Rs. 12999(25% OFF)',\n",
       " 'Rs. 7199Rs. 8999(20% OFF)',\n",
       " 'Rs. 11999Rs. 14999(20% OFF)',\n",
       " 'Rs. 7599Rs. 9499(20% OFF)',\n",
       " 'Rs. 9999',\n",
       " 'Rs. 7199Rs. 8999(20% OFF)',\n",
       " 'Rs. 10799Rs. 11999(10% OFF)',\n",
       " 'Rs. 11199Rs. 13999(20% OFF)',\n",
       " 'Rs. 10199Rs. 11999(15% OFF)',\n",
       " 'Rs. 9999',\n",
       " 'Rs. 12591Rs. 13990(10% OFF)',\n",
       " 'Rs. 7799Rs. 12999(40% OFF)',\n",
       " 'Rs. 11049Rs. 12999(15% OFF)',\n",
       " 'Rs. 7199Rs. 8999(20% OFF)',\n",
       " 'Rs. 9891Rs. 10990(10% OFF)',\n",
       " 'Rs. 8249Rs. 10999(25% OFF)',\n",
       " 'Rs. 9975Rs. 10500(5% OFF)',\n",
       " 'Rs. 7599',\n",
       " 'Rs. 11875Rs. 12500(5% OFF)',\n",
       " 'Rs. 8499Rs. 9999(15% OFF)',\n",
       " 'Rs. 7899Rs. 9999(21% OFF)',\n",
       " 'Rs. 7799Rs. 12999(40% OFF)',\n",
       " 'Rs. 10499Rs. 14999(30% OFF)',\n",
       " 'Rs. 9999',\n",
       " 'Rs. 9099Rs. 12999(30% OFF)',\n",
       " 'Rs. 8499Rs. 9999(15% OFF)',\n",
       " 'Rs. 8249Rs. 10999(25% OFF)',\n",
       " 'Rs. 7999Rs. 9999(20% OFF)',\n",
       " 'Rs. 8999',\n",
       " 'Rs. 9749Rs. 12999(25% OFF)',\n",
       " 'Rs. 9405Rs. 9900(5% OFF)',\n",
       " 'Rs. 11199Rs. 13999(20% OFF)',\n",
       " 'Rs. 12999',\n",
       " 'Rs. 7693Rs. 10990(30% OFF)',\n",
       " 'Rs. 13999',\n",
       " 'Rs. 9999']"
      ]
     },
     "execution_count": 125,
     "metadata": {},
     "output_type": "execute_result"
    }
   ],
   "source": [
    "Shoe_Price1"
   ]
  },
  {
   "cell_type": "code",
   "execution_count": 126,
   "id": "c57428f5",
   "metadata": {},
   "outputs": [
    {
     "data": {
      "text/plain": [
       "<selenium.webdriver.remote.webelement.WebElement (session=\"6b26aaee2e9102755fc0bfc2805004bc\", element=\"e68b62b4-b932-4ce2-a3ce-d16093422037\")>"
      ]
     },
     "execution_count": 126,
     "metadata": {},
     "output_type": "execute_result"
    }
   ],
   "source": [
    "Next_Button=driver.find_element(By.XPATH,\"/html/body/div[2]/div/div[1]/main/div[3]/div[2]/div/div[2]/section/div[2]/ul/li[12]/a\")\n",
    "Next_Button"
   ]
  },
  {
   "cell_type": "code",
   "execution_count": 127,
   "id": "cc4b7350",
   "metadata": {},
   "outputs": [],
   "source": [
    "Next_Button.click()"
   ]
  },
  {
   "cell_type": "code",
   "execution_count": 136,
   "id": "f87de0d6",
   "metadata": {},
   "outputs": [
    {
     "data": {
      "text/plain": [
       "50"
      ]
     },
     "execution_count": 136,
     "metadata": {},
     "output_type": "execute_result"
    }
   ],
   "source": [
    "Shoe_Title2 = driver.find_elements(By.XPATH,'//h3[@class=\"product-brand\"]')\n",
    "len(Shoe_Title2)"
   ]
  },
  {
   "cell_type": "code",
   "execution_count": 137,
   "id": "cec0cb8f",
   "metadata": {},
   "outputs": [],
   "source": [
    "Shoe_Title3=[]\n",
    "for i in Shoe_Title2:\n",
    "    Shoe_Title3.append(i.text)\n",
    "    len(Shoe_Title3)"
   ]
  },
  {
   "cell_type": "code",
   "execution_count": 138,
   "id": "9659c208",
   "metadata": {},
   "outputs": [
    {
     "data": {
      "text/plain": [
       "['Hush Puppies',\n",
       " 'Geox',\n",
       " 'fitflop',\n",
       " 'ADIDAS Originals',\n",
       " 'fitflop',\n",
       " 'UNDER ARMOUR',\n",
       " 'Geox',\n",
       " 'TRIBAN By Decathlon',\n",
       " 'Puma',\n",
       " 'Columbia',\n",
       " 'Puma',\n",
       " 'Geox',\n",
       " 'Skechers',\n",
       " 'ASICS',\n",
       " 'PUMA Hoops',\n",
       " 'TOMS',\n",
       " 'Puma',\n",
       " 'Geox',\n",
       " 'Bugatti',\n",
       " 'TOMS',\n",
       " 'J.FONTINI',\n",
       " 'Cole Haan',\n",
       " 'ROSSO BRUNELLO',\n",
       " 'ADIDAS Originals',\n",
       " 'Louis Philippe',\n",
       " 'J.FONTINI',\n",
       " 'Columbia',\n",
       " 'Bugatti',\n",
       " 'J.FONTINI',\n",
       " 'Clarks',\n",
       " 'Saint G',\n",
       " 'Saint G',\n",
       " 'Saint G',\n",
       " 'DAVINCHI',\n",
       " 'J.FONTINI',\n",
       " 'Geox',\n",
       " 'Geox',\n",
       " 'Geox',\n",
       " 'Geox',\n",
       " 'Geox',\n",
       " 'fitflop',\n",
       " 'fitflop',\n",
       " 'Columbia',\n",
       " 'fitflop',\n",
       " 'Puma',\n",
       " 'ADIDAS',\n",
       " 'ASICS',\n",
       " 'ADIDAS',\n",
       " 'Geox',\n",
       " 'J.FONTINI']"
      ]
     },
     "execution_count": 138,
     "metadata": {},
     "output_type": "execute_result"
    }
   ],
   "source": [
    "Shoe_Title3"
   ]
  },
  {
   "cell_type": "code",
   "execution_count": 139,
   "id": "beac8014",
   "metadata": {},
   "outputs": [
    {
     "data": {
      "text/plain": [
       "50"
      ]
     },
     "execution_count": 139,
     "metadata": {},
     "output_type": "execute_result"
    }
   ],
   "source": [
    "Shoe_Desc2 = driver.find_elements(By.XPATH,'//h4[@class=\"product-product\"]')\n",
    "len(Shoe_Desc2)"
   ]
  },
  {
   "cell_type": "code",
   "execution_count": 131,
   "id": "0cb76c4f",
   "metadata": {},
   "outputs": [],
   "source": [
    "Shoe_Desc3=[]\n",
    "for i in Shoe_Desc2:\n",
    "    Shoe_Desc3.append(i.text)\n",
    "    len(Shoe_Desc3)"
   ]
  },
  {
   "cell_type": "code",
   "execution_count": 132,
   "id": "e76e2348",
   "metadata": {},
   "outputs": [
    {
     "data": {
      "text/plain": [
       "['Men Solid Formal Slip-Ons',\n",
       " 'Men Perforations Sneakers',\n",
       " 'Embellished Leather Wedge Sandals',\n",
       " 'Women Ozelia Sneakers',\n",
       " 'Flatform Sandals with Buckles',\n",
       " 'W omen TriBase Reign 4 Running',\n",
       " 'Men Leather Sneakers',\n",
       " 'Unisex Training or Gym Shoes',\n",
       " 'Women Magnify Nitro Running',\n",
       " 'Women Trekking Shoes',\n",
       " 'Men Velocity Nitro Running',\n",
       " 'Men Leather Sneakers',\n",
       " 'Men Textured Sneakers',\n",
       " 'Women Running Shoes',\n",
       " 'Fives Blaze Court Basketball',\n",
       " 'Men Alpargata Slip-On Sneakers',\n",
       " 'Unisex KING Pro 21 Football',\n",
       " 'Men Leather Sneakers',\n",
       " 'Men Textured Leather High-Top Flat Boots',\n",
       " 'Men Sneakers',\n",
       " 'Men Leather Fashion',\n",
       " 'Men GENERATION ZEROGRAND STITCHLITE',\n",
       " 'Men Perforations Leather Slip-On Sneakers',\n",
       " 'Men Ozweego Sneakers',\n",
       " 'Men Textured Leather Loafers',\n",
       " 'Men Solid Loafers',\n",
       " 'Cascade Peak II Jacket',\n",
       " 'Men Black Formal Derby Shoes',\n",
       " 'Men Textured Leather Loafers',\n",
       " 'Men Woven Design Suede Flat Boots',\n",
       " 'Men Leather Chelsea Boots',\n",
       " 'Leather Block Sandals',\n",
       " 'Men Solid Leather Formal Boots',\n",
       " 'Men Textured Formal Leather Loafers',\n",
       " 'Men Textured Leather Formal Loafers',\n",
       " 'Textured Leather Block Pumps',\n",
       " 'Leather Block Pumps',\n",
       " 'Women Leather Sneakers',\n",
       " 'Women Ballerinas Flats',\n",
       " 'Women Leather Slip-On Sneakers',\n",
       " 'Leather Flatform Sandals',\n",
       " 'Embellished Leather Flatform Sandals',\n",
       " 'Women REDMOND V2 TrekkingShoe',\n",
       " 'Embellished PU Comfort Pumps',\n",
       " 'Women Running Sports Shoes',\n",
       " 'Women X9000 H.RDY Running',\n",
       " 'Men GEL-GLYDE 3 MX Running',\n",
       " 'Women Supernova Running Shoes',\n",
       " 'Men Solid Slip-On Sneakers',\n",
       " 'Men Textured Leather Loafers']"
      ]
     },
     "execution_count": 132,
     "metadata": {},
     "output_type": "execute_result"
    }
   ],
   "source": [
    "Shoe_Desc3"
   ]
  },
  {
   "cell_type": "code",
   "execution_count": 133,
   "id": "dad68d41",
   "metadata": {},
   "outputs": [
    {
     "data": {
      "text/plain": [
       "50"
      ]
     },
     "execution_count": 133,
     "metadata": {},
     "output_type": "execute_result"
    }
   ],
   "source": [
    "Shoe_Price2 = driver.find_elements(By.XPATH,'//div[@class=\"product-price\"]')\n",
    "len(Shoe_Price2)"
   ]
  },
  {
   "cell_type": "code",
   "execution_count": 134,
   "id": "f0d588ed",
   "metadata": {},
   "outputs": [],
   "source": [
    "Shoe_Price3=[]\n",
    "for i in Shoe_Price2:\n",
    "    Shoe_Price3.append(i.text)\n",
    "    len(Shoe_Price3)"
   ]
  },
  {
   "cell_type": "code",
   "execution_count": 135,
   "id": "7af2490d",
   "metadata": {},
   "outputs": [
    {
     "data": {
      "text/plain": [
       "['Rs. 9999',\n",
       " 'Rs. 12591Rs. 13990(10% OFF)',\n",
       " 'Rs. 7499',\n",
       " 'Rs. 9349Rs. 10999(15% OFF)',\n",
       " 'Rs. 7499',\n",
       " 'Rs. 11999',\n",
       " 'Rs. 12990',\n",
       " 'Rs. 9459Rs. 10999(14% OFF)',\n",
       " 'Rs. 9099Rs. 12999(30% OFF)',\n",
       " 'Rs. 8999',\n",
       " 'Rs. 9599Rs. 11999(20% OFF)',\n",
       " 'Rs. 13990',\n",
       " 'Rs. 7999',\n",
       " 'Rs. 7999',\n",
       " 'Rs. 8249Rs. 10999(25% OFF)',\n",
       " 'Rs. 7199Rs. 7999(10% OFF)',\n",
       " 'Rs. 7499Rs. 9999(25% OFF)',\n",
       " 'Rs. 12990',\n",
       " 'Rs. 7199Rs. 11999(40% OFF)',\n",
       " 'Rs. 7199Rs. 7999(10% OFF)',\n",
       " 'Rs. 8490',\n",
       " 'Rs. 11999',\n",
       " 'Rs. 8399Rs. 11999(30% OFF)',\n",
       " 'Rs. 9899Rs. 10999(10% OFF)',\n",
       " 'Rs. 9999',\n",
       " 'Rs. 8990',\n",
       " 'Rs. 7999',\n",
       " 'Rs. 11999',\n",
       " 'Rs. 7990',\n",
       " 'Rs. 7899Rs. 9999(21% OFF)',\n",
       " 'Rs. 10710Rs. 11900(10% OFF)',\n",
       " 'Rs. 9810Rs. 10900(10% OFF)',\n",
       " 'Rs. 9900Rs. 12500(Rs. 2600 OFF)',\n",
       " 'Rs. 8990',\n",
       " 'Rs. 8990',\n",
       " 'Rs. 8393Rs. 11990(30% OFF)',\n",
       " 'Rs. 8393Rs. 11990(30% OFF)',\n",
       " 'Rs. 12990',\n",
       " 'Rs. 9891Rs. 10990(10% OFF)',\n",
       " 'Rs. 7693Rs. 10990(30% OFF)',\n",
       " 'Rs. 7999',\n",
       " 'Rs. 7999',\n",
       " 'Rs. 7999',\n",
       " 'Rs. 7499',\n",
       " 'Rs. 10499Rs. 14999(30% OFF)',\n",
       " 'Rs. 13999',\n",
       " 'Rs. 7199Rs. 8999(20% OFF)',\n",
       " 'Rs. 7999Rs. 9999(20% OFF)',\n",
       " 'Rs. 12591Rs. 13990(10% OFF)',\n",
       " 'Rs. 8490']"
      ]
     },
     "execution_count": 135,
     "metadata": {},
     "output_type": "execute_result"
    }
   ],
   "source": [
    "Shoe_Price3"
   ]
  },
  {
   "cell_type": "code",
   "execution_count": null,
   "id": "cf50d311",
   "metadata": {},
   "outputs": [],
   "source": []
  },
  {
   "cell_type": "code",
   "execution_count": 140,
   "id": "80db57f7",
   "metadata": {},
   "outputs": [],
   "source": [
    "#Q8.scrap the laptop data"
   ]
  },
  {
   "cell_type": "code",
   "execution_count": 60,
   "id": "9b49f8f4",
   "metadata": {},
   "outputs": [],
   "source": [
    "# Connect to webdriver\n",
    "driver = webdriver.Chrome(r'C:\\Users\\COTMAC\\Downloads\\chromedriver_win32\\chromedriver.exe')"
   ]
  },
  {
   "cell_type": "code",
   "execution_count": 61,
   "id": "f3f0ef32",
   "metadata": {},
   "outputs": [],
   "source": [
    "url = 'https://www.amazon.in/'\n",
    "driver.get(url)"
   ]
  },
  {
   "cell_type": "code",
   "execution_count": 62,
   "id": "0f2abe93",
   "metadata": {},
   "outputs": [
    {
     "data": {
      "text/plain": [
       "<selenium.webdriver.remote.webelement.WebElement (session=\"e04f30cca4b01973d77ce1cf6958ac88\", element=\"ca574ffb-ff29-4adf-a722-16d5622583c8\")>"
      ]
     },
     "execution_count": 62,
     "metadata": {},
     "output_type": "execute_result"
    }
   ],
   "source": [
    "name=driver.find_element(By.XPATH,\"/html/body/div[1]/header/div/div[1]/div[2]/div/form/div[2]/div[1]/input\")\n",
    "name"
   ]
  },
  {
   "cell_type": "code",
   "execution_count": 63,
   "id": "a7d2b938",
   "metadata": {},
   "outputs": [],
   "source": [
    "name.send_keys(\"Laptop\")"
   ]
  },
  {
   "cell_type": "code",
   "execution_count": 64,
   "id": "df84b9c7",
   "metadata": {},
   "outputs": [
    {
     "data": {
      "text/plain": [
       "<selenium.webdriver.remote.webelement.WebElement (session=\"e04f30cca4b01973d77ce1cf6958ac88\", element=\"8d9631be-5c88-4417-b770-0b4e2fdc7c0c\")>"
      ]
     },
     "execution_count": 64,
     "metadata": {},
     "output_type": "execute_result"
    }
   ],
   "source": [
    "search4=driver.find_element(By.XPATH,\"/html/body/div[1]/header/div/div[1]/div[2]/div/form/div[3]/div/span/input\")\n",
    "search4"
   ]
  },
  {
   "cell_type": "code",
   "execution_count": 65,
   "id": "d0f722e2",
   "metadata": {},
   "outputs": [],
   "source": [
    "search4.click()"
   ]
  },
  {
   "cell_type": "code",
   "execution_count": 66,
   "id": "8f769d59",
   "metadata": {},
   "outputs": [
    {
     "data": {
      "text/plain": [
       "<selenium.webdriver.remote.webelement.WebElement (session=\"e04f30cca4b01973d77ce1cf6958ac88\", element=\"f355ad95-0f67-48d2-a853-40abbb7303f3\")>"
      ]
     },
     "execution_count": 66,
     "metadata": {},
     "output_type": "execute_result"
    }
   ],
   "source": [
    "cpu_type=driver.find_element(By.XPATH,\"/html/body/div[1]/div[2]/div[1]/div[2]/div/div[3]/span/div[1]/div/div/div[6]/ul[2]/li[14]/span/a/div/label/i\")\n",
    "cpu_type"
   ]
  },
  {
   "cell_type": "code",
   "execution_count": 67,
   "id": "3651b224",
   "metadata": {},
   "outputs": [],
   "source": [
    "cpu_type.click()"
   ]
  },
  {
   "cell_type": "code",
   "execution_count": 68,
   "id": "c9185679",
   "metadata": {},
   "outputs": [
    {
     "data": {
      "text/plain": [
       "24"
      ]
     },
     "execution_count": 68,
     "metadata": {},
     "output_type": "execute_result"
    }
   ],
   "source": [
    "Laptop_Title = driver.find_elements(By.XPATH,'//h2[@class=\"a-size-mini a-spacing-none a-color-base s-line-clamp-2\"]')\n",
    "len(Laptop_Title)"
   ]
  },
  {
   "cell_type": "code",
   "execution_count": 69,
   "id": "516ba2b8",
   "metadata": {},
   "outputs": [],
   "source": [
    "Laptop_Title1=[]\n",
    "for i in Laptop_Title:\n",
    "    Laptop_Title1.append(i.text)\n",
    "    len(Laptop_Title1)"
   ]
  },
  {
   "cell_type": "code",
   "execution_count": 70,
   "id": "b356a2fb",
   "metadata": {},
   "outputs": [
    {
     "data": {
      "text/plain": [
       "[\"Dell New Inspiron 3521 Laptop, Intel Pqc-N5030, Windows 11 + Office'21, 8Gb Gddr4, 256Gb Ssd, 15.6 Inches (39.62Cms) Hd Ag (D560756Win9Be, 1.61Kgs)\",\n",
       " 'ASUS VivoBook 14 (2021), 14-inch (35.56 cm) HD, Intel Pentium Silver N6000 Quad Core, Thin and Light Laptop (8GB/256GB SSD/Office 2021/Windows 11/Integrated Graphics/Silver/1.5 kg), X415KA-BV121WS',\n",
       " 'Acer Extensa 15 Thin & Light Intel Processor Pentium Silver N5030 15.6 inches ( 39 cm ) Business Laptop (4GB RAM/256 GB SSD/Windows 11 Home/Black/1.9 Kg, EX215-31)',\n",
       " 'Microsoft Surface GO 3 8VA-00013 10.5\" (26.67 cms) Laptop (Intel Pentium T6600 Processor/8GB/128GB SSD/Windows 11 Home), Platinum',\n",
       " 'Hp 14S-Intel Pentium Silver N6000- 8Gb Ram/256Gb Ssd 14 Inches (35.6Cm) Hd, Micro-Edge Display (Uhd Graphics/Alexa/Dual Speakers/Fast Charge/Windows 11 Home/Ms Office), 14S- Dq3033Tu,Jet Black',\n",
       " 'Acer Travelmate Intel® Pentium® Gold 7505 Processor 15.6 inches Display HD 1366 x 768 Business Laptop (4GB Ram/1TB HDD/Windows 11 Home/Intel UHD Graphics/Black/1.8 Kg), TMP215-53',\n",
       " 'Acer Travelmate Business Laptop Intel Pentium N5030 Quad-core Processor ( 4GB DDR4/ 128GB SSD /UHD Graphics/ Windows 11 Home/Spill Resistant Keyboard) TMB311-31 with 29.4 cm (11.6 Inches) HD Display',\n",
       " 'ASUS Windows 11 Home VivoBook 13 Slate OLED, Intel Pentium Silver N6000, 13.3 Inches - FHD OLED Touch 2-in-1 Laptop (8GB/256GB SSD/Office 2021/Win 11/Black), T3300KA-LQ111WS',\n",
       " '(Renewed) ASUS VivoBook 13 Slate OLED, Intel Pentium Silver N6000, 13.3-inch (33.8 cms) FHD OLED Touch 2-in-1 Laptop (4GB/128GB eMMC/Office 2021/Win 11/Black), T3300KA-LQ122WS',\n",
       " 'ASUS EeeBook 14 Pentium Silver - (8 GB/256 GB SSD/Windows 11 Home) E410KA-BV103WS Thin and Light Laptop (14 Inch, Star Black, 1.30 kg, with MS Office)',\n",
       " 'Acer Extensa 15 Thin & Light Laptop Intel Processor Pentium Silver N5030 15.6 inches HD Display (4GB RAM/256 GB SSD/Windows 10 Home/Integrated Graphic Card/Black/1.9 Kg, EX215-31)',\n",
       " 'Asus Pentium Quad Intel Core - (4 Gb/1 Tb Hdd/Windows 10 Home) X543Ma-Dm101T Laptop (15.6 Inches, Transparent Silver, 1.90 Kg)',\n",
       " '(Renewed) ASUS Windows 11 Home VivoBook 13 Slate OLED, Intel Pentium Silver N6000, 13.3 Inches - FHD OLED Touch 2-in-1 Laptop (8GB/256GB SSD/Office 2021/Win 11/Black), T3300KA-LQ111WS',\n",
       " 'Acer Extensa 15 Intel Processor Pentium Silver N5030 15.6 inches Thin and Light Business Laptop (4GB RAM/1TB HDD/Windows 11 Home/Black/1.9Kg, EX215-31)',\n",
       " 'Asus Laptop E410Ka-Ek101Ws Intel Pqc-N6000//8G/256 Pcie Ssd/Peacock Blue/14 Inches Fhd/Windows 1Y International Warranty + Mcafee/11 + Office H&S/Numberpad',\n",
       " 'Microsoft Surface GO 2 STQ-00013 10.1\" (26.54 cms) Laptop (Gold Processor 4425Y/8GB/128GB SSD/Windows 10 Home in S Mode/Intel UHD 615 Graphics), Platinum',\n",
       " 'HP 14 Intel Core Pentium Gold Processor 14-inch Thin and Light Laptop (4GB/256GB SSD/Windows 10 Home/Jet Black/1.47 kg), 14q-cs0018TU',\n",
       " 'HP 14 Intel Pentium N6000 14-inch(35.6 cm) Laptop (8GB/256GB SSD/Windows 10/MS Office/Jet Black/1.46Kg), 14s-dq3018TU',\n",
       " 'HP 15 Intel Pentium Gold 6405U Processor Entry Level 39.62 cms(15.6-inch) FHD Laptop (4GB/1TB/Win 10/Jet Black/1.74kg), 15s-du1052tu',\n",
       " 'ASUS E410MA-EK319T Intel Pentium Silver N5030 Quad Core 14 inches FHD (1920 X 1080) LED Laptop (4GB RAM/256GB PCIe SSD/UHD 605 Graphics/Number Pad/Windows 10 Home, Peacock Blue, 1.3Kg)',\n",
       " 'ASUS Intel Pentium Quad Core 15.6 inches Business Laptop (4 GB/1 TB HDD/1366 X 768 HD/Windows 10 Home) Transparent Silver, 1.9 kg - X543MA-GQ1020T',\n",
       " 'Lenovo IdeaPad 110-15IBR 80T700H0IH Intel Pentium N3710 15.6 inches Laptop (4GB/1TB/DOS/Integrated Graphics), Black Texture, 2.2kg',\n",
       " 'Acer Acer One Intel Pentium Gold 4415U Processor 14\" (35.56cms) Display 1366 x 768 Laptop (4 GB Ram/1TB HDD/Windows 10 Home/Integrated Graphics/Black/1.8kgs), Z2-485',\n",
       " '(Renewed) Acer Extensa 15 Thin & Light Intel Processor Pentium Silver N5030 15.6 inches Business Laptop (4GB RAM/1TB HDD/Windows 11 Home/Black/1.9 Kg, EX215-31)']"
      ]
     },
     "execution_count": 70,
     "metadata": {},
     "output_type": "execute_result"
    }
   ],
   "source": [
    "Laptop_Title1"
   ]
  },
  {
   "cell_type": "code",
   "execution_count": 81,
   "id": "54ba6656",
   "metadata": {},
   "outputs": [
    {
     "data": {
      "text/plain": [
       "26"
      ]
     },
     "execution_count": 81,
     "metadata": {},
     "output_type": "execute_result"
    }
   ],
   "source": [
    "Laptop_Rating = driver.find_elements(By.XPATH,'//span[@class=\"a-icon-alt\"]')\n",
    "len(Laptop_Rating)"
   ]
  },
  {
   "cell_type": "code",
   "execution_count": 82,
   "id": "03dba7a0",
   "metadata": {},
   "outputs": [],
   "source": [
    "Laptop_Rating1=[]\n",
    "for i in Laptop_Rating:\n",
    "    Laptop_Rating1.append(i.text)\n",
    "    len(Laptop_Rating1)"
   ]
  },
  {
   "cell_type": "code",
   "execution_count": 83,
   "id": "2536a216",
   "metadata": {},
   "outputs": [
    {
     "data": {
      "text/plain": [
       "['',\n",
       " '',\n",
       " '',\n",
       " '',\n",
       " '',\n",
       " '',\n",
       " '',\n",
       " '',\n",
       " '',\n",
       " '',\n",
       " '',\n",
       " '',\n",
       " '',\n",
       " '',\n",
       " '',\n",
       " '',\n",
       " '',\n",
       " '',\n",
       " '',\n",
       " '',\n",
       " '',\n",
       " '',\n",
       " '',\n",
       " '',\n",
       " '',\n",
       " '']"
      ]
     },
     "execution_count": 83,
     "metadata": {},
     "output_type": "execute_result"
    }
   ],
   "source": [
    "Laptop_Rating1"
   ]
  },
  {
   "cell_type": "code",
   "execution_count": 155,
   "id": "9b6829f9",
   "metadata": {},
   "outputs": [
    {
     "data": {
      "text/plain": [
       "19"
      ]
     },
     "execution_count": 155,
     "metadata": {},
     "output_type": "execute_result"
    }
   ],
   "source": [
    "Laptop_Price = driver.find_elements(By.XPATH,'//span[@class=\"a-price-whole\"]')\n",
    "len(Laptop_Price)"
   ]
  },
  {
   "cell_type": "code",
   "execution_count": 156,
   "id": "cd7e42ea",
   "metadata": {},
   "outputs": [],
   "source": [
    "Laptop_Price1=[]\n",
    "for i in Laptop_Price:\n",
    "    Laptop_Price1.append(i.text)\n",
    "    len(Laptop_Price1)"
   ]
  },
  {
   "cell_type": "code",
   "execution_count": 157,
   "id": "6c723340",
   "metadata": {},
   "outputs": [
    {
     "data": {
      "text/plain": [
       "['30,990',\n",
       " '30,490',\n",
       " '26,900',\n",
       " '27,990',\n",
       " '24,642',\n",
       " '49,936',\n",
       " '31,651',\n",
       " '28,990',\n",
       " '26,990',\n",
       " '25,990',\n",
       " '63,980',\n",
       " '31,990',\n",
       " '30,990',\n",
       " '26,695',\n",
       " '36,600',\n",
       " '26,990',\n",
       " '26,490',\n",
       " '34,392',\n",
       " '30,490']"
      ]
     },
     "execution_count": 157,
     "metadata": {},
     "output_type": "execute_result"
    }
   ],
   "source": [
    "Laptop_Price1"
   ]
  },
  {
   "cell_type": "code",
   "execution_count": 158,
   "id": "92eef688",
   "metadata": {},
   "outputs": [],
   "source": [
    "import pandas as pd\n",
    "df=pd.DataFrame()\n",
    "df['Laptop_Title'] = Laptop_Title1[0:10]\n",
    "df['Laptop_Rating'] = Laptop_Rating1[0:10]\n",
    "df['Laptop_Price'] = Laptop_Price1[0:10]"
   ]
  },
  {
   "cell_type": "code",
   "execution_count": 159,
   "id": "0fc20623",
   "metadata": {},
   "outputs": [
    {
     "data": {
      "text/html": [
       "<div>\n",
       "<style scoped>\n",
       "    .dataframe tbody tr th:only-of-type {\n",
       "        vertical-align: middle;\n",
       "    }\n",
       "\n",
       "    .dataframe tbody tr th {\n",
       "        vertical-align: top;\n",
       "    }\n",
       "\n",
       "    .dataframe thead th {\n",
       "        text-align: right;\n",
       "    }\n",
       "</style>\n",
       "<table border=\"1\" class=\"dataframe\">\n",
       "  <thead>\n",
       "    <tr style=\"text-align: right;\">\n",
       "      <th></th>\n",
       "      <th>Laptop_Title</th>\n",
       "      <th>Laptop_Rating</th>\n",
       "      <th>Laptop_Price</th>\n",
       "    </tr>\n",
       "  </thead>\n",
       "  <tbody>\n",
       "    <tr>\n",
       "      <th>0</th>\n",
       "      <td>ASUS VivoBook 14 (2021), 14-inch (35.56 cm) HD...</td>\n",
       "      <td></td>\n",
       "      <td>30,990</td>\n",
       "    </tr>\n",
       "    <tr>\n",
       "      <th>1</th>\n",
       "      <td>Dell New Inspiron 3521 Laptop, Intel Pqc-N5030...</td>\n",
       "      <td></td>\n",
       "      <td>30,490</td>\n",
       "    </tr>\n",
       "    <tr>\n",
       "      <th>2</th>\n",
       "      <td>Acer Extensa 15 Thin &amp; Light Intel Processor P...</td>\n",
       "      <td></td>\n",
       "      <td>26,900</td>\n",
       "    </tr>\n",
       "    <tr>\n",
       "      <th>3</th>\n",
       "      <td>Acer Extensa 15 Thin &amp; Light Intel Processor P...</td>\n",
       "      <td></td>\n",
       "      <td>27,990</td>\n",
       "    </tr>\n",
       "    <tr>\n",
       "      <th>4</th>\n",
       "      <td>Microsoft Surface GO 3 8VA-00013 10.5\" (26.67 ...</td>\n",
       "      <td></td>\n",
       "      <td>24,642</td>\n",
       "    </tr>\n",
       "    <tr>\n",
       "      <th>5</th>\n",
       "      <td>Hp 14S-Intel Pentium Silver N6000- 8Gb Ram/256...</td>\n",
       "      <td></td>\n",
       "      <td>49,936</td>\n",
       "    </tr>\n",
       "    <tr>\n",
       "      <th>6</th>\n",
       "      <td>Acer Travelmate Intel® Pentium® Gold 7505 Proc...</td>\n",
       "      <td></td>\n",
       "      <td>31,651</td>\n",
       "    </tr>\n",
       "    <tr>\n",
       "      <th>7</th>\n",
       "      <td>Asus Pentium Quad Intel Core - (4 Gb/1 Tb Hdd/...</td>\n",
       "      <td></td>\n",
       "      <td>28,990</td>\n",
       "    </tr>\n",
       "    <tr>\n",
       "      <th>8</th>\n",
       "      <td>Acer Travelmate Business Laptop Intel Pentium ...</td>\n",
       "      <td></td>\n",
       "      <td>26,990</td>\n",
       "    </tr>\n",
       "    <tr>\n",
       "      <th>9</th>\n",
       "      <td>ASUS Windows 11 Home VivoBook 13 Slate OLED, I...</td>\n",
       "      <td></td>\n",
       "      <td>25,990</td>\n",
       "    </tr>\n",
       "  </tbody>\n",
       "</table>\n",
       "</div>"
      ],
      "text/plain": [
       "                                        Laptop_Title Laptop_Rating  \\\n",
       "0  ASUS VivoBook 14 (2021), 14-inch (35.56 cm) HD...                 \n",
       "1  Dell New Inspiron 3521 Laptop, Intel Pqc-N5030...                 \n",
       "2  Acer Extensa 15 Thin & Light Intel Processor P...                 \n",
       "3  Acer Extensa 15 Thin & Light Intel Processor P...                 \n",
       "4  Microsoft Surface GO 3 8VA-00013 10.5\" (26.67 ...                 \n",
       "5  Hp 14S-Intel Pentium Silver N6000- 8Gb Ram/256...                 \n",
       "6  Acer Travelmate Intel® Pentium® Gold 7505 Proc...                 \n",
       "7  Asus Pentium Quad Intel Core - (4 Gb/1 Tb Hdd/...                 \n",
       "8  Acer Travelmate Business Laptop Intel Pentium ...                 \n",
       "9  ASUS Windows 11 Home VivoBook 13 Slate OLED, I...                 \n",
       "\n",
       "  Laptop_Price  \n",
       "0       30,990  \n",
       "1       30,490  \n",
       "2       26,900  \n",
       "3       27,990  \n",
       "4       24,642  \n",
       "5       49,936  \n",
       "6       31,651  \n",
       "7       28,990  \n",
       "8       26,990  \n",
       "9       25,990  "
      ]
     },
     "execution_count": 159,
     "metadata": {},
     "output_type": "execute_result"
    }
   ],
   "source": [
    "df"
   ]
  },
  {
   "cell_type": "code",
   "execution_count": null,
   "id": "978b712a",
   "metadata": {},
   "outputs": [],
   "source": []
  },
  {
   "cell_type": "code",
   "execution_count": null,
   "id": "0d5ed5af",
   "metadata": {},
   "outputs": [],
   "source": [
    "#Q9 Data Scientist Data"
   ]
  },
  {
   "cell_type": "code",
   "execution_count": 160,
   "id": "7739b5e2",
   "metadata": {},
   "outputs": [],
   "source": [
    "# Connect to webdriver\n",
    "driver = webdriver.Chrome(r'C:\\Users\\COTMAC\\Downloads\\chromedriver_win32\\chromedriver.exe')"
   ]
  },
  {
   "cell_type": "code",
   "execution_count": 161,
   "id": "89d9dc23",
   "metadata": {},
   "outputs": [],
   "source": [
    "url = 'https://www.ambitionbox.com/'\n",
    "driver.get(url)"
   ]
  },
  {
   "cell_type": "code",
   "execution_count": 162,
   "id": "5151c19f",
   "metadata": {},
   "outputs": [
    {
     "data": {
      "text/plain": [
       "<selenium.webdriver.remote.webelement.WebElement (session=\"b3b01a1b267433a7fe51f3c805aba41b\", element=\"ad211827-809a-4ec7-9d1d-308b02ea6ea0\")>"
      ]
     },
     "execution_count": 162,
     "metadata": {},
     "output_type": "execute_result"
    }
   ],
   "source": [
    "Jobs=driver.find_element(By.XPATH,\"/html/body/div[1]/nav/nav/a[6]\")\n",
    "Jobs"
   ]
  },
  {
   "cell_type": "code",
   "execution_count": 163,
   "id": "b6ff241c",
   "metadata": {},
   "outputs": [],
   "source": [
    "Jobs.click()"
   ]
  },
  {
   "cell_type": "code",
   "execution_count": 164,
   "id": "2a3d93fb",
   "metadata": {},
   "outputs": [
    {
     "data": {
      "text/plain": [
       "<selenium.webdriver.remote.webelement.WebElement (session=\"b3b01a1b267433a7fe51f3c805aba41b\", element=\"54b4af89-a78f-46be-9426-c26daf401a11\")>"
      ]
     },
     "execution_count": 164,
     "metadata": {},
     "output_type": "execute_result"
    }
   ],
   "source": [
    "search_name=driver.find_element(By.XPATH,\"/html/body/div/div/div/div[2]/div[1]/div[1]/div/div/div/div/span/input\")\n",
    "search_name"
   ]
  },
  {
   "cell_type": "code",
   "execution_count": 165,
   "id": "fc4ed847",
   "metadata": {},
   "outputs": [],
   "source": [
    "search_name.send_keys(\"Data Scientist\")"
   ]
  },
  {
   "cell_type": "code",
   "execution_count": 166,
   "id": "32197914",
   "metadata": {},
   "outputs": [
    {
     "data": {
      "text/plain": [
       "<selenium.webdriver.remote.webelement.WebElement (session=\"b3b01a1b267433a7fe51f3c805aba41b\", element=\"1432e46c-478f-4dd1-af6a-d17d6276aa2c\")>"
      ]
     },
     "execution_count": 166,
     "metadata": {},
     "output_type": "execute_result"
    }
   ],
   "source": [
    "search4=driver.find_element(By.XPATH,\"/html/body/div/div/div/div[2]/div[1]/div[1]/div/div/div/button\")\n",
    "search4"
   ]
  },
  {
   "cell_type": "code",
   "execution_count": 167,
   "id": "96c6f9dd",
   "metadata": {},
   "outputs": [],
   "source": [
    "search4.click()"
   ]
  },
  {
   "cell_type": "code",
   "execution_count": 168,
   "id": "616819fb",
   "metadata": {},
   "outputs": [
    {
     "data": {
      "text/plain": [
       "<selenium.webdriver.remote.webelement.WebElement (session=\"b3b01a1b267433a7fe51f3c805aba41b\", element=\"c31b83e5-7757-4651-90ac-a97f41ac15b6\")>"
      ]
     },
     "execution_count": 168,
     "metadata": {},
     "output_type": "execute_result"
    }
   ],
   "source": [
    "Locationclick=driver.find_element(By.XPATH,\"/html/body/div/div/div/div[2]/div[1]/div[2]/div[1]/div/div/div/div[2]/div[1]/i\")\n",
    "Locationclick"
   ]
  },
  {
   "cell_type": "code",
   "execution_count": 169,
   "id": "263016c6",
   "metadata": {},
   "outputs": [],
   "source": [
    "Locationclick.click()"
   ]
  },
  {
   "cell_type": "code",
   "execution_count": 180,
   "id": "32ed76ab",
   "metadata": {},
   "outputs": [
    {
     "data": {
      "text/plain": [
       "<selenium.webdriver.remote.webelement.WebElement (session=\"b3b01a1b267433a7fe51f3c805aba41b\", element=\"b9a56609-1adf-491e-be61-2df02032273c\")>"
      ]
     },
     "execution_count": 180,
     "metadata": {},
     "output_type": "execute_result"
    }
   ],
   "source": [
    "search_name2=driver.find_element(By.XPATH,\"/html/body/div/div/div/div[2]/div[1]/div[2]/div[1]/div/div/div/div[2]/div[2]/div/div[2]/input\")\n",
    "search_name2"
   ]
  },
  {
   "cell_type": "code",
   "execution_count": 181,
   "id": "4817e43c",
   "metadata": {},
   "outputs": [],
   "source": [
    "search_name2.send_keys(\"Noida\")"
   ]
  },
  {
   "cell_type": "code",
   "execution_count": 182,
   "id": "fe952a33",
   "metadata": {},
   "outputs": [
    {
     "data": {
      "text/plain": [
       "<selenium.webdriver.remote.webelement.WebElement (session=\"b3b01a1b267433a7fe51f3c805aba41b\", element=\"9f615a88-0316-43fe-991a-2ea8d5a3af43\")>"
      ]
     },
     "execution_count": 182,
     "metadata": {},
     "output_type": "execute_result"
    }
   ],
   "source": [
    "selectlocation=driver.find_element(By.XPATH,\"/html/body/div/div/div/div[2]/div[1]/div[2]/div[1]/div/div/div/div[2]/div[2]/div/div[3]/div[1]/div[1]/div/label\")\n",
    "selectlocation"
   ]
  },
  {
   "cell_type": "code",
   "execution_count": 183,
   "id": "703ae786",
   "metadata": {},
   "outputs": [],
   "source": [
    "selectlocation.click()"
   ]
  },
  {
   "cell_type": "code",
   "execution_count": 184,
   "id": "19f1c219",
   "metadata": {},
   "outputs": [
    {
     "data": {
      "text/plain": [
       "10"
      ]
     },
     "execution_count": 184,
     "metadata": {},
     "output_type": "execute_result"
    }
   ],
   "source": [
    "Job_Names = driver.find_elements(By.XPATH,'//a[@class=\"title noclick\"]')\n",
    "len(Job_Names)"
   ]
  },
  {
   "cell_type": "code",
   "execution_count": 185,
   "id": "77fe14b3",
   "metadata": {},
   "outputs": [],
   "source": [
    "Job_Names1=[]\n",
    "for i in Job_Names:\n",
    "    Job_Names1.append(i.text)\n",
    "    len(Job_Names1)"
   ]
  },
  {
   "cell_type": "code",
   "execution_count": 186,
   "id": "43a80342",
   "metadata": {},
   "outputs": [
    {
     "data": {
      "text/plain": [
       "['Senior Data Scientist',\n",
       " 'Data Scientist- Forecasting and R or Python',\n",
       " 'Data Scientist',\n",
       " 'Data Scientist - Machine Learning/Big Data (0-4 yrs)',\n",
       " 'Data Scientist - Machine Learning Algorithms (3-8 yrs)',\n",
       " 'Info Edge - Data Scientist - Machine Learning/NLP (0-2 yrs)',\n",
       " 'Info Edge - Senior Data Scientist - Machine Learning/Deep Learning (3-5 yrs)',\n",
       " 'LatentBridge - Data Scientist - Python/R (2-6 yrs)',\n",
       " 'Data Scientist - NLP',\n",
       " 'Principal Scientist - Machine Learning - IT (15-26 yrs)']"
      ]
     },
     "execution_count": 186,
     "metadata": {},
     "output_type": "execute_result"
    }
   ],
   "source": [
    "Job_Names1"
   ]
  },
  {
   "cell_type": "code",
   "execution_count": 187,
   "id": "54492237",
   "metadata": {},
   "outputs": [],
   "source": [
    "import pandas as pd\n",
    "df = pd.DataFrame()\n",
    "df['Job Names'] = Job_Names1[0:10]"
   ]
  },
  {
   "cell_type": "code",
   "execution_count": 188,
   "id": "cec1be0a",
   "metadata": {},
   "outputs": [
    {
     "data": {
      "text/html": [
       "<div>\n",
       "<style scoped>\n",
       "    .dataframe tbody tr th:only-of-type {\n",
       "        vertical-align: middle;\n",
       "    }\n",
       "\n",
       "    .dataframe tbody tr th {\n",
       "        vertical-align: top;\n",
       "    }\n",
       "\n",
       "    .dataframe thead th {\n",
       "        text-align: right;\n",
       "    }\n",
       "</style>\n",
       "<table border=\"1\" class=\"dataframe\">\n",
       "  <thead>\n",
       "    <tr style=\"text-align: right;\">\n",
       "      <th></th>\n",
       "      <th>Job Names</th>\n",
       "    </tr>\n",
       "  </thead>\n",
       "  <tbody>\n",
       "    <tr>\n",
       "      <th>0</th>\n",
       "      <td>Senior Data Scientist</td>\n",
       "    </tr>\n",
       "    <tr>\n",
       "      <th>1</th>\n",
       "      <td>Data Scientist- Forecasting and R or Python</td>\n",
       "    </tr>\n",
       "    <tr>\n",
       "      <th>2</th>\n",
       "      <td>Data Scientist</td>\n",
       "    </tr>\n",
       "    <tr>\n",
       "      <th>3</th>\n",
       "      <td>Data Scientist - Machine Learning/Big Data (0-...</td>\n",
       "    </tr>\n",
       "    <tr>\n",
       "      <th>4</th>\n",
       "      <td>Data Scientist - Machine Learning Algorithms (...</td>\n",
       "    </tr>\n",
       "    <tr>\n",
       "      <th>5</th>\n",
       "      <td>Info Edge - Data Scientist - Machine Learning/...</td>\n",
       "    </tr>\n",
       "    <tr>\n",
       "      <th>6</th>\n",
       "      <td>Info Edge - Senior Data Scientist - Machine Le...</td>\n",
       "    </tr>\n",
       "    <tr>\n",
       "      <th>7</th>\n",
       "      <td>LatentBridge - Data Scientist - Python/R (2-6 ...</td>\n",
       "    </tr>\n",
       "    <tr>\n",
       "      <th>8</th>\n",
       "      <td>Data Scientist - NLP</td>\n",
       "    </tr>\n",
       "    <tr>\n",
       "      <th>9</th>\n",
       "      <td>Principal Scientist - Machine Learning - IT (1...</td>\n",
       "    </tr>\n",
       "  </tbody>\n",
       "</table>\n",
       "</div>"
      ],
      "text/plain": [
       "                                           Job Names\n",
       "0                              Senior Data Scientist\n",
       "1        Data Scientist- Forecasting and R or Python\n",
       "2                                     Data Scientist\n",
       "3  Data Scientist - Machine Learning/Big Data (0-...\n",
       "4  Data Scientist - Machine Learning Algorithms (...\n",
       "5  Info Edge - Data Scientist - Machine Learning/...\n",
       "6  Info Edge - Senior Data Scientist - Machine Le...\n",
       "7  LatentBridge - Data Scientist - Python/R (2-6 ...\n",
       "8                               Data Scientist - NLP\n",
       "9  Principal Scientist - Machine Learning - IT (1..."
      ]
     },
     "execution_count": 188,
     "metadata": {},
     "output_type": "execute_result"
    }
   ],
   "source": [
    "df"
   ]
  },
  {
   "cell_type": "code",
   "execution_count": null,
   "id": "a6c1d4d0",
   "metadata": {},
   "outputs": [],
   "source": []
  },
  {
   "cell_type": "code",
   "execution_count": null,
   "id": "a1bad5f3",
   "metadata": {},
   "outputs": [],
   "source": [
    "#Q10.Scrapped Salary data"
   ]
  },
  {
   "cell_type": "code",
   "execution_count": 4,
   "id": "fb9f9801",
   "metadata": {},
   "outputs": [],
   "source": [
    "# Connect to webdriver\n",
    "driver = webdriver.Chrome(r'C:\\Users\\COTMAC\\Downloads\\chromedriver_win32\\chromedriver.exe')"
   ]
  },
  {
   "cell_type": "code",
   "execution_count": 5,
   "id": "73fa8e5b",
   "metadata": {},
   "outputs": [],
   "source": [
    "url = 'https://www.ambitionbox.com/'\n",
    "driver.get(url)"
   ]
  },
  {
   "cell_type": "code",
   "execution_count": 6,
   "id": "8acc30a8",
   "metadata": {},
   "outputs": [
    {
     "data": {
      "text/plain": [
       "<selenium.webdriver.remote.webelement.WebElement (session=\"041c1203487c66a5c336dd32644b6f10\", element=\"b8f9b90c-30d2-458c-aa92-c67c7c17d522\")>"
      ]
     },
     "execution_count": 6,
     "metadata": {},
     "output_type": "execute_result"
    }
   ],
   "source": [
    "Salary_click=driver.find_element(By.XPATH,\"/html/body/div[1]/nav/nav/a[4]\")\n",
    "Salary_click"
   ]
  },
  {
   "cell_type": "code",
   "execution_count": 7,
   "id": "6ad56de1",
   "metadata": {},
   "outputs": [],
   "source": [
    "Salary_click.click()"
   ]
  },
  {
   "cell_type": "code",
   "execution_count": 8,
   "id": "3800ba20",
   "metadata": {},
   "outputs": [
    {
     "data": {
      "text/plain": [
       "<selenium.webdriver.remote.webelement.WebElement (session=\"041c1203487c66a5c336dd32644b6f10\", element=\"deeea6e8-69cb-4e55-9432-6a3fa08055f8\")>"
      ]
     },
     "execution_count": 8,
     "metadata": {},
     "output_type": "execute_result"
    }
   ],
   "source": [
    "search_name5=driver.find_element(By.XPATH,\"/html/body/div/div/div/main/section[1]/div[2]/div[1]/span/input\")\n",
    "search_name5"
   ]
  },
  {
   "cell_type": "code",
   "execution_count": 9,
   "id": "6c64e810",
   "metadata": {},
   "outputs": [],
   "source": [
    "search_name5.send_keys(\"Data Scientist\")"
   ]
  },
  {
   "cell_type": "code",
   "execution_count": 10,
   "id": "16bef9f5",
   "metadata": {},
   "outputs": [
    {
     "data": {
      "text/plain": [
       "<selenium.webdriver.remote.webelement.WebElement (session=\"041c1203487c66a5c336dd32644b6f10\", element=\"a5fff7d9-98f4-4b58-b703-0ffdc2404ce1\")>"
      ]
     },
     "execution_count": 10,
     "metadata": {},
     "output_type": "execute_result"
    }
   ],
   "source": [
    "Name_click=driver.find_element(By.XPATH,\"/html/body/div/div/div/main/section[1]/div[2]/div[1]/span/div/div/div[1]/div/div/p\")\n",
    "Name_click"
   ]
  },
  {
   "cell_type": "code",
   "execution_count": 11,
   "id": "d2511424",
   "metadata": {},
   "outputs": [],
   "source": [
    "Name_click.click()"
   ]
  },
  {
   "cell_type": "code",
   "execution_count": 12,
   "id": "89944cfa",
   "metadata": {},
   "outputs": [
    {
     "data": {
      "text/plain": [
       "25"
      ]
     },
     "execution_count": 12,
     "metadata": {},
     "output_type": "execute_result"
    }
   ],
   "source": [
    "Company_Name = driver.find_elements(By.XPATH,'//div[@class=\"company-info\"]')\n",
    "len(Company_Name)"
   ]
  },
  {
   "cell_type": "code",
   "execution_count": 13,
   "id": "98914144",
   "metadata": {},
   "outputs": [],
   "source": [
    "Company_Name1=[]\n",
    "for i in Company_Name[0:10]:\n",
    "    Company_Name1.append(i.text)\n",
    "    len(Company_Name1)"
   ]
  },
  {
   "cell_type": "code",
   "execution_count": 14,
   "id": "e53b8b24",
   "metadata": {},
   "outputs": [
    {
     "data": {
      "text/plain": [
       "['Walmart\\nData Scientist Salary\\n3 yrs experience (based on 12 salaries)',\n",
       " 'Ab Inbev\\nData Scientist Salary\\n3-4 yrs experience (based on 33 salaries)',\n",
       " 'ZS\\nData Scientist Salary\\n2 yrs experience (based on 15 salaries)',\n",
       " 'Optum\\nData Scientist Salary\\n3-4 yrs experience (based on 32 salaries)',\n",
       " 'Reliance Jio\\nData Scientist Salary\\n3-4 yrs experience (based on 21 salaries)',\n",
       " 'Fractal Analytics\\nData Scientist Salary\\n2-4 yrs experience (based on 89 salaries)',\n",
       " 'Tiger Analytics\\nData Scientist Salary\\n2-4 yrs experience (based on 51 salaries)',\n",
       " 'UnitedHealth\\nData Scientist Salary\\n2-4 yrs experience (based on 57 salaries)',\n",
       " 'EXL Service\\nData Scientist Salary\\n3-4 yrs experience (based on 21 salaries)',\n",
       " 'Deloitte\\nData Scientist Salary\\n2-4 yrs experience (based on 69 salaries)']"
      ]
     },
     "execution_count": 14,
     "metadata": {},
     "output_type": "execute_result"
    }
   ],
   "source": [
    "Company_Name1"
   ]
  },
  {
   "cell_type": "code",
   "execution_count": null,
   "id": "51479e31",
   "metadata": {},
   "outputs": [],
   "source": []
  },
  {
   "cell_type": "code",
   "execution_count": 16,
   "id": "3084d146",
   "metadata": {},
   "outputs": [],
   "source": []
  },
  {
   "cell_type": "code",
   "execution_count": 42,
   "id": "16d1f046",
   "metadata": {},
   "outputs": [
    {
     "data": {
      "text/plain": [
       "10"
      ]
     },
     "execution_count": 42,
     "metadata": {},
     "output_type": "execute_result"
    }
   ],
   "source": [
    "Toatal_salary = driver.find_elements(By.XPATH,'//span[@class=\"datapoints\"]')\n",
    "len(Toatal_salary)"
   ]
  },
  {
   "cell_type": "code",
   "execution_count": 43,
   "id": "782b6b73",
   "metadata": {},
   "outputs": [],
   "source": [
    "Toatal_salary1=[]\n",
    "for i in Toatal_salary:\n",
    "    Toatal_salary1.append(i.text)\n",
    "    len(Toatal_salary1)"
   ]
  },
  {
   "cell_type": "code",
   "execution_count": 44,
   "id": "3ee2ce88",
   "metadata": {},
   "outputs": [
    {
     "data": {
      "text/plain": [
       "['(based on 12 salaries)',\n",
       " '(based on 33 salaries)',\n",
       " '(based on 15 salaries)',\n",
       " '(based on 32 salaries)',\n",
       " '(based on 21 salaries)',\n",
       " '(based on 89 salaries)',\n",
       " '(based on 51 salaries)',\n",
       " '(based on 57 salaries)',\n",
       " '(based on 21 salaries)',\n",
       " '(based on 69 salaries)']"
      ]
     },
     "execution_count": 44,
     "metadata": {},
     "output_type": "execute_result"
    }
   ],
   "source": [
    "Toatal_salary1"
   ]
  },
  {
   "cell_type": "code",
   "execution_count": 45,
   "id": "b4de9bd7",
   "metadata": {},
   "outputs": [
    {
     "data": {
      "text/plain": [
       "10"
      ]
     },
     "execution_count": 45,
     "metadata": {},
     "output_type": "execute_result"
    }
   ],
   "source": [
    "Average_salary = driver.find_elements(By.XPATH,'//p[@class=\"averageCtc\"]')\n",
    "len(Average_salary)"
   ]
  },
  {
   "cell_type": "code",
   "execution_count": 46,
   "id": "1d1281ab",
   "metadata": {},
   "outputs": [],
   "source": [
    "Average_salary1=[]\n",
    "for i in Average_salary:\n",
    "    Average_salary1.append(i.text)\n",
    "    len(Average_salary1)"
   ]
  },
  {
   "cell_type": "code",
   "execution_count": 47,
   "id": "27bc3e69",
   "metadata": {},
   "outputs": [
    {
     "data": {
      "text/plain": [
       "['₹ 30.6L',\n",
       " '₹ 20.8L',\n",
       " '₹ 16.7L',\n",
       " '₹ 15.9L',\n",
       " '₹ 15.7L',\n",
       " '₹ 15.5L',\n",
       " '₹ 14.8L',\n",
       " '₹ 14.0L',\n",
       " '₹ 13.2L',\n",
       " '₹ 12.8L']"
      ]
     },
     "execution_count": 47,
     "metadata": {},
     "output_type": "execute_result"
    }
   ],
   "source": [
    "Average_salary1"
   ]
  },
  {
   "cell_type": "code",
   "execution_count": 48,
   "id": "7e173bda",
   "metadata": {},
   "outputs": [
    {
     "data": {
      "text/plain": [
       "10"
      ]
     },
     "execution_count": 48,
     "metadata": {},
     "output_type": "execute_result"
    }
   ],
   "source": [
    "Minimum_salary = driver.find_elements(By.XPATH,'//div[@class=\"salary-values\"]/div[1]')\n",
    "len(Minimum_salary)"
   ]
  },
  {
   "cell_type": "code",
   "execution_count": 49,
   "id": "3be0e923",
   "metadata": {},
   "outputs": [],
   "source": [
    "Minimum_salary1=[]\n",
    "for i in Minimum_salary:\n",
    "    Minimum_salary1.append(i.text)\n",
    "    len(Minimum_salary1)"
   ]
  },
  {
   "cell_type": "code",
   "execution_count": 50,
   "id": "8f6d9a70",
   "metadata": {},
   "outputs": [
    {
     "data": {
      "text/plain": [
       "['₹ 25.0L',\n",
       " '₹ 15.0L',\n",
       " '₹ 11.0L',\n",
       " '₹ 11.0L',\n",
       " '₹ 5.6L',\n",
       " '₹ 10.0L',\n",
       " '₹ 9.0L',\n",
       " '₹ 8.3L',\n",
       " '₹ 7.6L',\n",
       " '₹ 7.0L']"
      ]
     },
     "execution_count": 50,
     "metadata": {},
     "output_type": "execute_result"
    }
   ],
   "source": [
    "Minimum_salary1"
   ]
  },
  {
   "cell_type": "code",
   "execution_count": 51,
   "id": "26017611",
   "metadata": {},
   "outputs": [
    {
     "data": {
      "text/plain": [
       "10"
      ]
     },
     "execution_count": 51,
     "metadata": {},
     "output_type": "execute_result"
    }
   ],
   "source": [
    "Maximum_salary = driver.find_elements(By.XPATH,'//div[@class=\"salary-values\"]/div[2]')\n",
    "len(Maximum_salary)"
   ]
  },
  {
   "cell_type": "code",
   "execution_count": 52,
   "id": "c5032b91",
   "metadata": {},
   "outputs": [],
   "source": [
    "Maximum_salary1=[]\n",
    "for i in Maximum_salary:\n",
    "    Maximum_salary1.append(i.text)\n",
    "    len(Maximum_salary1)"
   ]
  },
  {
   "cell_type": "code",
   "execution_count": 53,
   "id": "072c6a17",
   "metadata": {},
   "outputs": [
    {
     "data": {
      "text/plain": [
       "['₹ 36.0L',\n",
       " '₹ 26.2L',\n",
       " '₹ 22.0L',\n",
       " '₹ 22.5L',\n",
       " '₹ 26.2L',\n",
       " '₹ 23.0L',\n",
       " '₹ 20.0L',\n",
       " '₹ 21.1L',\n",
       " '₹ 21.0L',\n",
       " '₹ 25.0L']"
      ]
     },
     "execution_count": 53,
     "metadata": {},
     "output_type": "execute_result"
    }
   ],
   "source": [
    "Maximum_salary1"
   ]
  },
  {
   "cell_type": "code",
   "execution_count": 54,
   "id": "6bf9ee3f",
   "metadata": {},
   "outputs": [
    {
     "data": {
      "text/plain": [
       "10"
      ]
     },
     "execution_count": 54,
     "metadata": {},
     "output_type": "execute_result"
    }
   ],
   "source": [
    "Experience = driver.find_elements(By.XPATH,'//div[@class=\"sbold-list-header\"]')\n",
    "len(Experience)"
   ]
  },
  {
   "cell_type": "code",
   "execution_count": 55,
   "id": "cd12e3d6",
   "metadata": {},
   "outputs": [],
   "source": [
    "Experience1=[]\n",
    "for i in Experience:\n",
    "    Experience1.append(i.text)\n",
    "    len(Experience1)"
   ]
  },
  {
   "cell_type": "code",
   "execution_count": 56,
   "id": "5afe5c86",
   "metadata": {},
   "outputs": [
    {
     "data": {
      "text/plain": [
       "['3 yrs experience (based on 12 salaries)',\n",
       " '3-4 yrs experience (based on 33 salaries)',\n",
       " '2 yrs experience (based on 15 salaries)',\n",
       " '3-4 yrs experience (based on 32 salaries)',\n",
       " '3-4 yrs experience (based on 21 salaries)',\n",
       " '2-4 yrs experience (based on 89 salaries)',\n",
       " '2-4 yrs experience (based on 51 salaries)',\n",
       " '2-4 yrs experience (based on 57 salaries)',\n",
       " '3-4 yrs experience (based on 21 salaries)',\n",
       " '2-4 yrs experience (based on 69 salaries)']"
      ]
     },
     "execution_count": 56,
     "metadata": {},
     "output_type": "execute_result"
    }
   ],
   "source": [
    "Experience1"
   ]
  },
  {
   "cell_type": "code",
   "execution_count": 57,
   "id": "327add9a",
   "metadata": {},
   "outputs": [],
   "source": [
    "import pandas as pd\n",
    "df = pd.DataFrame()\n",
    "df['Company_Name'] = Company_Name1[0:10]\n",
    "df['Toatal_salary'] = Toatal_salary1[0:10]\n",
    "df['Average_salary'] = Average_salary1[0:10]\n",
    "df['Minimum_salary'] = Minimum_salary1[0:10]\n",
    "df['Maximum_salary'] = Maximum_salary1[0:10]\n",
    "df['Experience'] = Experience1[0:10]"
   ]
  },
  {
   "cell_type": "code",
   "execution_count": 58,
   "id": "5c8902df",
   "metadata": {},
   "outputs": [
    {
     "data": {
      "text/html": [
       "<div>\n",
       "<style scoped>\n",
       "    .dataframe tbody tr th:only-of-type {\n",
       "        vertical-align: middle;\n",
       "    }\n",
       "\n",
       "    .dataframe tbody tr th {\n",
       "        vertical-align: top;\n",
       "    }\n",
       "\n",
       "    .dataframe thead th {\n",
       "        text-align: right;\n",
       "    }\n",
       "</style>\n",
       "<table border=\"1\" class=\"dataframe\">\n",
       "  <thead>\n",
       "    <tr style=\"text-align: right;\">\n",
       "      <th></th>\n",
       "      <th>Company_Name</th>\n",
       "      <th>Toatal_salary</th>\n",
       "      <th>Average_salary</th>\n",
       "      <th>Minimum_salary</th>\n",
       "      <th>Maximum_salary</th>\n",
       "      <th>Experience</th>\n",
       "    </tr>\n",
       "  </thead>\n",
       "  <tbody>\n",
       "    <tr>\n",
       "      <th>0</th>\n",
       "      <td>Walmart\\nData Scientist Salary\\n3 yrs experien...</td>\n",
       "      <td>(based on 12 salaries)</td>\n",
       "      <td>₹ 30.6L</td>\n",
       "      <td>₹ 25.0L</td>\n",
       "      <td>₹ 36.0L</td>\n",
       "      <td>3 yrs experience (based on 12 salaries)</td>\n",
       "    </tr>\n",
       "    <tr>\n",
       "      <th>1</th>\n",
       "      <td>Ab Inbev\\nData Scientist Salary\\n3-4 yrs exper...</td>\n",
       "      <td>(based on 33 salaries)</td>\n",
       "      <td>₹ 20.8L</td>\n",
       "      <td>₹ 15.0L</td>\n",
       "      <td>₹ 26.2L</td>\n",
       "      <td>3-4 yrs experience (based on 33 salaries)</td>\n",
       "    </tr>\n",
       "    <tr>\n",
       "      <th>2</th>\n",
       "      <td>ZS\\nData Scientist Salary\\n2 yrs experience (b...</td>\n",
       "      <td>(based on 15 salaries)</td>\n",
       "      <td>₹ 16.7L</td>\n",
       "      <td>₹ 11.0L</td>\n",
       "      <td>₹ 22.0L</td>\n",
       "      <td>2 yrs experience (based on 15 salaries)</td>\n",
       "    </tr>\n",
       "    <tr>\n",
       "      <th>3</th>\n",
       "      <td>Optum\\nData Scientist Salary\\n3-4 yrs experien...</td>\n",
       "      <td>(based on 32 salaries)</td>\n",
       "      <td>₹ 15.9L</td>\n",
       "      <td>₹ 11.0L</td>\n",
       "      <td>₹ 22.5L</td>\n",
       "      <td>3-4 yrs experience (based on 32 salaries)</td>\n",
       "    </tr>\n",
       "    <tr>\n",
       "      <th>4</th>\n",
       "      <td>Reliance Jio\\nData Scientist Salary\\n3-4 yrs e...</td>\n",
       "      <td>(based on 21 salaries)</td>\n",
       "      <td>₹ 15.7L</td>\n",
       "      <td>₹ 5.6L</td>\n",
       "      <td>₹ 26.2L</td>\n",
       "      <td>3-4 yrs experience (based on 21 salaries)</td>\n",
       "    </tr>\n",
       "    <tr>\n",
       "      <th>5</th>\n",
       "      <td>Fractal Analytics\\nData Scientist Salary\\n2-4 ...</td>\n",
       "      <td>(based on 89 salaries)</td>\n",
       "      <td>₹ 15.5L</td>\n",
       "      <td>₹ 10.0L</td>\n",
       "      <td>₹ 23.0L</td>\n",
       "      <td>2-4 yrs experience (based on 89 salaries)</td>\n",
       "    </tr>\n",
       "    <tr>\n",
       "      <th>6</th>\n",
       "      <td>Tiger Analytics\\nData Scientist Salary\\n2-4 yr...</td>\n",
       "      <td>(based on 51 salaries)</td>\n",
       "      <td>₹ 14.8L</td>\n",
       "      <td>₹ 9.0L</td>\n",
       "      <td>₹ 20.0L</td>\n",
       "      <td>2-4 yrs experience (based on 51 salaries)</td>\n",
       "    </tr>\n",
       "    <tr>\n",
       "      <th>7</th>\n",
       "      <td>UnitedHealth\\nData Scientist Salary\\n2-4 yrs e...</td>\n",
       "      <td>(based on 57 salaries)</td>\n",
       "      <td>₹ 14.0L</td>\n",
       "      <td>₹ 8.3L</td>\n",
       "      <td>₹ 21.1L</td>\n",
       "      <td>2-4 yrs experience (based on 57 salaries)</td>\n",
       "    </tr>\n",
       "    <tr>\n",
       "      <th>8</th>\n",
       "      <td>EXL Service\\nData Scientist Salary\\n3-4 yrs ex...</td>\n",
       "      <td>(based on 21 salaries)</td>\n",
       "      <td>₹ 13.2L</td>\n",
       "      <td>₹ 7.6L</td>\n",
       "      <td>₹ 21.0L</td>\n",
       "      <td>3-4 yrs experience (based on 21 salaries)</td>\n",
       "    </tr>\n",
       "    <tr>\n",
       "      <th>9</th>\n",
       "      <td>Deloitte\\nData Scientist Salary\\n2-4 yrs exper...</td>\n",
       "      <td>(based on 69 salaries)</td>\n",
       "      <td>₹ 12.8L</td>\n",
       "      <td>₹ 7.0L</td>\n",
       "      <td>₹ 25.0L</td>\n",
       "      <td>2-4 yrs experience (based on 69 salaries)</td>\n",
       "    </tr>\n",
       "  </tbody>\n",
       "</table>\n",
       "</div>"
      ],
      "text/plain": [
       "                                        Company_Name           Toatal_salary  \\\n",
       "0  Walmart\\nData Scientist Salary\\n3 yrs experien...  (based on 12 salaries)   \n",
       "1  Ab Inbev\\nData Scientist Salary\\n3-4 yrs exper...  (based on 33 salaries)   \n",
       "2  ZS\\nData Scientist Salary\\n2 yrs experience (b...  (based on 15 salaries)   \n",
       "3  Optum\\nData Scientist Salary\\n3-4 yrs experien...  (based on 32 salaries)   \n",
       "4  Reliance Jio\\nData Scientist Salary\\n3-4 yrs e...  (based on 21 salaries)   \n",
       "5  Fractal Analytics\\nData Scientist Salary\\n2-4 ...  (based on 89 salaries)   \n",
       "6  Tiger Analytics\\nData Scientist Salary\\n2-4 yr...  (based on 51 salaries)   \n",
       "7  UnitedHealth\\nData Scientist Salary\\n2-4 yrs e...  (based on 57 salaries)   \n",
       "8  EXL Service\\nData Scientist Salary\\n3-4 yrs ex...  (based on 21 salaries)   \n",
       "9  Deloitte\\nData Scientist Salary\\n2-4 yrs exper...  (based on 69 salaries)   \n",
       "\n",
       "  Average_salary Minimum_salary Maximum_salary  \\\n",
       "0        ₹ 30.6L        ₹ 25.0L        ₹ 36.0L   \n",
       "1        ₹ 20.8L        ₹ 15.0L        ₹ 26.2L   \n",
       "2        ₹ 16.7L        ₹ 11.0L        ₹ 22.0L   \n",
       "3        ₹ 15.9L        ₹ 11.0L        ₹ 22.5L   \n",
       "4        ₹ 15.7L         ₹ 5.6L        ₹ 26.2L   \n",
       "5        ₹ 15.5L        ₹ 10.0L        ₹ 23.0L   \n",
       "6        ₹ 14.8L         ₹ 9.0L        ₹ 20.0L   \n",
       "7        ₹ 14.0L         ₹ 8.3L        ₹ 21.1L   \n",
       "8        ₹ 13.2L         ₹ 7.6L        ₹ 21.0L   \n",
       "9        ₹ 12.8L         ₹ 7.0L        ₹ 25.0L   \n",
       "\n",
       "                                  Experience  \n",
       "0    3 yrs experience (based on 12 salaries)  \n",
       "1  3-4 yrs experience (based on 33 salaries)  \n",
       "2    2 yrs experience (based on 15 salaries)  \n",
       "3  3-4 yrs experience (based on 32 salaries)  \n",
       "4  3-4 yrs experience (based on 21 salaries)  \n",
       "5  2-4 yrs experience (based on 89 salaries)  \n",
       "6  2-4 yrs experience (based on 51 salaries)  \n",
       "7  2-4 yrs experience (based on 57 salaries)  \n",
       "8  3-4 yrs experience (based on 21 salaries)  \n",
       "9  2-4 yrs experience (based on 69 salaries)  "
      ]
     },
     "execution_count": 58,
     "metadata": {},
     "output_type": "execute_result"
    }
   ],
   "source": [
    "df"
   ]
  },
  {
   "cell_type": "code",
   "execution_count": null,
   "id": "29106d22",
   "metadata": {},
   "outputs": [],
   "source": []
  },
  {
   "cell_type": "code",
   "execution_count": null,
   "id": "5f40668e",
   "metadata": {},
   "outputs": [],
   "source": []
  }
 ],
 "metadata": {
  "kernelspec": {
   "display_name": "Python 3 (ipykernel)",
   "language": "python",
   "name": "python3"
  },
  "language_info": {
   "codemirror_mode": {
    "name": "ipython",
    "version": 3
   },
   "file_extension": ".py",
   "mimetype": "text/x-python",
   "name": "python",
   "nbconvert_exporter": "python",
   "pygments_lexer": "ipython3",
   "version": "3.9.7"
  }
 },
 "nbformat": 4,
 "nbformat_minor": 5
}
